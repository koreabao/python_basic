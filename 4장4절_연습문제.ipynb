{
  "nbformat": 4,
  "nbformat_minor": 0,
  "metadata": {
    "colab": {
      "name": "4장4절_연습문제.ipynb",
      "provenance": [],
      "authorship_tag": "ABX9TyMEflXOn4pcU8t+QdamQlQs",
      "include_colab_link": true
    },
    "kernelspec": {
      "name": "python3",
      "display_name": "Python 3"
    },
    "language_info": {
      "name": "python"
    }
  },
  "cells": [
    {
      "cell_type": "markdown",
      "metadata": {
        "id": "view-in-github",
        "colab_type": "text"
      },
      "source": [
        "<a href=\"https://colab.research.google.com/github/koreabao/python_basic/blob/main/4%EC%9E%A54%EC%A0%88_%EC%97%B0%EC%8A%B5%EB%AC%B8%EC%A0%9C.ipynb\" target=\"_parent\"><img src=\"https://colab.research.google.com/assets/colab-badge.svg\" alt=\"Open In Colab\"/></a>"
      ]
    },
    {
      "cell_type": "markdown",
      "source": [
        "**4_10 슬라이스:**\n",
        "\n",
        "이 장에서 만든 프로그램 중 하나를 택해 프로그램 마지막에 몇 줄을 추가해서 다음 작업을 하세요. \n",
        "\n",
        "1. 리스트의 첫 세 항목은 : 메시지를 출력하고 슬라이스를 써서 그 프로그램에 있는 리스트의 처음 세 항목을 출력하세요. \n",
        "2. 리스트의 중간 세 항목은 : 메시지를 출력하고 슬라이스를 써서 그 프로그램에 있는 리스트의 중간에 있는 세 항목을 출력 하세요. \n",
        "3. 리스트의 마지막 세 항목은 : 메시지를 출력하고 슬라이스를 써서 그 프로그램에 있는 리스트의 마지막에 있는 세 항목을 출력하세요.  "
      ],
      "metadata": {
        "id": "8dN2NV5bwwQb"
      }
    },
    {
      "cell_type": "markdown",
      "source": [
        "**4.11. 내피자, 네피자:**\n",
        "\n",
        "연습문제 4-1로 프로그램을 시작하세요. 피자 리스트를 복사해서 friend_pizzas라고 저장하세요. 그리고 다음 작업을 하세요. \n",
        "\n",
        "1. 원래 리스트에 새 피자를 추가하세요. \n",
        "2. friends_pizzas 리스트에 피자를 추가하세요. \n",
        "3. 두 리스트가 별개임을 증명하세요. '내가 좋아하는 피자는:' 메시지를 출력하고,  for루프 써서 첫 번째 리스트를 출력하세요. '내 찬구가 좋아하는 피자는:' 메시지를 출력하고, for루프를 써서 두 번째 리스트를 출력하세요. 각 새 피자가 맞는 리스트에 저장됐는지 확인하세요. "
      ],
      "metadata": {
        "id": "rOG22c_10kCz"
      }
    },
    {
      "cell_type": "markdown",
      "source": [
        "**4-13 뷔페:**\n",
        "\n",
        "뷔페 스타일의 음식점이 있는데 기본 음식은 다섯 가지밖에 없습니다.\n",
        "\n",
        "단순한 음식 다섯 가지를 생각하고 튜플로 저장하세요.\n",
        "\n",
        "1. for루프를 써서 이 식장의 각 음식을 출력하세요. \n",
        "2. 항목 중 하나를 수정하는 시도를 해보고 Python에서 변경을 거부하는지 확인하세요. \n",
        "3. 식당에서 메뉴를 교체하려 합니다. 항목 중 2 개를 다른 음식으로 바꾸세요.\n",
        " \n",
        " 튜플을 덮어쓰는 코드 블록을 추가하고, for 루프를 써서 바뀐 메뉴의 각 항목을 출력하세요.     "
      ],
      "metadata": {
        "id": "J-PaVW1F6FJl"
      }
    }
  ]
}