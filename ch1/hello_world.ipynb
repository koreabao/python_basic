{
  "nbformat": 4,
  "nbformat_minor": 0,
  "metadata": {
    "colab": {
      "name": "py1_1_hello_world.ipynb",
      "provenance": [],
      "include_colab_link": true
    },
    "kernelspec": {
      "name": "python3",
      "display_name": "Python 3"
    },
    "language_info": {
      "name": "python"
    }
  },
  "cells": [
    {
      "cell_type": "markdown",
      "metadata": {
        "id": "view-in-github",
        "colab_type": "text"
      },
      "source": [
        "<a href=\"https://colab.research.google.com/github/koreabao/python_basic/blob/main/ch1/hello_world.ipynb\" target=\"_parent\"><img src=\"https://colab.research.google.com/assets/colab-badge.svg\" alt=\"Open In Colab\"/></a>"
      ]
    },
    {
      "cell_type": "code",
      "source": [
        "!python --version"
      ],
      "metadata": {
        "id": "fGumz97vxVoY",
        "outputId": "4221ba6d-2eef-4734-c79a-5bf91d32066e",
        "colab": {
          "base_uri": "https://localhost:8080/"
        }
      },
      "execution_count": 3,
      "outputs": [
        {
          "output_type": "stream",
          "name": "stdout",
          "text": [
            "Python 3.7.12\n"
          ]
        }
      ]
    },
    {
      "cell_type": "markdown",
      "source": [
        "#**google colab keyboard** **shotcuts**\n",
        "\n",
        "##Shift + Enter : 셀이 실행되고 커서(cursor)가 다음셀로 이용합니다.\n",
        "\n",
        "##Ctrl + Enter: 셀리 실행 됩니다.\n",
        "\n",
        "##Enter: 편집 상태로 돌아갑니다.\n",
        "\n",
        "##Ctrl + m + m: 셀이 문서로 변합니다.\n",
        "\n",
        "##Ctrl + m + y: 문서가 셀로 변합니다.\n",
        "\n",
        "##Ctrl + m + d: 셀이 삭제됩니다.\n",
        "\n",
        "##Esc + a: 위에 셀이 추가됩니다.\n",
        "\n",
        "##Esc + b: 아래 셀리 추가됩니다."
      ],
      "metadata": {
        "id": "jX7O7Nz8qvu_"
      }
    },
    {
      "cell_type": "markdown",
      "source": [
        "# **첫 코딩**"
      ],
      "metadata": {
        "id": "zzPhjP8V3fu_"
      }
    },
    {
      "cell_type": "code",
      "execution_count": null,
      "metadata": {
        "colab": {
          "base_uri": "https://localhost:8080/"
        },
        "id": "0B9_HL3t3Qkt",
        "outputId": "4066c8ef-1242-42e9-f90f-1fb83157de19"
      },
      "outputs": [
        {
          "output_type": "stream",
          "name": "stdout",
          "text": [
            "Hello Python world!\n"
          ]
        }
      ],
      "source": [
        "print(\"Hello Python world!\")"
      ]
    },
    {
      "cell_type": "code",
      "source": [
        "5*3"
      ],
      "metadata": {
        "id": "3BmDMJsX0OY8"
      },
      "execution_count": null,
      "outputs": []
    },
    {
      "cell_type": "code",
      "source": [
        "5-3"
      ],
      "metadata": {
        "id": "vXwlN5jk0Qnh"
      },
      "execution_count": null,
      "outputs": []
    },
    {
      "cell_type": "code",
      "source": [
        "5+3"
      ],
      "metadata": {
        "id": "6aOoCrG30RTc"
      },
      "execution_count": null,
      "outputs": []
    },
    {
      "cell_type": "code",
      "source": [
        "5/3"
      ],
      "metadata": {
        "id": "mgmzsNa30Ucl"
      },
      "execution_count": null,
      "outputs": []
    },
    {
      "cell_type": "code",
      "source": [
        "5**3"
      ],
      "metadata": {
        "id": "kP3gzqQB0WTp"
      },
      "execution_count": null,
      "outputs": []
    },
    {
      "cell_type": "code",
      "source": [
        "cars = 100\n",
        "space_in_a_car = 4.0\n",
        "drivers = 30\n",
        "passengers = 90\n",
        "cars_not_driven = cars - drivers\n",
        "cars_driven = drivers\n",
        "carpool_capacity = cars_driven * space_in_a_car\n",
        "average_passengers_per_car = passengers / cars_driven\n",
        "\n",
        "print(\"There are\", cars, \"cars available.\")\n",
        "print(\"There are only\", drivers, \"drivers available.\")\n",
        "print(\"There will be\", cars_not_driven, \"empty cars today.\")\n",
        "print(\"We can transport\", carpool_capacity, \"people today.\")\n",
        "print(\"We have\", passengers, \"to carpool today.\")\n",
        "print(\"We need to put about\", average_passengers_per_car,\"in each car.\")"
      ],
      "metadata": {
        "id": "S6v4rMqXzrEK",
        "outputId": "2a16ef08-eb8e-463d-d9eb-d6dae279a8f0",
        "colab": {
          "base_uri": "https://localhost:8080/"
        }
      },
      "execution_count": null,
      "outputs": [
        {
          "output_type": "stream",
          "name": "stdout",
          "text": [
            "There are 100 cars available.\n",
            "There are only 30 drivers available.\n",
            "There will be 70 empty cars today.\n",
            "We can transport 120.0 people today.\n",
            "We have 90 to carpool today.\n",
            "We need to put about 3.0 in each car.\n"
          ]
        }
      ]
    }
  ]
}