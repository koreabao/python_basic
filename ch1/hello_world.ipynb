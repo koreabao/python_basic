{
  "nbformat": 4,
  "nbformat_minor": 0,
  "metadata": {
    "colab": {
      "name": "py1_1_hello_world.ipynb",
      "provenance": [],
      "include_colab_link": true
    },
    "kernelspec": {
      "name": "python3",
      "display_name": "Python 3"
    },
    "language_info": {
      "name": "python"
    }
  },
  "cells": [
    {
      "cell_type": "markdown",
      "metadata": {
        "id": "view-in-github",
        "colab_type": "text"
      },
      "source": [
        "<a href=\"https://colab.research.google.com/github/koreabao/python_basic/blob/main/ch1/hello_world.ipynb\" target=\"_parent\"><img src=\"https://colab.research.google.com/assets/colab-badge.svg\" alt=\"Open In Colab\"/></a>"
      ]
    },
    {
      "cell_type": "markdown",
      "source": [
        "##**keyboard** **shotcuts**\n",
        "\n",
        "##Shift + Enter : 셀이 실행되고 커서가 다음셀로 이용합니다.\n",
        "\n",
        "##Ctrl + Enter: 셀리 실행 됩니다.\n",
        "\n",
        "##Enter: 편집 상태로 돌아갑니다.\n",
        "\n",
        "##Ctrl + m + m: 셀이 문서로 변합니다.\n",
        "\n",
        "##Ctrl + m + y: 문서가 셀로 변합니다.\n",
        "\n",
        "##Ctrl + m + d: 셀이 삭제됩니다.\n",
        "\n",
        "##Esc + a: 위에 셀이 추가됩니다.\n",
        "\n",
        "##Esc + b: 아래 셀리 추가됩니다."
      ],
      "metadata": {
        "id": "jX7O7Nz8qvu_"
      }
    },
    {
      "cell_type": "markdown",
      "source": [
        "# **첫 코딩**"
      ],
      "metadata": {
        "id": "zzPhjP8V3fu_"
      }
    },
    {
      "cell_type": "code",
      "execution_count": null,
      "metadata": {
        "colab": {
          "base_uri": "https://localhost:8080/"
        },
        "id": "0B9_HL3t3Qkt",
        "outputId": "4066c8ef-1242-42e9-f90f-1fb83157de19"
      },
      "outputs": [
        {
          "output_type": "stream",
          "name": "stdout",
          "text": [
            "Hello Python world!\n"
          ]
        }
      ],
      "source": [
        "print(\"Hello Python world!\")"
      ]
    }
  ]
}