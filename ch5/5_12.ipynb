{
  "nbformat": 4,
  "nbformat_minor": 0,
  "metadata": {
    "colab": {
      "name": "5_12.ipynb",
      "provenance": [],
      "authorship_tag": "ABX9TyMcDjBza3nUMRQiQn7riuJP",
      "include_colab_link": true
    },
    "kernelspec": {
      "name": "python3",
      "display_name": "Python 3"
    },
    "language_info": {
      "name": "python"
    }
  },
  "cells": [
    {
      "cell_type": "markdown",
      "metadata": {
        "id": "view-in-github",
        "colab_type": "text"
      },
      "source": [
        "<a href=\"https://colab.research.google.com/github/koreabao/python_basic/blob/main/ch5/5_12.ipynb\" target=\"_parent\"><img src=\"https://colab.research.google.com/assets/colab-badge.svg\" alt=\"Open In Colab\"/></a>"
      ]
    },
    {
      "cell_type": "markdown",
      "source": [
        "##**5.if Statements if문**\n",
        "\n",
        "**5.1. A Simple Example 간단한 예시**\n"
      ],
      "metadata": {
        "id": "-qEu3IilrwQD"
      }
    },
    {
      "cell_type": "code",
      "source": [
        "cars = ['audi','bmw','subaru','toyota']\n",
        "\n",
        "for car in cars:\n",
        "  if car == 'bmw':\n",
        "    print(car.upper())\n",
        "  else:\n",
        "    print(car.title())"
      ],
      "metadata": {
        "colab": {
          "base_uri": "https://localhost:8080/"
        },
        "id": "V1xJBjrptC6U",
        "outputId": "6adfc423-2580-4a85-f75b-c5fd93bf8ca7"
      },
      "execution_count": null,
      "outputs": [
        {
          "output_type": "stream",
          "name": "stdout",
          "text": [
            "Audi\n",
            "BMW\n",
            "Subaru\n",
            "Toyota\n"
          ]
        }
      ]
    },
    {
      "cell_type": "markdown",
      "source": [
        "\n",
        "**Boolean Expressions 블리언 표현식**\n",
        "\n",
        "\n",
        "bool() 에서 False의 경우\n",
        "1. 0 , 0.0\n",
        "2. (), [],{},set(),range(0) \n",
        "3. None , False"
      ],
      "metadata": {
        "id": "TZH6mP0Skehb"
      }
    },
    {
      "cell_type": "code",
      "source": [
        "bool('false')"
      ],
      "metadata": {
        "id": "q7ubdBAEj9eN",
        "outputId": "219e1786-3946-4a9e-9c6d-7216815299a1",
        "colab": {
          "base_uri": "https://localhost:8080/"
        }
      },
      "execution_count": null,
      "outputs": [
        {
          "output_type": "execute_result",
          "data": {
            "text/plain": [
              "True"
            ]
          },
          "metadata": {},
          "execution_count": 13
        }
      ]
    },
    {
      "cell_type": "code",
      "source": [
        "pizza = ()\n",
        "bool(pizza)"
      ],
      "metadata": {
        "id": "2kZfarunkNo8",
        "outputId": "4f1b796e-7f20-4088-df5f-d3cbb56c43f2",
        "colab": {
          "base_uri": "https://localhost:8080/"
        }
      },
      "execution_count": 7,
      "outputs": [
        {
          "output_type": "execute_result",
          "data": {
            "text/plain": [
              "False"
            ]
          },
          "metadata": {},
          "execution_count": 7
        }
      ]
    },
    {
      "cell_type": "code",
      "source": [
        "pizza = [ ]\n",
        "bool(pizza)"
      ],
      "metadata": {
        "id": "sj-UBTOtrcp2",
        "outputId": "8aceb771-8381-490c-f3e6-2052cb4ad5d7",
        "colab": {
          "base_uri": "https://localhost:8080/"
        }
      },
      "execution_count": 3,
      "outputs": [
        {
          "output_type": "execute_result",
          "data": {
            "text/plain": [
              "True"
            ]
          },
          "metadata": {},
          "execution_count": 3
        }
      ]
    },
    {
      "cell_type": "code",
      "source": [
        "bool(0)"
      ],
      "metadata": {
        "id": "9ZePRUBCkN2c",
        "outputId": "a51d40be-0f48-4489-f779-4b252d67538f",
        "colab": {
          "base_uri": "https://localhost:8080/"
        }
      },
      "execution_count": null,
      "outputs": [
        {
          "output_type": "execute_result",
          "data": {
            "text/plain": [
              "False"
            ]
          },
          "metadata": {},
          "execution_count": 5
        }
      ]
    },
    {
      "cell_type": "code",
      "source": [
        "bool(7)"
      ],
      "metadata": {
        "id": "i8pziylDmcM2",
        "outputId": "64a7650c-26d3-461a-f3e6-3fc3191b2808",
        "colab": {
          "base_uri": "https://localhost:8080/"
        }
      },
      "execution_count": null,
      "outputs": [
        {
          "output_type": "execute_result",
          "data": {
            "text/plain": [
              "True"
            ]
          },
          "metadata": {},
          "execution_count": 14
        }
      ]
    },
    {
      "cell_type": "code",
      "source": [
        "if 520 > 250:\n",
        "  print('520는 250보다 크다.')\n",
        "else:\n",
        "  print('520는 250보다 크지않다.')"
      ],
      "metadata": {
        "id": "SYzvVXyylSpG",
        "outputId": "a380c26b-c5ba-45b2-f5c9-201260d8deb3",
        "colab": {
          "base_uri": "https://localhost:8080/"
        }
      },
      "execution_count": null,
      "outputs": [
        {
          "output_type": "stream",
          "name": "stdout",
          "text": [
            "520는 250보다 크다.\n"
          ]
        }
      ]
    },
    {
      "cell_type": "code",
      "source": [
        "1 == True"
      ],
      "metadata": {
        "id": "6fnbtImMl80M",
        "outputId": "725b28f2-4a2e-40ce-cbdc-df9759843e5a",
        "colab": {
          "base_uri": "https://localhost:8080/"
        }
      },
      "execution_count": null,
      "outputs": [
        {
          "output_type": "execute_result",
          "data": {
            "text/plain": [
              "True"
            ]
          },
          "metadata": {},
          "execution_count": 8
        }
      ]
    },
    {
      "cell_type": "code",
      "source": [
        "0 == False"
      ],
      "metadata": {
        "id": "ZraudqummAU0",
        "outputId": "77c79ba9-bda5-4f04-e7fb-91cb80e34a92",
        "colab": {
          "base_uri": "https://localhost:8080/"
        }
      },
      "execution_count": null,
      "outputs": [
        {
          "output_type": "execute_result",
          "data": {
            "text/plain": [
              "True"
            ]
          },
          "metadata": {},
          "execution_count": 9
        }
      ]
    },
    {
      "cell_type": "code",
      "source": [
        "True + False"
      ],
      "metadata": {
        "id": "0DBACIlumD0I",
        "outputId": "f56a9703-f51f-48bf-e91c-949fd0ef20a7",
        "colab": {
          "base_uri": "https://localhost:8080/"
        }
      },
      "execution_count": null,
      "outputs": [
        {
          "output_type": "execute_result",
          "data": {
            "text/plain": [
              "1"
            ]
          },
          "metadata": {},
          "execution_count": 10
        }
      ]
    },
    {
      "cell_type": "code",
      "source": [
        "True*3"
      ],
      "metadata": {
        "id": "vVgcwnoFmJ39",
        "outputId": "90d5042f-3bda-400e-c3f6-1d87338db90c",
        "colab": {
          "base_uri": "https://localhost:8080/"
        }
      },
      "execution_count": null,
      "outputs": [
        {
          "output_type": "execute_result",
          "data": {
            "text/plain": [
              "3"
            ]
          },
          "metadata": {},
          "execution_count": 12
        }
      ]
    },
    {
      "cell_type": "markdown",
      "source": [
        "**5.2 Conditional Tests 조건 테스트**\n",
        "\n",
        "At the heart of every if statement is an expression that can be evaluated as\n",
        "True or False and is called a conditional test.\n",
        "\n",
        "if 문의 핵심은 True또는 False로 평가되는 표현식이며, \n",
        "\n",
        "이를 조건 테스트라 부릅니다. "
      ],
      "metadata": {
        "id": "RxzTZO6vtM45"
      }
    },
    {
      "cell_type": "markdown",
      "source": [
        "**5.2.1 Checking for Equality 동일성 체크하기**"
      ],
      "metadata": {
        "id": "LKHjY38-t0f5"
      }
    },
    {
      "cell_type": "code",
      "source": [
        "car = 'bmw'\n",
        "car == 'bmw'  #동일 연산자  car의 값이 'bmw'인지 체크합니다.\n"
      ],
      "metadata": {
        "colab": {
          "base_uri": "https://localhost:8080/"
        },
        "id": "NDknagEQt6yb",
        "outputId": "4119bed6-fc2d-445c-b73a-a78f2a68d004"
      },
      "execution_count": null,
      "outputs": [
        {
          "output_type": "execute_result",
          "data": {
            "text/plain": [
              "True"
            ]
          },
          "metadata": {},
          "execution_count": 12
        }
      ]
    },
    {
      "cell_type": "code",
      "source": [
        "car = 'bmw'\n",
        "car == 'audi'"
      ],
      "metadata": {
        "colab": {
          "base_uri": "https://localhost:8080/"
        },
        "id": "H1D0DQIku8XC",
        "outputId": "6bbb85d5-3399-438a-a758-642ac4380c7f"
      },
      "execution_count": null,
      "outputs": [
        {
          "output_type": "execute_result",
          "data": {
            "text/plain": [
              "False"
            ]
          },
          "metadata": {},
          "execution_count": 13
        }
      ]
    },
    {
      "cell_type": "markdown",
      "source": [
        "**5.2.2 Ignoring Case When Checking for Equality 일치하는지 체크할 때 대소문자 무시하기**\n",
        "\n",
        "Testing for equality is case sensitive in Python.\n",
        "\n",
        "Two values with different capitalization are not considered equal\n",
        "\n",
        "파이썬은 대소문자를 구분하므로 같은 영문이라고 대소문자가 다른값은 다르다고 판단합니다.  "
      ],
      "metadata": {
        "id": "tt0wzOjHvEnY"
      }
    },
    {
      "cell_type": "code",
      "source": [
        "car = 'audi'\n",
        "car == 'Audi'"
      ],
      "metadata": {
        "colab": {
          "base_uri": "https://localhost:8080/"
        },
        "id": "WcCnxDFlvExx",
        "outputId": "8ffc3a79-6c1c-42b0-b316-c4d7f9bd2b42"
      },
      "execution_count": null,
      "outputs": [
        {
          "output_type": "execute_result",
          "data": {
            "text/plain": [
              "False"
            ]
          },
          "metadata": {},
          "execution_count": 14
        }
      ]
    },
    {
      "cell_type": "code",
      "source": [
        "car = 'Audi'\n",
        "car.lower() == 'audi'"
      ],
      "metadata": {
        "colab": {
          "base_uri": "https://localhost:8080/"
        },
        "id": "k3IXH7kfvhP6",
        "outputId": "2b93b2d4-09a5-4d47-aec5-2930ccae48b2"
      },
      "execution_count": null,
      "outputs": [
        {
          "output_type": "execute_result",
          "data": {
            "text/plain": [
              "True"
            ]
          },
          "metadata": {},
          "execution_count": 15
        }
      ]
    },
    {
      "cell_type": "markdown",
      "source": [
        "**5.2.3 Checking for Inequality불일치 체크하기**\n",
        "\n",
        "When you want to determine whether two values are not equal,\n",
        "\n",
        "you can combine an exclamation point and an equal sign (!=).\n",
        "\n",
        "두 값이 같지 않은 걸 판단할 때는 느낌표와 등호를 결합한 연산자(!=)를 씁니다. "
      ],
      "metadata": {
        "id": "Lea38VKCv7ML"
      }
    },
    {
      "cell_type": "code",
      "source": [
        "requested_topping = 'mushrooms'\n",
        "if requested_topping != 'anchovies':\n",
        "  print(\"Hold the anchovies!\")"
      ],
      "metadata": {
        "id": "EO7lmMZSwGPZ"
      },
      "execution_count": 8,
      "outputs": []
    },
    {
      "cell_type": "markdown",
      "source": [
        "**5.2.4 Numerical Comparisons 숫자 비교하기**"
      ],
      "metadata": {
        "id": "XFzmE22mxLNE"
      }
    },
    {
      "cell_type": "code",
      "source": [
        "age = 18\n",
        "age == 18"
      ],
      "metadata": {
        "colab": {
          "base_uri": "https://localhost:8080/"
        },
        "id": "H1Ns6kkFxRBL",
        "outputId": "b603f39d-9053-4273-b205-207d3c69e35e"
      },
      "execution_count": null,
      "outputs": [
        {
          "output_type": "execute_result",
          "data": {
            "text/plain": [
              "True"
            ]
          },
          "metadata": {},
          "execution_count": 19
        }
      ]
    },
    {
      "cell_type": "code",
      "source": [
        "age = 18 \n",
        "\n",
        "if age != 42:\n",
        "  print('That is not the correct answer. Please try again!')\n",
        "  "
      ],
      "metadata": {
        "colab": {
          "base_uri": "https://localhost:8080/"
        },
        "id": "brFUSnt0xZeD",
        "outputId": "6a7be16e-992c-4e98-f5da-02f76830bcd2"
      },
      "execution_count": null,
      "outputs": [
        {
          "output_type": "stream",
          "name": "stdout",
          "text": [
            "That is not the correct answer. Please try again!\n"
          ]
        }
      ]
    },
    {
      "cell_type": "markdown",
      "source": [
        "**You can include various mathematical comparisons in your conditional\n",
        "statements as well**\n",
        "\n",
        "if문에 다양한 수학적 비교를 호함 할 수 도 있습니다. "
      ],
      "metadata": {
        "id": "SSjQ91JuyYPc"
      }
    },
    {
      "cell_type": "code",
      "source": [
        "age = 19\n",
        "age < 21"
      ],
      "metadata": {
        "colab": {
          "base_uri": "https://localhost:8080/"
        },
        "id": "-SNAs-GyyeLr",
        "outputId": "2f8de0bf-2cd5-4189-9796-853eca8f43d7"
      },
      "execution_count": null,
      "outputs": [
        {
          "output_type": "execute_result",
          "data": {
            "text/plain": [
              "True"
            ]
          },
          "metadata": {},
          "execution_count": 24
        }
      ]
    },
    {
      "cell_type": "code",
      "source": [
        "age <=21"
      ],
      "metadata": {
        "colab": {
          "base_uri": "https://localhost:8080/"
        },
        "id": "Dk6Om9Fnyj4E",
        "outputId": "bc777708-a57a-42b2-ddf8-e4644fdddf52"
      },
      "execution_count": null,
      "outputs": [
        {
          "output_type": "execute_result",
          "data": {
            "text/plain": [
              "True"
            ]
          },
          "metadata": {},
          "execution_count": 25
        }
      ]
    },
    {
      "cell_type": "code",
      "source": [
        "age > 21"
      ],
      "metadata": {
        "colab": {
          "base_uri": "https://localhost:8080/"
        },
        "id": "qX5mtxi-yz_q",
        "outputId": "830c1028-dbc2-458e-8dd3-8212ef544f82"
      },
      "execution_count": null,
      "outputs": [
        {
          "output_type": "execute_result",
          "data": {
            "text/plain": [
              "False"
            ]
          },
          "metadata": {},
          "execution_count": 26
        }
      ]
    },
    {
      "cell_type": "code",
      "source": [
        "age >=21"
      ],
      "metadata": {
        "colab": {
          "base_uri": "https://localhost:8080/"
        },
        "id": "RQDhcPDny3aM",
        "outputId": "27614066-8ca3-4052-ac45-a7e4cd176c52"
      },
      "execution_count": null,
      "outputs": [
        {
          "output_type": "execute_result",
          "data": {
            "text/plain": [
              "False"
            ]
          },
          "metadata": {},
          "execution_count": 27
        }
      ]
    },
    {
      "cell_type": "markdown",
      "source": [
        "**5.2.5 Checking Multiple Conditions 여러 조건 체크하기**\n",
        "\n",
        "You may want to check multiple conditions at the same time.\n",
        "\n",
        "여러 조건을 동시에 체크할 수 도 있습니다. \n",
        "\n",
        "sometimes you might need two conditions to be True to take an action. \n",
        "\n",
        "Other times you might be satisfied with just one condition being True.\n",
        "\n",
        "The keywords and and or can help you in these situations.\n",
        "\n",
        "두 조건이 무두 True여야만 어떤 행동을 취해야 할 때가 있습니다. \n",
        "\n",
        "조건 중 하나만 True여도  될 때도 있습니다. \n",
        "\n",
        "키워드 and 와 or는 이런 상황에 적합합니다. \n"
      ],
      "metadata": {
        "id": "nLupRujsy7mb"
      }
    },
    {
      "cell_type": "markdown",
      "source": [
        "**1. Using and to Check Multiple Conditions and를 사용해 여러 조건 확인하기(모두 만족한다)**"
      ],
      "metadata": {
        "id": "bgrA58tS0qFl"
      }
    },
    {
      "cell_type": "code",
      "source": [
        "age_0 = 22\n",
        "age_1 = 18\n",
        "age_0 >= 21 and age_1 >= 21"
      ],
      "metadata": {
        "colab": {
          "base_uri": "https://localhost:8080/"
        },
        "id": "kgP6_Tie0xgr",
        "outputId": "0d3dfc64-8568-4861-8ba9-f22c13db0f08"
      },
      "execution_count": null,
      "outputs": [
        {
          "output_type": "execute_result",
          "data": {
            "text/plain": [
              "False"
            ]
          },
          "metadata": {},
          "execution_count": 28
        }
      ]
    },
    {
      "cell_type": "code",
      "source": [
        "age_1 = 24\n",
        "age_0 >= 21 and age_1 >21"
      ],
      "metadata": {
        "colab": {
          "base_uri": "https://localhost:8080/"
        },
        "id": "zyji1q3Q1CVk",
        "outputId": "58b747dc-d61a-4db5-a3ad-c444f5804c44"
      },
      "execution_count": null,
      "outputs": [
        {
          "output_type": "execute_result",
          "data": {
            "text/plain": [
              "True"
            ]
          },
          "metadata": {},
          "execution_count": 30
        }
      ]
    },
    {
      "cell_type": "code",
      "source": [
        "age_1 = 24\n",
        "(age_0 >= 21) and (age_1 >21)"
      ],
      "metadata": {
        "colab": {
          "base_uri": "https://localhost:8080/"
        },
        "id": "LelEhFba2_6y",
        "outputId": "68ee034f-60ea-4dea-f778-5b9ac9b95f98"
      },
      "execution_count": null,
      "outputs": [
        {
          "output_type": "execute_result",
          "data": {
            "text/plain": [
              "True"
            ]
          },
          "metadata": {},
          "execution_count": 31
        }
      ]
    },
    {
      "cell_type": "markdown",
      "source": [
        "**Using or to Check Multiple Conditions or를 사용하여 여러 조건 확인하기(하나만 만족)**\n",
        "\n",
        "The keyword or allows you to check multiple conditions as well, \n",
        "\n",
        "but it passes when either or both of the individual tests pass.\n",
        "\n",
        "An or expression fails only when both individual tests fail."
      ],
      "metadata": {
        "id": "wDxqchAr3O97"
      }
    },
    {
      "cell_type": "code",
      "source": [
        "age_0 = 22\n",
        "age_1 = 18\n",
        "\n",
        "age_0 >= 21 or age_1 >=21"
      ],
      "metadata": {
        "colab": {
          "base_uri": "https://localhost:8080/"
        },
        "id": "fiMM_dFp3dwD",
        "outputId": "40e003e0-236e-4bbc-8083-f825a909f318"
      },
      "execution_count": null,
      "outputs": [
        {
          "output_type": "execute_result",
          "data": {
            "text/plain": [
              "True"
            ]
          },
          "metadata": {},
          "execution_count": 32
        }
      ]
    },
    {
      "cell_type": "code",
      "source": [
        "age_0 = 18\n",
        "age_0 >= 21 or age_1 >= 21\n"
      ],
      "metadata": {
        "colab": {
          "base_uri": "https://localhost:8080/"
        },
        "id": "KFzxvG_W315c",
        "outputId": "dffc8056-06f6-4b0b-c809-e8ae6e90ae26"
      },
      "execution_count": null,
      "outputs": [
        {
          "output_type": "execute_result",
          "data": {
            "text/plain": [
              "False"
            ]
          },
          "metadata": {},
          "execution_count": 33
        }
      ]
    },
    {
      "cell_type": "markdown",
      "source": [
        "**5.2.6 Checking Whether a Value Is in a List 값이 리스트에 있는지 체크하기**\n"
      ],
      "metadata": {
        "id": "fRPEVS_y4ABN"
      }
    },
    {
      "cell_type": "code",
      "source": [
        "requested_toppings = ['mushrooms','onions','pineapple']\n",
        "'mushrooms' in requested_toppings"
      ],
      "metadata": {
        "colab": {
          "base_uri": "https://localhost:8080/"
        },
        "id": "z0TJ7dRd4Q91",
        "outputId": "066267e6-949e-4495-8962-0e9a336f14c9"
      },
      "execution_count": 12,
      "outputs": [
        {
          "output_type": "execute_result",
          "data": {
            "text/plain": [
              "True"
            ]
          },
          "metadata": {},
          "execution_count": 12
        }
      ]
    },
    {
      "cell_type": "code",
      "source": [
        "'pepperoni' in requested_toppings\n"
      ],
      "metadata": {
        "id": "xAUQiMRZyhrp",
        "outputId": "aba0e8fa-76c7-4239-83b1-ff2550563871",
        "colab": {
          "base_uri": "https://localhost:8080/"
        }
      },
      "execution_count": 13,
      "outputs": [
        {
          "output_type": "execute_result",
          "data": {
            "text/plain": [
              "False"
            ]
          },
          "metadata": {},
          "execution_count": 13
        }
      ]
    },
    {
      "cell_type": "markdown",
      "source": [
        "**5.2.7 Checking Whether a Value Is Not in a List 값이 리스트에 없는지 체크하기**"
      ],
      "metadata": {
        "id": "_xYdEdZ46qTY"
      }
    },
    {
      "cell_type": "code",
      "source": [
        "banned_users = ['andrew', 'carolina', 'david']\n",
        "user = 'marie'\n",
        "\n",
        "if user not in banned_users:\n",
        "  print(f\"{user.title()}, you can post a response if you wish.\")"
      ],
      "metadata": {
        "colab": {
          "base_uri": "https://localhost:8080/"
        },
        "id": "dp7MypKt6y61",
        "outputId": "45f8aa15-f994-470f-bccf-1ea6ef1670ad"
      },
      "execution_count": null,
      "outputs": [
        {
          "output_type": "stream",
          "name": "stdout",
          "text": [
            "Marie, you can post a response if you wish.\n"
          ]
        }
      ]
    },
    {
      "cell_type": "markdown",
      "source": [
        "**연습문제**"
      ],
      "metadata": {
        "id": "lERIQhrSlFK6"
      }
    },
    {
      "cell_type": "markdown",
      "source": [
        "##**Try It Yourself**\n",
        "**5-1. Conditional Tests:**\n",
        "\n",
        "Write a series of conditional tests.\n",
        "\n",
        "Print a statement describing each test and your prediction for the results of each test. \n",
        "\n",
        "Your code should look something like this:\n",
        "\n",
        "---\n",
        "car = 'subaru'\n",
        "\n",
        "print(\"Is car == 'subaru'? I predict True.\")\n",
        "\n",
        "print(car == 'subaru')\n",
        "\n",
        "print(\"\\nIs car == 'audi'? I predict False.\")\n",
        "\n",
        "print(car == 'audi')\n",
        "\n",
        "---\n",
        "\n",
        "\n",
        "* Look closely at your results, and make sure you understand why each line\n",
        "evaluates to True or False.\n",
        "\n",
        "* Create at least ten tests. Have at least five tests evaluate to True and\n",
        "another five tests evaluate to False."
      ],
      "metadata": {
        "id": "FyWWLELalkgd"
      }
    },
    {
      "cell_type": "code",
      "source": [
        "car = 'subaru'\n",
        "\n",
        "print(\"Is car == 'subaru'? I predict True.\")\n",
        "\n",
        "print(car == 'subaru')\n",
        "\n",
        "print(\"\\nIs car == 'audi'? I predict False.\")\n",
        "\n",
        "print(car == 'audi')"
      ],
      "metadata": {
        "colab": {
          "base_uri": "https://localhost:8080/"
        },
        "id": "WF0lQtJJnAw2",
        "outputId": "472c7528-b2ff-4c63-c3ac-6ddd01a27b9a"
      },
      "execution_count": null,
      "outputs": [
        {
          "output_type": "stream",
          "name": "stdout",
          "text": [
            "Is car == 'subaru'? I predict True.\n",
            "True\n",
            "\n",
            "Is car == 'audi'? I predict False.\n",
            "False\n"
          ]
        }
      ]
    },
    {
      "cell_type": "code",
      "source": [
        "food = 'kimchi'\n",
        "food == 'kimchi'"
      ],
      "metadata": {
        "colab": {
          "base_uri": "https://localhost:8080/"
        },
        "id": "3f1GQtA4npLc",
        "outputId": "a8397c02-96a9-457d-c097-b37984a1e453"
      },
      "execution_count": null,
      "outputs": [
        {
          "output_type": "execute_result",
          "data": {
            "text/plain": [
              "True"
            ]
          },
          "metadata": {},
          "execution_count": 2
        }
      ]
    },
    {
      "cell_type": "code",
      "source": [
        "food = 'kimchi'\n",
        "food == 'cheese'"
      ],
      "metadata": {
        "colab": {
          "base_uri": "https://localhost:8080/"
        },
        "id": "tFASrmcsn3aV",
        "outputId": "209d4c53-32f4-4415-ab38-648eb3909f0f"
      },
      "execution_count": null,
      "outputs": [
        {
          "output_type": "execute_result",
          "data": {
            "text/plain": [
              "False"
            ]
          },
          "metadata": {},
          "execution_count": 3
        }
      ]
    },
    {
      "cell_type": "markdown",
      "source": [
        "\n",
        "**5-2. More Conditional Tests:**\n",
        "\n",
        "You don’t have to limit the number of tests you create to ten.\n",
        "\n",
        "If you want to try more comparisons, write more tests \n",
        "\n",
        "Have at least one True and one False result for each of the following:\n",
        "\n",
        "* Tests for equality and inequality with strings\n",
        "\n",
        "* Tests using the lower() method\n",
        "* Numerical tests involving equality and inequality, greater than and\n",
        "less than, greater than or equal to, and less than or equal to\n",
        "* Tests using the and keyword and the or keyword\n",
        "* Test whether an item is in a list\n",
        "* Test whether an item is not in a list"
      ],
      "metadata": {
        "id": "DJS9rKDAorvl"
      }
    },
    {
      "cell_type": "code",
      "source": [
        "pizza = 'cheese'\n",
        "pizza == 'chesse'"
      ],
      "metadata": {
        "colab": {
          "base_uri": "https://localhost:8080/"
        },
        "id": "hf0xowjAot-E",
        "outputId": "10e96ef2-ef78-4a22-b96d-923be7708931"
      },
      "execution_count": null,
      "outputs": [
        {
          "output_type": "execute_result",
          "data": {
            "text/plain": [
              "False"
            ]
          },
          "metadata": {},
          "execution_count": 4
        }
      ]
    },
    {
      "cell_type": "code",
      "source": [
        "pizza = 'cheese'\n",
        "pizza != 'cheese'"
      ],
      "metadata": {
        "colab": {
          "base_uri": "https://localhost:8080/"
        },
        "id": "5vn8pm1Ww08f",
        "outputId": "da41d570-3533-4625-b86f-ab6b5596b26a"
      },
      "execution_count": null,
      "outputs": [
        {
          "output_type": "execute_result",
          "data": {
            "text/plain": [
              "False"
            ]
          },
          "metadata": {},
          "execution_count": 6
        }
      ]
    },
    {
      "cell_type": "code",
      "source": [
        "car = 'Audi'\n",
        "car.lower() == 'audi'"
      ],
      "metadata": {
        "colab": {
          "base_uri": "https://localhost:8080/"
        },
        "id": "aGllE8ArxN5J",
        "outputId": "6991192c-cc32-48ec-c903-04d4d733f8fc"
      },
      "execution_count": null,
      "outputs": [
        {
          "output_type": "execute_result",
          "data": {
            "text/plain": [
              "True"
            ]
          },
          "metadata": {},
          "execution_count": 7
        }
      ]
    },
    {
      "cell_type": "code",
      "source": [
        "car = 'Audi'\n",
        "car.lower() == 'Audi'"
      ],
      "metadata": {
        "colab": {
          "base_uri": "https://localhost:8080/"
        },
        "id": "T5iTKtYVxY6x",
        "outputId": "05f9d88f-3eea-4fba-a14f-c08a03dee4ee"
      },
      "execution_count": null,
      "outputs": [
        {
          "output_type": "execute_result",
          "data": {
            "text/plain": [
              "False"
            ]
          },
          "metadata": {},
          "execution_count": 9
        }
      ]
    },
    {
      "cell_type": "code",
      "source": [
        "age = 20 \n",
        "age < 10"
      ],
      "metadata": {
        "colab": {
          "base_uri": "https://localhost:8080/"
        },
        "id": "yr1NyZ8bxlbX",
        "outputId": "8b98f86f-4e66-4f19-98a6-8141113b0a78"
      },
      "execution_count": null,
      "outputs": [
        {
          "output_type": "execute_result",
          "data": {
            "text/plain": [
              "False"
            ]
          },
          "metadata": {},
          "execution_count": 10
        }
      ]
    },
    {
      "cell_type": "code",
      "source": [
        "age = 20 \n",
        "age > 50"
      ],
      "metadata": {
        "colab": {
          "base_uri": "https://localhost:8080/"
        },
        "id": "2GsiSRrgxvIn",
        "outputId": "ababe3db-e17f-48a4-a775-2d19dc890b55"
      },
      "execution_count": null,
      "outputs": [
        {
          "output_type": "execute_result",
          "data": {
            "text/plain": [
              "False"
            ]
          },
          "metadata": {},
          "execution_count": 11
        }
      ]
    },
    {
      "cell_type": "code",
      "source": [
        "age = 20 \n",
        "age != 20"
      ],
      "metadata": {
        "colab": {
          "base_uri": "https://localhost:8080/"
        },
        "id": "1UpwvnXZxzwF",
        "outputId": "cba7d4cf-d980-43fd-bc18-5a439aa07c07"
      },
      "execution_count": null,
      "outputs": [
        {
          "output_type": "execute_result",
          "data": {
            "text/plain": [
              "False"
            ]
          },
          "metadata": {},
          "execution_count": 12
        }
      ]
    }
  ]
}