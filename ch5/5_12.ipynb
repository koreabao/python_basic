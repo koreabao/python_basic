{
  "nbformat": 4,
  "nbformat_minor": 0,
  "metadata": {
    "colab": {
      "name": "5_12.ipynb",
      "provenance": [],
      "authorship_tag": "ABX9TyODNEX9gVgSL0ZwwKIaz6Ll",
      "include_colab_link": true
    },
    "kernelspec": {
      "name": "python3",
      "display_name": "Python 3"
    },
    "language_info": {
      "name": "python"
    }
  },
  "cells": [
    {
      "cell_type": "markdown",
      "metadata": {
        "id": "view-in-github",
        "colab_type": "text"
      },
      "source": [
        "<a href=\"https://colab.research.google.com/github/koreabao/python_basic/blob/main/ch5/5_12.ipynb\" target=\"_parent\"><img src=\"https://colab.research.google.com/assets/colab-badge.svg\" alt=\"Open In Colab\"/></a>"
      ]
    },
    {
      "cell_type": "markdown",
      "source": [
        "##**5.if Statements**\n",
        "\n",
        "**5.1. A Simple Example**\n"
      ],
      "metadata": {
        "id": "-qEu3IilrwQD"
      }
    },
    {
      "cell_type": "code",
      "source": [
        "cars = ['audi','bmw','subaru','toyota']\n",
        "\n",
        "for car in cars:\n",
        "  if car == 'bmw':\n",
        "    print(car.upper())\n",
        "  else:\n",
        "    print(car.title())"
      ],
      "metadata": {
        "colab": {
          "base_uri": "https://localhost:8080/"
        },
        "id": "V1xJBjrptC6U",
        "outputId": "6adfc423-2580-4a85-f75b-c5fd93bf8ca7"
      },
      "execution_count": null,
      "outputs": [
        {
          "output_type": "stream",
          "name": "stdout",
          "text": [
            "Audi\n",
            "BMW\n",
            "Subaru\n",
            "Toyota\n"
          ]
        }
      ]
    },
    {
      "cell_type": "markdown",
      "source": [
        "**5.2 Conditional Tests**\n",
        "\n",
        "At the heart of every if statement is an expression that can be evaluated as\n",
        "True or False and is called a conditional test."
      ],
      "metadata": {
        "id": "RxzTZO6vtM45"
      }
    },
    {
      "cell_type": "code",
      "source": [
        "\n",
        "bool('false')"
      ],
      "metadata": {
        "id": "q7ubdBAEj9eN",
        "outputId": "219e1786-3946-4a9e-9c6d-7216815299a1",
        "colab": {
          "base_uri": "https://localhost:8080/"
        }
      },
      "execution_count": 13,
      "outputs": [
        {
          "output_type": "execute_result",
          "data": {
            "text/plain": [
              "True"
            ]
          },
          "metadata": {},
          "execution_count": 13
        }
      ]
    },
    {
      "cell_type": "code",
      "source": [
        "bool(\"\")"
      ],
      "metadata": {
        "id": "2kZfarunkNo8",
        "outputId": "f11e3f35-2846-4eff-b6a6-ec7c6eff2019",
        "colab": {
          "base_uri": "https://localhost:8080/"
        }
      },
      "execution_count": 4,
      "outputs": [
        {
          "output_type": "execute_result",
          "data": {
            "text/plain": [
              "False"
            ]
          },
          "metadata": {},
          "execution_count": 4
        }
      ]
    },
    {
      "cell_type": "code",
      "source": [
        "bool(0)"
      ],
      "metadata": {
        "id": "9ZePRUBCkN2c",
        "outputId": "a51d40be-0f48-4489-f779-4b252d67538f",
        "colab": {
          "base_uri": "https://localhost:8080/"
        }
      },
      "execution_count": 5,
      "outputs": [
        {
          "output_type": "execute_result",
          "data": {
            "text/plain": [
              "False"
            ]
          },
          "metadata": {},
          "execution_count": 5
        }
      ]
    },
    {
      "cell_type": "code",
      "source": [
        "bool(7)"
      ],
      "metadata": {
        "id": "i8pziylDmcM2",
        "outputId": "64a7650c-26d3-461a-f3e6-3fc3191b2808",
        "colab": {
          "base_uri": "https://localhost:8080/"
        }
      },
      "execution_count": 14,
      "outputs": [
        {
          "output_type": "execute_result",
          "data": {
            "text/plain": [
              "True"
            ]
          },
          "metadata": {},
          "execution_count": 14
        }
      ]
    },
    {
      "cell_type": "markdown",
      "source": [
        "bool 함수에서 False의 경우\n",
        "1. 0 , 0.0\n",
        "2. (), [],{},set(),range(0) \n",
        "3. None , False"
      ],
      "metadata": {
        "id": "TZH6mP0Skehb"
      }
    },
    {
      "cell_type": "code",
      "source": [
        "if 520 > 250:\n",
        "  print('520는 250보다 크다.')\n",
        "else:\n",
        "  print('520는 250보다 크지않다.')"
      ],
      "metadata": {
        "id": "SYzvVXyylSpG",
        "outputId": "a380c26b-c5ba-45b2-f5c9-201260d8deb3",
        "colab": {
          "base_uri": "https://localhost:8080/"
        }
      },
      "execution_count": 7,
      "outputs": [
        {
          "output_type": "stream",
          "name": "stdout",
          "text": [
            "520는 250보다 크다.\n"
          ]
        }
      ]
    },
    {
      "cell_type": "code",
      "source": [
        "1 == True"
      ],
      "metadata": {
        "id": "6fnbtImMl80M",
        "outputId": "725b28f2-4a2e-40ce-cbdc-df9759843e5a",
        "colab": {
          "base_uri": "https://localhost:8080/"
        }
      },
      "execution_count": 8,
      "outputs": [
        {
          "output_type": "execute_result",
          "data": {
            "text/plain": [
              "True"
            ]
          },
          "metadata": {},
          "execution_count": 8
        }
      ]
    },
    {
      "cell_type": "code",
      "source": [
        "0 == False"
      ],
      "metadata": {
        "id": "ZraudqummAU0",
        "outputId": "77c79ba9-bda5-4f04-e7fb-91cb80e34a92",
        "colab": {
          "base_uri": "https://localhost:8080/"
        }
      },
      "execution_count": 9,
      "outputs": [
        {
          "output_type": "execute_result",
          "data": {
            "text/plain": [
              "True"
            ]
          },
          "metadata": {},
          "execution_count": 9
        }
      ]
    },
    {
      "cell_type": "code",
      "source": [
        "True + False"
      ],
      "metadata": {
        "id": "0DBACIlumD0I",
        "outputId": "f56a9703-f51f-48bf-e91c-949fd0ef20a7",
        "colab": {
          "base_uri": "https://localhost:8080/"
        }
      },
      "execution_count": 10,
      "outputs": [
        {
          "output_type": "execute_result",
          "data": {
            "text/plain": [
              "1"
            ]
          },
          "metadata": {},
          "execution_count": 10
        }
      ]
    },
    {
      "cell_type": "code",
      "source": [
        "True*3"
      ],
      "metadata": {
        "id": "vVgcwnoFmJ39",
        "outputId": "90d5042f-3bda-400e-c3f6-1d87338db90c",
        "colab": {
          "base_uri": "https://localhost:8080/"
        }
      },
      "execution_count": 12,
      "outputs": [
        {
          "output_type": "execute_result",
          "data": {
            "text/plain": [
              "3"
            ]
          },
          "metadata": {},
          "execution_count": 12
        }
      ]
    },
    {
      "cell_type": "markdown",
      "source": [
        "**5.1.1 Checking for Equality**"
      ],
      "metadata": {
        "id": "LKHjY38-t0f5"
      }
    },
    {
      "cell_type": "code",
      "source": [
        "car = 'bmw'\n",
        "car == 'bmw'\n"
      ],
      "metadata": {
        "colab": {
          "base_uri": "https://localhost:8080/"
        },
        "id": "NDknagEQt6yb",
        "outputId": "4119bed6-fc2d-445c-b73a-a78f2a68d004"
      },
      "execution_count": null,
      "outputs": [
        {
          "output_type": "execute_result",
          "data": {
            "text/plain": [
              "True"
            ]
          },
          "metadata": {},
          "execution_count": 12
        }
      ]
    },
    {
      "cell_type": "code",
      "source": [
        "car = 'bmw'\n",
        "car == 'audi'"
      ],
      "metadata": {
        "colab": {
          "base_uri": "https://localhost:8080/"
        },
        "id": "H1D0DQIku8XC",
        "outputId": "6bbb85d5-3399-438a-a758-642ac4380c7f"
      },
      "execution_count": null,
      "outputs": [
        {
          "output_type": "execute_result",
          "data": {
            "text/plain": [
              "False"
            ]
          },
          "metadata": {},
          "execution_count": 13
        }
      ]
    },
    {
      "cell_type": "markdown",
      "source": [
        "**5.2.2 Ignoring Case When Checking for Equality**\n",
        "\n",
        "Testing for equality is case sensitive in Python."
      ],
      "metadata": {
        "id": "tt0wzOjHvEnY"
      }
    },
    {
      "cell_type": "code",
      "source": [
        "car = 'audi'\n",
        "car == 'Audi'"
      ],
      "metadata": {
        "colab": {
          "base_uri": "https://localhost:8080/"
        },
        "id": "WcCnxDFlvExx",
        "outputId": "8ffc3a79-6c1c-42b0-b316-c4d7f9bd2b42"
      },
      "execution_count": null,
      "outputs": [
        {
          "output_type": "execute_result",
          "data": {
            "text/plain": [
              "False"
            ]
          },
          "metadata": {},
          "execution_count": 14
        }
      ]
    },
    {
      "cell_type": "code",
      "source": [
        "car = 'Audi'\n",
        "car.lower() == 'audi'"
      ],
      "metadata": {
        "colab": {
          "base_uri": "https://localhost:8080/"
        },
        "id": "k3IXH7kfvhP6",
        "outputId": "2b93b2d4-09a5-4d47-aec5-2930ccae48b2"
      },
      "execution_count": null,
      "outputs": [
        {
          "output_type": "execute_result",
          "data": {
            "text/plain": [
              "True"
            ]
          },
          "metadata": {},
          "execution_count": 15
        }
      ]
    },
    {
      "cell_type": "markdown",
      "source": [
        "**5.2.3 Checking for Inequality**\n",
        "\n",
        "When you want to determine whether two values are not equal,\n",
        "\n",
        "you can combine an exclamation point and an equal sign (!=)."
      ],
      "metadata": {
        "id": "Lea38VKCv7ML"
      }
    },
    {
      "cell_type": "code",
      "source": [
        "requested_topping = 'mushrooms'\n",
        "if requested_topping != 'anchovies':\n",
        "  print(\"Hold the anchovies!\")"
      ],
      "metadata": {
        "colab": {
          "base_uri": "https://localhost:8080/"
        },
        "id": "EO7lmMZSwGPZ",
        "outputId": "8fcd59e7-0a2f-4f58-c8a6-d3a1d8fcf4b8"
      },
      "execution_count": null,
      "outputs": [
        {
          "output_type": "stream",
          "name": "stdout",
          "text": [
            "Hold the anchovies!\n"
          ]
        }
      ]
    },
    {
      "cell_type": "markdown",
      "source": [
        "**5.2.4 Numerical Comparisons**"
      ],
      "metadata": {
        "id": "XFzmE22mxLNE"
      }
    },
    {
      "cell_type": "code",
      "source": [
        "age = 18\n",
        "age == 18"
      ],
      "metadata": {
        "colab": {
          "base_uri": "https://localhost:8080/"
        },
        "id": "H1Ns6kkFxRBL",
        "outputId": "b603f39d-9053-4273-b205-207d3c69e35e"
      },
      "execution_count": null,
      "outputs": [
        {
          "output_type": "execute_result",
          "data": {
            "text/plain": [
              "True"
            ]
          },
          "metadata": {},
          "execution_count": 19
        }
      ]
    },
    {
      "cell_type": "code",
      "source": [
        "age = 18 \n",
        "\n",
        "if age != 42:\n",
        "  print('That is not the correct answer. Please try again!')\n",
        "  "
      ],
      "metadata": {
        "colab": {
          "base_uri": "https://localhost:8080/"
        },
        "id": "brFUSnt0xZeD",
        "outputId": "6a7be16e-992c-4e98-f5da-02f76830bcd2"
      },
      "execution_count": null,
      "outputs": [
        {
          "output_type": "stream",
          "name": "stdout",
          "text": [
            "That is not the correct answer. Please try again!\n"
          ]
        }
      ]
    },
    {
      "cell_type": "markdown",
      "source": [
        "**You can include various mathematical comparisons in your conditional\n",
        "statements as well**"
      ],
      "metadata": {
        "id": "SSjQ91JuyYPc"
      }
    },
    {
      "cell_type": "code",
      "source": [
        "age = 19\n",
        "age < 21"
      ],
      "metadata": {
        "colab": {
          "base_uri": "https://localhost:8080/"
        },
        "id": "-SNAs-GyyeLr",
        "outputId": "2f8de0bf-2cd5-4189-9796-853eca8f43d7"
      },
      "execution_count": null,
      "outputs": [
        {
          "output_type": "execute_result",
          "data": {
            "text/plain": [
              "True"
            ]
          },
          "metadata": {},
          "execution_count": 24
        }
      ]
    },
    {
      "cell_type": "code",
      "source": [
        "age <=21"
      ],
      "metadata": {
        "colab": {
          "base_uri": "https://localhost:8080/"
        },
        "id": "Dk6Om9Fnyj4E",
        "outputId": "bc777708-a57a-42b2-ddf8-e4644fdddf52"
      },
      "execution_count": null,
      "outputs": [
        {
          "output_type": "execute_result",
          "data": {
            "text/plain": [
              "True"
            ]
          },
          "metadata": {},
          "execution_count": 25
        }
      ]
    },
    {
      "cell_type": "code",
      "source": [
        "age > 21"
      ],
      "metadata": {
        "colab": {
          "base_uri": "https://localhost:8080/"
        },
        "id": "qX5mtxi-yz_q",
        "outputId": "830c1028-dbc2-458e-8dd3-8212ef544f82"
      },
      "execution_count": null,
      "outputs": [
        {
          "output_type": "execute_result",
          "data": {
            "text/plain": [
              "False"
            ]
          },
          "metadata": {},
          "execution_count": 26
        }
      ]
    },
    {
      "cell_type": "code",
      "source": [
        "age >=21"
      ],
      "metadata": {
        "colab": {
          "base_uri": "https://localhost:8080/"
        },
        "id": "RQDhcPDny3aM",
        "outputId": "27614066-8ca3-4052-ac45-a7e4cd176c52"
      },
      "execution_count": null,
      "outputs": [
        {
          "output_type": "execute_result",
          "data": {
            "text/plain": [
              "False"
            ]
          },
          "metadata": {},
          "execution_count": 27
        }
      ]
    },
    {
      "cell_type": "markdown",
      "source": [
        "**5.2.5 Checking Multiple Conditions**\n",
        "\n",
        "You may want to check multiple conditions at the same time.\n",
        "\n",
        "sometimes you might need two conditions to be True to take an action. \n",
        "\n",
        "Other times you might be satisfied with just one condition being True.\n",
        "\n",
        "The keywords and and or can help you in these situations."
      ],
      "metadata": {
        "id": "nLupRujsy7mb"
      }
    },
    {
      "cell_type": "markdown",
      "source": [
        "**1. Using and to Check Multiple Conditions**"
      ],
      "metadata": {
        "id": "bgrA58tS0qFl"
      }
    },
    {
      "cell_type": "code",
      "source": [
        "age_0 = 22\n",
        "age_1 = 18\n",
        "age_0 >= 21 and age_1 >= 21"
      ],
      "metadata": {
        "colab": {
          "base_uri": "https://localhost:8080/"
        },
        "id": "kgP6_Tie0xgr",
        "outputId": "0d3dfc64-8568-4861-8ba9-f22c13db0f08"
      },
      "execution_count": null,
      "outputs": [
        {
          "output_type": "execute_result",
          "data": {
            "text/plain": [
              "False"
            ]
          },
          "metadata": {},
          "execution_count": 28
        }
      ]
    },
    {
      "cell_type": "code",
      "source": [
        "age_1 = 24\n",
        "age_0 >= 21 and age_1 >21"
      ],
      "metadata": {
        "colab": {
          "base_uri": "https://localhost:8080/"
        },
        "id": "zyji1q3Q1CVk",
        "outputId": "58b747dc-d61a-4db5-a3ad-c444f5804c44"
      },
      "execution_count": null,
      "outputs": [
        {
          "output_type": "execute_result",
          "data": {
            "text/plain": [
              "True"
            ]
          },
          "metadata": {},
          "execution_count": 30
        }
      ]
    },
    {
      "cell_type": "code",
      "source": [
        "age_1 = 24\n",
        "(age_0 >= 21) and (age_1 >21)"
      ],
      "metadata": {
        "colab": {
          "base_uri": "https://localhost:8080/"
        },
        "id": "LelEhFba2_6y",
        "outputId": "68ee034f-60ea-4dea-f778-5b9ac9b95f98"
      },
      "execution_count": null,
      "outputs": [
        {
          "output_type": "execute_result",
          "data": {
            "text/plain": [
              "True"
            ]
          },
          "metadata": {},
          "execution_count": 31
        }
      ]
    },
    {
      "cell_type": "markdown",
      "source": [
        "**Using or to Check Multiple Conditions**\n",
        "\n",
        "The keyword or allows you to check multiple conditions as well, but it\n",
        "passes when either or both of the individual tests pass.\n",
        "\n",
        "An or expression fails only when both individual tests fail."
      ],
      "metadata": {
        "id": "wDxqchAr3O97"
      }
    },
    {
      "cell_type": "code",
      "source": [
        "age_0 = 22\n",
        "age_1 = 18\n",
        "\n",
        "age_0 >= 21 or age_1 >=21"
      ],
      "metadata": {
        "colab": {
          "base_uri": "https://localhost:8080/"
        },
        "id": "fiMM_dFp3dwD",
        "outputId": "40e003e0-236e-4bbc-8083-f825a909f318"
      },
      "execution_count": null,
      "outputs": [
        {
          "output_type": "execute_result",
          "data": {
            "text/plain": [
              "True"
            ]
          },
          "metadata": {},
          "execution_count": 32
        }
      ]
    },
    {
      "cell_type": "code",
      "source": [
        "age_0 = 18\n",
        "age_0 >= 21 or age_1 >= 21\n"
      ],
      "metadata": {
        "colab": {
          "base_uri": "https://localhost:8080/"
        },
        "id": "KFzxvG_W315c",
        "outputId": "dffc8056-06f6-4b0b-c809-e8ae6e90ae26"
      },
      "execution_count": null,
      "outputs": [
        {
          "output_type": "execute_result",
          "data": {
            "text/plain": [
              "False"
            ]
          },
          "metadata": {},
          "execution_count": 33
        }
      ]
    },
    {
      "cell_type": "markdown",
      "source": [
        "**5.2.6 Checking Whether a Value Is in a List**\n"
      ],
      "metadata": {
        "id": "fRPEVS_y4ABN"
      }
    },
    {
      "cell_type": "code",
      "source": [
        "requested_toppings = ['mushrooms','onions','pineapple']\n",
        "a = 'mushrooms' in requested_toppings\n",
        "print(a)\n",
        "b = 'pepperoni' in requested_toppings"
      ],
      "metadata": {
        "colab": {
          "base_uri": "https://localhost:8080/"
        },
        "id": "z0TJ7dRd4Q91",
        "outputId": "836d2fa6-ec9b-4993-d645-1ca9c51226fd"
      },
      "execution_count": null,
      "outputs": [
        {
          "output_type": "stream",
          "name": "stdout",
          "text": [
            "True\n"
          ]
        },
        {
          "output_type": "execute_result",
          "data": {
            "text/plain": [
              "False"
            ]
          },
          "metadata": {},
          "execution_count": 36
        }
      ]
    },
    {
      "cell_type": "markdown",
      "source": [
        "**5.2.7 Checking Whether a Value Is Not in a List**"
      ],
      "metadata": {
        "id": "_xYdEdZ46qTY"
      }
    },
    {
      "cell_type": "code",
      "source": [
        "banned_users = ['andrew', 'carolina', 'david']\n",
        "user = 'marie'\n",
        "\n",
        "if user not in banned_users:\n",
        "  print(f\"{user.title()}, you can post a response if you wish.\")"
      ],
      "metadata": {
        "colab": {
          "base_uri": "https://localhost:8080/"
        },
        "id": "dp7MypKt6y61",
        "outputId": "45f8aa15-f994-470f-bccf-1ea6ef1670ad"
      },
      "execution_count": null,
      "outputs": [
        {
          "output_type": "stream",
          "name": "stdout",
          "text": [
            "Marie, you can post a response if you wish.\n"
          ]
        }
      ]
    },
    {
      "cell_type": "markdown",
      "source": [
        "**5.2.8 Boolean Expressions**"
      ],
      "metadata": {
        "id": "IM10KF5F664a"
      }
    }
  ]
}