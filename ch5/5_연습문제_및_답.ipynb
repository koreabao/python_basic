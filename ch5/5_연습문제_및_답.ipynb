{
  "nbformat": 4,
  "nbformat_minor": 0,
  "metadata": {
    "colab": {
      "name": "5_연습문제 및 답.ipynb",
      "provenance": [],
      "authorship_tag": "ABX9TyPGn5vuiSCugf58UGdtkyzY",
      "include_colab_link": true
    },
    "kernelspec": {
      "name": "python3",
      "display_name": "Python 3"
    },
    "language_info": {
      "name": "python"
    }
  },
  "cells": [
    {
      "cell_type": "markdown",
      "metadata": {
        "id": "view-in-github",
        "colab_type": "text"
      },
      "source": [
        "<a href=\"https://colab.research.google.com/github/koreabao/python_basic/blob/main/ch5/5_%EC%97%B0%EC%8A%B5%EB%AC%B8%EC%A0%9C_%EB%B0%8F_%EB%8B%B5.ipynb\" target=\"_parent\"><img src=\"https://colab.research.google.com/assets/colab-badge.svg\" alt=\"Open In Colab\"/></a>"
      ]
    },
    {
      "cell_type": "markdown",
      "source": [
        "5-1. Conditional Tests:\n",
        "\n",
        "Write a series of conditional tests.\n",
        "\n",
        "Print a statement describing each test and your prediction for the results of each test.\n",
        "\n",
        "Your code should look something like this:\n",
        "\n",
        "car = 'subaru'\n",
        "\n",
        "print(\"Is car == 'subaru'? I predict True.\")\n",
        "\n",
        "print(car == 'subaru')\n",
        "\n",
        "print(\"\\nIs car == 'audi'? I predict False.\")\n",
        "\n",
        "print(car == 'audi')\n",
        "\n",
        "Look closely at your results, and make sure you understand why each line evaluates to True or False.\n",
        "\n",
        "Create at least ten tests. Have at least five tests evaluate to True and another five tests evaluate to False."
      ],
      "metadata": {
        "id": "mCHY9FoB1Re3"
      }
    },
    {
      "cell_type": "code",
      "source": [
        "car = 'subaru'\n",
        "\n",
        "print(\"Is car == 'subaru'? I predict True.\")\n",
        "\n",
        "print(car == 'subaru')\n",
        "\n",
        "print(\"\\nIs car == 'audi'? I predict False.\")\n",
        "\n",
        "print(car == 'audi')"
      ],
      "metadata": {
        "colab": {
          "base_uri": "https://localhost:8080/"
        },
        "id": "32RWN4Rs2H2h",
        "outputId": "3f415dda-2cf2-44e5-8925-cc676c3e574c"
      },
      "execution_count": 1,
      "outputs": [
        {
          "output_type": "stream",
          "name": "stdout",
          "text": [
            "Is car == 'subaru'? I predict True.\n",
            "True\n",
            "\n",
            "Is car == 'audi'? I predict False.\n",
            "False\n"
          ]
        }
      ]
    },
    {
      "cell_type": "markdown",
      "source": [
        "\n",
        "**5-2. More Conditional Tests:**\n",
        "\n",
        "You don’t have to limit the number of tests you create to ten.\n",
        "\n",
        "If you want to try more comparisons, write more tests \n",
        "\n",
        "Have at least one True and one False result for each of the following:\n",
        "\n",
        "* 1. Tests for equality and inequality with strings\n",
        "\n",
        "* 2. Tests using the lower() method\n",
        "* 3. Numerical tests involving equality and inequality, greater than and\n",
        "less than, greater than or equal to, and less than or equal to\n",
        "* 4. Tests using the and keyword and the or keyword\n",
        "* 5. Test whether an item is in a list\n",
        "* 6. Test whether an item is not in a list"
      ],
      "metadata": {
        "id": "ryo7C28p2Ugw"
      }
    },
    {
      "cell_type": "markdown",
      "source": [
        "1번답"
      ],
      "metadata": {
        "id": "B0bsCbNK24tB"
      }
    },
    {
      "cell_type": "code",
      "source": [
        "pizza = 'cheese'\n",
        "pizza == 'chesse'"
      ],
      "metadata": {
        "id": "HilTUO5w2eg1"
      },
      "execution_count": null,
      "outputs": []
    },
    {
      "cell_type": "code",
      "source": [
        "pizza = 'cheese'\n",
        "pizza != 'cheese'"
      ],
      "metadata": {
        "id": "czmtSlda2fKv"
      },
      "execution_count": null,
      "outputs": []
    },
    {
      "cell_type": "markdown",
      "source": [
        "2번답"
      ],
      "metadata": {
        "id": "EcX6h_g629SO"
      }
    },
    {
      "cell_type": "code",
      "source": [
        "car = 'Audi'\n",
        "car.lower() == 'audi'"
      ],
      "metadata": {
        "id": "XqrjWDC42fk4"
      },
      "execution_count": null,
      "outputs": []
    },
    {
      "cell_type": "code",
      "source": [
        "car = 'Audi'\n",
        "car.lower() == 'Audi'"
      ],
      "metadata": {
        "id": "Slc5ERk-2gAv"
      },
      "execution_count": null,
      "outputs": []
    },
    {
      "cell_type": "markdown",
      "source": [
        "3번답"
      ],
      "metadata": {
        "id": "ZvOmvtZz3Ebw"
      }
    },
    {
      "cell_type": "code",
      "source": [
        "age = 20 \n",
        "age == 20"
      ],
      "metadata": {
        "colab": {
          "base_uri": "https://localhost:8080/"
        },
        "id": "Eq3pSYhd2mro",
        "outputId": "e428a8d1-473a-4284-9cdb-3fa57606047a"
      },
      "execution_count": 4,
      "outputs": [
        {
          "output_type": "execute_result",
          "data": {
            "text/plain": [
              "True"
            ]
          },
          "metadata": {},
          "execution_count": 4
        }
      ]
    },
    {
      "cell_type": "code",
      "source": [
        "age = 20\n",
        "age != 20"
      ],
      "metadata": {
        "colab": {
          "base_uri": "https://localhost:8080/"
        },
        "id": "cnAot1CY2q4V",
        "outputId": "426fc93b-3cbd-4de9-9d15-ec2131a813ef"
      },
      "execution_count": 6,
      "outputs": [
        {
          "output_type": "execute_result",
          "data": {
            "text/plain": [
              "False"
            ]
          },
          "metadata": {},
          "execution_count": 6
        }
      ]
    },
    {
      "cell_type": "code",
      "source": [
        "age = 20\n",
        "age > 50"
      ],
      "metadata": {
        "colab": {
          "base_uri": "https://localhost:8080/"
        },
        "id": "BDiKS8C82nx_",
        "outputId": "03e4184e-2fea-40a8-be27-7cbee77ffc52"
      },
      "execution_count": 7,
      "outputs": [
        {
          "output_type": "execute_result",
          "data": {
            "text/plain": [
              "False"
            ]
          },
          "metadata": {},
          "execution_count": 7
        }
      ]
    },
    {
      "cell_type": "code",
      "source": [
        "age =  20\n",
        "age <= 14"
      ],
      "metadata": {
        "colab": {
          "base_uri": "https://localhost:8080/"
        },
        "id": "Eee08TDc3xg5",
        "outputId": "0c0ff77b-68ca-440c-abd2-579b88f25513"
      },
      "execution_count": 8,
      "outputs": [
        {
          "output_type": "execute_result",
          "data": {
            "text/plain": [
              "False"
            ]
          },
          "metadata": {},
          "execution_count": 8
        }
      ]
    },
    {
      "cell_type": "code",
      "source": [
        "age = 20\n",
        "age >= 6"
      ],
      "metadata": {
        "colab": {
          "base_uri": "https://localhost:8080/"
        },
        "id": "KS25x9oU4Ef5",
        "outputId": "6cb918a0-841c-42df-d05b-7310960c65a6"
      },
      "execution_count": 9,
      "outputs": [
        {
          "output_type": "execute_result",
          "data": {
            "text/plain": [
              "True"
            ]
          },
          "metadata": {},
          "execution_count": 9
        }
      ]
    },
    {
      "cell_type": "markdown",
      "source": [
        "4번답"
      ],
      "metadata": {
        "id": "PE0x9q6y4PGp"
      }
    },
    {
      "cell_type": "code",
      "source": [
        "a = 30 \n",
        "b = 40 \n",
        "a > 20 and b < 40"
      ],
      "metadata": {
        "colab": {
          "base_uri": "https://localhost:8080/"
        },
        "id": "GXL9epwM5cYM",
        "outputId": "0e0f62df-d863-4b2f-864b-60d98ab57af0"
      },
      "execution_count": 10,
      "outputs": [
        {
          "output_type": "execute_result",
          "data": {
            "text/plain": [
              "False"
            ]
          },
          "metadata": {},
          "execution_count": 10
        }
      ]
    },
    {
      "cell_type": "code",
      "source": [
        "a > 20 and b > 30 "
      ],
      "metadata": {
        "colab": {
          "base_uri": "https://localhost:8080/"
        },
        "id": "lmUcL8My5o1O",
        "outputId": "b8758b37-5a96-47b2-f143-c8c4e060a2e0"
      },
      "execution_count": 11,
      "outputs": [
        {
          "output_type": "execute_result",
          "data": {
            "text/plain": [
              "True"
            ]
          },
          "metadata": {},
          "execution_count": 11
        }
      ]
    },
    {
      "cell_type": "code",
      "source": [
        "a > 50 or b < 60"
      ],
      "metadata": {
        "colab": {
          "base_uri": "https://localhost:8080/"
        },
        "id": "Cj4XN5Kg5xs_",
        "outputId": "1554d585-77f7-4117-fd1e-ea9882402327"
      },
      "execution_count": 12,
      "outputs": [
        {
          "output_type": "execute_result",
          "data": {
            "text/plain": [
              "True"
            ]
          },
          "metadata": {},
          "execution_count": 12
        }
      ]
    },
    {
      "cell_type": "code",
      "source": [
        "a < 10 or b > 100"
      ],
      "metadata": {
        "colab": {
          "base_uri": "https://localhost:8080/"
        },
        "id": "_ZKdx2Ym55Rn",
        "outputId": "8ac79895-8137-4bf4-e2e0-008b3ce1e811"
      },
      "execution_count": 13,
      "outputs": [
        {
          "output_type": "execute_result",
          "data": {
            "text/plain": [
              "False"
            ]
          },
          "metadata": {},
          "execution_count": 13
        }
      ]
    },
    {
      "cell_type": "markdown",
      "source": [
        "5번 답"
      ],
      "metadata": {
        "id": "1iIMQuNm6Cr-"
      }
    },
    {
      "cell_type": "code",
      "source": [
        "cars = ['현대','BMW','Audi','Benz','toyota']\n",
        "'현대' in cars"
      ],
      "metadata": {
        "colab": {
          "base_uri": "https://localhost:8080/"
        },
        "id": "IhE4n_xR6Fjo",
        "outputId": "e5b5e567-e55f-4f73-cdc1-824bffd240bb"
      },
      "execution_count": 14,
      "outputs": [
        {
          "output_type": "execute_result",
          "data": {
            "text/plain": [
              "True"
            ]
          },
          "metadata": {},
          "execution_count": 14
        }
      ]
    },
    {
      "cell_type": "code",
      "source": [
        "cars = ['현대','BMW','Audi','Benz','toyota']\n",
        "car = '현대'\n",
        "if car in cars:\n",
        "  print(f'{car} is in the list!')"
      ],
      "metadata": {
        "colab": {
          "base_uri": "https://localhost:8080/"
        },
        "id": "eZjNJ8vR7IuI",
        "outputId": "722e33de-f524-4695-9974-39a0edf80c7f"
      },
      "execution_count": 18,
      "outputs": [
        {
          "output_type": "stream",
          "name": "stdout",
          "text": [
            "현대 is in the list!\n"
          ]
        }
      ]
    },
    {
      "cell_type": "markdown",
      "source": [
        "6번답"
      ],
      "metadata": {
        "id": "4-GNcRht60is"
      }
    },
    {
      "cell_type": "code",
      "source": [
        "cars = ['현대','BMW','Audi','Benz','toyota']\n",
        "'현대' not in cars"
      ],
      "metadata": {
        "colab": {
          "base_uri": "https://localhost:8080/"
        },
        "id": "8zVO89137msf",
        "outputId": "cf05afa2-c8b1-43ef-c981-e0a7ddab2213"
      },
      "execution_count": 17,
      "outputs": [
        {
          "output_type": "execute_result",
          "data": {
            "text/plain": [
              "False"
            ]
          },
          "metadata": {},
          "execution_count": 17
        }
      ]
    },
    {
      "cell_type": "code",
      "source": [
        "cars = ['현대','BMW','Audi','Benz','toyota']\n",
        "car = '기아'\n",
        "if car not in cars:\n",
        "  print(f'{car}is not in the list!')"
      ],
      "metadata": {
        "id": "cq2pRhwO6nba"
      },
      "execution_count": 25,
      "outputs": []
    },
    {
      "cell_type": "markdown",
      "source": [
        "5-3. Alien Colors #1: \n",
        "\n",
        "Imagine an alien was just shot down in a game. \n",
        "Create a variable called **alien_color** and assign it a value of 'green', 'yellow', or 'red'.\n",
        "\n",
        "* Write an if statement to test whether the alien’s color is green.\n",
        " \n",
        " If it is, print a message that the player just earned 5 points.\n",
        "* Write one version of this program that passes the if test and another that\n",
        "fails.\n",
        "\n",
        " (The version that fails will have no output.)"
      ],
      "metadata": {
        "id": "I4aa-mXC9Mz0"
      }
    },
    {
      "cell_type": "code",
      "source": [
        "alien_color = 'green'\n",
        "if alien_color == 'green':\n",
        "  print('The player just earned 5 points')"
      ],
      "metadata": {
        "colab": {
          "base_uri": "https://localhost:8080/"
        },
        "id": "Pn-Yq-Fu9hex",
        "outputId": "d928edaf-086c-4cc7-9c57-cb58079d9f35"
      },
      "execution_count": 27,
      "outputs": [
        {
          "output_type": "stream",
          "name": "stdout",
          "text": [
            "The player just earned 5 points\n"
          ]
        }
      ]
    },
    {
      "cell_type": "code",
      "source": [
        "alien_color = 'red'\n",
        "if alien_color == 'green':\n",
        "  print('The player just earned 5 points')"
      ],
      "metadata": {
        "id": "qzT4Qf4J-ORq"
      },
      "execution_count": 29,
      "outputs": []
    },
    {
      "cell_type": "markdown",
      "source": [
        "5-4. Alien Colors #2:\n",
        "\n",
        "Choose a color for an alien as you did in Exercise 5-3, \n",
        "and write an if-else chain.\n",
        "\n",
        "* If the alien’s color is green,\n",
        "\n",
        " print a statement that the player just earned 5 points for shooting the alien.\n",
        "\n",
        "* If the alien’s color isn’t green, \n",
        "\n",
        " print a statement that the player just earned 10 points.\n",
        "\n",
        "* Write one version of this program that runs the if block and another that\n",
        "runs the else block."
      ],
      "metadata": {
        "id": "lzsP180y-Umr"
      }
    },
    {
      "cell_type": "code",
      "source": [
        "alien_color = 'green'\n",
        "if alien_color == 'green':\n",
        "  print('The player just earned 5 points for shooting the alien!')\n",
        "else:\n",
        "  print('The plyer juest earned 10 points for shooting the alien!')"
      ],
      "metadata": {
        "colab": {
          "base_uri": "https://localhost:8080/"
        },
        "id": "ABCplN1i_EQR",
        "outputId": "98805095-2275-479d-ef06-d8f59ce43311"
      },
      "execution_count": 33,
      "outputs": [
        {
          "output_type": "stream",
          "name": "stdout",
          "text": [
            "The player just earned 5 points for shooting the alien!\n"
          ]
        }
      ]
    },
    {
      "cell_type": "code",
      "source": [
        "alien_color = 'red'\n",
        "if alien_color == 'green':\n",
        "  print('The player just earned 5 points for shooting the alien!')\n",
        "else:\n",
        "  print('The plyer juest earned 10 points for shooting the alien!')"
      ],
      "metadata": {
        "colab": {
          "base_uri": "https://localhost:8080/"
        },
        "id": "_D6aCLuWArpC",
        "outputId": "cc134356-103e-4d5f-ee89-933ac1036b15"
      },
      "execution_count": 36,
      "outputs": [
        {
          "output_type": "stream",
          "name": "stdout",
          "text": [
            "The plyer juest earned 10 points for shooting the alien!\n"
          ]
        }
      ]
    },
    {
      "cell_type": "markdown",
      "source": [
        "5-5. Alien Colors #3:\n",
        "\n",
        "Turn your if-else chain from Exercise 5-4 into an if-elif-else chain.\n",
        "\n",
        "* If the alien is green, print a message that the player earned 5 points.\n",
        "* If the alien is yellow, print a message that the player earned 10 points.\n",
        "* If the alien is red, print a message that the player earned 15 points.\n",
        "* Write three versions of this program, making sure each message is printed\n",
        "for the appropriate color alien."
      ],
      "metadata": {
        "id": "PeYTyWXUB4rZ"
      }
    },
    {
      "cell_type": "code",
      "source": [
        "alien_color = 'red'\n",
        "if alien_color == 'green':\n",
        "  print('The player earned 5 points')\n",
        "elif alien_color == 'red':\n",
        "  print('The player earned 10 points')\n",
        "else:\n",
        "  print('The player earned 15 points')"
      ],
      "metadata": {
        "colab": {
          "base_uri": "https://localhost:8080/"
        },
        "id": "Iz-JxucZCiZI",
        "outputId": "12614024-1c22-4069-f280-b1dd5fced1aa"
      },
      "execution_count": 41,
      "outputs": [
        {
          "output_type": "stream",
          "name": "stdout",
          "text": [
            "The player earned 10 points\n"
          ]
        }
      ]
    },
    {
      "cell_type": "code",
      "source": [
        "alien_color = 'green'\n",
        "if alien_color == 'green':\n",
        "  print('The player earned 5 points')\n",
        "elif alien_color == 'red':\n",
        "  print('The player earned 10 points')\n",
        "else:\n",
        "  print('The player earned 15 points')"
      ],
      "metadata": {
        "colab": {
          "base_uri": "https://localhost:8080/"
        },
        "id": "YC16uBmPDZC0",
        "outputId": "86970e1e-b658-43b6-e3c4-5c33784ccdda"
      },
      "execution_count": 42,
      "outputs": [
        {
          "output_type": "stream",
          "name": "stdout",
          "text": [
            "The player earned 5 points\n"
          ]
        }
      ]
    },
    {
      "cell_type": "code",
      "source": [
        "alien_color = 'yellow'\n",
        "if alien_color == 'green':\n",
        "  print('The player earned 5 points')\n",
        "elif alien_color == 'red':\n",
        "  print('The player earned 10 points')\n",
        "else:\n",
        "  print('The player earned 15 points')"
      ],
      "metadata": {
        "colab": {
          "base_uri": "https://localhost:8080/"
        },
        "id": "K4QQo4SrDbxr",
        "outputId": "29850a30-804c-487f-f116-0e5406bb64f6"
      },
      "execution_count": 43,
      "outputs": [
        {
          "output_type": "stream",
          "name": "stdout",
          "text": [
            "The player earned 15 points\n"
          ]
        }
      ]
    },
    {
      "cell_type": "markdown",
      "source": [
        "5-6. Stages of Life:\n",
        "\n",
        "Write an if-elif-else chain that determines a person’s stage of life. Set a value for the variable age, and then:\n",
        "\n",
        "* If the person is less than 2 years old, print a message that the person is\n",
        "a baby.\n",
        "* If the person is at least 2 years old but less than 4, print a message that\n",
        "the person is a toddler.\n",
        "* If the person is at least 4 years old but less than 13, print a message that\n",
        "the person is a kid.\n",
        "* If the person is at least 13 years old but less than 20, print a message that\n",
        "the person is a teenager.\n",
        "* If the person is at least 20 years old but less than 65, print a message that\n",
        "the person is an adult.\n",
        "* If the person is age 65 or older, print a message that the person is an\n",
        "elder."
      ],
      "metadata": {
        "id": "st4Ievz6DkIz"
      }
    },
    {
      "cell_type": "code",
      "source": [
        "age = 25\n",
        "if age < 2:\n",
        "  print('The person is a baby')\n",
        "elif age < 4: \n",
        "  print('The person is a toddler')\n",
        "elif age < 13:\n",
        "  print('The person is a kid')\n",
        "elif age < 20:\n",
        "  print('The person is a teenager')\n",
        "elif age < 65:\n",
        "  print('The person is an adult')\n",
        "else:\n",
        "  print('The person is an elder')"
      ],
      "metadata": {
        "colab": {
          "base_uri": "https://localhost:8080/"
        },
        "id": "Hqwbq83VDyTK",
        "outputId": "c0c0eb2b-f922-4597-dce1-ff671eb95ad2"
      },
      "execution_count": 50,
      "outputs": [
        {
          "output_type": "stream",
          "name": "stdout",
          "text": [
            "The person is an adult\n"
          ]
        }
      ]
    },
    {
      "cell_type": "markdown",
      "source": [
        "5-7. Favorite Fruit:\n",
        "\n",
        "Make a list of your favorite fruits, \n",
        "and then write a series of independent if statements that check for certain fruits in your list.\n",
        "\n",
        "* Make a list of your three favorite fruits and call it favorite_fruits.\n",
        "* Write five if statements. Each should check whether a certain kind of fruit\n",
        "is in your list. \n",
        "\n",
        " If the fruit is in your list, the if block should print a statement,\n",
        "such as You really like bananas!\n"
      ],
      "metadata": {
        "id": "ClD-vcYaFPyG"
      }
    },
    {
      "cell_type": "code",
      "source": [
        "favorite_fruits = ['사과', '수박', '바나나']\n",
        "if '사과' in favorite_fruits:\n",
        "  print('저는 사과를 엄청 좋아 합니다!')\n",
        "if '딸기' in favorite_fruits:\n",
        "  print('저는 딸기를 엄청 좋아 합니다!')\n",
        "if '수박' in favorite_fruits:\n",
        "  print('저는 수박를 엄청 좋아 합니다!')\n",
        "if '바나나' in favorite_fruits:\n",
        "  print('저는 사과를 엄청 좋아 합니다!')\n",
        "if '망고' in favorite_fruits:\n",
        "  print('저는 사과를 엄청 좋아 합니다!')\n",
        "\n"
      ],
      "metadata": {
        "colab": {
          "base_uri": "https://localhost:8080/"
        },
        "id": "mNxMYuC5FgLU",
        "outputId": "989755b5-8cd7-4832-ecf5-edf450c5b358"
      },
      "execution_count": 52,
      "outputs": [
        {
          "output_type": "stream",
          "name": "stdout",
          "text": [
            "저는 사과를 엄청 좋아 합니다!\n",
            "저는 수박를 엄청 좋아 합니다!\n",
            "저는 사과를 엄청 좋아 합니다!\n"
          ]
        }
      ]
    },
    {
      "cell_type": "markdown",
      "source": [
        "5-8. Hello Admin: \n",
        "\n",
        "Make a list of five or more usernames, including the name 'admin'. \n",
        "\n",
        "Imagine you are writing code that will print a greeting to each user after they log in to a website. \n",
        "\n",
        "Loop through the list, and print a greeting to each user:\n",
        "\n",
        "* If the username is 'admin', print a special greeting,\n",
        "\n",
        " such as Hello admin, would you like to see a status report?\n",
        "\n",
        "* Otherwise, print a generic greeting, \n",
        "\n",
        " such as Hello Jaden, thank you for logging in again."
      ],
      "metadata": {
        "id": "sIJXKz7lH3be"
      }
    },
    {
      "cell_type": "code",
      "source": [
        "user_names = ['admin', 'kevin','kate','jude','lily']\n",
        "for user_name in user_names:\n",
        "  if user_name == 'admin':\n",
        "    print(f'Hello,{user_name},would you like to see a status report?')\n",
        "  else:\n",
        "    print(f'Hello,{user_name}, thank you for logging in again.')  "
      ],
      "metadata": {
        "colab": {
          "base_uri": "https://localhost:8080/"
        },
        "id": "oAL8hXZ8IiHU",
        "outputId": "a1ed4f95-2bf7-4a72-836a-decba6356dc6"
      },
      "execution_count": 53,
      "outputs": [
        {
          "output_type": "stream",
          "name": "stdout",
          "text": [
            "Hello,admin,would you like to see a status report?\n",
            "Hello,kevin, thank you for logging in again.\n",
            "Hello,kate, thank you for logging in again.\n",
            "Hello,jude, thank you for logging in again.\n",
            "Hello,lily, thank you for logging in again.\n"
          ]
        }
      ]
    },
    {
      "cell_type": "markdown",
      "source": [
        "5-9. No Users: \n",
        "\n",
        "Add an if test to hello_admin.py(exercise_5_8) to make sure the list of users is\n",
        "not empty.\n",
        "\n",
        "* If the list is empty, print the message We need to find some users!\n",
        "* Remove all of the usernames from your list, and make sure the correct\n",
        "message is printed."
      ],
      "metadata": {
        "id": "CmNkxQ3OJdrt"
      }
    },
    {
      "cell_type": "code",
      "source": [
        "user_names = ['admin', 'kevin','kate','jude','lily']\n",
        "\n",
        "del user_names[ : ]\n",
        "\n",
        "if user_names:\n",
        "  for user_name in user_names:\n",
        "    if user_name == 'admin':\n",
        "      print(f'Hello,{user_name},would you like to see a status report?')\n",
        "    else:\n",
        "      print(f'Hello,{user_name}, thank you for logging in again.')\n",
        "else:\n",
        "  print('We need to find some users!') "
      ],
      "metadata": {
        "colab": {
          "base_uri": "https://localhost:8080/"
        },
        "id": "ycd8gE5TKa79",
        "outputId": "84ee578d-121f-401a-a0dd-6e251c6beb13"
      },
      "execution_count": 58,
      "outputs": [
        {
          "output_type": "stream",
          "name": "stdout",
          "text": [
            "[]\n",
            "We need to find some users!\n"
          ]
        }
      ]
    },
    {
      "cell_type": "markdown",
      "source": [
        "5-10. Checking Usernames:\n",
        "\n",
        "Do the following to create a program that simulates how websites ensure that everyone has a unique username.\n",
        "\n",
        "* Make a list of five or more usernames called current_users.\n",
        "* Make another list of five usernames called new_users. \n",
        "\n",
        " Make sure one or two of the new usernames are also in the current_users list.\n",
        "\n",
        "* Loop through the new_users list to see if each new username has already\n",
        "been used.\n",
        "\n",
        " If it has, print a message that the person will need to enter a new username.\n",
        "\n",
        " If a username has not been used, print a message saying that the username is available.\n",
        "\n",
        "* Make sure your comparison is case insensitive.\n",
        "\n",
        " If 'John' has been used,'JOHN' should not be accepted. \n",
        " \n",
        " (To do this, you’ll need to make a copy of current_users containing the lowercase versions of all existing users.)"
      ],
      "metadata": {
        "id": "mFBgYzAeLb8W"
      }
    },
    {
      "cell_type": "code",
      "source": [
        "current_users = ['Rachel','Joey', 'Ross','Chandler','Phoebe','Monica']\n",
        "new_users = ['Rachel','Joey', 'Kate','Judy','Lily','Kevin']\n",
        "\n",
        "for new_user in new_users:\n",
        "  if new_user in current_users:\n",
        "    print(f'{new_user} is not availabe.')\n",
        "    print('You need to endter a new usename.\\n')\n",
        "  else:\n",
        "    print(f'Congratulations {new_user}!')\n",
        "    print('The username is available.\\n')"
      ],
      "metadata": {
        "colab": {
          "base_uri": "https://localhost:8080/"
        },
        "id": "wCKlccpUL3yA",
        "outputId": "4614bb1d-c4b8-4160-a3d4-cff227859f76"
      },
      "execution_count": 64,
      "outputs": [
        {
          "output_type": "stream",
          "name": "stdout",
          "text": [
            "Rachel is not availabe.\n",
            "You need to endter a new usename.\n",
            "\n",
            "Joey is not availabe.\n",
            "You need to endter a new usename.\n",
            "\n",
            "Congratulations Kate!\n",
            "The username is available.\n",
            "\n",
            "Congratulations Judy!\n",
            "The username is available.\n",
            "\n",
            "Congratulations Lily!\n",
            "The username is available.\n",
            "\n",
            "Congratulations Kevin!\n",
            "The username is available.\n",
            "\n"
          ]
        }
      ]
    }
  ]
}