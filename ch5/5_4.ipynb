{
  "nbformat": 4,
  "nbformat_minor": 0,
  "metadata": {
    "colab": {
      "name": "5_4.ipynb",
      "provenance": [],
      "authorship_tag": "ABX9TyM1jlSK/tMbLbbRh+df78H0",
      "include_colab_link": true
    },
    "kernelspec": {
      "name": "python3",
      "display_name": "Python 3"
    },
    "language_info": {
      "name": "python"
    }
  },
  "cells": [
    {
      "cell_type": "markdown",
      "metadata": {
        "id": "view-in-github",
        "colab_type": "text"
      },
      "source": [
        "<a href=\"https://colab.research.google.com/github/koreabao/python_basic/blob/main/ch5/5_4.ipynb\" target=\"_parent\"><img src=\"https://colab.research.google.com/assets/colab-badge.svg\" alt=\"Open In Colab\"/></a>"
      ]
    },
    {
      "cell_type": "markdown",
      "source": [
        "##**5.4 Using if Statements with Lists**"
      ],
      "metadata": {
        "id": "vNkkMf1wAiZt"
      }
    },
    {
      "cell_type": "markdown",
      "source": [
        "**5.4.1Checking for Special Items**"
      ],
      "metadata": {
        "id": "8L2lHMp8SC9q"
      }
    },
    {
      "cell_type": "code",
      "source": [
        "requested_toppings = ['mushrooms','green peppers','extra cheese']\n",
        "\n",
        "for requested_topping in requested_toppings:\n",
        "  print(f'Adding {requested_topping}')\n",
        "\n",
        "print('\\nFinished makeing your pizza!')"
      ],
      "metadata": {
        "colab": {
          "base_uri": "https://localhost:8080/"
        },
        "id": "f3ZDRmbISKSv",
        "outputId": "8cd5fe1c-dbfd-44dd-d321-58ee48ba528b"
      },
      "execution_count": null,
      "outputs": [
        {
          "output_type": "stream",
          "name": "stdout",
          "text": [
            "Adding mushrooms\n",
            "Adding green peppers\n",
            "Adding extra cheese\n",
            "\n",
            "Finished makeing your pizza!\n"
          ]
        }
      ]
    },
    {
      "cell_type": "markdown",
      "source": [
        "But what if the pizzeria runs out of green peppers?\n",
        "\n",
        "An if statement inside the for loop can handle this situation appropriately:"
      ],
      "metadata": {
        "id": "AOp6God3UNKe"
      }
    },
    {
      "cell_type": "code",
      "source": [
        "requested_toppings = ['mushrooms', 'green peppers', 'extra cheese']\n",
        "for requested_topping in requested_toppings:\n",
        "  if requested_topping == 'green peppers':\n",
        "    print(\"Sorry, we are out of green peppers right now.\")\n",
        "  else:\n",
        "    print(f\"Adding {requested_topping}.\")\n",
        "    \n",
        "print(\"\\nFinished making your pizza!\")"
      ],
      "metadata": {
        "id": "Rd5aeUV7TQXd",
        "outputId": "d6d26379-56c6-41bf-ea35-e97c571c336d",
        "colab": {
          "base_uri": "https://localhost:8080/"
        }
      },
      "execution_count": 1,
      "outputs": [
        {
          "output_type": "stream",
          "name": "stdout",
          "text": [
            "Adding mushrooms.\n",
            "Sorry, we are out of green peppers right now.\n",
            "Adding extra cheese.\n",
            "\n",
            "Finished making your pizza!\n"
          ]
        }
      ]
    },
    {
      "cell_type": "code",
      "source": [
        "requested_toppings = ['mushrooms', 'green peppers', 'extra cheese']\n",
        "if requested_topping == 'green peppers':\n",
        "  for requested_topping in requested_toppings:\n",
        "    print(\"Sorry, we are out of green peppers right now.\")\n",
        "else:\n",
        "    print(f\"Adding {requested_topping}.\")\n",
        "    \n",
        "print(\"\\nFinished making your pizza!\")"
      ],
      "metadata": {
        "id": "PKgxecQFbEM8",
        "outputId": "71eafc7d-fb81-48a6-faf2-0fe10d6f79f0",
        "colab": {
          "base_uri": "https://localhost:8080/"
        }
      },
      "execution_count": 44,
      "outputs": [
        {
          "output_type": "stream",
          "name": "stdout",
          "text": [
            "Adding mushrooms.\n",
            "\n",
            "Finished making your pizza!\n"
          ]
        }
      ]
    },
    {
      "cell_type": "markdown",
      "source": [
        "연습문제"
      ],
      "metadata": {
        "id": "7NgKTMaiVfB8"
      }
    },
    {
      "cell_type": "code",
      "source": [
        "available_toppings = ['mushrooms','extra cheese']\n",
        "requested_toppings = ['mushrooms','green peppers','','extra cheese']\n",
        "\n",
        "for requested_topping in requested_toppings:\n",
        "  if requested_topping in available_toppings:\n",
        "    print(f'Adding {requested_topping}')\n",
        "  else:\n",
        "    print(f'Sorry, we are out of {requested_topping} right now')\n",
        "\n",
        "print('\\nFinished makeing your pizza!')"
      ],
      "metadata": {
        "colab": {
          "base_uri": "https://localhost:8080/"
        },
        "id": "1B23082oUSJF",
        "outputId": "7f026728-1be8-4a8b-9329-73b5ab18628a"
      },
      "execution_count": null,
      "outputs": [
        {
          "output_type": "stream",
          "name": "stdout",
          "text": [
            "Adding mushrooms\n",
            "Sorry, we are out of green peppers right now\n",
            "Sorry, we are out of a right now\n",
            "Adding extra cheese\n",
            "\n",
            "Finished makeing your pizza!\n"
          ]
        }
      ]
    },
    {
      "cell_type": "code",
      "source": [
        "available_toppings = ['火腿','芝士']\n",
        "requested_toppings = ['蘑菇','芝士','青椒','火腿']\n",
        "for requested_topping in requested_toppings:\n",
        "  if requested_topping in available_toppings:\n",
        "    \n",
        "    print(f'添加{requested_topping}')\n",
        "  else:\n",
        "    out_stocks.append()\n",
        "    print(f'对不起, {requested_topping}现在没有')\n",
        "\n",
        "print('\\n您的比萨已经搞定!')"
      ],
      "metadata": {
        "colab": {
          "base_uri": "https://localhost:8080/"
        },
        "id": "VryeCXpOcIRM",
        "outputId": "f9a90aec-f6bb-46fd-d816-1f4e115478a3"
      },
      "execution_count": null,
      "outputs": [
        {
          "output_type": "stream",
          "name": "stdout",
          "text": [
            "对不起, 蘑菇现在没有\n",
            "添加芝士\n",
            "对不起, 青椒现在没有\n",
            "添加火腿\n",
            "\n",
            "您的比萨已经搞定!\n"
          ]
        }
      ]
    },
    {
      "cell_type": "code",
      "source": [
        "available_toppings = ['火腿','芝士']\n",
        "requested_toppings = ['蘑菇','芝士','青椒','火腿']\n",
        "in_stocks = []\n",
        "out_stocks = []\n",
        "for requested_topping in requested_toppings:\n",
        "  if requested_topping in available_toppings:\n",
        "    in_stocks.append(requested_topping)\n",
        "  else:\n",
        "    out_stocks.append(requested_topping)\n",
        "for in_stock in in_stocks:\n",
        "  print(f'Adding {in_stock}')\n",
        "for out_stock in out_stocks:\n",
        "  print(f'Sorry, we are out of {out_stock}')\n",
        "\n",
        "print('\\n您的比萨已经搞定!')"
      ],
      "metadata": {
        "colab": {
          "base_uri": "https://localhost:8080/"
        },
        "id": "XabYFZzSjlVA",
        "outputId": "a02b0f0e-b114-4263-8362-39d4b784b542"
      },
      "execution_count": null,
      "outputs": [
        {
          "output_type": "stream",
          "name": "stdout",
          "text": [
            "Adding 芝士\n",
            "Adding 火腿\n",
            "Sorry, we are out of 蘑菇\n",
            "Sorry, we are out of 青椒\n",
            "\n",
            "您的比萨已经搞定!\n"
          ]
        }
      ]
    },
    {
      "cell_type": "markdown",
      "source": [
        "**5.4.2 Checking That a List Is Not Empty**"
      ],
      "metadata": {
        "id": "LAg-PuRzVl_K"
      }
    },
    {
      "cell_type": "code",
      "source": [
        "requested_toppings = ['green pepper']\n",
        "if requested_toppings:\n",
        "  for requested_topping in requested_toppings:\n",
        "    print(f'Adding {requested_topping}')\n",
        "else:\n",
        "  print(\"Are you sure you want a plain pizza?\")"
      ],
      "metadata": {
        "id": "6-4qD-IxVxDK",
        "outputId": "1a80a9e5-2327-47c0-8ba9-7c994e44a33b",
        "colab": {
          "base_uri": "https://localhost:8080/"
        }
      },
      "execution_count": 6,
      "outputs": [
        {
          "output_type": "stream",
          "name": "stdout",
          "text": [
            "Adding green pepper\n"
          ]
        }
      ]
    },
    {
      "cell_type": "markdown",
      "source": [
        "错误示范"
      ],
      "metadata": {
        "id": "EcL-N-tcWnO6"
      }
    },
    {
      "cell_type": "code",
      "source": [
        "requested_toppings = []\n",
        "for requested_topping in requested_toppings:\n",
        "  if requested_topping != '':\n",
        "    print(f'Adding {requested_topping}')\n",
        "  else:\n",
        "    print(\"Are you sure you want a plain pizza?\")"
      ],
      "metadata": {
        "id": "019JD1VmWqQq"
      },
      "execution_count": 39,
      "outputs": []
    },
    {
      "cell_type": "code",
      "source": [
        "requested_toppings = []\n",
        "for requested_topping in requested_toppings:\n",
        "  if requested_topping == '':\n",
        "    print(f'Adding {requested_topping}')\n",
        "  else:\n",
        "    print(\"Are you sure you want a plain pizza?\")"
      ],
      "metadata": {
        "id": "ptyUANuMaiBm"
      },
      "execution_count": 43,
      "outputs": []
    },
    {
      "cell_type": "code",
      "source": [
        "requested_toppings = ['green pepper', 'mushrooms']\n",
        "for requested_topping in requested_toppings:\n",
        "  if requested_topping != '':\n",
        "    print(f'Adding {requested_topping}')\n",
        "  else:\n",
        "    print(\"Are you sure you want a plain pizza?\")"
      ],
      "metadata": {
        "id": "3uvlChWuaJ4V",
        "outputId": "a276f00e-36a4-4e74-cdf0-f15478c16954",
        "colab": {
          "base_uri": "https://localhost:8080/"
        }
      },
      "execution_count": 42,
      "outputs": [
        {
          "output_type": "stream",
          "name": "stdout",
          "text": [
            "Adding green pepper\n",
            "Adding mushrooms\n"
          ]
        }
      ]
    }
  ]
}