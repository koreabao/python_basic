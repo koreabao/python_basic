{
  "nbformat": 4,
  "nbformat_minor": 0,
  "metadata": {
    "colab": {
      "name": "5_4.ipynb",
      "provenance": [],
      "authorship_tag": "ABX9TyOmTGJzq3w+Dm9os4suxx2J",
      "include_colab_link": true
    },
    "kernelspec": {
      "name": "python3",
      "display_name": "Python 3"
    },
    "language_info": {
      "name": "python"
    }
  },
  "cells": [
    {
      "cell_type": "markdown",
      "metadata": {
        "id": "view-in-github",
        "colab_type": "text"
      },
      "source": [
        "<a href=\"https://colab.research.google.com/github/koreabao/python_basic/blob/main/ch5/5_4.ipynb\" target=\"_parent\"><img src=\"https://colab.research.google.com/assets/colab-badge.svg\" alt=\"Open In Colab\"/></a>"
      ]
    },
    {
      "cell_type": "markdown",
      "source": [
        "##**5.4 Using if Statements with Lists리스트에서 if문 사용하기**"
      ],
      "metadata": {
        "id": "vNkkMf1wAiZt"
      }
    },
    {
      "cell_type": "markdown",
      "source": [
        "**5.4.1Checking for Special Items특별한 항목이 있는지 확인하기**"
      ],
      "metadata": {
        "id": "8L2lHMp8SC9q"
      }
    },
    {
      "cell_type": "code",
      "source": [
        "requested_toppings = ['mushrooms','green peppers','extra cheese']\n",
        "\n",
        "for requested_topping in requested_toppings:\n",
        "  print(f'Adding {requested_topping}')\n",
        "\n",
        "print('\\nFinished makeing your pizza!')"
      ],
      "metadata": {
        "colab": {
          "base_uri": "https://localhost:8080/"
        },
        "id": "f3ZDRmbISKSv",
        "outputId": "8cd5fe1c-dbfd-44dd-d321-58ee48ba528b"
      },
      "execution_count": null,
      "outputs": [
        {
          "output_type": "stream",
          "name": "stdout",
          "text": [
            "Adding mushrooms\n",
            "Adding green peppers\n",
            "Adding extra cheese\n",
            "\n",
            "Finished makeing your pizza!\n"
          ]
        }
      ]
    },
    {
      "cell_type": "markdown",
      "source": [
        "But what if the pizzeria runs out of green peppers?\n",
        "\n",
        "An if statement inside the for loop can handle this situation appropriately:\n",
        "\n",
        "만약에 green peppers가 다 떨어졌으면 for루프 안에 if 문을 써서 이 상황을 처리한다. "
      ],
      "metadata": {
        "id": "AOp6God3UNKe"
      }
    },
    {
      "cell_type": "code",
      "source": [
        "requested_toppings = ['mushrooms', 'green peppers', 'extra cheese']\n",
        "for requested_topping in requested_toppings:\n",
        "  if requested_topping == 'green peppers':\n",
        "    print(\"Sorry, we are out of green peppers right now.\")\n",
        "  else:\n",
        "    print(f\"Adding {requested_topping}.\")\n",
        "    \n",
        "print(\"\\nFinished making your pizza!\")"
      ],
      "metadata": {
        "id": "Rd5aeUV7TQXd",
        "outputId": "d6d26379-56c6-41bf-ea35-e97c571c336d",
        "colab": {
          "base_uri": "https://localhost:8080/"
        }
      },
      "execution_count": null,
      "outputs": [
        {
          "output_type": "stream",
          "name": "stdout",
          "text": [
            "Adding mushrooms.\n",
            "Sorry, we are out of green peppers right now.\n",
            "Adding extra cheese.\n",
            "\n",
            "Finished making your pizza!\n"
          ]
        }
      ]
    },
    {
      "cell_type": "markdown",
      "source": [
        "**5.4.3 Using Multiple Lists여러 리스트 다루기**"
      ],
      "metadata": {
        "id": "BZ1cT6_URib5"
      }
    },
    {
      "cell_type": "code",
      "source": [
        "available_toppings = ['mushrooms', 'olives', 'green peppers','pepperoni', 'pineapple', 'extra cheese']\n",
        "requested_toppings = ['mushrooms', 'french fries', 'extra cheese']\n",
        "for requested_topping in requested_toppings:\n",
        "  if requested_topping in available_toppings:\n",
        "    print(f\"Adding {requested_topping}.\")\n",
        "  else:\n",
        "    print(f\"Sorry, we don't have {requested_topping}.\")\n",
        "\n",
        "print(\"\\nFinished making your pizza!\")"
      ],
      "metadata": {
        "id": "a3lOusS2Rqll",
        "outputId": "23eaee1b-c4cc-4181-d16c-4ec6a2c62eba",
        "colab": {
          "base_uri": "https://localhost:8080/"
        }
      },
      "execution_count": null,
      "outputs": [
        {
          "output_type": "stream",
          "name": "stdout",
          "text": [
            "Adding mushrooms.\n",
            "Sorry, we don't have french fries.\n",
            "Adding extra cheese.\n",
            "\n",
            "Finished making your pizza!\n"
          ]
        }
      ]
    },
    {
      "cell_type": "markdown",
      "source": [
        "연습문제"
      ],
      "metadata": {
        "id": "7NgKTMaiVfB8"
      }
    },
    {
      "cell_type": "code",
      "source": [
        "available_toppings = ['mushrooms', 'olives', 'green peppers','pepperoni', 'pineapple', 'extra cheese']\n",
        "requested_toppings = ['mushrooms', 'french fries', 'extra cheese']\n",
        "\n",
        "in_stocks = []\n",
        "out_stocks = []\n",
        "for requested_topping in requested_toppings:\n",
        "  if requested_topping in available_toppings:\n",
        "    in_stocks.append(requested_topping)\n",
        "  else:\n",
        "    out_stocks.append(requested_topping)\n",
        "for in_stock in in_stocks:\n",
        "  print(f'Adding {in_stock}')\n",
        "for out_stock in out_stocks:\n",
        "  print(f'Sorry, we are out of {out_stock}')\n",
        "\n",
        "print('\\n\\nFinished making your pizza!')"
      ],
      "metadata": {
        "colab": {
          "base_uri": "https://localhost:8080/"
        },
        "id": "XabYFZzSjlVA",
        "outputId": "5e461b50-1ae8-4140-c045-f1188c8918f0"
      },
      "execution_count": 5,
      "outputs": [
        {
          "output_type": "stream",
          "name": "stdout",
          "text": [
            "Adding mushrooms\n",
            "Adding extra cheese\n",
            "Sorry, we are out of french fries\n",
            "\n",
            "\n",
            "Finished making your pizza!\n"
          ]
        }
      ]
    },
    {
      "cell_type": "markdown",
      "source": [
        "**5.4.2 Checking That a List Is Not Empty**"
      ],
      "metadata": {
        "id": "LAg-PuRzVl_K"
      }
    },
    {
      "cell_type": "code",
      "source": [
        "requested_toppings = []\n",
        "if requested_toppings:\n",
        "  print(\"dddd\")\n",
        "else:\n",
        "  print('aaa')\n"
      ],
      "metadata": {
        "id": "PKgxecQFbEM8",
        "outputId": "0c830992-6852-4847-9873-580ee64c7436",
        "colab": {
          "base_uri": "https://localhost:8080/"
        }
      },
      "execution_count": null,
      "outputs": [
        {
          "output_type": "stream",
          "name": "stdout",
          "text": [
            "aaa\n"
          ]
        }
      ]
    },
    {
      "cell_type": "code",
      "source": [
        "requested_toppings = []\n",
        "if requested_toppings:\n",
        "  for requested_topping in requested_toppings:\n",
        "    print(f'Adding {requested_topping}')\n",
        "else:\n",
        "  print(\"Are you sure you want a plain pizza?\")"
      ],
      "metadata": {
        "id": "6-4qD-IxVxDK",
        "outputId": "e717673b-1852-42fb-920a-86f8707fd4ef",
        "colab": {
          "base_uri": "https://localhost:8080/"
        }
      },
      "execution_count": null,
      "outputs": [
        {
          "output_type": "stream",
          "name": "stdout",
          "text": [
            "Are you sure you want a plain pizza?\n"
          ]
        }
      ]
    },
    {
      "cell_type": "markdown",
      "source": [
        "错误示范"
      ],
      "metadata": {
        "id": "EcL-N-tcWnO6"
      }
    },
    {
      "cell_type": "code",
      "source": [
        "requested_toppings = []\n",
        "for requested_topping in requested_toppings:\n",
        "  if requested_topping != '':\n",
        "    print(f'Adding {requested_topping}')\n",
        "  else:\n",
        "    print(\"Are you sure you want a plain pizza?\")"
      ],
      "metadata": {
        "id": "019JD1VmWqQq"
      },
      "execution_count": null,
      "outputs": []
    },
    {
      "cell_type": "code",
      "source": [
        "requested_toppings = []\n",
        "for requested_topping in requested_toppings:\n",
        "  if requested_topping == '':\n",
        "    print(f'Adding {requested_topping}')\n",
        "  else:\n",
        "    print(\"Are you sure you want a plain pizza?\")"
      ],
      "metadata": {
        "id": "ptyUANuMaiBm"
      },
      "execution_count": null,
      "outputs": []
    },
    {
      "cell_type": "code",
      "source": [
        "requested_toppings = ['green pepper', 'mushrooms']\n",
        "for requested_topping in requested_toppings:\n",
        "  if requested_topping != '':\n",
        "    print(f'Adding {requested_topping}')\n",
        "  else:\n",
        "    print(\"Are you sure you want a plain pizza?\")"
      ],
      "metadata": {
        "id": "3uvlChWuaJ4V",
        "outputId": "fc993c16-efa6-4ada-d2f8-1539f96ebbc6",
        "colab": {
          "base_uri": "https://localhost:8080/"
        }
      },
      "execution_count": null,
      "outputs": [
        {
          "output_type": "stream",
          "name": "stdout",
          "text": [
            "Adding green pepper\n",
            "Adding mushrooms\n"
          ]
        }
      ]
    }
  ]
}