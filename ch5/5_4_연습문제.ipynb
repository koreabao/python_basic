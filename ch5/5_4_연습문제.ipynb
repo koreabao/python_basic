{
  "nbformat": 4,
  "nbformat_minor": 0,
  "metadata": {
    "colab": {
      "name": "5_4_연습문제.ipynb",
      "provenance": [],
      "authorship_tag": "ABX9TyNd2n1kaMt9ced7vGiHG7KT",
      "include_colab_link": true
    },
    "kernelspec": {
      "name": "python3",
      "display_name": "Python 3"
    },
    "language_info": {
      "name": "python"
    }
  },
  "cells": [
    {
      "cell_type": "markdown",
      "metadata": {
        "id": "view-in-github",
        "colab_type": "text"
      },
      "source": [
        "<a href=\"https://colab.research.google.com/github/koreabao/python_basic/blob/main/ch5/5_4_%EC%97%B0%EC%8A%B5%EB%AC%B8%EC%A0%9C.ipynb\" target=\"_parent\"><img src=\"https://colab.research.google.com/assets/colab-badge.svg\" alt=\"Open In Colab\"/></a>"
      ]
    },
    {
      "cell_type": "markdown",
      "source": [
        "5_8 관리자에게 인사: 사용자 이름이 다섯 개 이상 포함된 리스트를 만들고, 이름 중에 'admin'이 들어가게 하세요. 각 사용자가 웹사이트에 로그인하면 환영 인사를 출력하는 코드를 만듭니다. 리스트에 루르를 실행해 각 사용자에게 환영 인사를 출력하세요. \n",
        "\n",
        "1. 사용자 이름이 'admin'이면 '관리자님 안녕하세요, 상태 보고서를 보시게습니까?' 같은 특별한 환영 인사를 출력하세요. \n",
        "2. 그렇지 않다면 '에릭 님 안녕하세요, 다시 로그인 해주셔서 감사합니다.' 같은 일반적인 환영 인사를 출력하세요. \n",
        "\n"
      ],
      "metadata": {
        "id": "GabSkocbl4ep"
      }
    },
    {
      "cell_type": "markdown",
      "source": [
        "\n",
        "5-9 사용자 없음: hello_admin.py에 if 테스트를 추가해 사용자 리스트가 비어 있지 않음을 확인하세요. \n",
        "1. 리스트가 비어 있으면 '사용자가 있어야 합니다!' 라는 메시지를 출력하세요. \n",
        "2. 리스트에서 사용자 이름을 무두 제거하고 정확한 메시지가 출력되는지 확인하세요.\n"
      ],
      "metadata": {
        "id": "Bc7daPYKmI3g"
      }
    },
    {
      "cell_type": "markdown",
      "source": [
        "\n",
        "5-10. 사용자 이름 체크: 다음과 같이 프로그램을 만들어 웹사이트에서 모든 사용자가 고유한'사용자 이름을 쓰는지 확인하세요. \n",
        "\n",
        "1. 사용자 이름을 다섯 개 이상 만들고 current_users 리스트에 저장하세요. \n",
        "2. 다른 사용자 이름 다섯 개 new_users리스트에 저장하세요. 새 사용자 이름 중 하두 개는 current_users  리스트에 이미 있는 이름을 쓰세요. \n",
        "3. new_users 리스트에 루프를 실행해 새 사용자 이름이 이미 사용 중인지 확인 하세요. 이미 사용 중이라면 다름 사용자 이름이 필요하는 메시지를 출력하세요. 사용 중이 아니라면 사용자 이름을 쓸 수 있다는 메시지를 출력하세요. \n",
        "4. 비교할 때는 대소문자를 구분하지 마세요. 'John'이 이미 사용 중이라면 'JOHN'은 안 됩니다. \n"
      ],
      "metadata": {
        "id": "3X4aml6zmMKv"
      }
    },
    {
      "cell_type": "markdown",
      "source": [
        "\n",
        "5-11. 순번\n",
        "순번 1st나 2nd처럼 리스트에서의 위치를 나타냅니다. 1,2,3을 제회한 대부분의 순번은th로 끝납니다. \n",
        "\n",
        "1. 1부터9까지의 숫자를 리스트에 저장하세요. \n",
        "2. 리스트에 루트를 실행하세요. \n",
        "3. 루프 안에서 if-elif-else 문을 실행해 각 숫자에 맞는 순번을 출력하세요. 출력 결과는 '1st, 2nd, 3rd, 4th, 5th, 6th, 7th,8th,9th'여야 하며 각 결과가 서로 다른 행에 있어야합니다.     "
      ],
      "metadata": {
        "id": "vi_ZVJ_xmP7_"
      }
    }
  ]
}