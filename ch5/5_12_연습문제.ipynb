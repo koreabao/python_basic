{
  "nbformat": 4,
  "nbformat_minor": 0,
  "metadata": {
    "colab": {
      "name": "5_12_연습문제.ipynb",
      "provenance": [],
      "authorship_tag": "ABX9TyPSH7y8sHl7UdNUXDMavZwr",
      "include_colab_link": true
    },
    "kernelspec": {
      "name": "python3",
      "display_name": "Python 3"
    },
    "language_info": {
      "name": "python"
    }
  },
  "cells": [
    {
      "cell_type": "markdown",
      "metadata": {
        "id": "view-in-github",
        "colab_type": "text"
      },
      "source": [
        "<a href=\"https://colab.research.google.com/github/koreabao/python_basic/blob/main/ch5/5_12_%EC%97%B0%EC%8A%B5%EB%AC%B8%EC%A0%9C.ipynb\" target=\"_parent\"><img src=\"https://colab.research.google.com/assets/colab-badge.svg\" alt=\"Open In Colab\"/></a>"
      ]
    },
    {
      "cell_type": "markdown",
      "source": [
        "5_1 조건 테스트: 조건 테스트를 여러 개 만드세요. 각 테스트를 설명하는 문장을 출력하고 각 테스트 결과를 예측해보세요. 코드는 다음과 같은 형태여야 합니다.\n",
        "\n",
        "```\n",
        "car = 'subaru'\n",
        "print(\"Is car == 'subaru'? I predict True.\")\n",
        "print(car == 'subaru')\n",
        "print(\"\\nIs car == 'audi'? I predict False.\")\n",
        "print(car == 'audi')\n",
        "```\n",
        "\n",
        "1. 결과를 자세히 보고 , 각 행이 왜 True  또는 False로 평가 됐는지 이해 할 수 있어야 합니다. \n",
        "2. 최소한 10가지 테스트를 만드세요. 최소한 5가지 테스트는  True로, 나머지 테스트는 False로 평가 되어야합니다. \n"
      ],
      "metadata": {
        "id": "9CWFQESdgiM9"
      }
    },
    {
      "cell_type": "markdown",
      "source": [
        "5-2 더 많은 조건 테스트: 꼭 10가지만 테스트하란 법은 없습니다.\n",
        "\n",
        " 다음 테스트 종류 각 하나씩에 True와 False가 최소 한 하나씩은 나와야 합니다. \n",
        "\n",
        "1. 문자열의 일치와 불일치 테스트\n",
        "2. lower()함수를 사용한 테스트 \n",
        "3. 일치와 불이치, 더 큰, 더 작은 크거나 같은 , 작거나 같은 등을 포함하는 숫자형 데스트\n",
        "4. and와 or키워드를 사용하는 테스트\n",
        "5. 항목이 리스트에 있는지 확인하는 테스트\n",
        "6. 항목이 리스트에 없는지 확인하는 테스트 "
      ],
      "metadata": {
        "id": "uo3NS2U7g58I"
      }
    }
  ]
}