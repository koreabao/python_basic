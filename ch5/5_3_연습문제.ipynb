{
  "nbformat": 4,
  "nbformat_minor": 0,
  "metadata": {
    "colab": {
      "name": "5_3_연습문제.ipynb",
      "provenance": [],
      "authorship_tag": "ABX9TyOv7A5aHUCE5mqorgLcNJmq",
      "include_colab_link": true
    },
    "kernelspec": {
      "name": "python3",
      "display_name": "Python 3"
    },
    "language_info": {
      "name": "python"
    }
  },
  "cells": [
    {
      "cell_type": "markdown",
      "metadata": {
        "id": "view-in-github",
        "colab_type": "text"
      },
      "source": [
        "<a href=\"https://colab.research.google.com/github/koreabao/python_basic/blob/main/ch5/5_3_%EC%97%B0%EC%8A%B5%EB%AC%B8%EC%A0%9C.ipynb\" target=\"_parent\"><img src=\"https://colab.research.google.com/assets/colab-badge.svg\" alt=\"Open In Colab\"/></a>"
      ]
    },
    {
      "cell_type": "markdown",
      "source": [
        "5-3 외계인 색깔 1: \n",
        "게임에서 지금 막 외계인을 격추했다고 합니다. alien_color변수를 만들고  그 값에 'green'이나 'yellow','red'를 할당하세요. \n",
        "1. 외계인 색깔이 녹색인지 확인하는 if 문을 만드세요. 녹색이라면 플레이어가 5점을 얻었다는 메시지를 출력하세요. \n",
        "2. 이 프로그램을  if 테스트가 성공하는 버전, 실패하는 버전 두 가지로 만드세요.(실패하는 버전은 메시지를 출력하지 않습니다)\n",
        "\n"
      ],
      "metadata": {
        "id": "5bD5h5-ik-9t"
      }
    },
    {
      "cell_type": "markdown",
      "source": [
        "\n",
        "5_4. 외계인 색깔2:\n",
        "연습문제 5-3에서 했던 것처럼 외계인 색깔을 고르고  if-else문을 만드세요. \n",
        "\n",
        "1. 외계인 색깔이 녹색이라면 플레이어가 외계인을 격추하고 5점을 얻었다는 문장을 출력하세요. \n",
        "2. 외계인 색깔이 녹색이 아니라면 플레이어가 10점을 얻었다는 문장을 출력하세요. \n",
        "3. 이 프로그램은 if 블록을 사용하는 버전과 else블록을 사용하는 버전 두가지로 만드세요. \n"
      ],
      "metadata": {
        "id": "SGvndW67lTtJ"
      }
    },
    {
      "cell_type": "markdown",
      "source": [
        "\n",
        "5-5. 외계인 색깔 3: 연습문제 5-4의 if-else문을 if-elif-else문으로 바꾸세요. \n",
        "\n",
        "1. 외계인이 녹색이면 플레이어가 5점을 얻었다는 메시지를 출력하세요. \n",
        "2. 외계인이 노란색이면 플레이어가 10점을 얻었다는 메시지를 출력하세요. \n",
        "3. 외계인이 빨간색이면 플레이어가 15점을 얻었다는 메시지를 출력하세요. \n",
        "이 프로그램을 세가지 버전으로 만들고 외계인 색깔에 맞는 메시지가 출력되는지 확인 하세요. \n"
      ],
      "metadata": {
        "id": "87cUsy4WlW5e"
      }
    },
    {
      "cell_type": "markdown",
      "source": [
        "\n",
        "5-6 성장단계: if-elif-else문을 써서 사람의 성장단계를 판단하세요. 먼저  age변수의 값을 정하세요. \n",
        "1. 2살 미만이면 유아(baby)라는 메시지를 출력하세요,\n",
        "2. 2살 이상 4살 마만이면 유아(toddler)라는 메시지를 출력하세요. \n",
        "3. 4살 이상 13살 미만이면 아이(kid)라는 메시지를 출력하세요. \n",
        "4. 13살 이상 20살 미만이면 청소년(teenager)이라는 메시지를 출력하세요. \n",
        "5. 20살 이상 65살 미만이면 성인(adult)이라는 메시지를 출력하세요. \n",
        "6. 65살 이상이면 노인(elder)이라는 메시지를 출력하세요. \n"
      ],
      "metadata": {
        "id": "sAuzgXEjlZyu"
      }
    },
    {
      "cell_type": "markdown",
      "source": [
        "\n",
        "\n",
        "5_7. 좋아하는 과일: 좋아하는 과일 리스트를 만들고 서로 독립적인  if문을 여럿 만들어 어떤 과일이 리스트에 있는지 체크하세요. \n",
        "1. 좋아하는 과일 리스트를  favorite_fruits에 저장하세요. \n",
        "2. if 문을 다섯 개 만드세요. 각 if 문은 어떤 과일이 리스트에 있는지 체크해야 합니다. 과일이 리스트에 있다면 if 블록은 당신은 바나나를 정말 좋아하는군요! 같은 문장을 출력해야합니다. "
      ],
      "metadata": {
        "id": "Q8oVsx1hlce4"
      }
    }
  ]
}