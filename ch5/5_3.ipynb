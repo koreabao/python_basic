{
  "nbformat": 4,
  "nbformat_minor": 0,
  "metadata": {
    "colab": {
      "name": "5_3.ipynb",
      "provenance": [],
      "authorship_tag": "ABX9TyOtR4rvkRN+fDbdCV73uuzN",
      "include_colab_link": true
    },
    "kernelspec": {
      "name": "python3",
      "display_name": "Python 3"
    },
    "language_info": {
      "name": "python"
    }
  },
  "cells": [
    {
      "cell_type": "markdown",
      "metadata": {
        "id": "view-in-github",
        "colab_type": "text"
      },
      "source": [
        "<a href=\"https://colab.research.google.com/github/koreabao/python_basic/blob/main/ch5/5_3.ipynb\" target=\"_parent\"><img src=\"https://colab.research.google.com/assets/colab-badge.svg\" alt=\"Open In Colab\"/></a>"
      ]
    },
    {
      "cell_type": "markdown",
      "source": [
        "##**5.3 if Statements**"
      ],
      "metadata": {
        "id": "3QLiq67ZJuJH"
      }
    },
    {
      "cell_type": "markdown",
      "source": [
        "**5.3.1 Simple if Statements**\n",
        "\n",
        "---\n",
        "if *conditional test*\n",
        "\n",
        "*do someting*\n",
        "\n",
        "---\n",
        "\n"
      ],
      "metadata": {
        "id": "SiahVGkkK4bC"
      }
    },
    {
      "cell_type": "code",
      "source": [
        "age = 19 \n",
        "if age >= 18:\n",
        "  print(\"You are old enough to vote!\")\n",
        "  print(\"Have you registered to vote yet?\")"
      ],
      "metadata": {
        "id": "QsyW16dtLncq"
      },
      "execution_count": null,
      "outputs": []
    },
    {
      "cell_type": "markdown",
      "source": [
        "**5.3.2 if-else Statements**"
      ],
      "metadata": {
        "id": "UN8z99rtMVIg"
      }
    },
    {
      "cell_type": "code",
      "source": [
        "age = 19 \n",
        "if age >= 18:\n",
        "  print(\"You are old enough to vote!\")\n",
        "  print(\"Have you registered to vote yet?\")\n",
        "else:\n",
        "  print(\"Sorry, you are too young to vote.\")\n",
        "  print(\"Please register to vote as soon as you turn 18!\")"
      ],
      "metadata": {
        "colab": {
          "base_uri": "https://localhost:8080/"
        },
        "id": "WeTr61NVMffp",
        "outputId": "cb31bc32-e99f-4f38-ad2b-c2ac52f5e291"
      },
      "execution_count": 2,
      "outputs": [
        {
          "output_type": "stream",
          "name": "stdout",
          "text": [
            "You are old enough to vote!\n",
            "Have you registered to vote yet?\n"
          ]
        }
      ]
    },
    {
      "cell_type": "markdown",
      "source": [
        "**5.3.3 The if-elif-else Chain**\n",
        "\n",
        "For example, consider an amusement park that charges different rates for\n",
        "different age groups:\n",
        "\n",
        "* Admission for anyone under age 4 is free.\n",
        "\n",
        "* Admission for anyone between the ages of 4 and 18 is $25.\n",
        "\n",
        "* Admission for anyone age 18 or older is $40."
      ],
      "metadata": {
        "id": "QK9Tc7SsMwh2"
      }
    },
    {
      "cell_type": "code",
      "source": [
        "age = 12 \n",
        "if age < 4:\n",
        "  print(\"Your admission cost is $0.\")\n",
        "elif age <18:\n",
        "  print(\"Your admission cost is $25.\")\n",
        "else:\n",
        "  print(\"Your admission cost is $40.\")"
      ],
      "metadata": {
        "colab": {
          "base_uri": "https://localhost:8080/"
        },
        "id": "Tn1M7aP2N6Zq",
        "outputId": "8e771401-8898-4914-9933-dc5093e9c234"
      },
      "execution_count": 1,
      "outputs": [
        {
          "output_type": "stream",
          "name": "stdout",
          "text": [
            "Your admission cost is $25.\n"
          ]
        }
      ]
    },
    {
      "cell_type": "code",
      "source": [
        "age = 12 \n",
        "if age < 4:\n",
        "  price = 0\n",
        "elif age <18:\n",
        "  price = 25\n",
        "else:\n",
        "  price = 40\n",
        "\n",
        "print(f\"Your admission cost is ${price}\")\n"
      ],
      "metadata": {
        "colab": {
          "base_uri": "https://localhost:8080/"
        },
        "id": "22p1jfaS_-Il",
        "outputId": "d681608e-d685-4619-8f07-a8d4036b996a"
      },
      "execution_count": 2,
      "outputs": [
        {
          "output_type": "stream",
          "name": "stdout",
          "text": [
            "Your admission cost is $25\n"
          ]
        }
      ]
    },
    {
      "cell_type": "markdown",
      "source": [
        "**5.3.4 Using Multiple elif Blocks**"
      ],
      "metadata": {
        "id": "ucIMd3GO_kgj"
      }
    },
    {
      "cell_type": "code",
      "source": [
        "age = 12\n",
        "\n",
        "if age < 4:\n",
        "  price = 0\n",
        "elif age < 18:\n",
        "  price = 25\n",
        "elif age < 65:\n",
        "  price = 40\n",
        "else: \n",
        "  price = 20 \n",
        "\n",
        "print(f\"Your admission cost is ${price}.\")\n"
      ],
      "metadata": {
        "colab": {
          "base_uri": "https://localhost:8080/"
        },
        "id": "zvNigw1I_1HU",
        "outputId": "78bd402a-b475-4299-9ecc-24c2ca83a8cc"
      },
      "execution_count": 4,
      "outputs": [
        {
          "output_type": "stream",
          "name": "stdout",
          "text": [
            "Your admission cost is $25.\n"
          ]
        }
      ]
    },
    {
      "cell_type": "markdown",
      "source": [
        "**5.3.5 Omitting the else Block**\n"
      ],
      "metadata": {
        "id": "9Vqx0oPrCEJq"
      }
    },
    {
      "cell_type": "code",
      "source": [
        "age = 12\n",
        "\n",
        "if age < 4:\n",
        "  price = 0\n",
        "elif age < 18:\n",
        "  price = 25\n",
        "elif age < 65:\n",
        "  price = 40\n",
        "elif age >= 65:\n",
        "  price = 20\n",
        "\n",
        "print(f\"Your admission cost is ${price}.\")     "
      ],
      "metadata": {
        "colab": {
          "base_uri": "https://localhost:8080/"
        },
        "id": "zDBwBleWCPmF",
        "outputId": "69ea170b-141f-4703-e6f7-ba66d66ddf64"
      },
      "execution_count": 5,
      "outputs": [
        {
          "output_type": "stream",
          "name": "stdout",
          "text": [
            "Your admission cost is $25.\n"
          ]
        }
      ]
    },
    {
      "cell_type": "markdown",
      "source": [
        "**5.3.6 Testing Multiple Conditions**"
      ],
      "metadata": {
        "id": "GLS1eLZgCu8R"
      }
    }
  ]
}