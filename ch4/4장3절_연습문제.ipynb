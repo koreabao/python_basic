{
  "nbformat": 4,
  "nbformat_minor": 0,
  "metadata": {
    "colab": {
      "name": "4장3절_연습문제.ipynb",
      "provenance": [],
      "authorship_tag": "ABX9TyMaBGCzzZfvlu4U++XmIGdL",
      "include_colab_link": true
    },
    "kernelspec": {
      "name": "python3",
      "display_name": "Python 3"
    },
    "language_info": {
      "name": "python"
    }
  },
  "cells": [
    {
      "cell_type": "markdown",
      "metadata": {
        "id": "view-in-github",
        "colab_type": "text"
      },
      "source": [
        "<a href=\"https://colab.research.google.com/github/koreabao/python_basic/blob/main/ch4/4%EC%9E%A53%EC%A0%88_%EC%97%B0%EC%8A%B5%EB%AC%B8%EC%A0%9C.ipynb\" target=\"_parent\"><img src=\"https://colab.research.google.com/assets/colab-badge.svg\" alt=\"Open In Colab\"/></a>"
      ]
    },
    {
      "cell_type": "markdown",
      "source": [
        "**4_3.20까지 세기:**\n",
        "\n",
        "for루프를 써서1부터 20(20포함)까지 출력하세요. "
      ],
      "metadata": {
        "id": "fhmQ-or4xqlV"
      }
    },
    {
      "cell_type": "markdown",
      "source": [
        "**4_4. 백만:**\n",
        "\n",
        "1부터 20만까지 숫자 리스트를 만들고 for 루프를 써서 숫자를 출력하세요.\n",
        "\n",
        "(출력이 너무 오래걸리면 ctrl + c(colab에서는 ctrl+M+I )를 누르거나 정지버턴 클릭하세요.)"
      ],
      "metadata": {
        "id": "3hDlvCy9x9ee"
      }
    },
    {
      "cell_type": "markdown",
      "source": [
        "**4_5. 백만까지 더하기:**\n",
        "\n",
        "1부터 백만까지 숫자 리스트를 만들고, min()과max()를 써서 리스트가 실제로 1에서 시작해 백만에서 끝나는지 확인하세요.\n",
        "\n",
        "그리고 sum()함수를 써서 백만 개까지의 합을 구하세요. "
      ],
      "metadata": {
        "id": "2vobETWxyGHX"
      }
    },
    {
      "cell_type": "markdown",
      "source": [
        "**4_6.홀수:**\n",
        "\n",
        "range() 함수의 3번쨰 매개변수를 써서 1부터 20까지의 홀수로 구성된 리스트를 만드세요.\n",
        "\n",
        "for루프를 써서 각 숫자를 출력하세요. "
      ],
      "metadata": {
        "id": "AH3U2CHNyRjf"
      }
    },
    {
      "cell_type": "markdown",
      "source": [
        "**4_7.3배수:** \n",
        "\n",
        "3부터30까지 3의 배수로 리스트를 만드세요.\n",
        "\n",
        "for루프를 써서 각 숫자를 출력하세요. "
      ],
      "metadata": {
        "id": "7N1LdxRByY8H"
      }
    },
    {
      "cell_type": "markdown",
      "source": [
        "**4_8.세제곱:**\n",
        "\n",
        "세 번 제곱한 수를 세제곱이라 부릅니다. Python에서는 2의 세제곱을 2**3으로 습니다.\n",
        "\n",
        "1부터10까지 정수의 세제곱으로 리스트를 만들고, for루프를 써서 각 값을 출력하세요. "
      ],
      "metadata": {
        "id": "xogUtIISygBP"
      }
    }
  ]
}