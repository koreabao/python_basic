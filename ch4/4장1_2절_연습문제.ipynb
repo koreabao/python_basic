{
  "nbformat": 4,
  "nbformat_minor": 0,
  "metadata": {
    "colab": {
      "name": "4장1_2절 연습문제.ipynb",
      "provenance": [],
      "authorship_tag": "ABX9TyPcqqN5zVVMDScrc/aQkRg7",
      "include_colab_link": true
    },
    "kernelspec": {
      "name": "python3",
      "display_name": "Python 3"
    },
    "language_info": {
      "name": "python"
    }
  },
  "cells": [
    {
      "cell_type": "markdown",
      "metadata": {
        "id": "view-in-github",
        "colab_type": "text"
      },
      "source": [
        "<a href=\"https://colab.research.google.com/github/koreabao/python_basic/blob/main/ch4/4%EC%9E%A51_2%EC%A0%88_%EC%97%B0%EC%8A%B5%EB%AC%B8%EC%A0%9C.ipynb\" target=\"_parent\"><img src=\"https://colab.research.google.com/assets/colab-badge.svg\" alt=\"Open In Colab\"/></a>"
      ]
    },
    {
      "cell_type": "markdown",
      "source": [
        "**4_1피자:**\n",
        "\n",
        "좋아하는 피자를 최소한 세 가지 생각한 다음 피자종류를 리스트에 저장하고,\n",
        "\n",
        "for 루프를 써서 피자의 종류를 무두 출력하세요.  \n",
        "\n",
        "1. for 루프를 수정해서 단순히 피자 종류만 출력하지 말고 문장을 출력하세요.\n",
        "\n",
        " 예를 들어 '나는 치즈 피자를 좋아합니다.' 같은 단순한 문장을 한 줄씩 출력해야합니다.\n",
        "\n",
        "2. 프로그램 마지막. for루프 다음에 행을 추가해 당신이 피자를 얼마나 좋아하는지 나타내는 문장을 만드세요.\n",
        "\n",
        " 출력 결과는 당신이 좋아하는 피자에 관한 3줄 이상의 문장과. '나는 피자를 정말 좋아해요!' 같은 문자 이어야합니다. "
      ],
      "metadata": {
        "id": "97_TTfojtRJ6"
      }
    },
    {
      "cell_type": "markdown",
      "source": [
        "\n",
        "**4_2. 동물**\n",
        "\n",
        "공통된 특징을 가진 다른 동물을 최소한 세 가지 생각하세요.\n",
        "\n",
        "이들 동물 이름을 리스트에 저장하고, for루프를 써서 각 동물 이름을 출력하세요. \n",
        "\n",
        "1. 프로그램을 수정해서 각 동물에 관해 같은 문장을 출력하게 하세요.\n",
        "\n",
        " 예를 들어 반려동물 리스트를 만들었다면 '개는 훌륭한 반려동물입니다.' 같은 문장을 출력하세요. \n",
        "\n",
        "2. 프로그램 마지막에 행을 추가해 이들 동물의 공통점이 무엇인지 설명하는 문장을 출력하세요.\n",
        "\n",
        " 반려동물 리스트를 만든 저라면'이들 동물은 무두 훌륭한 반려동물입니다!'라고 쓸 겁니다. "
      ],
      "metadata": {
        "id": "S9-qqrxxtuiZ"
      }
    }
  ]
}