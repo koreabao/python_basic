{
  "nbformat": 4,
  "nbformat_minor": 0,
  "metadata": {
    "colab": {
      "name": "4_5.ipynb",
      "provenance": [],
      "authorship_tag": "ABX9TyOLmERzyLYrOuB9xLXzBayC",
      "include_colab_link": true
    },
    "kernelspec": {
      "name": "python3",
      "display_name": "Python 3"
    },
    "language_info": {
      "name": "python"
    }
  },
  "cells": [
    {
      "cell_type": "markdown",
      "metadata": {
        "id": "view-in-github",
        "colab_type": "text"
      },
      "source": [
        "<a href=\"https://colab.research.google.com/github/koreabao/python_basic/blob/main/ch4/4_5.ipynb\" target=\"_parent\"><img src=\"https://colab.research.google.com/assets/colab-badge.svg\" alt=\"Open In Colab\"/></a>"
      ]
    },
    {
      "cell_type": "markdown",
      "source": [
        "##**4.5 tuple**\n",
        "\n",
        "If you want to create a list of items that cannot change. Tuples allow you to do just that. \n",
        "\n",
        "만약에 항목을 바뀔 수 없는 리스트가 필요 할 때 튜풀을 바고 그 목적으로 만족합니다. \n",
        "\n",
        "Python refers to values that cannot change as immutable(불변의, 변경할 수 없는 ), and an immutable list is called a tuple"
      ],
      "metadata": {
        "id": "-6Czsx5UEdNr"
      }
    },
    {
      "cell_type": "markdown",
      "source": [
        "**4.5.1 Defining a Tuple. 튜플 정의하다**\n",
        "\n",
        "A tuple looks just like a list except you use parentheses instead of square\n",
        "brackets.() \n",
        "\n",
        "Once you define a tuple, you can access individual elements by\n",
        "using each item’s index, just as you would for a list.\n",
        "\n",
        "예 : If we have a rectangle that should always be a certain size,\n",
        "\n",
        "we can ensure that its size doesn’t change by putting the dimensions into a\n",
        "tuple"
      ],
      "metadata": {
        "id": "H3Hs8N1EGXez"
      }
    },
    {
      "cell_type": "code",
      "source": [
        "dimensions = (200, 50)\n",
        "print(dimensions[0])\n",
        "print(dimensions[1])"
      ],
      "metadata": {
        "colab": {
          "base_uri": "https://localhost:8080/"
        },
        "id": "lSTMThwJHSU6",
        "outputId": "c19c91a2-17f3-45b7-ad5d-4353241be506"
      },
      "execution_count": 9,
      "outputs": [
        {
          "output_type": "stream",
          "name": "stdout",
          "text": [
            "200\n",
            "50\n"
          ]
        }
      ]
    },
    {
      "cell_type": "code",
      "source": [
        "dimensions = (200, 50)\n",
        "dimensions[0] = 250\n"
      ],
      "metadata": {
        "id": "RAgQ6StqHYUl",
        "outputId": "47bccbc9-0b51-4371-de4b-8eee69752614",
        "colab": {
          "base_uri": "https://localhost:8080/",
          "height": 191
        }
      },
      "execution_count": 11,
      "outputs": [
        {
          "output_type": "error",
          "ename": "TypeError",
          "evalue": "ignored",
          "traceback": [
            "\u001b[0;31m---------------------------------------------------------------------------\u001b[0m",
            "\u001b[0;31mTypeError\u001b[0m                                 Traceback (most recent call last)",
            "\u001b[0;32m<ipython-input-11-258c8b06eee2>\u001b[0m in \u001b[0;36m<module>\u001b[0;34m()\u001b[0m\n\u001b[1;32m      1\u001b[0m \u001b[0mdimensions\u001b[0m \u001b[0;34m=\u001b[0m \u001b[0;34m(\u001b[0m\u001b[0;36m200\u001b[0m\u001b[0;34m,\u001b[0m \u001b[0;36m50\u001b[0m\u001b[0;34m)\u001b[0m\u001b[0;34m\u001b[0m\u001b[0;34m\u001b[0m\u001b[0m\n\u001b[0;32m----> 2\u001b[0;31m \u001b[0mdimensions\u001b[0m\u001b[0;34m[\u001b[0m\u001b[0;36m0\u001b[0m\u001b[0;34m]\u001b[0m \u001b[0;34m=\u001b[0m \u001b[0;36m250\u001b[0m\u001b[0;34m\u001b[0m\u001b[0;34m\u001b[0m\u001b[0m\n\u001b[0m",
            "\u001b[0;31mTypeError\u001b[0m: 'tuple' object does not support item assignment"
          ]
        }
      ]
    },
    {
      "cell_type": "markdown",
      "source": [
        "Tuples are technically defined by the presence of a comma;\n",
        "\n",
        "the parentheses make them look neater and more readable.\n",
        "\n",
        "If you want to define a tuple with one element, you need to include a trailing comma"
      ],
      "metadata": {
        "id": "4GWrbLklNDEI"
      }
    },
    {
      "cell_type": "code",
      "source": [
        "a = ('book',)\n",
        "type(a)"
      ],
      "metadata": {
        "id": "lHjgCS8aNSTF",
        "outputId": "65ef4d26-3267-4f75-e02b-4d06f6c9d26d",
        "colab": {
          "base_uri": "https://localhost:8080/"
        }
      },
      "execution_count": 12,
      "outputs": [
        {
          "output_type": "execute_result",
          "data": {
            "text/plain": [
              "tuple"
            ]
          },
          "metadata": {},
          "execution_count": 12
        }
      ]
    },
    {
      "cell_type": "code",
      "source": [
        "a = ('book')\n",
        "type(a)"
      ],
      "metadata": {
        "id": "WZiUj8Z7NhG2",
        "outputId": "7eca46ec-a8ea-4d48-fbef-7fc772f7371b",
        "colab": {
          "base_uri": "https://localhost:8080/"
        }
      },
      "execution_count": 13,
      "outputs": [
        {
          "output_type": "execute_result",
          "data": {
            "text/plain": [
              "str"
            ]
          },
          "metadata": {},
          "execution_count": 13
        }
      ]
    },
    {
      "cell_type": "code",
      "source": [
        "dimensions = [200, 50]\n",
        "dimensions[0] = 250\n",
        "print(dimensions)"
      ],
      "metadata": {
        "colab": {
          "base_uri": "https://localhost:8080/"
        },
        "id": "ZO-SkM5lHyvq",
        "outputId": "3585dac4-ad4b-4d18-b061-23c2e118debb"
      },
      "execution_count": 14,
      "outputs": [
        {
          "output_type": "stream",
          "name": "stdout",
          "text": [
            "[250, 50]\n"
          ]
        }
      ]
    },
    {
      "cell_type": "markdown",
      "source": [
        "**4.5.2 Looping Through All Values in a Tuple 튜플의 모든 값에 루프 실행하기**"
      ],
      "metadata": {
        "id": "DCiwPoxAISfc"
      }
    },
    {
      "cell_type": "code",
      "source": [
        "dimensions = (200, 50)\n",
        "for dimension in dimensions:\n",
        "  print(dimension)"
      ],
      "metadata": {
        "colab": {
          "base_uri": "https://localhost:8080/"
        },
        "id": "5Ynv6VDKIl5K",
        "outputId": "bc0f099b-5803-4acc-bc7b-261217454212"
      },
      "execution_count": 15,
      "outputs": [
        {
          "output_type": "stream",
          "name": "stdout",
          "text": [
            "200\n",
            "50\n"
          ]
        }
      ]
    },
    {
      "cell_type": "markdown",
      "source": [
        "**4.5.3 Writing over a Tuple 튜플 덮었기**\n",
        "\n",
        "Although you can’t modify a tuple, you can assign a new value to a variable\n",
        "that represents a tuple.\n",
        "튜플을 수정할 수는 없지만, 튜플을 가기키던 변수에 새 값을 할당하는 건 가능합니다.\n",
        "So if we wanted to change our dimensions, we could redefine the entire tuple.\n",
        "튜플을 새로 정의하면 사각형의 크기를 바꿀 수 있습니다. "
      ],
      "metadata": {
        "id": "Pgyhckk5I137"
      }
    },
    {
      "cell_type": "code",
      "source": [
        "dimensions = (200, 50)\n",
        "print(\"Original dimensions:\")\n",
        "for dimension in dimensions:\n",
        "  print(dimension)\n",
        "\n",
        "dimensions = (400, 100)\n",
        "print(\"\\nModified dimensions:\")\n",
        "for dimension in dimensions:\n",
        "  print(dimension)\n",
        "print()\n",
        "print(dimensions)"
      ],
      "metadata": {
        "colab": {
          "base_uri": "https://localhost:8080/"
        },
        "id": "K7fOZcx5LAbX",
        "outputId": "204a9993-45a4-4efd-869b-d00aa565b214"
      },
      "execution_count": 16,
      "outputs": [
        {
          "output_type": "stream",
          "name": "stdout",
          "text": [
            "Original dimensions:\n",
            "200\n",
            "50\n",
            "\n",
            "Modified dimensions:\n",
            "400\n",
            "100\n",
            "\n",
            "(400, 100)\n"
          ]
        }
      ]
    },
    {
      "cell_type": "markdown",
      "source": [
        "##**연습문제**"
      ],
      "metadata": {
        "id": "g7ES7D90NoLe"
      }
    },
    {
      "cell_type": "markdown",
      "source": [
        "**4-13. Buffet:**\n",
        "\n",
        "A buffet-style restaurant offers only five basic foods. Think of five\n",
        "simple foods, and store them in a tuple.\n",
        "\n",
        "* Use a for loop to print each food the restaurant offers.\n",
        "* Try to modify one of the items, and make sure that Python rejects the\n",
        "change.\n",
        "* The restaurant changes its menu, replacing two of the items with different\n",
        "foods.\n",
        "\n",
        " Add a line that rewrites the tuple, and then use a for loop to print\n",
        "each of the items on the revised menu."
      ],
      "metadata": {
        "id": "JrAMDhd9N2vW"
      }
    },
    {
      "cell_type": "code",
      "source": [
        "menus = ('피자','만두','죽', '두유','김밥')\n",
        "print('우리 식당 매뉴:')\n",
        "for menu in menus:\n",
        "  print(menu)"
      ],
      "metadata": {
        "id": "QYQv4eg_OFwO",
        "outputId": "31d95fae-e17a-49eb-fc8e-fde365ca4124",
        "colab": {
          "base_uri": "https://localhost:8080/"
        }
      },
      "execution_count": 19,
      "outputs": [
        {
          "output_type": "stream",
          "name": "stdout",
          "text": [
            "우리 식당 매뉴:\n",
            "피자\n",
            "만두\n",
            "죽\n",
            "두유\n",
            "김밥\n"
          ]
        }
      ]
    },
    {
      "cell_type": "code",
      "source": [
        "menus = ('피자','만두','죽', '두유','김밥')\n",
        "menus[0] = '꽃게'\n",
        "menus.append('홍게')\n",
        "print('우리 식당 매뉴:')\n",
        "for menu in menus:\n",
        "  print(menu)"
      ],
      "metadata": {
        "id": "hO2ZdGdsPkKX"
      },
      "execution_count": null,
      "outputs": []
    },
    {
      "cell_type": "code",
      "source": [
        "menus = ('피자','만두','죽', '두유','김밥')\n",
        "print('우리 식당 매뉴:')\n",
        "for menu in menus:\n",
        "  print(menu)\n",
        "\n",
        "menus = ('피자','만두','꽃게','홍게','김밥')\n",
        "print('\\n우리 식당 새 매뉴:')\n",
        "for menu in menus:\n",
        "  print(menu)  "
      ],
      "metadata": {
        "id": "QpI9a9_lQE93",
        "outputId": "25529fa9-7f7b-4ea5-8a24-7bef42148f08",
        "colab": {
          "base_uri": "https://localhost:8080/"
        }
      },
      "execution_count": 23,
      "outputs": [
        {
          "output_type": "stream",
          "name": "stdout",
          "text": [
            "우리 식당 매뉴:\n",
            "피자\n",
            "만두\n",
            "죽\n",
            "두유\n",
            "김밥\n",
            "\n",
            "우리 식당 새 매뉴:\n",
            "피자\n",
            "만두\n",
            "꽃게\n",
            "홍게\n",
            "김밥\n"
          ]
        }
      ]
    }
  ]
}