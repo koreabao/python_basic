{
  "nbformat": 4,
  "nbformat_minor": 0,
  "metadata": {
    "colab": {
      "name": "4_5.ipynb",
      "provenance": [],
      "authorship_tag": "ABX9TyOXgViGdLldp7NikRgEU2O7",
      "include_colab_link": true
    },
    "kernelspec": {
      "name": "python3",
      "display_name": "Python 3"
    },
    "language_info": {
      "name": "python"
    }
  },
  "cells": [
    {
      "cell_type": "markdown",
      "metadata": {
        "id": "view-in-github",
        "colab_type": "text"
      },
      "source": [
        "<a href=\"https://colab.research.google.com/github/koreabao/python_basic/blob/main/ch4/4_5.ipynb\" target=\"_parent\"><img src=\"https://colab.research.google.com/assets/colab-badge.svg\" alt=\"Open In Colab\"/></a>"
      ]
    },
    {
      "cell_type": "markdown",
      "source": [
        "##**4.5 tuple**\n",
        "\n",
        "If you want to create a list of items that cannot change. Tuples allow you to do just that. \n",
        "\n",
        "만약에 항목을 바뀔 수 없는 리스트가 필요 할 때 튜풀을 바고 그 목적으로 만족합니다. \n",
        "\n",
        "Python refers to values that cannot change as immutable(불변의, 변경할 수 없는 ), and an immutable list is called a tuple"
      ],
      "metadata": {
        "id": "-6Czsx5UEdNr"
      }
    }
  ]
}