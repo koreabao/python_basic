{
  "nbformat": 4,
  "nbformat_minor": 0,
  "metadata": {
    "colab": {
      "name": "4_5.ipynb",
      "provenance": [],
      "authorship_tag": "ABX9TyOpO9LFjmBlNScvGoa0XST5",
      "include_colab_link": true
    },
    "kernelspec": {
      "name": "python3",
      "display_name": "Python 3"
    },
    "language_info": {
      "name": "python"
    }
  },
  "cells": [
    {
      "cell_type": "markdown",
      "metadata": {
        "id": "view-in-github",
        "colab_type": "text"
      },
      "source": [
        "<a href=\"https://colab.research.google.com/github/koreabao/python_basic/blob/main/ch4/4_5.ipynb\" target=\"_parent\"><img src=\"https://colab.research.google.com/assets/colab-badge.svg\" alt=\"Open In Colab\"/></a>"
      ]
    },
    {
      "cell_type": "markdown",
      "source": [
        "##**4.5 tuple**\n",
        "\n",
        "If you want to create a list of items that cannot change. Tuples allow you to do just that. \n",
        "\n",
        "만약에 항목을 바뀔 수 없는 리스트가 필요 할 때 튜풀을 바고 그 목적으로 만족합니다. \n",
        "\n",
        "Python refers to values that cannot change as immutable(불변의, 변경할 수 없는 ), and an immutable list is called a tuple"
      ],
      "metadata": {
        "id": "-6Czsx5UEdNr"
      }
    },
    {
      "cell_type": "markdown",
      "source": [
        "**4.5.1 Defining a Tuple. 튜플 정의하다**\n",
        "\n",
        "A tuple looks just like a list except you use parentheses instead of square\n",
        "brackets.() \n",
        "\n",
        "Once you define a tuple, you can access individual elements by\n",
        "using each item’s index, just as you would for a list.\n",
        "\n",
        "예 : If we have a rectangle that should always be a certain size,\n",
        "\n",
        "we can ensure that its size doesn’t change by putting the dimensions into a\n",
        "tuple"
      ],
      "metadata": {
        "id": "H3Hs8N1EGXez"
      }
    },
    {
      "cell_type": "code",
      "source": [
        "dimensions = (200, 50)\n",
        "print(dimensions[0])\n",
        "print(dimensions[1])"
      ],
      "metadata": {
        "colab": {
          "base_uri": "https://localhost:8080/"
        },
        "id": "lSTMThwJHSU6",
        "outputId": "52342585-8a54-4f00-caf6-94b43ec1abb6"
      },
      "execution_count": null,
      "outputs": [
        {
          "output_type": "stream",
          "name": "stdout",
          "text": [
            "200\n",
            "50\n"
          ]
        }
      ]
    },
    {
      "cell_type": "code",
      "source": [
        "dimensions = (200, 50)\n",
        "dimensions[0] = 250\n"
      ],
      "metadata": {
        "id": "RAgQ6StqHYUl"
      },
      "execution_count": null,
      "outputs": []
    },
    {
      "cell_type": "code",
      "source": [
        "dimensions = [200, 50]\n",
        "dimensions[0] = 250\n",
        "print(dimensions)"
      ],
      "metadata": {
        "colab": {
          "base_uri": "https://localhost:8080/"
        },
        "id": "ZO-SkM5lHyvq",
        "outputId": "e77586ba-2e65-4329-f909-f4da8ec251a5"
      },
      "execution_count": null,
      "outputs": [
        {
          "output_type": "stream",
          "name": "stdout",
          "text": [
            "[250, 50]\n"
          ]
        }
      ]
    },
    {
      "cell_type": "markdown",
      "source": [
        "**4.5.2 Looping Through All Values in a Tuple 튜플의 모든 값에 루프 실행하기**"
      ],
      "metadata": {
        "id": "DCiwPoxAISfc"
      }
    },
    {
      "cell_type": "code",
      "source": [
        "dimensions = (200, 50)\n",
        "for dimension in dimensions:\n",
        "  print(dimension)"
      ],
      "metadata": {
        "colab": {
          "base_uri": "https://localhost:8080/"
        },
        "id": "5Ynv6VDKIl5K",
        "outputId": "fe07bd3f-1423-46f5-f958-c875635d184c"
      },
      "execution_count": null,
      "outputs": [
        {
          "output_type": "stream",
          "name": "stdout",
          "text": [
            "200\n",
            "50\n"
          ]
        }
      ]
    },
    {
      "cell_type": "markdown",
      "source": [
        "**4.5.3 Writing over a Tuple 튜플 덮었기**\n",
        "\n",
        "Although you can’t modify a tuple, you can assign a new value to a variable\n",
        "that represents a tuple.\n",
        "튜플을 수정할 수는 없지만, 튜플을 가기키던 변수에 새 값을 할당하는 건 가능합니다.\n",
        "So if we wanted to change our dimensions, we could redefine the entire tuple.\n",
        "튜플을 새로 정의하면 사각형의 크기를 바꿀 수 있습니다. "
      ],
      "metadata": {
        "id": "Pgyhckk5I137"
      }
    },
    {
      "cell_type": "code",
      "source": [
        "dimensions = (200, 50)\n",
        "print(\"Original dimensions:\")\n",
        "for dimension in dimensions:\n",
        "  print(dimension)\n",
        "\n",
        "dimensions = (400, 100)\n",
        "print(\"\\nModified dimensions:\")\n",
        "for dimension in dimensions:\n",
        "  print(dimension)\n",
        "print()\n",
        "print(dimensions)"
      ],
      "metadata": {
        "colab": {
          "base_uri": "https://localhost:8080/"
        },
        "id": "K7fOZcx5LAbX",
        "outputId": "b4472254-1cbe-4b70-c8ad-92400ac3e1c0"
      },
      "execution_count": 3,
      "outputs": [
        {
          "output_type": "stream",
          "name": "stdout",
          "text": [
            "Original dimensions:\n",
            "200\n",
            "50\n",
            "\n",
            "Modified dimensions:\n",
            "400\n",
            "100\n",
            "\n",
            "(400, 100)\n"
          ]
        }
      ]
    }
  ]
}