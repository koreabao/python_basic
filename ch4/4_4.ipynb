{
  "nbformat": 4,
  "nbformat_minor": 0,
  "metadata": {
    "colab": {
      "name": "4_4.ipynb",
      "provenance": [],
      "authorship_tag": "ABX9TyOdCFKPTWKB14JrqxJD5FbA",
      "include_colab_link": true
    },
    "kernelspec": {
      "name": "python3",
      "display_name": "Python 3"
    },
    "language_info": {
      "name": "python"
    }
  },
  "cells": [
    {
      "cell_type": "markdown",
      "metadata": {
        "id": "view-in-github",
        "colab_type": "text"
      },
      "source": [
        "<a href=\"https://colab.research.google.com/github/koreabao/python_basic/blob/main/ch4/4_4.ipynb\" target=\"_parent\"><img src=\"https://colab.research.google.com/assets/colab-badge.svg\" alt=\"Open In Colab\"/></a>"
      ]
    },
    {
      "cell_type": "markdown",
      "source": [
        "##**4.4 Working with Part of a List**\n",
        "\n",
        "How to work through all the elements in a list.\n",
        "\n",
        "You can also work with a specific group of items in a list, which Python calls\n",
        "a slice"
      ],
      "metadata": {
        "id": "beU0lz4gSkeZ"
      }
    },
    {
      "cell_type": "markdown",
      "source": [
        "###**4.4.1 Slicing a List**"
      ],
      "metadata": {
        "id": "gLaMiYxmaJxW"
      }
    }
  ]
}