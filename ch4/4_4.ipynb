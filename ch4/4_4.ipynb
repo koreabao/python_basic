{
  "nbformat": 4,
  "nbformat_minor": 0,
  "metadata": {
    "colab": {
      "name": "4_4.ipynb",
      "provenance": [],
      "include_colab_link": true
    },
    "kernelspec": {
      "name": "python3",
      "display_name": "Python 3"
    },
    "language_info": {
      "name": "python"
    }
  },
  "cells": [
    {
      "cell_type": "markdown",
      "metadata": {
        "id": "view-in-github",
        "colab_type": "text"
      },
      "source": [
        "<a href=\"https://colab.research.google.com/github/koreabao/python_basic/blob/main/ch4/4_4.ipynb\" target=\"_parent\"><img src=\"https://colab.research.google.com/assets/colab-badge.svg\" alt=\"Open In Colab\"/></a>"
      ]
    },
    {
      "cell_type": "markdown",
      "source": [
        "##**4.4 Working with Part of a List**\n",
        "\n",
        "You learned how to work through all the elements in a list.\n",
        "\n",
        "You can also work with a specific group of items in a list, which Python calls\n",
        "a slice"
      ],
      "metadata": {
        "id": "beU0lz4gSkeZ"
      }
    },
    {
      "cell_type": "markdown",
      "source": [
        "###**4.4.1 Slicing a List**\n",
        "\n",
        "To make a slice, you specify the index of the first and last elements you\n",
        "want to work with."
      ],
      "metadata": {
        "id": "gLaMiYxmaJxW"
      }
    },
    {
      "cell_type": "code",
      "source": [
        "players = ['charles', 'martina', 'michael', 'florence', 'eli']\n",
        "print(players[0:3])"
      ],
      "metadata": {
        "id": "-lwrcZ7mRBhV",
        "outputId": "b20e245b-3b3f-4b65-bad5-e16d1c6dc1b1",
        "colab": {
          "base_uri": "https://localhost:8080/"
        }
      },
      "execution_count": 1,
      "outputs": [
        {
          "output_type": "stream",
          "name": "stdout",
          "text": [
            "['charles', 'martina', 'michael']\n"
          ]
        }
      ]
    },
    {
      "cell_type": "code",
      "source": [
        "players = ['charles', 'martina', 'michael', 'florence', 'eli']\n",
        "print(players[1:4])"
      ],
      "metadata": {
        "id": "u_7tmaQWRK0l",
        "outputId": "b9e7eb33-7ec9-438e-862f-b026f1aaef89",
        "colab": {
          "base_uri": "https://localhost:8080/"
        }
      },
      "execution_count": 2,
      "outputs": [
        {
          "output_type": "stream",
          "name": "stdout",
          "text": [
            "['martina', 'michael', 'florence']\n"
          ]
        }
      ]
    },
    {
      "cell_type": "code",
      "source": [
        "players = ['charles', 'martina', 'michael', 'florence', 'eli']\n",
        "print(players[2:])"
      ],
      "metadata": {
        "id": "I2gFkE5ARVSI",
        "outputId": "bd0e6fe6-94f4-4f6e-b636-f8d93eab62a3",
        "colab": {
          "base_uri": "https://localhost:8080/"
        }
      },
      "execution_count": 6,
      "outputs": [
        {
          "output_type": "stream",
          "name": "stdout",
          "text": [
            "['michael', 'florence', 'eli']\n"
          ]
        }
      ]
    },
    {
      "cell_type": "code",
      "source": [
        "players = ['charles', 'martina', 'michael', 'florence', 'eli']\n",
        "print(players[-3:-1])"
      ],
      "metadata": {
        "id": "n1Ts-uwPRjda",
        "outputId": "208114a9-bb8f-4d31-8bae-99b0ee78055a",
        "colab": {
          "base_uri": "https://localhost:8080/"
        }
      },
      "execution_count": 8,
      "outputs": [
        {
          "output_type": "stream",
          "name": "stdout",
          "text": [
            "['michael', 'florence']\n"
          ]
        }
      ]
    },
    {
      "cell_type": "markdown",
      "source": [
        "###**4.4.2 Looping Through a Slice**\n",
        "\n",
        "You can use a slice in a for loop if you want to loop through a subset of\n",
        "the elements in a list."
      ],
      "metadata": {
        "id": "Qu8fEwkOR1yy"
      }
    },
    {
      "cell_type": "code",
      "source": [
        "players = ['charles', 'martina', 'michael', 'florence', 'eli']\n",
        "print(\"Here are the first three players on my team:\")\n",
        "for player in players[:3]:\n",
        "  print(player.title())"
      ],
      "metadata": {
        "id": "Bs-enEwrSJv9",
        "outputId": "9868d6a3-de63-4757-cc55-9bf585937af2",
        "colab": {
          "base_uri": "https://localhost:8080/"
        }
      },
      "execution_count": 9,
      "outputs": [
        {
          "output_type": "stream",
          "name": "stdout",
          "text": [
            "Here are the first three players on my team:\n",
            "Charles\n",
            "Martina\n",
            "Michael\n"
          ]
        }
      ]
    },
    {
      "cell_type": "markdown",
      "source": [
        "###**4.4.3 Copying a List** \n",
        "\n",
        "Often, you’ll want to start with an existing list and make an entirely new list\n",
        "based on the first one.\n",
        "\n",
        "To copy a list, you can make a slice that includes the entire original list\n",
        "by omitting the first index and the second index ([ : ])."
      ],
      "metadata": {
        "id": "CWRkSvcgXoq7"
      }
    },
    {
      "cell_type": "code",
      "source": [
        "my_foods = ['pizza', 'falafel', 'carrot cake']\n",
        "friend_foods = my_foods[ : ]\n",
        "\n",
        "print(\"My favorite foods are:\")\n",
        "print(my_foods)\n",
        "\n",
        "print(\"\\nMy friend's favorite foods are:\")\n",
        "print(friend_foods)"
      ],
      "metadata": {
        "id": "fLd9lwalYBNU",
        "outputId": "9ddb326e-7b83-4661-8bb1-96f667e0ef9a",
        "colab": {
          "base_uri": "https://localhost:8080/"
        }
      },
      "execution_count": 10,
      "outputs": [
        {
          "output_type": "stream",
          "name": "stdout",
          "text": [
            "My favorite foods are:\n",
            "['pizza', 'falafel', 'carrot cake']\n",
            "\n",
            "My friend's favorite foods are:\n",
            "['pizza', 'falafel', 'carrot cake']\n"
          ]
        }
      ]
    },
    {
      "cell_type": "markdown",
      "source": [
        "To prove that we actually have two separate lists,\n",
        "\n",
        "we’ll add a new food to each list and show that each list \n",
        "\n",
        "keeps track(추적) of the appropriate person’s favorite foods"
      ],
      "metadata": {
        "id": "BQVqp-epYTjM"
      }
    },
    {
      "cell_type": "code",
      "source": [
        "my_foods = ['pizza', 'falafel', 'carrot cake']\n",
        "friend_foods = my_foods[ : ]\n",
        "\n",
        "my_foods.append('cannoli')\n",
        "friend_foods.append('ice cream')\n",
        "\n",
        "print(\"My favorite foods are:\")\n",
        "print(my_foods)\n",
        "\n",
        "print(\"\\nMy friend's favorite foods are:\")\n",
        "print(friend_foods)"
      ],
      "metadata": {
        "id": "f7k10fDZli5H",
        "outputId": "0ff3f514-145c-4768-9f72-626a5266108b",
        "colab": {
          "base_uri": "https://localhost:8080/"
        }
      },
      "execution_count": 11,
      "outputs": [
        {
          "output_type": "stream",
          "name": "stdout",
          "text": [
            "My favorite foods are:\n",
            "['pizza', 'falafel', 'carrot cake', 'cannoli']\n",
            "\n",
            "My friend's favorite foods are:\n",
            "['pizza', 'falafel', 'carrot cake', 'ice cream']\n"
          ]
        }
      ]
    }
  ]
}