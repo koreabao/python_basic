{
  "nbformat": 4,
  "nbformat_minor": 0,
  "metadata": {
    "colab": {
      "name": "4_1.ipynb",
      "provenance": [],
      "authorship_tag": "ABX9TyNh6klOn65KpH/snBz12SZd",
      "include_colab_link": true
    },
    "kernelspec": {
      "name": "python3",
      "display_name": "Python 3"
    },
    "language_info": {
      "name": "python"
    }
  },
  "cells": [
    {
      "cell_type": "markdown",
      "metadata": {
        "id": "view-in-github",
        "colab_type": "text"
      },
      "source": [
        "<a href=\"https://colab.research.google.com/github/koreabao/python_basic/blob/main/ch4/4_1.ipynb\" target=\"_parent\"><img src=\"https://colab.research.google.com/assets/colab-badge.svg\" alt=\"Open In Colab\"/></a>"
      ]
    },
    {
      "cell_type": "markdown",
      "source": [
        "##**4.1.1 Looping Through an Entire List전체리스트에 대해 루프 실행하기**\n",
        "\n",
        "1. You’ll often want to run through all entries in a list, performing the same\n",
        "task with each item.\n",
        "\n",
        " 리스트 항목마다 같은 작업을 실해하며 리스트를 순회해야 할 때가 많습니다. \n",
        "\n",
        "2. When you want to do the same action with every item in a list, you can\n",
        "use Python’s for loop.\n",
        "\n",
        " 리스트의 모든 항목에 같은 일을 할 때는 for 루프를 사용합니다. \n"
      ],
      "metadata": {
        "id": "GPax30BTJkED"
      }
    },
    {
      "cell_type": "code",
      "source": [
        "magicians = ['alice', 'david', 'carolina']\n",
        "print(magicians[0])\n",
        "print(magicians[1])\n",
        "print(magicians[2])"
      ],
      "metadata": {
        "id": "OaxjQnmFSvRU",
        "outputId": "72f06913-97d4-4c2e-ff75-d7cff946d5f8",
        "colab": {
          "base_uri": "https://localhost:8080/"
        }
      },
      "execution_count": 4,
      "outputs": [
        {
          "output_type": "stream",
          "name": "stdout",
          "text": [
            "alice\n",
            "david\n",
            "carolina\n"
          ]
        }
      ]
    },
    {
      "cell_type": "code",
      "source": [
        "# for every magician in the list of magicians, print the magician's name\n",
        "magicians = ['alice', 'david', 'carolina']\n",
        "for magician in magicians: # 이행은 magicians리스트의 첫 번째 값을 읽어 magician변수에 연결합니다. 이 첫 번째 값은 'alice'입니다. \n",
        "  print(magician)      # python은 magician의 저장된 현재값을 출력하는데 값은 앞서 연결했던 'alice'입니다. \n",
        "                # 리스트에는 값을 더 있기 때문에 루푸의 시작으로 돌아갑니다.   "
      ],
      "metadata": {
        "id": "quNqr1-tKCKE",
        "outputId": "b5189d8d-204e-4b69-db2f-93e42e979ff2",
        "colab": {
          "base_uri": "https://localhost:8080/"
        }
      },
      "execution_count": 1,
      "outputs": [
        {
          "output_type": "stream",
          "name": "stdout",
          "text": [
            "alice\n",
            "david\n",
            "carolina\n"
          ]
        }
      ]
    },
    {
      "cell_type": "markdown",
      "source": [
        "**for** every **magician in** the list of **magicians**, **print** the magician's name"
      ],
      "metadata": {
        "id": "4q1lSEeFUO_Y"
      }
    },
    {
      "cell_type": "code",
      "source": [
        "help(print)"
      ],
      "metadata": {
        "id": "7Wc-3itvKRio"
      },
      "execution_count": null,
      "outputs": []
    },
    {
      "cell_type": "code",
      "source": [
        "magicians = ['alice', 'david', 'carolina']\n",
        "for magician in magicians:\n",
        "  print(magician,end=' ')"
      ],
      "metadata": {
        "id": "9i552XMWMaBW"
      },
      "execution_count": null,
      "outputs": []
    },
    {
      "cell_type": "markdown",
      "source": [
        "The concept of looping is important because it’s one of the most common\n",
        "ways a computer automates repetitive tasks.\n",
        "\n",
        "루프는 컴퓨터로 반복 작업을 자동화할 때 가장 널리 쓰는 방법입니다. \n",
        "\n",
        "https://pythontutor.com/visualize.html#mode=edit\n"
      ],
      "metadata": {
        "id": "6XPIpcYOM0Gc"
      }
    },
    {
      "cell_type": "markdown",
      "source": [
        "###**4.1.2 Doing More Work Within a for Loop루프 안에서 더 많은 일 하기**\n"
      ],
      "metadata": {
        "id": "MaR42f8DYTT4"
      }
    },
    {
      "cell_type": "markdown",
      "source": [
        "각 마술사에게 홀륭한 마술이었다고 칭찬하는 메시지를 출력하세요. \n",
        "\n",
        "xxx, that was a great trick!"
      ],
      "metadata": {
        "id": "IFbSCwgjcCsn"
      }
    },
    {
      "cell_type": "code",
      "source": [
        "magicians = ['alice', 'david', 'carolina']\n",
        "for magician in magicians:\n",
        "  print(f\"{magician.title()}, that was a great trick!\")"
      ],
      "metadata": {
        "colab": {
          "base_uri": "https://localhost:8080/"
        },
        "id": "wqohIHYSYjcn",
        "outputId": "874807b1-1a0b-44f2-885d-ef97fc1bf5ff"
      },
      "execution_count": 13,
      "outputs": [
        {
          "output_type": "stream",
          "name": "stdout",
          "text": [
            "Alice, that was a great trick!\n",
            "David, that was a great trick!\n",
            "Carolina, that was a great trick!\n"
          ]
        }
      ]
    },
    {
      "cell_type": "markdown",
      "source": [
        "You can also write as many lines of code as you like in the for loop.\n",
        "\n",
        "for 루프 안에는 원하는 만큼 여러 행의 코드를 슬 수 있습니다. \n",
        "\n",
        "Every indented line following the line for magician in magicians is considered\n",
        "inside the loop,\n",
        "\n",
        "for magician in magicians 다음에 있는 들여 쓴 모두 루푸 안 이라고 간주되며, \n",
        "\n",
        "and each indented(들여쓰기) line is executed once for each.\n",
        "\n",
        "들여 쓴 각 행은 리스트의 각 값에 대해 한번씩 실행됩니다. "
      ],
      "metadata": {
        "id": "xKCJBAKBY-Yf"
      }
    },
    {
      "cell_type": "code",
      "source": [
        "magicians = ['alice', 'david', 'carolina']\n",
        "for magician in magicians:\n",
        "  print(f\"{magician.title()}, that was a great trick!\")\n",
        "  print(f\"I can't wait to see your next trick, {magician.title()}.\\n\")"
      ],
      "metadata": {
        "colab": {
          "base_uri": "https://localhost:8080/"
        },
        "id": "AWHfmdeXZWcn",
        "outputId": "73dcafbe-cad0-451e-9f4f-00153953141b"
      },
      "execution_count": 15,
      "outputs": [
        {
          "output_type": "stream",
          "name": "stdout",
          "text": [
            "Alice, that was a great trick!\n",
            "I can't wait to see your next trick, Alice.\n",
            "\n",
            "David, that was a great trick!\n",
            "I can't wait to see your next trick, David.\n",
            "\n",
            "Carolina, that was a great trick!\n",
            "I can't wait to see your next trick, Carolina.\n",
            "\n"
          ]
        }
      ]
    },
    {
      "cell_type": "markdown",
      "source": [
        "###**4.1.3 Doing Something After a for Loop * for루프 다음에 어떤 일 하기**"
      ],
      "metadata": {
        "id": "0ELt2elDZ63i"
      }
    },
    {
      "cell_type": "markdown",
      "source": [
        "1. What happens once a for loop has finished executing?\n",
        "\n",
        " for루프가 실행을 마치면 어떻게 될까요?\n",
        "\n",
        " Usually, you’ll want to summarize a block of output or move on to other work that your program must accomplish\n",
        "\n",
        " 보통 for 루프 블록의 결과를 정리하거나 , 프로그램에서 반드시 완수해야 하는 다른 작업으로 이동할 겁니다. \n",
        "2. Any lines of code after the for loop that are not indented are executed\n",
        "once without repetition.\n",
        " \n",
        " for 루프 블록 다음에 있는 코드는 반복되지 않고 한번 만 실행됩니다. "
      ],
      "metadata": {
        "id": "aqX41Wo5a0Zg"
      }
    },
    {
      "cell_type": "code",
      "source": [
        "magicians = ['alice', 'david', 'carolina']\n",
        "for magician in magicians:\n",
        "  print(f\"{magician.title()}, that was a great trick!\")\n",
        "  print(f\"I can't wait to see your next trick, {magician.title()}.\\n\")\n",
        "\n",
        "print(\"Thank you, everyone. That was a great magic show!\")"
      ],
      "metadata": {
        "colab": {
          "base_uri": "https://localhost:8080/"
        },
        "id": "4eXP6z7ka3NX",
        "outputId": "3dbd0dfb-21f4-412b-dd94-d6495718cf2c"
      },
      "execution_count": 21,
      "outputs": [
        {
          "output_type": "stream",
          "name": "stdout",
          "text": [
            "Alice, that was a great trick!\n",
            "I can't wait to see your next trick, Alice.\n",
            "\n",
            "David, that was a great trick!\n",
            "I can't wait to see your next trick, David.\n",
            "\n",
            "Carolina, that was a great trick!\n",
            "I can't wait to see your next trick, Carolina.\n",
            "\n",
            "Thank you, everyone. That was a great magic show!\n"
          ]
        }
      ]
    },
    {
      "cell_type": "markdown",
      "source": [
        "###**연습문제 없슴**\n",
        "\n"
      ],
      "metadata": {
        "id": "r0xx_b_xbXXl"
      }
    }
  ]
}