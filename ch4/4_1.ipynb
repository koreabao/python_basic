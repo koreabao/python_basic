{
  "nbformat": 4,
  "nbformat_minor": 0,
  "metadata": {
    "colab": {
      "name": "4_1.ipynb",
      "provenance": [],
      "authorship_tag": "ABX9TyMqgRFxhDiDzEJMcBuDkbXE",
      "include_colab_link": true
    },
    "kernelspec": {
      "name": "python3",
      "display_name": "Python 3"
    },
    "language_info": {
      "name": "python"
    }
  },
  "cells": [
    {
      "cell_type": "markdown",
      "metadata": {
        "id": "view-in-github",
        "colab_type": "text"
      },
      "source": [
        "<a href=\"https://colab.research.google.com/github/koreabao/python_basic/blob/main/ch4/4_1.ipynb\" target=\"_parent\"><img src=\"https://colab.research.google.com/assets/colab-badge.svg\" alt=\"Open In Colab\"/></a>"
      ]
    },
    {
      "cell_type": "markdown",
      "source": [
        "##**4.1 Looping Through an Entire List**\n",
        "\n",
        "1. You’ll often want to run through all entries in a list, performing the same\n",
        "task with each item.\n",
        "\n",
        "2. When you want to do the same action with every item in a list, you can\n",
        "use Python’s for loop.\n"
      ],
      "metadata": {
        "id": "GPax30BTJkED"
      }
    },
    {
      "cell_type": "code",
      "source": [
        "magicians = ['alice', 'david', 'carolina']\n",
        "for magician in magicians:\n",
        "  print(magician)"
      ],
      "metadata": {
        "id": "quNqr1-tKCKE"
      },
      "execution_count": null,
      "outputs": []
    },
    {
      "cell_type": "code",
      "source": [
        "help(print)"
      ],
      "metadata": {
        "id": "7Wc-3itvKRio"
      },
      "execution_count": null,
      "outputs": []
    },
    {
      "cell_type": "code",
      "source": [
        "magicians = ['alice', 'david', 'carolina']\n",
        "for magician in magicians:\n",
        "  print(magician,end=' ')"
      ],
      "metadata": {
        "id": "9i552XMWMaBW"
      },
      "execution_count": null,
      "outputs": []
    },
    {
      "cell_type": "markdown",
      "source": [
        "###**4.1.1 A Closer Look at Looping**"
      ],
      "metadata": {
        "id": "-RtT2hvKMqPc"
      }
    },
    {
      "cell_type": "markdown",
      "source": [
        "The concept of looping is important because it’s one of the most common\n",
        "ways a computer automates repetitive tasks.\n",
        "\n",
        "https://pythontutor.com/visualize.html#mode=edit\n"
      ],
      "metadata": {
        "id": "6XPIpcYOM0Gc"
      }
    },
    {
      "cell_type": "markdown",
      "source": [
        "###**Doing More Work Within a for Loop**\n"
      ],
      "metadata": {
        "id": "MaR42f8DYTT4"
      }
    },
    {
      "cell_type": "code",
      "source": [
        "magicians = ['alice', 'david', 'carolina']\n",
        "for magician in magicians:\n",
        "  print(f\"{magician.title()}, that was a great trick!\")"
      ],
      "metadata": {
        "colab": {
          "base_uri": "https://localhost:8080/"
        },
        "id": "wqohIHYSYjcn",
        "outputId": "e7a42285-d696-4b27-fabb-81e0b7c1fe32"
      },
      "execution_count": 23,
      "outputs": [
        {
          "output_type": "stream",
          "name": "stdout",
          "text": [
            "Alice, that was a great trick!\n",
            "David, that was a great trick!\n",
            "Carolina, that was a great trick!\n"
          ]
        }
      ]
    },
    {
      "cell_type": "markdown",
      "source": [
        "You can also write as many lines of code as you like in the for loop.\n",
        "\n",
        "Every indented line following the line for magician in magicians is considered\n",
        "inside the loop,\n",
        "\n",
        "and each indented(들어쓰기??) line is executed once for each."
      ],
      "metadata": {
        "id": "xKCJBAKBY-Yf"
      }
    },
    {
      "cell_type": "code",
      "source": [
        "magicians = ['alice', 'david', 'carolina']\n",
        "for magician in magicians:\n",
        "  print(f\"{magician.title()}, that was a great trick!\")\n",
        "  print(f\"I can't wait to see your next trick, {magician.title()}.\\n\")"
      ],
      "metadata": {
        "colab": {
          "base_uri": "https://localhost:8080/"
        },
        "id": "AWHfmdeXZWcn",
        "outputId": "63707606-70fa-49f1-b619-b6aec001e0cb"
      },
      "execution_count": 21,
      "outputs": [
        {
          "output_type": "stream",
          "name": "stdout",
          "text": [
            "Alice, that was a great trick!\n",
            "I can't wait to see your next trick, Alice.\n",
            "\n",
            "David, that was a great trick!\n",
            "I can't wait to see your next trick, David.\n",
            "\n",
            "Carolina, that was a great trick!\n",
            "I can't wait to see your next trick, Carolina.\n",
            "\n"
          ]
        }
      ]
    },
    {
      "cell_type": "markdown",
      "source": [
        "###**4.1.3 Doing Something After a for Loop**"
      ],
      "metadata": {
        "id": "0ELt2elDZ63i"
      }
    },
    {
      "cell_type": "markdown",
      "source": [
        "1. What happens once a for loop has finished executing?\n",
        "\n",
        " Usually, you’ll want to summarize a block of output or move on to other work that your program must accomplish\n",
        "\n",
        "2. Any lines of code after the for loop that are not indented are executed\n",
        "once without repetition."
      ],
      "metadata": {
        "id": "aqX41Wo5a0Zg"
      }
    },
    {
      "cell_type": "code",
      "source": [
        "magicians = ['alice', 'david', 'carolina']\n",
        "for magician in magicians:\n",
        "  print(f\"{magician.title()}, that was a great trick!\")\n",
        "  print(f\"I can't wait to see your next trick, {magician.title()}.\\n\")\n",
        "  print(\"Thank you, everyone. That was a great magic show!\")"
      ],
      "metadata": {
        "colab": {
          "base_uri": "https://localhost:8080/"
        },
        "id": "4eXP6z7ka3NX",
        "outputId": "3b8a3a77-4c83-4117-c918-4402f34b8ceb"
      },
      "execution_count": 25,
      "outputs": [
        {
          "output_type": "stream",
          "name": "stdout",
          "text": [
            "Alice, that was a great trick!\n",
            "I can't wait to see your next trick, Alice.\n",
            "\n",
            "David, that was a great trick!\n",
            "I can't wait to see your next trick, David.\n",
            "\n",
            "Carolina, that was a great trick!\n",
            "I can't wait to see your next trick, Carolina.\n",
            "\n",
            "Thank you, everyone. That was a great magic show!\n"
          ]
        }
      ]
    },
    {
      "cell_type": "markdown",
      "source": [
        "###**연습문제 없슴**\n",
        "\n"
      ],
      "metadata": {
        "id": "r0xx_b_xbXXl"
      }
    }
  ]
}