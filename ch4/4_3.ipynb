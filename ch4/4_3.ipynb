{
  "nbformat": 4,
  "nbformat_minor": 0,
  "metadata": {
    "colab": {
      "name": "4_3.ipynb",
      "provenance": [],
      "include_colab_link": true
    },
    "kernelspec": {
      "name": "python3",
      "display_name": "Python 3"
    },
    "language_info": {
      "name": "python"
    }
  },
  "cells": [
    {
      "cell_type": "markdown",
      "metadata": {
        "id": "view-in-github",
        "colab_type": "text"
      },
      "source": [
        "<a href=\"https://colab.research.google.com/github/koreabao/python_basic/blob/main/ch4/4_3.ipynb\" target=\"_parent\"><img src=\"https://colab.research.google.com/assets/colab-badge.svg\" alt=\"Open In Colab\"/></a>"
      ]
    },
    {
      "cell_type": "markdown",
      "source": [
        "##**4.3 Making Numerical Lists숫자형 리스트 만들리**"
      ],
      "metadata": {
        "id": "F5mjsxMToG8A"
      }
    },
    {
      "cell_type": "markdown",
      "source": [
        "###**4.3.1 Using the range() Function* range()함수 사용하기**\n",
        "\n",
        " Python’s range() function makes it easy to generate a series of numbers.\n",
        "\n",
        " Python의 range()함수는 연속된 숫자를 쉽게 생성할 수 있습니다. "
      ],
      "metadata": {
        "id": "Du5EeF3kJYa4"
      }
    },
    {
      "cell_type": "code",
      "source": [
        "for value in range(1,5):\n",
        "  print(value)"
      ],
      "metadata": {
        "id": "K5lAeFU_Jjyf",
        "colab": {
          "base_uri": "https://localhost:8080/"
        },
        "outputId": "15e50969-15c1-49ce-8877-00cbab3855fb"
      },
      "execution_count": null,
      "outputs": [
        {
          "output_type": "stream",
          "name": "stdout",
          "text": [
            "1\n",
            "2\n",
            "3\n",
            "4\n"
          ]
        }
      ]
    },
    {
      "cell_type": "markdown",
      "source": [
        "###**4.3.2 Using range() to Make a List of Numbers*range()로 숫자 리스트 만들기**\n",
        "\n",
        "If you want to make a list of numbers, you can convert the results of range()\n",
        "directly into a list using the list() function.\n",
        "\n",
        "숫자 리스트를 원한다면 list()함수를 써서 range()의 결과를 바로 리스트로 만들 수 있습니다.\n",
        "\n",
        "When you wrap list() around a call to the range() function,\n",
        "\n",
        "the output will be a list of numbers\n",
        "\n",
        "range()함수를 호출하면서 list()함수로 감싸면 결과는 숫자 리스트가 됩니다.  "
      ],
      "metadata": {
        "id": "_bK8a0ESMjZT"
      }
    },
    {
      "cell_type": "code",
      "source": [
        "numbers = list(range(1,6))\n",
        "print(numbers)"
      ],
      "metadata": {
        "colab": {
          "base_uri": "https://localhost:8080/"
        },
        "id": "BtUzjPqaNKyC",
        "outputId": "1d27c6b8-a291-445c-a4f8-86eb337db50c"
      },
      "execution_count": null,
      "outputs": [
        {
          "output_type": "stream",
          "name": "stdout",
          "text": [
            "[1, 2, 3, 4, 5]\n"
          ]
        }
      ]
    },
    {
      "cell_type": "markdown",
      "source": [
        "We can also use the range() function to tell Python to skip numbers in a\n",
        "given range. \n",
        "\n",
        "range()함수를 써서 주어진 범위의 숫자를 건너뛸 수도 있습니다. \n",
        "\n",
        "If you pass a third argument to range(), Python uses that value\n",
        "as a step size when generating numbers.\n",
        "\n",
        "range()에 세번째 매개변수를 넘기면 python은 이 3번째 매개변수 만큼을 더해 숫자를 생성합니다.  "
      ],
      "metadata": {
        "id": "1SHU4UsqNieB"
      }
    },
    {
      "cell_type": "code",
      "source": [
        "even_numbers = list(range(2,11,2))\n",
        "print(even_numbers)"
      ],
      "metadata": {
        "colab": {
          "base_uri": "https://localhost:8080/"
        },
        "id": "-wk8qTo5Nezc",
        "outputId": "c70208aa-5729-46e0-ec8e-62fb8775ae77"
      },
      "execution_count": null,
      "outputs": [
        {
          "output_type": "stream",
          "name": "stdout",
          "text": [
            "[2, 4, 6, 8, 10]\n"
          ]
        }
      ]
    },
    {
      "cell_type": "code",
      "source": [
        "odd_numbers = list(range(1,12,2))\n",
        "print(odd_numbers)"
      ],
      "metadata": {
        "colab": {
          "base_uri": "https://localhost:8080/"
        },
        "id": "nV785mEeNhPv",
        "outputId": "487195e0-af9a-426b-9028-a48b8ddd5369"
      },
      "execution_count": null,
      "outputs": [
        {
          "output_type": "stream",
          "name": "stdout",
          "text": [
            "[1, 3, 5, 7, 9, 11]\n"
          ]
        }
      ]
    },
    {
      "cell_type": "markdown",
      "source": [
        "You can create almost any set of numbers you want to using the range()\n",
        "function.\n",
        "\n",
        "range() 함수를 이용하면 원하는 거의 모든 숫자 세트를 만들 수 있습니다. \n",
        "\n",
        "1부터10까지의 제곱수 리스트를 만듭니다. "
      ],
      "metadata": {
        "id": "ZyJSdQKqOIKM"
      }
    },
    {
      "cell_type": "code",
      "source": [
        "squares = []\n",
        "for value in range(1, 11):\n",
        "  square = value ** 2\n",
        "  squares.append(square)\n",
        "\n",
        "print(squares)"
      ],
      "metadata": {
        "colab": {
          "base_uri": "https://localhost:8080/"
        },
        "id": "xrmx8G9XOOGg",
        "outputId": "3b6196fd-1189-4acf-9b39-655ffcd07a09"
      },
      "execution_count": null,
      "outputs": [
        {
          "output_type": "stream",
          "name": "stdout",
          "text": [
            "[1, 4, 9, 16, 25, 36, 49, 64, 81, 100]\n"
          ]
        }
      ]
    },
    {
      "cell_type": "markdown",
      "source": [
        "###**4.3.3 Simple Statistics with a List of Numbers 숫자 리스트를 이용한 단순한 통계**\n",
        "\n",
        "Python functions are helpful when working with lists of numbers\n",
        "\n",
        "Python 함수 중에는 숫자 리스트를 다룰 때 특히 유용한 함수가 있습니다. \n",
        "\n",
        "You can easily find the minimum, maximum, and sum of a list of\n",
        "numbers.\n",
        "\n",
        "함수를 이용해 리스트의 최댓값(max), 최솟값(min), 함계(sum)를 구할 수 있다. "
      ],
      "metadata": {
        "id": "ZQIZjRyPO5Hy"
      }
    },
    {
      "cell_type": "code",
      "source": [
        "numbers = list(range(0,10))\n",
        "print(numbers)\n",
        "\n",
        "print(min(numbers))\n",
        "print(max(numbers))\n",
        "print(sum(numbers))"
      ],
      "metadata": {
        "colab": {
          "base_uri": "https://localhost:8080/"
        },
        "id": "V8QwQn6mPOcX",
        "outputId": "2b57fb32-6b51-48f6-9f8a-e22a9ed3212b"
      },
      "execution_count": 11,
      "outputs": [
        {
          "output_type": "stream",
          "name": "stdout",
          "text": [
            "[0, 1, 2, 3, 4, 5, 6, 7, 8, 9]\n",
            "0\n",
            "9\n",
            "45\n"
          ]
        }
      ]
    },
    {
      "cell_type": "markdown",
      "source": [
        "###**4.3.4 List Comprehensions**\n",
        "\n",
        "A list comprehension allows you to generate this same list in just one line of code.\n"
      ],
      "metadata": {
        "id": "0Wg-DFdQP0-D"
      }
    },
    {
      "cell_type": "code",
      "source": [
        "squares = []\n",
        "for value in range(1, 11):\n",
        "  square = value ** 2\n",
        "  squares.append(square)\n",
        "\n",
        "print(squares)"
      ],
      "metadata": {
        "colab": {
          "base_uri": "https://localhost:8080/"
        },
        "id": "frQ9t1bbQCo4",
        "outputId": "b8e4234d-336f-4919-9f3e-9267d4eeac17"
      },
      "execution_count": null,
      "outputs": [
        {
          "output_type": "stream",
          "name": "stdout",
          "text": [
            "[1, 4, 9, 16, 25, 36, 49, 64, 81, 100]\n"
          ]
        }
      ]
    },
    {
      "cell_type": "code",
      "source": [
        "squares = [value**2 for value in range(1, 11)]\n",
        "print(squares)"
      ],
      "metadata": {
        "colab": {
          "base_uri": "https://localhost:8080/"
        },
        "id": "ljk2JE-dQDIG",
        "outputId": "66cd5b3a-2ef9-4da6-ab8a-839dd9f12e7d"
      },
      "execution_count": null,
      "outputs": [
        {
          "output_type": "stream",
          "name": "stdout",
          "text": [
            "[1, 4, 9, 16, 25, 36, 49, 64, 81, 100]\n"
          ]
        }
      ]
    },
    {
      "cell_type": "markdown",
      "source": [
        "Try It Yourself\n",
        "\n",
        "4-3. Counting to Twenty: Use a for loop to print the numbers from 1 to 20,\n",
        "inclusive."
      ],
      "metadata": {
        "id": "JXUIMqalQukD"
      }
    },
    {
      "cell_type": "markdown",
      "source": [
        "\n",
        "4-4. One Million: Make a list of the numbers from one to one million, and then\n",
        "use a for loop to print the numbers.\n",
        "\n",
        "(If the output is taking too long, stop it by pressing ctrl-C or by closing the output window.)"
      ],
      "metadata": {
        "id": "UqBDnPACQ0zm"
      }
    },
    {
      "cell_type": "code",
      "source": [
        "numbers = list(range(1,1000001))\n",
        "print(sum(numbers))"
      ],
      "metadata": {
        "id": "_iMv--iRaC4G",
        "outputId": "8fdc8d6e-75f5-4e64-dc5e-faf3d74d4b66",
        "colab": {
          "base_uri": "https://localhost:8080/"
        }
      },
      "execution_count": 13,
      "outputs": [
        {
          "output_type": "stream",
          "name": "stdout",
          "text": [
            "500000500000\n"
          ]
        }
      ]
    },
    {
      "cell_type": "markdown",
      "source": [
        "\n",
        "4-5. Summing a Million: Make a list of the numbers from one to one million,\n",
        "\n",
        "and then use min() and max() to make sure your list actually starts at one and\n",
        "ends at one million. \n",
        "\n",
        "Also, use the sum() function to see how quickly Python can add a million numbers.\n"
      ],
      "metadata": {
        "id": "PouIAdG9Q0_e"
      }
    },
    {
      "cell_type": "markdown",
      "source": [
        "\n",
        "4-6. Odd Numbers: Use the third argument of the range() function to make a\n",
        "list of \n",
        "\n",
        "the odd numbers from 1 to 20. Use a for loop to print each number.\n"
      ],
      "metadata": {
        "id": "qagfH1H4Q1I_"
      }
    },
    {
      "cell_type": "markdown",
      "source": [
        "\n",
        "4-7. Threes: Make a list of the multiples of 3 from 3 to 30. Use a for loop to\n",
        "print the numbers in your list.\n"
      ],
      "metadata": {
        "id": "RhIqmPESQ1SO"
      }
    },
    {
      "cell_type": "markdown",
      "source": [
        "\n",
        "4-8. Cubes: A number raised to the third power is called a cube.\n",
        "\n",
        "For example, the cube of 2 is written as 2**3 in Python. Make a list of the first 10 cubes\n",
        " \n",
        "(that is, the cube of each integer from 1 through 10), and use a for loop to print out the value of each cube.\n"
      ],
      "metadata": {
        "id": "2zGmscg_Q1b5"
      }
    },
    {
      "cell_type": "markdown",
      "source": [
        "4-9. Cube Comprehension: Use a list comprehension to generate a list of the\n",
        "first 10 cubes."
      ],
      "metadata": {
        "id": "aFDI4w0yQ2pg"
      }
    }
  ]
}