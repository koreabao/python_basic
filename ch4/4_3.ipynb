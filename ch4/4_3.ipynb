{
  "nbformat": 4,
  "nbformat_minor": 0,
  "metadata": {
    "colab": {
      "name": "4_3.ipynb",
      "provenance": [],
      "authorship_tag": "ABX9TyOkaVfRE5Xg6Zd2y7Wfw3Ts",
      "include_colab_link": true
    },
    "kernelspec": {
      "name": "python3",
      "display_name": "Python 3"
    },
    "language_info": {
      "name": "python"
    }
  },
  "cells": [
    {
      "cell_type": "markdown",
      "metadata": {
        "id": "view-in-github",
        "colab_type": "text"
      },
      "source": [
        "<a href=\"https://colab.research.google.com/github/koreabao/python_basic/blob/main/ch4/4_3.ipynb\" target=\"_parent\"><img src=\"https://colab.research.google.com/assets/colab-badge.svg\" alt=\"Open In Colab\"/></a>"
      ]
    },
    {
      "cell_type": "markdown",
      "source": [
        "##**4.3 Making Numerical Lists**"
      ],
      "metadata": {
        "id": "F5mjsxMToG8A"
      }
    },
    {
      "cell_type": "markdown",
      "source": [
        "###**4.3.1 Using the range() Function**\n",
        "\n",
        " Python’s range() function makes it easy to generate a series of numbers."
      ],
      "metadata": {
        "id": "Du5EeF3kJYa4"
      }
    },
    {
      "cell_type": "code",
      "source": [
        "for value in range(1,5):\n",
        "  print(value)"
      ],
      "metadata": {
        "id": "K5lAeFU_Jjyf",
        "colab": {
          "base_uri": "https://localhost:8080/"
        },
        "outputId": "15e50969-15c1-49ce-8877-00cbab3855fb"
      },
      "execution_count": 6,
      "outputs": [
        {
          "output_type": "stream",
          "name": "stdout",
          "text": [
            "1\n",
            "2\n",
            "3\n",
            "4\n"
          ]
        }
      ]
    },
    {
      "cell_type": "code",
      "source": [
        "for value in range(5):\n",
        "  print(value,end=' ')"
      ],
      "metadata": {
        "colab": {
          "base_uri": "https://localhost:8080/"
        },
        "id": "GKX_pJJfKmD_",
        "outputId": "ddf1b75f-5cb1-4332-f117-67ef789c00ec"
      },
      "execution_count": 31,
      "outputs": [
        {
          "output_type": "stream",
          "name": "stdout",
          "text": [
            "0 1 2 3 4 "
          ]
        }
      ]
    },
    {
      "cell_type": "markdown",
      "source": [
        "###**4.3.2 Using range() to Make a List of Numbers**\n",
        "\n",
        "If you want to make a list of numbers, you can convert the results of range()\n",
        "directly into a list using the list() function.\n"
      ],
      "metadata": {
        "id": "_bK8a0ESMjZT"
      }
    },
    {
      "cell_type": "code",
      "source": [
        "numbers = list(range(1,6))\n",
        "print(numbers)"
      ],
      "metadata": {
        "colab": {
          "base_uri": "https://localhost:8080/"
        },
        "id": "BtUzjPqaNKyC",
        "outputId": "1d27c6b8-a291-445c-a4f8-86eb337db50c"
      },
      "execution_count": 35,
      "outputs": [
        {
          "output_type": "stream",
          "name": "stdout",
          "text": [
            "[1, 2, 3, 4, 5]\n"
          ]
        }
      ]
    },
    {
      "cell_type": "markdown",
      "source": [
        "We can also use the range() function to tell Python to skip numbers in a\n",
        "given range. \n",
        "\n",
        "If you pass a third argument to range(), Python uses that value\n",
        "as a step size when generating numbers."
      ],
      "metadata": {
        "id": "1SHU4UsqNieB"
      }
    },
    {
      "cell_type": "code",
      "source": [
        "even_numbers = list(range(2,11,2))\n",
        "print(even_numbers)"
      ],
      "metadata": {
        "colab": {
          "base_uri": "https://localhost:8080/"
        },
        "id": "-wk8qTo5Nezc",
        "outputId": "c70208aa-5729-46e0-ec8e-62fb8775ae77"
      },
      "execution_count": 36,
      "outputs": [
        {
          "output_type": "stream",
          "name": "stdout",
          "text": [
            "[2, 4, 6, 8, 10]\n"
          ]
        }
      ]
    },
    {
      "cell_type": "code",
      "source": [
        "odd_numbers = list(range(1,12,2))\n",
        "print(odd_numbers)"
      ],
      "metadata": {
        "colab": {
          "base_uri": "https://localhost:8080/"
        },
        "id": "nV785mEeNhPv",
        "outputId": "487195e0-af9a-426b-9028-a48b8ddd5369"
      },
      "execution_count": 39,
      "outputs": [
        {
          "output_type": "stream",
          "name": "stdout",
          "text": [
            "[1, 3, 5, 7, 9, 11]\n"
          ]
        }
      ]
    },
    {
      "cell_type": "markdown",
      "source": [
        "You can create almost any set of numbers you want to using the range()\n",
        "function."
      ],
      "metadata": {
        "id": "ZyJSdQKqOIKM"
      }
    },
    {
      "cell_type": "code",
      "source": [
        "squares = []\n",
        "for value in range(1, 11):\n",
        "  square = value ** 2\n",
        "  squares.append(square)\n",
        "\n",
        "print(squares)"
      ],
      "metadata": {
        "colab": {
          "base_uri": "https://localhost:8080/"
        },
        "id": "xrmx8G9XOOGg",
        "outputId": "3b6196fd-1189-4acf-9b39-655ffcd07a09"
      },
      "execution_count": 45,
      "outputs": [
        {
          "output_type": "stream",
          "name": "stdout",
          "text": [
            "[1, 4, 9, 16, 25, 36, 49, 64, 81, 100]\n"
          ]
        }
      ]
    },
    {
      "cell_type": "markdown",
      "source": [
        "###**4.3.3 Simple Statistics with a List of Numbers**\n",
        "\n",
        "Python functions are helpful when working with lists of numbers\n",
        "\n",
        "You can easily find the minimum, maximum, and sum of a list of\n",
        "numbers."
      ],
      "metadata": {
        "id": "ZQIZjRyPO5Hy"
      }
    },
    {
      "cell_type": "code",
      "source": [
        "numbers = list(range(0,10))\n",
        "print(numbers)\n",
        "\n",
        "print(min(numbers))\n",
        "print(max(numbers))\n",
        "print(sum(numbers))"
      ],
      "metadata": {
        "colab": {
          "base_uri": "https://localhost:8080/"
        },
        "id": "V8QwQn6mPOcX",
        "outputId": "4ff2934c-1d82-4062-c529-a3b4e33e0ad0"
      },
      "execution_count": 51,
      "outputs": [
        {
          "output_type": "stream",
          "name": "stdout",
          "text": [
            "[0, 1, 2, 3, 4, 5, 6, 7, 8, 9]\n",
            "0\n",
            "9\n",
            "45\n"
          ]
        }
      ]
    },
    {
      "cell_type": "markdown",
      "source": [
        "###**4.3.4 List Comprehensions**\n",
        "\n",
        "A list comprehension allows you to generate this same list in just one line of code.\n"
      ],
      "metadata": {
        "id": "0Wg-DFdQP0-D"
      }
    },
    {
      "cell_type": "code",
      "source": [
        "squares = []\n",
        "for value in range(1, 11):\n",
        "  square = value ** 2\n",
        "  squares.append(square)\n",
        "\n",
        "print(squares)"
      ],
      "metadata": {
        "colab": {
          "base_uri": "https://localhost:8080/"
        },
        "id": "frQ9t1bbQCo4",
        "outputId": "b8e4234d-336f-4919-9f3e-9267d4eeac17"
      },
      "execution_count": 53,
      "outputs": [
        {
          "output_type": "stream",
          "name": "stdout",
          "text": [
            "[1, 4, 9, 16, 25, 36, 49, 64, 81, 100]\n"
          ]
        }
      ]
    },
    {
      "cell_type": "code",
      "source": [
        "squares = [value**2 for value in range(1, 11)]\n",
        "print(squares)"
      ],
      "metadata": {
        "colab": {
          "base_uri": "https://localhost:8080/"
        },
        "id": "ljk2JE-dQDIG",
        "outputId": "66cd5b3a-2ef9-4da6-ab8a-839dd9f12e7d"
      },
      "execution_count": 52,
      "outputs": [
        {
          "output_type": "stream",
          "name": "stdout",
          "text": [
            "[1, 4, 9, 16, 25, 36, 49, 64, 81, 100]\n"
          ]
        }
      ]
    },
    {
      "cell_type": "markdown",
      "source": [
        "Try It Yourself\n",
        "\n",
        "4-3. Counting to Twenty: Use a for loop to print the numbers from 1 to 20,\n",
        "inclusive."
      ],
      "metadata": {
        "id": "JXUIMqalQukD"
      }
    },
    {
      "cell_type": "markdown",
      "source": [
        "\n",
        "4-4. One Million: Make a list of the numbers from one to one million, and then\n",
        "use a for loop to print the numbers.\n",
        "\n",
        "(If the output is taking too long, stop it by pressing ctrl-C or by closing the output window.)"
      ],
      "metadata": {
        "id": "UqBDnPACQ0zm"
      }
    },
    {
      "cell_type": "markdown",
      "source": [
        "\n",
        "4-5. Summing a Million: Make a list of the numbers from one to one million,\n",
        "\n",
        "and then use min() and max() to make sure your list actually starts at one and\n",
        "ends at one million. \n",
        "\n",
        "Also, use the sum() function to see how quickly Python can add a million numbers.\n"
      ],
      "metadata": {
        "id": "PouIAdG9Q0_e"
      }
    },
    {
      "cell_type": "markdown",
      "source": [
        "\n",
        "4-6. Odd Numbers: Use the third argument of the range() function to make a\n",
        "list of \n",
        "\n",
        "the odd numbers from 1 to 20. Use a for loop to print each number.\n"
      ],
      "metadata": {
        "id": "qagfH1H4Q1I_"
      }
    },
    {
      "cell_type": "markdown",
      "source": [
        "\n",
        "4-7. Threes: Make a list of the multiples of 3 from 3 to 30. Use a for loop to\n",
        "print the numbers in your list.\n"
      ],
      "metadata": {
        "id": "RhIqmPESQ1SO"
      }
    },
    {
      "cell_type": "markdown",
      "source": [
        "\n",
        "4-8. Cubes: A number raised to the third power is called a cube.\n",
        "\n",
        "For example, the cube of 2 is written as 2**3 in Python. Make a list of the first 10 cubes\n",
        " \n",
        "(that is, the cube of each integer from 1 through 10), and use a for loop to print out the value of each cube.\n"
      ],
      "metadata": {
        "id": "2zGmscg_Q1b5"
      }
    },
    {
      "cell_type": "markdown",
      "source": [
        "4-9. Cube Comprehension: Use a list comprehension to generate a list of the\n",
        "first 10 cubes."
      ],
      "metadata": {
        "id": "aFDI4w0yQ2pg"
      }
    }
  ]
}