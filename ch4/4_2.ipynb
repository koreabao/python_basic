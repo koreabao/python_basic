{
  "nbformat": 4,
  "nbformat_minor": 0,
  "metadata": {
    "colab": {
      "name": "4_2.ipynb",
      "provenance": [],
      "authorship_tag": "ABX9TyNu18xhkBrzFStR2RFQkv5l",
      "include_colab_link": true
    },
    "kernelspec": {
      "name": "python3",
      "display_name": "Python 3"
    },
    "language_info": {
      "name": "python"
    }
  },
  "cells": [
    {
      "cell_type": "markdown",
      "metadata": {
        "id": "view-in-github",
        "colab_type": "text"
      },
      "source": [
        "<a href=\"https://colab.research.google.com/github/koreabao/python_basic/blob/main/ch4/4_2.ipynb\" target=\"_parent\"><img src=\"https://colab.research.google.com/assets/colab-badge.svg\" alt=\"Open In Colab\"/></a>"
      ]
    },
    {
      "cell_type": "markdown",
      "source": [
        "##**4.2 Avoiding Indentation Errors**\n",
        "\n",
        "1. Python uses indentation to determine how a line, or group of lines, is related to the rest of the program.\n",
        "\n",
        "2. As you begin to write code that relies on proper indentation,\n",
        " \n",
        " you’ll need to watch for a few common indentation errors."
      ],
      "metadata": {
        "id": "IMTll7xkb7tB"
      }
    },
    {
      "cell_type": "markdown",
      "source": [
        "**4.2.1 Forgetting to Indent**"
      ],
      "metadata": {
        "id": "ZVelbNGyjhBB"
      }
    },
    {
      "cell_type": "code",
      "source": [
        "magicians = ['alice', 'david', 'carolina']\n",
        "for magician in magicians:\n",
        "print(magician)"
      ],
      "metadata": {
        "id": "GkaEkK5rhTph"
      },
      "execution_count": null,
      "outputs": []
    },
    {
      "cell_type": "markdown",
      "source": [
        "**4.2.2 Forgetting to Indent Additional Lines**"
      ],
      "metadata": {
        "id": "nTp4h1xQkGwn"
      }
    },
    {
      "cell_type": "code",
      "source": [
        "magicians = ['alice', 'david', 'carolina']\n",
        "for magician in magicians:\n",
        "  print(f\"{magician.title()}, that was a great trick!\")\n",
        "print(f\"I can't wait to see your next trick, {magician.title()}.\\n\")"
      ],
      "metadata": {
        "id": "A8HxuiwukRWY"
      },
      "execution_count": null,
      "outputs": []
    },
    {
      "cell_type": "markdown",
      "source": [
        "**4.2.3 Indenting Unnecessarily**"
      ],
      "metadata": {
        "id": "XS2XTANTkgX3"
      }
    },
    {
      "cell_type": "code",
      "source": [
        "message = \"Hello Python world!\"\n",
        " print(message)"
      ],
      "metadata": {
        "id": "ZYm1U4h0km8_"
      },
      "execution_count": null,
      "outputs": []
    },
    {
      "cell_type": "markdown",
      "source": [
        "**4.2.4 Indenting Unnecessarily After the Loop**\n",
        "\n"
      ],
      "metadata": {
        "id": "RIxb6fgIksR4"
      }
    }
  ]
}