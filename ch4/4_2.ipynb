{
  "nbformat": 4,
  "nbformat_minor": 0,
  "metadata": {
    "colab": {
      "name": "4_2.ipynb",
      "provenance": [],
      "authorship_tag": "ABX9TyMj2+7a9/afFUNz6NWFTyut",
      "include_colab_link": true
    },
    "kernelspec": {
      "name": "python3",
      "display_name": "Python 3"
    },
    "language_info": {
      "name": "python"
    }
  },
  "cells": [
    {
      "cell_type": "markdown",
      "metadata": {
        "id": "view-in-github",
        "colab_type": "text"
      },
      "source": [
        "<a href=\"https://colab.research.google.com/github/koreabao/python_basic/blob/main/ch4/4_2.ipynb\" target=\"_parent\"><img src=\"https://colab.research.google.com/assets/colab-badge.svg\" alt=\"Open In Colab\"/></a>"
      ]
    },
    {
      "cell_type": "markdown",
      "source": [
        "##**4.2 Avoiding Indentation Errors들여쓰기 에러 피하기**\n",
        "\n",
        "Python uses indentation to determine how a line, or group of lines, is related to the rest of the program.\n",
        "\n",
        "python은 어떤 행 또는 행 그굽이 프로그램의 다른 부분과 연결된 것인지 판단 할 때 들여쓰기를 기준으로 합니다. \n",
        "\n",
        "As you begin to write code that relies on proper indentation,\n",
        " \n",
        " you’ll need to watch for a few common indentation errors.\n",
        "\n",
        " 올바른 코드를 작성하려면 들여쓰기 에러를 조심해야합니다. "
      ],
      "metadata": {
        "id": "IMTll7xkb7tB"
      }
    },
    {
      "cell_type": "markdown",
      "source": [
        "**4.2.1 Forgetting to Indent들여쓰기 자체를 잊었을 때**"
      ],
      "metadata": {
        "id": "ZVelbNGyjhBB"
      }
    },
    {
      "cell_type": "code",
      "source": [
        "magicians = ['alice', 'david', 'carolina']\n",
        "for magician in magicians:\n",
        "print(magician)"
      ],
      "metadata": {
        "id": "GkaEkK5rhTph"
      },
      "execution_count": null,
      "outputs": []
    },
    {
      "cell_type": "markdown",
      "source": [
        "**4.2.2 Forgetting to Indent Additional Lines추가 행을 들여쓰지 않았을 때**"
      ],
      "metadata": {
        "id": "nTp4h1xQkGwn"
      }
    },
    {
      "cell_type": "code",
      "source": [
        "magicians = ['alice', 'david', 'carolina']\n",
        "for magician in magicians:\n",
        "  print(f\"{magician.title()}, that was a great trick!\")\n",
        "print(f\"I can't wait to see your next trick, {magician.title()}.\\n\")"
      ],
      "metadata": {
        "id": "A8HxuiwukRWY"
      },
      "execution_count": null,
      "outputs": []
    },
    {
      "cell_type": "markdown",
      "source": [
        "**4.2.3 Indenting Unnecessarily불필요한 들였기를 했을 때**"
      ],
      "metadata": {
        "id": "XS2XTANTkgX3"
      }
    },
    {
      "cell_type": "code",
      "source": [
        "message = \"Hello Python world!\"\n",
        " print(message)"
      ],
      "metadata": {
        "id": "ZYm1U4h0km8_",
        "outputId": "1fef6706-f4a6-4dc5-fd56-e8e9ec339751",
        "colab": {
          "base_uri": "https://localhost:8080/",
          "height": 137
        }
      },
      "execution_count": null,
      "outputs": [
        {
          "output_type": "error",
          "ename": "IndentationError",
          "evalue": "ignored",
          "traceback": [
            "\u001b[0;36m  File \u001b[0;32m\"<ipython-input-2-0274bb2ed7c6>\"\u001b[0;36m, line \u001b[0;32m2\u001b[0m\n\u001b[0;31m    print(message)\u001b[0m\n\u001b[0m    ^\u001b[0m\n\u001b[0;31mIndentationError\u001b[0m\u001b[0;31m:\u001b[0m unexpected indent\n"
          ]
        }
      ]
    },
    {
      "cell_type": "markdown",
      "source": [
        "**4.2.4 Indenting Unnecessarily After the Loop루프 다음에 풀필요한 들였기를 했을 때**\n",
        "\n"
      ],
      "metadata": {
        "id": "RIxb6fgIksR4"
      }
    },
    {
      "cell_type": "code",
      "source": [
        "magicians = ['alice', 'david', 'carolina']\n",
        "for magician in magicians:\n",
        "  print(f\"{magician.title()}, that was a great trick!\")\n",
        "  print(f\"I can't wait to see your next trick, {magician.title()}.\\n\")\n",
        "  print(\"Thank you everyone, that was a great magic show!\")"
      ],
      "metadata": {
        "id": "ry9a_u0g5QNL"
      },
      "execution_count": null,
      "outputs": []
    },
    {
      "cell_type": "markdown",
      "source": [
        "**4.2.5 Forgetting the Colon콜론을 잊었을 때**"
      ],
      "metadata": {
        "id": "w4P4u31M5aSA"
      }
    },
    {
      "cell_type": "code",
      "source": [
        "magicians = ['alice', 'david', 'carolina']\n",
        "for magician in magicians\n",
        "    print(magician)"
      ],
      "metadata": {
        "id": "xAd5rr9w5fdQ"
      },
      "execution_count": null,
      "outputs": []
    },
    {
      "cell_type": "markdown",
      "source": [
        "##**연습문제**"
      ],
      "metadata": {
        "id": "3BGiMya95pVv"
      }
    },
    {
      "cell_type": "markdown",
      "source": [
        "**4-1. Pizzas:**\n",
        "\n",
        "Think of at least three kinds of your favorite pizza.\n",
        "\n",
        "Store these pizza names in a list, and then use a for loop to print the name of each pizza.\n",
        "\n",
        "* Modify your for loop to print a sentence using the name of the pizza instead of printing just the name of the pizza.\n",
        "\n",
        " For each pizza you should have one line of output containing a simple statement like I like pepperoni pizza.\n",
        "\n",
        "* Add a line at the end of your program, outside the for loop, that states how much you like pizza.\n",
        "\n",
        " The output should consist of three or more lines about the kinds of pizza you like and then an additional sentence,\n",
        " \n",
        " such as I really love pizza!\n"
      ],
      "metadata": {
        "id": "IoydWnJ95yMA"
      }
    },
    {
      "cell_type": "code",
      "source": [
        "pizzas = ['치즈피자','불고기피자','고구마피자']\n",
        "for pizza in pizzas:\n",
        "  print(pizza)"
      ],
      "metadata": {
        "id": "OLvkkAYHolFf",
        "outputId": "6779bdfc-ab43-488d-a4a1-fbebc7c054a2",
        "colab": {
          "base_uri": "https://localhost:8080/"
        }
      },
      "execution_count": 2,
      "outputs": [
        {
          "output_type": "stream",
          "name": "stdout",
          "text": [
            "치즈피자\n",
            "불고기피자\n",
            "고구마피자\n"
          ]
        }
      ]
    },
    {
      "cell_type": "code",
      "source": [
        "pizzas = ['치즈피자','불고기피자','고구마피자']\n",
        "for pizza in pizzas:\n",
        "  print(f'저는 {pizza} 좋아합니다.\\n')"
      ],
      "metadata": {
        "id": "-G7zUM39pQU0",
        "outputId": "93228bf3-4d68-4fb2-92f4-3c3c3d50d9e6",
        "colab": {
          "base_uri": "https://localhost:8080/"
        }
      },
      "execution_count": 6,
      "outputs": [
        {
          "output_type": "stream",
          "name": "stdout",
          "text": [
            "저는 치즈피자 좋아합니다.\n",
            "\n",
            "저는 불고기피자 좋아합니다.\n",
            "\n",
            "저는 고구마피자 좋아합니다.\n",
            "\n"
          ]
        }
      ]
    },
    {
      "cell_type": "code",
      "source": [
        "pizzas = ['치즈피자','불고기피자','고구마피자']\n",
        "for pizza in pizzas:\n",
        "  print(f'저는 {pizza} 좋아합니다.')\n",
        "print('\\n저는 피자 정말 좋아합니다.')"
      ],
      "metadata": {
        "id": "bIZI1evjqLw0",
        "outputId": "e426d55e-6fc7-4920-8d6c-c61408ca0f9d",
        "colab": {
          "base_uri": "https://localhost:8080/"
        }
      },
      "execution_count": 12,
      "outputs": [
        {
          "output_type": "stream",
          "name": "stdout",
          "text": [
            "저는 치즈피자 좋아합니다.\n",
            "저는 불고기피자 좋아합니다.\n",
            "저는 고구마피자 좋아합니다.\n",
            "\n",
            "저는 피자 정말 좋아합니다.\n"
          ]
        }
      ]
    },
    {
      "cell_type": "markdown",
      "source": [
        "**4-2. Animals:**\n",
        "\n",
        "Think of at least three different animals that have a common characteristic.\n",
        "\n",
        "Store the names of these animals in a list, and then use a for loop to print out the name of each animal.\n",
        "\n",
        "* Modify your program to print a statement about each animal,\n",
        " \n",
        " such as A dog would make a great pet.\n",
        "\n",
        "* Add a line at the end of your program stating what these animals have in common. \n",
        "\n",
        " You could print a sentence such as Any of these animals would\n",
        "make a great pet!"
      ],
      "metadata": {
        "id": "Z07wezps51o1"
      }
    },
    {
      "cell_type": "code",
      "source": [
        "animals = ['강아지', '고양이', '햄스터']\n",
        "for animal in animals:\n",
        "  print(animal)"
      ],
      "metadata": {
        "id": "F_lgmLTpsCzQ",
        "outputId": "38d715fa-feac-4965-b0f2-3f93d47cafea",
        "colab": {
          "base_uri": "https://localhost:8080/"
        }
      },
      "execution_count": 13,
      "outputs": [
        {
          "output_type": "stream",
          "name": "stdout",
          "text": [
            "강아지\n",
            "고양이\n",
            "햄스터\n"
          ]
        }
      ]
    },
    {
      "cell_type": "code",
      "source": [
        "animals = ['강아지', '고양이', '햄스터']\n",
        "for animal in animals:\n",
        "  print(f'{animal}는 훌륭한 반려동물 입니다.')"
      ],
      "metadata": {
        "id": "7HD5zOOfslmj",
        "outputId": "ec710bb1-6837-4e34-8e92-376818ba7a7e",
        "colab": {
          "base_uri": "https://localhost:8080/"
        }
      },
      "execution_count": 14,
      "outputs": [
        {
          "output_type": "stream",
          "name": "stdout",
          "text": [
            "강아지는 훌륭한 반려동물 입니다.\n",
            "고양이는 훌륭한 반려동물 입니다.\n",
            "햄스터는 훌륭한 반려동물 입니다.\n"
          ]
        }
      ]
    },
    {
      "cell_type": "code",
      "source": [
        "animals = ['강아지', '고양이', '햄스터']\n",
        "for animal in animals:\n",
        "  print(f'{animal}는 훌륭한 반려동물 입니다.')\n",
        "print('\\n이들 동물은 무두 훌륭한 반려동물 입니다.')"
      ],
      "metadata": {
        "id": "Bv_3F603s2WL",
        "outputId": "d76e7c6e-cb2a-40dc-a611-51eb79b31d54",
        "colab": {
          "base_uri": "https://localhost:8080/"
        }
      },
      "execution_count": 16,
      "outputs": [
        {
          "output_type": "stream",
          "name": "stdout",
          "text": [
            "강아지는 훌륭한 반려동물 입니다.\n",
            "고양이는 훌륭한 반려동물 입니다.\n",
            "햄스터는 훌륭한 반려동물 입니다.\n",
            "\n",
            "이들 동물은 무두 훌륭한 반려동물 입니다.\n"
          ]
        }
      ]
    }
  ]
}