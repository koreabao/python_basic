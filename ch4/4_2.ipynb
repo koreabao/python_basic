{
  "nbformat": 4,
  "nbformat_minor": 0,
  "metadata": {
    "colab": {
      "name": "4_2.ipynb",
      "provenance": [],
      "authorship_tag": "ABX9TyPi3WElY/ad6WR1UV98WvQI",
      "include_colab_link": true
    },
    "kernelspec": {
      "name": "python3",
      "display_name": "Python 3"
    },
    "language_info": {
      "name": "python"
    }
  },
  "cells": [
    {
      "cell_type": "markdown",
      "metadata": {
        "id": "view-in-github",
        "colab_type": "text"
      },
      "source": [
        "<a href=\"https://colab.research.google.com/github/koreabao/python_basic/blob/main/ch4/4_2.ipynb\" target=\"_parent\"><img src=\"https://colab.research.google.com/assets/colab-badge.svg\" alt=\"Open In Colab\"/></a>"
      ]
    },
    {
      "cell_type": "markdown",
      "source": [
        "##**4.2 Avoiding Indentation Errors**\n",
        "\n",
        "1. Python uses indentation to determine how a line, or group of lines, is related to the rest of the program.\n",
        "\n",
        "2. As you begin to write code that relies on proper indentation,\n",
        " \n",
        " you’ll need to watch for a few common indentation errors."
      ],
      "metadata": {
        "id": "IMTll7xkb7tB"
      }
    },
    {
      "cell_type": "markdown",
      "source": [
        "**4.2.1 Forgetting to Indent**"
      ],
      "metadata": {
        "id": "ZVelbNGyjhBB"
      }
    },
    {
      "cell_type": "code",
      "source": [
        "magicians = ['alice', 'david', 'carolina']\n",
        "for magician in magicians:\n",
        "print(magician)"
      ],
      "metadata": {
        "id": "GkaEkK5rhTph"
      },
      "execution_count": null,
      "outputs": []
    },
    {
      "cell_type": "markdown",
      "source": [
        "**4.2.2 Forgetting to Indent Additional Lines**"
      ],
      "metadata": {
        "id": "nTp4h1xQkGwn"
      }
    },
    {
      "cell_type": "code",
      "source": [
        "magicians = ['alice', 'david', 'carolina']\n",
        "for magician in magicians:\n",
        "  print(f\"{magician.title()}, that was a great trick!\")\n",
        "print(f\"I can't wait to see your next trick, {magician.title()}.\\n\")"
      ],
      "metadata": {
        "id": "A8HxuiwukRWY"
      },
      "execution_count": null,
      "outputs": []
    },
    {
      "cell_type": "markdown",
      "source": [
        "**4.2.3 Indenting Unnecessarily**"
      ],
      "metadata": {
        "id": "XS2XTANTkgX3"
      }
    },
    {
      "cell_type": "code",
      "source": [
        "message = \"Hello Python world!\"\n",
        " print(message)"
      ],
      "metadata": {
        "id": "ZYm1U4h0km8_"
      },
      "execution_count": null,
      "outputs": []
    },
    {
      "cell_type": "markdown",
      "source": [
        "**4.2.4 Indenting Unnecessarily After the Loop**\n",
        "\n"
      ],
      "metadata": {
        "id": "RIxb6fgIksR4"
      }
    },
    {
      "cell_type": "code",
      "source": [
        "magicians = ['alice', 'david', 'carolina']\n",
        "for magician in magicians:\n",
        "  print(f\"{magician.title()}, that was a great trick!\")\n",
        "  print(f\"I can't wait to see your next trick, {magician.title()}.\\n\")\n",
        "  print(\"Thank you everyone, that was a great magic show!\")"
      ],
      "metadata": {
        "id": "ry9a_u0g5QNL"
      },
      "execution_count": null,
      "outputs": []
    },
    {
      "cell_type": "markdown",
      "source": [
        "**4.2.5 Forgetting the Colon**"
      ],
      "metadata": {
        "id": "w4P4u31M5aSA"
      }
    },
    {
      "cell_type": "code",
      "source": [
        "magicians = ['alice', 'david', 'carolina']\n",
        "for magician in magicians\n",
        "    print(magician)"
      ],
      "metadata": {
        "id": "xAd5rr9w5fdQ"
      },
      "execution_count": null,
      "outputs": []
    },
    {
      "cell_type": "markdown",
      "source": [
        "##**연습문제**"
      ],
      "metadata": {
        "id": "3BGiMya95pVv"
      }
    },
    {
      "cell_type": "markdown",
      "source": [
        "**4-1. Pizzas:**\n",
        "\n",
        "Think of at least three kinds of your favorite pizza.\n",
        "\n",
        "Store these pizza names in a list, and then use a for loop to print the name of each pizza.\n",
        "\n",
        "* Modify your for loop to print a sentence using the name of the pizza instead of printing just the name of the pizza.\n",
        "\n",
        " For each pizza you should have one line of output containing a simple statement like I like pepperoni pizza.\n",
        "\n",
        "* Add a line at the end of your program, outside the for loop, that states how much you like pizza.\n",
        "\n",
        " The output should consist of three or more lines about the kinds of pizza you like and then an additional sentence,\n",
        " \n",
        " such as I really love pizza!\n"
      ],
      "metadata": {
        "id": "IoydWnJ95yMA"
      }
    },
    {
      "cell_type": "markdown",
      "source": [
        "**4-2. Animals:**\n",
        "\n",
        "Think of at least three different animals that have a common characteristic.\n",
        "\n",
        "Store the names of these animals in a list, and then use a for loop to print out the name of each animal.\n",
        "\n",
        "* Modify your program to print a statement about each animal,\n",
        " \n",
        " such as A dog would make a great pet.\n",
        "\n",
        "* Add a line at the end of your program stating what these animals have in common. \n",
        "\n",
        " You could print a sentence such as Any of these animals would\n",
        "make a great pet!"
      ],
      "metadata": {
        "id": "Z07wezps51o1"
      }
    }
  ]
}