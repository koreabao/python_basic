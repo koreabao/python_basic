{
  "nbformat": 4,
  "nbformat_minor": 0,
  "metadata": {
    "colab": {
      "name": "py2_1.ipynb",
      "provenance": [],
      "authorship_tag": "ABX9TyNgCHvPGoFOUh334HsSdtz8",
      "include_colab_link": true
    },
    "kernelspec": {
      "name": "python3",
      "display_name": "Python 3"
    },
    "language_info": {
      "name": "python"
    }
  },
  "cells": [
    {
      "cell_type": "markdown",
      "metadata": {
        "id": "view-in-github",
        "colab_type": "text"
      },
      "source": [
        "<a href=\"https://colab.research.google.com/github/koreabao/python_basic/blob/main/py2_1.ipynb\" target=\"_parent\"><img src=\"https://colab.research.google.com/assets/colab-badge.svg\" alt=\"Open In Colab\"/></a>"
      ]
    },
    {
      "cell_type": "markdown",
      "source": [
        "## **변수(varables): Think of a variable as a name attached to a particular object(객체,대상)**\n",
        "\n",
        "## **변수를 특정 개체에 연결된 이름으로 생각하십시오**\n",
        "\n",
        "To create a variable, you just assign it a value and then start using it. \n",
        "\n",
        "변수를 생성하려면 값을 할당하고 사용을 시작하면 됩니다.\n",
        "\n",
        "Assignment is done with a single equals sign (=):\n",
        "\n",
        "할당은 등호(=)로 수행됩니다.\n",
        "\n",
        "Every variable is connected to a value, which is the information associated with that variable.\n",
        "\n",
        "모든 변수는 해당 변수와 관련된 정보인 값에 연결됩니다."
      ],
      "metadata": {
        "id": "KC3lIlci34sk"
      }
    },
    {
      "cell_type": "code",
      "execution_count": 4,
      "metadata": {
        "colab": {
          "base_uri": "https://localhost:8080/"
        },
        "id": "FCtKnNbY3w-K",
        "outputId": "a2256e2d-4351-4049-e8ff-1b5a355bf660"
      },
      "outputs": [
        {
          "output_type": "stream",
          "name": "stdout",
          "text": [
            "Hello Python world!\n",
            "Hello Python Crash Course world!\n"
          ]
        }
      ],
      "source": [
        "message = \"Hello Python world!\"\n",
        "print(message)\n",
        "\n",
        "message = \"Hello Python Crash Course world!\"\n",
        "print(message)\n"
      ]
    },
    {
      "cell_type": "markdown",
      "source": [
        "## **Naming and Using Variables**(**변수 이름 지정 및 사용**)\n",
        "\n",
        "1.   Variable names can contain only letters, numbers, and underscores.\n",
        "    \n",
        "    They can start with a letter or an underscore, but not with a number.\n",
        "2.   Spaces are not allowed in variable names, but underscores can be used\n",
        "to separate words in variable names.\n",
        "\n",
        "3.   Avoid using Python keywords and function names as variable names\n",
        "\n",
        "4.   Variable names should be short but descriptive.\n",
        "\n",
        "5.   Be careful when using the lowercase letter l and the uppercase letter o\n",
        "because they could be confused with the numbers 1 and 0.\n",
        "\n"
      ],
      "metadata": {
        "id": "J3eeRc5R9Vvt"
      }
    }
  ]
}