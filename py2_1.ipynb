{
  "nbformat": 4,
  "nbformat_minor": 0,
  "metadata": {
    "colab": {
      "name": "py2_1.ipynb",
      "provenance": [],
      "authorship_tag": "ABX9TyMiYIO1cQSVJBSAV3MThQ4S",
      "include_colab_link": true
    },
    "kernelspec": {
      "name": "python3",
      "display_name": "Python 3"
    },
    "language_info": {
      "name": "python"
    }
  },
  "cells": [
    {
      "cell_type": "markdown",
      "metadata": {
        "id": "view-in-github",
        "colab_type": "text"
      },
      "source": [
        "<a href=\"https://colab.research.google.com/github/koreabao/python_basic/blob/main/py2_1.ipynb\" target=\"_parent\"><img src=\"https://colab.research.google.com/assets/colab-badge.svg\" alt=\"Open In Colab\"/></a>"
      ]
    },
    {
      "cell_type": "markdown",
      "source": [
        "## **2.1변수(varables): Think of a variable as a name attached to a particular object(객체,대상)**\n",
        "\n",
        "## **변수를 특정 개체에 연결된 이름으로 생각하십시오**\n",
        "\n",
        "To create a variable, you just assign it a value and then start using it. \n",
        "\n",
        "변수를 생성하려면 값을 할당하고 사용을 시작하면 됩니다.\n",
        "\n",
        "Assignment is done with a single equals sign (=):\n",
        "\n",
        "할당은 등호(=)로 수행됩니다.\n",
        "\n",
        "Every variable is connected to a value, which is the information associated with that variable.\n",
        "\n",
        "모든 변수는 해당 변수와 관련된 정보인 값에 연결됩니다."
      ],
      "metadata": {
        "id": "KC3lIlci34sk"
      }
    },
    {
      "cell_type": "code",
      "execution_count": null,
      "metadata": {
        "colab": {
          "base_uri": "https://localhost:8080/"
        },
        "id": "FCtKnNbY3w-K",
        "outputId": "a2256e2d-4351-4049-e8ff-1b5a355bf660"
      },
      "outputs": [
        {
          "output_type": "stream",
          "name": "stdout",
          "text": [
            "Hello Python world!\n",
            "Hello Python Crash Course world!\n"
          ]
        }
      ],
      "source": [
        "message = \"Hello Python world!\"\n",
        "print(message)\n",
        "\n",
        "message = \"Hello Python Crash Course world!\"\n",
        "print(message)\n"
      ]
    },
    {
      "cell_type": "markdown",
      "source": [
        "## **2.2.1 Naming and Using Variables(변수 이름 지정 및 사용)**\n",
        "\n",
        "\n",
        "1.   Variable names can contain only letters, numbers, and underscores.\n",
        "    \n",
        "    They can start with a letter or an underscore, but not with a number.\n",
        "2.   Spaces are not allowed in variable names, but underscores can be used\n",
        "to separate words in variable names.\n",
        "\n",
        "3.   Avoid using Python keywords and function names as variable names\n",
        "\n",
        "4.   Variable names should be short but descriptive.\n",
        "\n",
        "5.   Be careful when using the lowercase letter l and the uppercase letter o\n",
        "because they could be confused with the numbers 1 and 0.\n",
        "\n"
      ],
      "metadata": {
        "id": "J3eeRc5R9Vvt"
      }
    },
    {
      "cell_type": "markdown",
      "source": [
        "## **2.2.2 Avoiding Name Errors When Using Variables**"
      ],
      "metadata": {
        "id": "ArwWPz0Ubefb"
      }
    },
    {
      "cell_type": "code",
      "source": [
        "message = \"Hello Python Crash Course world!\"\n",
        "print(mesage)"
      ],
      "metadata": {
        "colab": {
          "base_uri": "https://localhost:8080/",
          "height": 190
        },
        "id": "YMjJ-sRObkb7",
        "outputId": "08b537ee-5f75-4873-cd62-c9f28dde10a8"
      },
      "execution_count": null,
      "outputs": [
        {
          "output_type": "error",
          "ename": "NameError",
          "evalue": "ignored",
          "traceback": [
            "\u001b[0;31m---------------------------------------------------------------------------\u001b[0m",
            "\u001b[0;31mNameError\u001b[0m                                 Traceback (most recent call last)",
            "\u001b[0;32m<ipython-input-5-989cd8218a10>\u001b[0m in \u001b[0;36m<module>\u001b[0;34m()\u001b[0m\n\u001b[1;32m      1\u001b[0m \u001b[0mmessage\u001b[0m \u001b[0;34m=\u001b[0m \u001b[0;34m\"Hello Python Crash Course world!\"\u001b[0m\u001b[0;34m\u001b[0m\u001b[0;34m\u001b[0m\u001b[0m\n\u001b[0;32m----> 2\u001b[0;31m \u001b[0mprint\u001b[0m\u001b[0;34m(\u001b[0m\u001b[0mmesage\u001b[0m\u001b[0;34m)\u001b[0m\u001b[0;34m\u001b[0m\u001b[0;34m\u001b[0m\u001b[0m\n\u001b[0m",
            "\u001b[0;31mNameError\u001b[0m: name 'mesage' is not defined"
          ]
        }
      ]
    },
    {
      "cell_type": "markdown",
      "source": [
        "## **2.2.3Variables Are Labels**\n",
        "\n",
        "Variables are often described as boxes you can store values in.\n",
        "\n",
        "It’s much better to think of variables as labels that you can assign to values.\n",
        "\n",
        "You can also say that a variable references a certain value"
      ],
      "metadata": {
        "id": "CwO8Sj41bvCB"
      }
    },
    {
      "cell_type": "markdown",
      "source": [
        "# **연습**\n",
        "\n",
        "2-1. Simple Message: Assign a message to a variable, and then print that\n",
        "message.\n",
        "\n",
        "2-2. Simple Messages: Assign a message to a variable, and print that message.\n",
        "\n",
        "Then change the value of the variable to a new message, and print the new\n",
        "message."
      ],
      "metadata": {
        "id": "WZrNfZMTcYEn"
      }
    },
    {
      "cell_type": "code",
      "source": [
        "message = \"나는 중국을 사랑 합니다.\"\n",
        "print(message)\n",
        "\n",
        "message = \"나는 한국 사람입니다.\"\n",
        "print(message)"
      ],
      "metadata": {
        "colab": {
          "base_uri": "https://localhost:8080/"
        },
        "id": "xeYEL96mfB76",
        "outputId": "3e33ccf8-35d9-4fdb-cff4-25e041ef335b"
      },
      "execution_count": null,
      "outputs": [
        {
          "output_type": "stream",
          "name": "stdout",
          "text": [
            "나는 중국을 사랑 합니다.\n",
            "나는 한국 사람입니다.\n"
          ]
        }
      ]
    },
    {
      "cell_type": "code",
      "source": [
        ""
      ],
      "metadata": {
        "id": "FYz9yZeUh4aQ"
      },
      "execution_count": null,
      "outputs": []
    },
    {
      "cell_type": "markdown",
      "source": [
        "## **2.3. Strings(문자열)**\n",
        "A string is a series of characters(문자열은 일련의 문자입니다.)\n",
        "\n",
        "Anything inside quotes is considered a string in Python,\n",
        "\n",
        "(따옴표 안에 있는 모든 것은 Python에서 문자열로 간주됩니다.)\n",
        "\n",
        "and you can use single or double quotes around your\n",
        "strings like this\n",
        "\n",
        "(문자열 주위에 작은 따옴표 또는 큰 따옴표를 사용할 수 있습니다.)"
      ],
      "metadata": {
        "id": "bVnA7ej3h5uV"
      }
    },
    {
      "cell_type": "code",
      "source": [
        "\"This is a string\"\n",
        "'this is a string'"
      ],
      "metadata": {
        "id": "CCNhboGrqD38"
      },
      "execution_count": null,
      "outputs": []
    },
    {
      "cell_type": "code",
      "source": [
        "'I told my friend, \"Python is my favorite language!\"'\n"
      ],
      "metadata": {
        "colab": {
          "base_uri": "https://localhost:8080/",
          "height": 35
        },
        "id": "Sg1oiGTkqMSK",
        "outputId": "172819cd-9cd0-4cce-f882-aa32349abea1"
      },
      "execution_count": null,
      "outputs": [
        {
          "output_type": "execute_result",
          "data": {
            "application/vnd.google.colaboratory.intrinsic+json": {
              "type": "string"
            },
            "text/plain": [
              "'I told my friend, \"Python is my favorite language!\"'"
            ]
          },
          "metadata": {},
          "execution_count": 14
        }
      ]
    },
    {
      "cell_type": "code",
      "source": [
        "\"The language 'Python' is named after Monty Python, not the snake.\""
      ],
      "metadata": {
        "colab": {
          "base_uri": "https://localhost:8080/",
          "height": 35
        },
        "id": "KEBqvzHRqfhU",
        "outputId": "d19d905f-2b16-4612-85b0-bb4c56c21f79"
      },
      "execution_count": null,
      "outputs": [
        {
          "output_type": "execute_result",
          "data": {
            "application/vnd.google.colaboratory.intrinsic+json": {
              "type": "string"
            },
            "text/plain": [
              "\"The language 'Python' is named after Monty Python, not the snake.\""
            ]
          },
          "metadata": {},
          "execution_count": 15
        }
      ]
    },
    {
      "cell_type": "code",
      "source": [
        "\"One of Python's strengths is its diverse and supportive community.\""
      ],
      "metadata": {
        "colab": {
          "base_uri": "https://localhost:8080/",
          "height": 35
        },
        "id": "pwM-VA7yqhs_",
        "outputId": "07f7e230-721d-48d7-fffa-a57ae4be4c1c"
      },
      "execution_count": null,
      "outputs": [
        {
          "output_type": "execute_result",
          "data": {
            "application/vnd.google.colaboratory.intrinsic+json": {
              "type": "string"
            },
            "text/plain": [
              "\"One of Python's strengths is its diverse and supportive community.\""
            ]
          },
          "metadata": {},
          "execution_count": 16
        }
      ]
    },
    {
      "cell_type": "markdown",
      "source": [
        "## **2.3.1 Changing Case in a String with Methods**\n",
        "\n",
        "## **(메서드를 사용하여 문자열의 대소문자 변경)**\n"
      ],
      "metadata": {
        "id": "KBowXyyetmQU"
      }
    },
    {
      "cell_type": "code",
      "source": [
        "name = \"ada lovelace\"\n",
        "print(name.title())"
      ],
      "metadata": {
        "colab": {
          "base_uri": "https://localhost:8080/"
        },
        "id": "Lv_iFDE-tlxG",
        "outputId": "f101fb2b-093d-4f54-d92c-3f0b34fbf7b5"
      },
      "execution_count": null,
      "outputs": [
        {
          "output_type": "stream",
          "name": "stdout",
          "text": [
            "Ada Lovelace\n"
          ]
        }
      ]
    },
    {
      "cell_type": "markdown",
      "source": [
        "1.The method title() appears after the variable in the print() call\n",
        "\n",
        "2.A method is an action that Python can perform on a piece of data.\n",
        "\n",
        "3.The dot (.) after name in name.title() tells Python to make the title() method act on the variable name."
      ],
      "metadata": {
        "id": "a9OUmGwMuO_l"
      }
    },
    {
      "cell_type": "markdown",
      "source": [
        "### **Change a string to all uppercase or all lowercase letters**\n",
        "**(문자열을 모두 대문자 또는 모두 소문자로 변경)**"
      ],
      "metadata": {
        "id": "U8MqhAnzuhLG"
      }
    },
    {
      "cell_type": "code",
      "source": [
        "name = \"Ada Lovelace\"\n",
        "print(name.upper())\n",
        "print(name.lower())"
      ],
      "metadata": {
        "colab": {
          "base_uri": "https://localhost:8080/"
        },
        "id": "UFBPAb5iwz4R",
        "outputId": "d74a66b6-8df4-4351-ea31-a5d38e651008"
      },
      "execution_count": null,
      "outputs": [
        {
          "output_type": "stream",
          "name": "stdout",
          "text": [
            "ADA LOVELACE\n",
            "ada lovelace\n"
          ]
        }
      ]
    },
    {
      "cell_type": "markdown",
      "source": [
        "## **2.3.2 Using Variables in Strings(문자열에서 변수 사용하기)**"
      ],
      "metadata": {
        "id": "vATBBZALxKlH"
      }
    },
    {
      "cell_type": "markdown",
      "source": [
        "f-strings:Python formats the string by replacing the name of any variable in braces with its value\n",
        "\n",
        "Python은 대괄호 안의 변수 이름을 값으로 대체하여 문자열 형식을 지정합니다. "
      ],
      "metadata": {
        "id": "VnaP2o3r2UTM"
      }
    },
    {
      "cell_type": "code",
      "source": [
        "first_name = \"ada\"\n",
        "last_name = \"lovelace\"\n",
        "full_name = f\"{first_name} {last_name}\"\n",
        "print(full_name)"
      ],
      "metadata": {
        "id": "kXoeGiLuxKIw"
      },
      "execution_count": null,
      "outputs": []
    },
    {
      "cell_type": "markdown",
      "source": [
        "과거"
      ],
      "metadata": {
        "id": "DIl1BCJbzLip"
      }
    },
    {
      "cell_type": "code",
      "source": [
        "first_name = \"ada\"\n",
        "last_name = \"lovelace\"\n",
        "full_name = first_name+\" \"+last_name\n",
        "full_name_1 = \"{} {}\".format(first_name, last_name)\n",
        "print(full_name)\n",
        "print(full_name_1)"
      ],
      "metadata": {
        "colab": {
          "base_uri": "https://localhost:8080/"
        },
        "id": "4zh93BkMzKet",
        "outputId": "a1c449a2-fb42-42cc-a34c-191acae9c59d"
      },
      "execution_count": 2,
      "outputs": [
        {
          "output_type": "stream",
          "name": "stdout",
          "text": [
            "ada lovelace\n",
            "ada lovelace\n"
          ]
        }
      ]
    },
    {
      "cell_type": "markdown",
      "source": [
        "**f-string활용**"
      ],
      "metadata": {
        "id": "neih-pSN3XQi"
      }
    },
    {
      "cell_type": "code",
      "source": [
        "first_name = \"ada\"\n",
        "last_name = \"lovelace\"\n",
        "full_name = f\"{first_name} {last_name}\"\n",
        "print(f\"Hello, {full_name.title()}!\")"
      ],
      "metadata": {
        "colab": {
          "base_uri": "https://localhost:8080/"
        },
        "id": "QOv-BZsy2spW",
        "outputId": "28a6d731-e963-47d4-c5b2-95a107b8d9ab"
      },
      "execution_count": null,
      "outputs": [
        {
          "output_type": "stream",
          "name": "stdout",
          "text": [
            "Hello, Ada Lovelace!\n"
          ]
        }
      ]
    }
  ]
}