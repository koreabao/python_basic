{
  "nbformat": 4,
  "nbformat_minor": 0,
  "metadata": {
    "colab": {
      "name": "3_1.ipynb",
      "provenance": [],
      "include_colab_link": true
    },
    "kernelspec": {
      "name": "python3",
      "display_name": "Python 3"
    },
    "language_info": {
      "name": "python"
    }
  },
  "cells": [
    {
      "cell_type": "markdown",
      "metadata": {
        "id": "view-in-github",
        "colab_type": "text"
      },
      "source": [
        "<a href=\"https://colab.research.google.com/github/koreabao/python_basic/blob/main/ch3/3_1.ipynb\" target=\"_parent\"><img src=\"https://colab.research.google.com/assets/colab-badge.svg\" alt=\"Open In Colab\"/></a>"
      ]
    },
    {
      "cell_type": "markdown",
      "source": [
        "## **3.1 What Is a List?**\n",
        "\n",
        "1. A list is a collection of items in a particular order\n",
        " \n",
        " 리스트는 특정 순서의 항목 모음이다. \n",
        "2. includes the letters of the alphabet, the digits from 0–9, or the names of all the people in your family. \n",
        "  \n",
        "  알파벳, 0-9 사이의 숫자 또는 가족 전체의 이름을 포함 할 수 있다. \n",
        "3. You can put anything you want into a list, and the items in your list don’t have to be related in any particular way.\n",
        "\n",
        " 원하는 모든 것을 리스트에 넣을 수 있으며 리스트의 항목간 관련될 필요가 없다.\n",
        "4. Because a list usually contains more than one element, it’s a good idea to make the name of your list plural, such as letters, digits, or names.\n",
        "\n",
        " 리스트에는 대부분 상황에서 하나 이상의 요소가 포함되어 있으므로 목록 이름을 문자, 숫자 또는 이름과 같이 복수형으로 만드는 것이 좋습니다. such as letters, digits, or names.\n",
        "\n",
        "5. In Python, square brackets ([]) indicate a list, and individual elements\n",
        "in the list are separated by commas.\n",
        " \n",
        " Python에서 대괄호([])는 리스트을 나타내며 각요소는 쉼표로 구분한다. \n",
        "\n"
      ],
      "metadata": {
        "id": "bgiEXXLFsjJk"
      }
    },
    {
      "cell_type": "code",
      "source": [
        "bicycles = ['trek', 'cannondale', 'redline', 'specialized']\n",
        "print(bicycles)"
      ],
      "metadata": {
        "colab": {
          "base_uri": "https://localhost:8080/"
        },
        "id": "OwJm8Jsiv2hS",
        "outputId": "3b0236fc-e7a6-41e5-cf4e-7640521eb86c"
      },
      "execution_count": 2,
      "outputs": [
        {
          "output_type": "stream",
          "name": "stdout",
          "text": [
            "['trek', 'cannondale', 'redline', 'specialized']\n"
          ]
        }
      ]
    },
    {
      "cell_type": "markdown",
      "source": [
        "##**3.1.1 Accessing Elements in a List(리스트의 요소 액세스(방문))**\n",
        "\n",
        "1. Lists are ordered collections, so you can access any element in a list by\n",
        "telling Python the position, or index, of the item desired.\n",
        " \n",
        " 리스트은 순서가 지정된 컬렉션이므로 원하는 요소의 위치(인덱스)를 이용해서 리스트의 모든 요소에 액세스할 수 있습니다.\n",
        "\n",
        "2. To access an element in a list, write the name of the list followed by the index of the item enclosed in square brackets \n",
        "\n",
        " 리스트의 요소에 액세스하려면 리스트이름 뒤에 대괄호로 묶인 항목의 index를 작성하면 된다. "
      ],
      "metadata": {
        "id": "_GQvSFCGwexp"
      }
    },
    {
      "cell_type": "code",
      "source": [
        "bicycles = ['trek', 'cannondale', 'redline', 'specialized']\n",
        "print(bicycles[1])"
      ],
      "metadata": {
        "id": "9F9q_RWxwx_Y"
      },
      "execution_count": null,
      "outputs": []
    },
    {
      "cell_type": "code",
      "source": [
        "bicycles = ['trek', 'cannondale', 'redline', 'specialized']\n",
        "print(bicycles[1].title())"
      ],
      "metadata": {
        "id": "Yca2atL05nO3"
      },
      "execution_count": null,
      "outputs": []
    },
    {
      "cell_type": "markdown",
      "source": [
        "##**3.1.2 Index Positions Start at 0, Not 1(index는 1이 아닌 0부터 시작한다)**\n",
        "\n",
        "1. Python has a special syntax for accessing the last element in a list.\n",
        "\n",
        " By asking for the item at index -1, Python always returns the last item in the list\n",
        "\n",
        " Python는 리스트의 마지막 요소에 접근하기 위한 특별한 구문이 있다. \n",
        "\n",
        " index -1에 있는 항목을 요청하면 Python은 리스트의 마지막 항목을 반환합니다.\n",
        "\n",
        " list가 긴경우 이방법을 많이 사용 한다. "
      ],
      "metadata": {
        "id": "4I0f178C52OT"
      }
    },
    {
      "cell_type": "code",
      "source": [
        "bicycles = ['trek', 'cannondale', 'redline', 'specialized']\n",
        "print(bicycles[1])\n",
        "print(bicycles[3])"
      ],
      "metadata": {
        "colab": {
          "base_uri": "https://localhost:8080/"
        },
        "id": "okak7uVH7tuN",
        "outputId": "1468a7cf-69a9-40f2-9697-cdabd7d94b9c"
      },
      "execution_count": null,
      "outputs": [
        {
          "output_type": "stream",
          "name": "stdout",
          "text": [
            "cannondale\n",
            "specialized\n"
          ]
        }
      ]
    },
    {
      "cell_type": "code",
      "source": [
        "bicycles = ['trek', 'cannondale', 'redline', 'specialized']\n",
        "print(bicycles[-1])\n",
        "print(bicycles[-3])"
      ],
      "metadata": {
        "colab": {
          "base_uri": "https://localhost:8080/"
        },
        "id": "NPL-9y8J7uRs",
        "outputId": "2bc28ff3-e8d4-48e0-e06c-c575b036ec4c"
      },
      "execution_count": null,
      "outputs": [
        {
          "output_type": "stream",
          "name": "stdout",
          "text": [
            "specialized\n",
            "cannondale\n"
          ]
        }
      ]
    },
    {
      "cell_type": "markdown",
      "source": [
        "## **Using Individual Values from a List(리스트의 개별 값 사용)**\n",
        "1. f-string 사용. \n"
      ],
      "metadata": {
        "id": "Y-2VnVl49X_m"
      }
    },
    {
      "cell_type": "code",
      "source": [
        "bicycles = ['trek', 'cannondale', 'redline', 'specialized']\n",
        "message = f\"My fisrt bicycle was a {bicycles[0].title()}.\"\n",
        "\n",
        "print(message)"
      ],
      "metadata": {
        "colab": {
          "base_uri": "https://localhost:8080/"
        },
        "id": "jEFHmTdJ9sWy",
        "outputId": "7f3aac2e-acca-4803-a173-4551b7da119c"
      },
      "execution_count": null,
      "outputs": [
        {
          "output_type": "stream",
          "name": "stdout",
          "text": [
            "My fisrt bicycle was a Trek.\n"
          ]
        }
      ]
    },
    {
      "cell_type": "markdown",
      "source": [
        "##**연습문제**"
      ],
      "metadata": {
        "id": "QhA4Fus1BAtO"
      }
    },
    {
      "cell_type": "markdown",
      "source": [
        "**3-1. Names: Store the names of a few of your friends in a list called names.** \n",
        "\n",
        "**Print each person’s name by accessing each element in the list, one at a time.**\n",
        "\n",
        "names라는 리스트에 여러명 친구이름을 저장한다.\n",
        "\n",
        "순서대로 리스트에 있는 각 원소를 액세스(방운)한다. 모든 친구리름을 프린트한다. "
      ],
      "metadata": {
        "id": "o--cgE-fBGA9"
      }
    },
    {
      "cell_type": "code",
      "source": [
        "names = ['Talan','Abbey','Kade','Sage','Zack']\n",
        "print(names[0])\n",
        "print(names[1])\n",
        "print(names[2])\n",
        "print(names[3])\n",
        "print(names[4])\n"
      ],
      "metadata": {
        "id": "jEv7MTmNQsNq",
        "outputId": "b15f8125-5dbc-4252-8d79-e3bc65bec9ac",
        "colab": {
          "base_uri": "https://localhost:8080/"
        }
      },
      "execution_count": 10,
      "outputs": [
        {
          "output_type": "stream",
          "name": "stdout",
          "text": [
            "Talan\n",
            "Abbey\n",
            "Kade\n",
            "Sage\n",
            "Zack\n"
          ]
        }
      ]
    },
    {
      "cell_type": "markdown",
      "source": [
        "**3-2. Greetings: Start with the list you used in Exercise 3-1,**\n",
        "\n",
        "**but instead of just printing each person’s name, print a message to them.** \n",
        "\n",
        "**The text of each message should be the same, but each message should be personalized with the person’s name.**\n",
        "\n",
        "**3_2. 인사말: 3_1의 리스트의 이름을 프린트하는 대신에 메시지를 프린한다.**\n",
        "\n",
        "**각 메시지의 내용은 동일해야 하지만 각 메시지에 나온 이름은 달라야한다.** \n",
        "\n",
        "\n"
      ],
      "metadata": {
        "id": "YwoZC7V2OI5h"
      }
    },
    {
      "cell_type": "code",
      "source": [
        "names = ['talan','abbey','kade','sage','zack']\n",
        "message = f\"{names[0].title()},How are you doing?\"\n",
        "print(message)\n",
        "message = f\"{names[1].title()},How are you doing?\"\n",
        "print(message)\n",
        "message = f\"{names[0].title()},How are you doing?\"\n",
        "print(message)"
      ],
      "metadata": {
        "id": "wMsvId8wRvxS",
        "outputId": "1c7695e1-86dd-4b13-a8ce-76c2c0cae705",
        "colab": {
          "base_uri": "https://localhost:8080/"
        }
      },
      "execution_count": 14,
      "outputs": [
        {
          "output_type": "stream",
          "name": "stdout",
          "text": [
            "talan,How are you doing?\n",
            "abbey,How are you doing?\n",
            "talan,How are you doing?\n"
          ]
        }
      ]
    },
    {
      "cell_type": "markdown",
      "source": [
        "**3-3. Your Own List: Think of your favorite mode of transportation,**\n",
        "\n",
        "**such as a motorcycle or a car, and make a list that stores several examples.** \n",
        "\n",
        "**Use your list to print a series of statements about these items,**\n",
        "\n",
        "**such as “I would like to own a Honda motorcycle.”**\n",
        "\n",
        "**좋아하는 교통수단을 생각하고,**\n",
        "\n",
        "**오토바이나 자동차와 같이 몇 가지 예를 저장하는 목록을 만드십시오.**\n",
        "\n",
        "**목록을 사용하여 이러한 항목에 대한 일련의 진술을 인쇄하십시오.**\n",
        "\n",
        "**예를 들어 \"나는 Honda 오토바이를 소유하고 싶습니다.\"**"
      ],
      "metadata": {
        "id": "lVi9K3MVPPas"
      }
    },
    {
      "cell_type": "code",
      "source": [
        "transportations = ['버스','택시','킥보드','오토바이','자가용']\n",
        "message = f'\\n저는 {transportations[4]}을 좋아합니다.'\n",
        "print(message)\n",
        "message = f'\\n{transportations[0]}는 저렴합니다.'\n",
        "print(message)\n",
        "message = f'\\n{transportations[1]}는 편합니다.'\n",
        "print(message)\n",
        "message = f'\\n{transportations[2]}와{transportations[1]}는 다 저렴합니다.'\n",
        "print(message)\n",
        "message = f'\\n{transportations[3]}는 쿨하지만 위험 하다고 생각해요.'\n",
        "print(message)"
      ],
      "metadata": {
        "id": "vLC9QRQdPdVG",
        "outputId": "1aea1855-e61c-4853-e61b-bb5039411883",
        "colab": {
          "base_uri": "https://localhost:8080/"
        }
      },
      "execution_count": 22,
      "outputs": [
        {
          "output_type": "stream",
          "name": "stdout",
          "text": [
            "\n",
            "저는 자가용을 좋아합니다.\n",
            "\n",
            "버스는 저렴합니다.\n",
            "\n",
            "택시는 편합니다.\n",
            "\n",
            "킥보드와택시는 다 저렴합니다.\n",
            "\n",
            "오토바이는 쿨하지만 위험 하다고 생각해요.\n"
          ]
        }
      ]
    },
    {
      "cell_type": "code",
      "source": [
        "a = '''저는 자가용을 좋아합니다.\n",
        "\n",
        "버스는 저렴합니다.\n",
        "\n",
        "택시는 편합니다.\n",
        "\n",
        "킥보드와택시는 다 저렴합니다.\n",
        "\n",
        "오토바이는 쿨하지만 위험 하다고 생각해요.'''\n",
        "\n",
        "print(a)"
      ],
      "metadata": {
        "id": "8gNZYPIkVOkt",
        "outputId": "1c11228b-ac99-498c-8b5d-1373f97ff587",
        "colab": {
          "base_uri": "https://localhost:8080/"
        }
      },
      "execution_count": 24,
      "outputs": [
        {
          "output_type": "stream",
          "name": "stdout",
          "text": [
            " 저는 자가용을 좋아합니다.\n",
            "\n",
            "버스는 저렴합니다.\n",
            "\n",
            "택시는 편합니다.\n",
            "\n",
            "킥보드와택시는 다 저렴합니다.\n",
            "\n",
            "오토바이는 쿨하지만 위험 하다고 생각해요.\n"
          ]
        }
      ]
    }
  ]
}