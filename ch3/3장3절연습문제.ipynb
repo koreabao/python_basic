{
  "nbformat": 4,
  "nbformat_minor": 0,
  "metadata": {
    "colab": {
      "name": "3장3절연습문제.ipynb",
      "provenance": [],
      "authorship_tag": "ABX9TyMSyS3zqy7S1lktgGItwzFg",
      "include_colab_link": true
    },
    "kernelspec": {
      "name": "python3",
      "display_name": "Python 3"
    },
    "language_info": {
      "name": "python"
    }
  },
  "cells": [
    {
      "cell_type": "markdown",
      "metadata": {
        "id": "view-in-github",
        "colab_type": "text"
      },
      "source": [
        "<a href=\"https://colab.research.google.com/github/koreabao/python_basic/blob/main/ch3/3%EC%9E%A53%EC%A0%88%EC%97%B0%EC%8A%B5%EB%AC%B8%EC%A0%9C.ipynb\" target=\"_parent\"><img src=\"https://colab.research.google.com/assets/colab-badge.svg\" alt=\"Open In Colab\"/></a>"
      ]
    },
    {
      "cell_type": "markdown",
      "source": [
        "**세계 둘러보기** \n",
        "세계에서 가복 싶은 장소를 취소 한 다섯 곳 이상 생각하세요. \n",
        "1. 리스트에 다섯 장소를 저장하세요. 순서는 상관없습니다. \n",
        "2. 리스트를  원래 순서대로 출력하세요. \n",
        "3. 실제 리스트를 수정하지 말고  sorted()를 써서 리스트알파벳 순서로 출력하세요. \n",
        "4. 리스트를 다시 출력해서 여전히 원래 순서임을 확인하세요. \n",
        "5. 리스트의 원래순서 바꾸지 말고 sorted()를 써서 알파벳 반대 순서로 출력하세요. \n",
        "6. 리스를 다시 출력해서 여전히 원래 순어임을 확인 하세요. \n",
        "7. reverse()를 써서 리스트 순서를 바꾸세요. 리스트를 출력해서 순서가 바뀐 것을 확인하세요. \n",
        "8. reverse()를 써서 리스트 순서를 다시 바꾸세요. 출력해서 순서가 원래대로 돌아온 것을 확인하세요. \n",
        "9. sort()를 써서 리스트를 알파벳 순서로 정장하세요. 리스트를 출력해서 순서가 바뀐 것을 확인하세요. \n",
        "10. sort()를 써서 리스트를 알파벳 반대 순서로 저장하세요. 리스트를 출력해서 순서가 바뀐 것을 확인하세요. "
      ],
      "metadata": {
        "id": "-6_aadv2mwoN"
      }
    }
  ]
}