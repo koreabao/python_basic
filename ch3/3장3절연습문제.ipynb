{
  "nbformat": 4,
  "nbformat_minor": 0,
  "metadata": {
    "colab": {
      "name": "3장3절연습문제.ipynb",
      "provenance": [],
      "include_colab_link": true
    },
    "kernelspec": {
      "name": "python3",
      "display_name": "Python 3"
    },
    "language_info": {
      "name": "python"
    }
  },
  "cells": [
    {
      "cell_type": "markdown",
      "metadata": {
        "id": "view-in-github",
        "colab_type": "text"
      },
      "source": [
        "<a href=\"https://colab.research.google.com/github/koreabao/python_basic/blob/main/ch3/3%EC%9E%A53%EC%A0%88%EC%97%B0%EC%8A%B5%EB%AC%B8%EC%A0%9C.ipynb\" target=\"_parent\"><img src=\"https://colab.research.google.com/assets/colab-badge.svg\" alt=\"Open In Colab\"/></a>"
      ]
    },
    {
      "cell_type": "markdown",
      "source": [
        "**세계 둘러보기** \n",
        "세계에서 가보고 싶은 장소를 최소 한 다섯 곳 이상 생각하세요. \n",
        "1. 리스트에 다섯 장소를 저장하세요. 순서는 상관없습니다. \n",
        "2. 리스트를  원래 순서대로 출력하세요. \n",
        "3. 실제 리스트를 수정하지 말고  sorted()를 써서 리스트알파벳 순서로 출력하세요. \n",
        "4. 리스트를 다시 출력해서 여전히 원래 순서임을 확인하세요. \n",
        "5. 리스트의 원래순서 바꾸지 말고 sorted()를 써서 알파벳 반대 순서로 출력하세요. \n",
        "6. 리스를 다시 출력해서 여전히 원래 순어임을 확인 하세요. \n",
        "7. reverse()를 써서 리스트 순서를 바꾸세요. 리스트를 출력해서 순서가 바뀐 것을 확인하세요. \n",
        "8. reverse()를 써서 리스트 순서를 다시 바꾸세요. 출력해서 순서가 원래대로 돌아온 것을 확인하세요. \n",
        "9. sort()를 써서 리스트를 알파벳 순서로 정장하세요. 리스트를 출력해서 순서가 바뀐 것을 확인하세요. \n",
        "10. sort()를 써서 리스트를 알파벳 반대 순서로 저장하세요. 리스트를 출력해서 순서가 바뀐 것을 확인하세요. "
      ],
      "metadata": {
        "id": "-6_aadv2mwoN"
      }
    },
    {
      "cell_type": "code",
      "source": [
        "places = ['Korea','China','USA','France','UK']\n",
        "print(\"2 Original order:\")\n",
        "print(places)\n",
        "\n",
        "print(\"\\n3 Alphabetical order:\")\n",
        "print(sorted(places))\n",
        "\n",
        "print(\"\\n4 Original order again:\")\n",
        "print(places)\n",
        "\n",
        "print(\"\\n5 Reverse alphabetical:\")\n",
        "print(sorted(places,reverse=True))\n",
        "\n",
        "print(\"\\n6 Original order:\")\n",
        "print(places)\n",
        "\n",
        "print(\"\\n7 Reverse permanently:\")\n",
        "places.reverse()\n",
        "print(places)\n",
        "\n",
        "print(\"\\n8 Reverse permanently again:\")\n",
        "places.reverse()\n",
        "print(places)\n",
        "\n",
        "print(\"\\n9 Alphabetical:\")\n",
        "places.sort()\n",
        "print(places)\n",
        "\n",
        "print(\"\\n10 Reverse alphabetical:\")\n",
        "places.sort(reverse=True)\n",
        "print(places)"
      ],
      "metadata": {
        "id": "gFhieMEjqRO7",
        "outputId": "d5b64d87-018d-400e-8325-f82e7e047e88",
        "colab": {
          "base_uri": "https://localhost:8080/"
        }
      },
      "execution_count": 1,
      "outputs": [
        {
          "output_type": "stream",
          "name": "stdout",
          "text": [
            "2 Original order:\n",
            "['Korea', 'China', 'USA', 'France', 'UK']\n",
            "\n",
            "3 Alphabetical order:\n",
            "['China', 'France', 'Korea', 'UK', 'USA']\n",
            "\n",
            "4 Original order again:\n",
            "['Korea', 'China', 'USA', 'France', 'UK']\n",
            "\n",
            "5 Reverse alphabetical:\n",
            "['USA', 'UK', 'Korea', 'France', 'China']\n",
            "\n",
            "6 Original order:\n",
            "['Korea', 'China', 'USA', 'France', 'UK']\n",
            "\n",
            "7 Reverse permanently:\n",
            "['UK', 'France', 'USA', 'China', 'Korea']\n",
            "\n",
            "8 Reverse permanently again:\n",
            "['Korea', 'China', 'USA', 'France', 'UK']\n",
            "\n",
            "9 Alphabetical:\n",
            "['China', 'France', 'Korea', 'UK', 'USA']\n",
            "\n",
            "10 Reverse alphabetical:\n",
            "['USA', 'UK', 'Korea', 'France', 'China']\n"
          ]
        }
      ]
    }
  ]
}