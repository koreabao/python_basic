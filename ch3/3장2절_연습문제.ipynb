{
  "nbformat": 4,
  "nbformat_minor": 0,
  "metadata": {
    "colab": {
      "name": "3장2절 연습문제.ipynb",
      "provenance": [],
      "authorship_tag": "ABX9TyO+7SanbyZitHLU6vyi5KB5",
      "include_colab_link": true
    },
    "kernelspec": {
      "name": "python3",
      "display_name": "Python 3"
    },
    "language_info": {
      "name": "python"
    }
  },
  "cells": [
    {
      "cell_type": "markdown",
      "metadata": {
        "id": "view-in-github",
        "colab_type": "text"
      },
      "source": [
        "<a href=\"https://colab.research.google.com/github/koreabao/python_basic/blob/main/ch3/3%EC%9E%A52%EC%A0%88_%EC%97%B0%EC%8A%B5%EB%AC%B8%EC%A0%9C.ipynb\" target=\"_parent\"><img src=\"https://colab.research.google.com/assets/colab-badge.svg\" alt=\"Open In Colab\"/></a>"
      ]
    },
    {
      "cell_type": "markdown",
      "source": [
        "**3_4. 손님 리스트** \n",
        "\n",
        "누군가 저녁에 초대한다면 누구를 초대하겠습니까?\n",
        "\n",
        "guests 리스트를 만들고 값으로 3명 이상을 넣어주세요.\n",
        "\n",
        "그다음 리스트를 이용해서 각 사람에게 보내는 메시지를 출력하세요. "
      ],
      "metadata": {
        "id": "RlyN8G73UWWH"
      }
    },
    {
      "cell_type": "markdown",
      "source": [
        "**3_5. 손님 리스트 바꾸기**\n",
        "\n",
        "손님 중 한명이 초대에 응할수 없다고 말했으니 새 리스트를 만들어야 합니다.\n",
        "\n",
        "초대할 다른 사람을 생각해보세요. \n",
        " \n",
        "1. 연습문제 3_4에서 작성한 프로그램에 이어서 마지막에 print 문을 추가해서 불참한 손님의 이름을 출력하세요. \n",
        "2. 리스트를 수정해서 불참한 손님의 이름을 새 손님의 이름을 새 손님 이름으로 바꾸세요. \n",
        "3. 아직 리스트에 있는 각 손님 앞으로 추대 메시지를 출력하세요. "
      ],
      "metadata": {
        "id": "i52Fmgj7Urln"
      }
    },
    {
      "cell_type": "markdown",
      "source": [
        "**3_6.  더 많은 손님:**\n",
        "\n",
        "식당에서 예약 인원을 늘릴 수 있다 하여 손님을 더 초대할 수 있습니다.\n",
        "\n",
        "저녁에 초대할 사람을 세 명 더 생각 하세요. \n",
        "\n",
        "연습문제 3_4나 3_5에서 프로그램을 시작하세요.\n",
        "\n",
        "프로그램 마지막에 print문을 추가해 삶들에게 더 큰 저녁 식탁을 발견했다고 알리세요.\n",
        "\n",
        "1. insert()를 써서 새 손님 한명을 리스트 맨 앞에 추가하세요. \n",
        "2. insert()를 써서 새 손님  한 명을 리스트 중간에 추가하세요. \n",
        "3. append()를 써서 새 손님 한명을 리스트 마지막에 추가하세요. \n",
        "4. 리스트에 있는 각 손님 앞으로 새 초대 메시지를 출력하세요. "
      ],
      "metadata": {
        "id": "VDLnhKToU4jc"
      }
    },
    {
      "cell_type": "markdown",
      "source": [
        "**3_7. 손님 리스트 줄이기**\n",
        "\n",
        "식당에서 예약에 혼선이 있었다며 연락이 왔습니다.\n",
        "두 자리만 예약할 수 있다고 합니다. \n",
        "\n",
        "1. 연습문제 3_6에서 프로그램을 시작하세요.\n",
        "\n",
        " 새 행을 추가해 저녁 식사에 손님을 두 명 밖에 초대 할 수 없다는 메시지를 출려하세요. \n",
        "\n",
        "2. 리스트에 두 명만 만을 때까지 pop()을 써서 한 번에 손님 이름 하나씩 리스트에서 제거하세요.\n",
        "\n",
        " 리스트에서 손님 이름을 꺼낼 때마다 저녁에 초대하지 못해 미안하다는 메시지를 출력하세요. \n",
        "3. 여전히 리스트에 아직 남아 있는 손님들에게 저녁 약속이 유효하다는 메시지를 출력하세요. \n",
        "4. del 문을 써서 리스트의 마지막 두 이름을 제거해 빈 리스트를 남기세요.\n",
        "\n",
        " 프로그램 마지막에 리스트를 출력해 실제 빈 리스트가 남아 있음을 확인하세요.   \n"
      ],
      "metadata": {
        "id": "0aVsNeRjVEdP"
      }
    }
  ]
}