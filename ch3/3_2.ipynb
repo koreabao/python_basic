{
  "nbformat": 4,
  "nbformat_minor": 0,
  "metadata": {
    "colab": {
      "name": "3_2.ipynb",
      "provenance": [],
      "authorship_tag": "ABX9TyPd0o+ZWE12kYcoXqhCBXDM",
      "include_colab_link": true
    },
    "kernelspec": {
      "name": "python3",
      "display_name": "Python 3"
    },
    "language_info": {
      "name": "python"
    }
  },
  "cells": [
    {
      "cell_type": "markdown",
      "metadata": {
        "id": "view-in-github",
        "colab_type": "text"
      },
      "source": [
        "<a href=\"https://colab.research.google.com/github/koreabao/python_basic/blob/main/ch3/3_2.ipynb\" target=\"_parent\"><img src=\"https://colab.research.google.com/assets/colab-badge.svg\" alt=\"Open In Colab\"/></a>"
      ]
    },
    {
      "cell_type": "markdown",
      "source": [
        "## **3.2 Changing, Adding, and Removing Elements**\n",
        "\n"
      ],
      "metadata": {
        "id": "3yFfT7Tksbva"
      }
    },
    {
      "cell_type": "markdown",
      "source": [
        "### **3.2.1 Modifying Elements in a List**  \n",
        "1. To change an element, use the name of the list followed by the index of the element you want to change\n",
        "\n",
        "2. provide the new value you want that item to have."
      ],
      "metadata": {
        "id": "vPGbDHgMuwu4"
      }
    },
    {
      "cell_type": "code",
      "source": [
        "motorcycles = ['honda', 'yamaha', 'suzuki']\n",
        "print(motorcycles) "
      ],
      "metadata": {
        "colab": {
          "base_uri": "https://localhost:8080/"
        },
        "id": "AnhiId_qu5vG",
        "outputId": "d2f5c06d-8b2e-4f0d-ac04-cce7d600f940"
      },
      "execution_count": 1,
      "outputs": [
        {
          "output_type": "stream",
          "name": "stdout",
          "text": [
            "['honda', 'yamaha', 'suzuki']\n"
          ]
        }
      ]
    },
    {
      "cell_type": "code",
      "source": [
        "motorcycles = ['honda', 'yamaha', 'suzuki']\n",
        "motorcycles[0] = 'ducati'\n",
        "print(motorcycles) "
      ],
      "metadata": {
        "colab": {
          "base_uri": "https://localhost:8080/"
        },
        "id": "uuLF2kO0u575",
        "outputId": "77f536f7-00bd-4e32-d0d2-d4a550d97431"
      },
      "execution_count": 3,
      "outputs": [
        {
          "output_type": "stream",
          "name": "stdout",
          "text": [
            "['ducati', 'yamaha', 'suzuki']\n"
          ]
        }
      ]
    },
    {
      "cell_type": "markdown",
      "source": [
        "### **3.2.2 Adding Elements to a List**\n",
        "\n",
        "1. Appending Elements to the End of a List\n",
        "2. Inserting Elements into a List"
      ],
      "metadata": {
        "id": "n9e_GWkPu6Eq"
      }
    }
  ]
}