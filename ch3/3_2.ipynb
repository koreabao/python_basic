{
  "nbformat": 4,
  "nbformat_minor": 0,
  "metadata": {
    "colab": {
      "name": "3_2.ipynb",
      "provenance": [],
      "authorship_tag": "ABX9TyPQBYcpfRuQMd2qwlzHfN7K",
      "include_colab_link": true
    },
    "kernelspec": {
      "name": "python3",
      "display_name": "Python 3"
    },
    "language_info": {
      "name": "python"
    }
  },
  "cells": [
    {
      "cell_type": "markdown",
      "metadata": {
        "id": "view-in-github",
        "colab_type": "text"
      },
      "source": [
        "<a href=\"https://colab.research.google.com/github/koreabao/python_basic/blob/main/ch3/3_2.ipynb\" target=\"_parent\"><img src=\"https://colab.research.google.com/assets/colab-badge.svg\" alt=\"Open In Colab\"/></a>"
      ]
    },
    {
      "cell_type": "markdown",
      "source": [
        "## **3.2 Changing, Adding, and Removing Elements**\n",
        "\n"
      ],
      "metadata": {
        "id": "3yFfT7Tksbva"
      }
    },
    {
      "cell_type": "markdown",
      "source": [
        "### **3.2.1 Modifying Elements in a List**  \n",
        "1. To change an element, use the name of the list followed by the index of the element you want to change\n",
        "\n",
        "2. provide the new value you want that item to have."
      ],
      "metadata": {
        "id": "vPGbDHgMuwu4"
      }
    },
    {
      "cell_type": "code",
      "source": [
        "motorcycles = ['honda', 'yamaha', 'suzuki']\n",
        "print(motorcycles) "
      ],
      "metadata": {
        "colab": {
          "base_uri": "https://localhost:8080/"
        },
        "id": "AnhiId_qu5vG",
        "outputId": "d2f5c06d-8b2e-4f0d-ac04-cce7d600f940"
      },
      "execution_count": null,
      "outputs": [
        {
          "output_type": "stream",
          "name": "stdout",
          "text": [
            "['honda', 'yamaha', 'suzuki']\n"
          ]
        }
      ]
    },
    {
      "cell_type": "code",
      "source": [
        "motorcycles = ['honda', 'yamaha', 'suzuki']\n",
        "motorcycles[0] = 'ducati'\n",
        "print(motorcycles) "
      ],
      "metadata": {
        "colab": {
          "base_uri": "https://localhost:8080/"
        },
        "id": "uuLF2kO0u575",
        "outputId": "77f536f7-00bd-4e32-d0d2-d4a550d97431"
      },
      "execution_count": null,
      "outputs": [
        {
          "output_type": "stream",
          "name": "stdout",
          "text": [
            "['ducati', 'yamaha', 'suzuki']\n"
          ]
        }
      ]
    },
    {
      "cell_type": "markdown",
      "source": [
        "### **3.2.2 Adding Elements to a List**\n",
        "\n",
        "1. Appending Elements to the End of a List\n",
        "2. Inserting Elements into a List"
      ],
      "metadata": {
        "id": "n9e_GWkPu6Eq"
      }
    },
    {
      "cell_type": "code",
      "source": [
        "motorcycles = ['honda', 'yamaha', 'suzuki']\n",
        "print(motorcycles)\n",
        "\n",
        "motorcycles.append('ducati')\n",
        "print(motorcycles)\n"
      ],
      "metadata": {
        "colab": {
          "base_uri": "https://localhost:8080/"
        },
        "id": "KDI2cMtI22Dp",
        "outputId": "ef5e6fe1-e259-490a-92d7-6397972b4cfe"
      },
      "execution_count": 7,
      "outputs": [
        {
          "output_type": "stream",
          "name": "stdout",
          "text": [
            "['honda', 'yamaha', 'suzuki']\n",
            "['honda', 'yamaha', 'suzuki', 'ducati']\n",
            "['honda', 'yamaha', 'suzuki', 'ducati', 'hualong']\n"
          ]
        }
      ]
    },
    {
      "cell_type": "code",
      "source": [
        "motorcycles = ['honda', 'yamaha', 'suzuki']\n",
        "motorcycles.extend(['book','love'])\n",
        "a = motorcycles\n",
        "print(motorcycles)\n",
        "type(a)\n"
      ],
      "metadata": {
        "colab": {
          "base_uri": "https://localhost:8080/"
        },
        "id": "U1IAh9h4F5Dh",
        "outputId": "3860350e-0826-405c-fa10-1f95d363cd51"
      },
      "execution_count": 28,
      "outputs": [
        {
          "output_type": "stream",
          "name": "stdout",
          "text": [
            "['honda', 'yamaha', 'suzuki', 'book', 'love']\n"
          ]
        },
        {
          "output_type": "execute_result",
          "data": {
            "text/plain": [
              "list"
            ]
          },
          "metadata": {},
          "execution_count": 28
        }
      ]
    },
    {
      "cell_type": "code",
      "source": [
        "motorcycles = [] \n",
        "motorcycles.append('honda')\n",
        "motorcycles.append('yamaha')\n",
        "motorcycles.append('suzuk')\n",
        "motorcycles"
      ],
      "metadata": {
        "id": "6Cmv3tnTWRdC",
        "outputId": "861a8a8b-9883-4e94-e23f-6ff9f2c505c3",
        "colab": {
          "base_uri": "https://localhost:8080/"
        }
      },
      "execution_count": 34,
      "outputs": [
        {
          "output_type": "execute_result",
          "data": {
            "text/plain": [
              "['honda', 'yamaha', 'suzuk']"
            ]
          },
          "metadata": {},
          "execution_count": 34
        }
      ]
    },
    {
      "cell_type": "markdown",
      "source": [
        "2. Inserting Elements into a List"
      ],
      "metadata": {
        "id": "nEPLSpZtpbUD"
      }
    },
    {
      "cell_type": "code",
      "source": [
        "motorcycles = ['honda', 'yamaha', 'suzuki']\n",
        "motorcycles.insert(0, 'ducati')\n",
        "print(motorcycles)"
      ],
      "metadata": {
        "id": "03oWX2AWpfKk",
        "outputId": "e8957bd2-e178-4f15-cacd-9ccd40e423ae",
        "colab": {
          "base_uri": "https://localhost:8080/"
        }
      },
      "execution_count": 35,
      "outputs": [
        {
          "output_type": "stream",
          "name": "stdout",
          "text": [
            "['ducati', 'honda', 'yamaha', 'suzuki']\n"
          ]
        }
      ]
    },
    {
      "cell_type": "markdown",
      "source": [
        "### **3.2.3 Removing Elements from a List**\n",
        "\n",
        "You’ll want to remove an item or a set of items from a list.\n",
        "\n",
        "You can remove an item according to its position in the list or according to its value\n",
        "\n",
        "1. Removing an Item Using the del Statement\n"
      ],
      "metadata": {
        "id": "JVlEcg7vpgI5"
      }
    },
    {
      "cell_type": "code",
      "source": [
        "motorcycles = ['honda', 'yamaha', 'suzuki']\n",
        "print(motorcycles)\n",
        "\n",
        "del motorcycles[0]\n",
        "print(motorcycles)"
      ],
      "metadata": {
        "id": "wDmnLn_MpgWL",
        "outputId": "2cfa9a79-b5be-4eac-bb0d-6ffd1054f672",
        "colab": {
          "base_uri": "https://localhost:8080/"
        }
      },
      "execution_count": 40,
      "outputs": [
        {
          "output_type": "stream",
          "name": "stdout",
          "text": [
            "['honda', 'yamaha', 'suzuki']\n",
            "['yamaha', 'suzuki']\n"
          ]
        }
      ]
    },
    {
      "cell_type": "markdown",
      "source": [
        "2. Removing an Item Using the pop() Method\n",
        "\n",
        " The pop() method removes the last item in a list, but it lets you work\n",
        "with that item after removing it."
      ],
      "metadata": {
        "id": "KT9YEqb9q1Eg"
      }
    },
    {
      "cell_type": "code",
      "source": [
        "motorcycles = ['honda', 'yamaha', 'suzuki']\n",
        "print(motorcycles)\n",
        "\n",
        "popped_motorcycle = motorcycles.pop()\n",
        "print(motorcycles)\n",
        "print(popped_motorcycle)"
      ],
      "metadata": {
        "id": "cIZRBM7OrUe0",
        "outputId": "aadf9276-f706-4ee6-e896-78abfac18c77",
        "colab": {
          "base_uri": "https://localhost:8080/"
        }
      },
      "execution_count": 41,
      "outputs": [
        {
          "output_type": "stream",
          "name": "stdout",
          "text": [
            "['honda', 'yamaha', 'suzuki']\n",
            "['honda', 'yamaha']\n",
            "suzuki\n"
          ]
        }
      ]
    },
    {
      "cell_type": "markdown",
      "source": [
        "Imagine that the motorcycles in the list are stored in chronological(발생[시간] 순서대로 된) order according to when we owned them.\n",
        "\n",
        "If this is the case, we can use the pop() method to print a statement\n",
        "about the last motorcycle we bought"
      ],
      "metadata": {
        "id": "2qD2XtcArreG"
      }
    }
  ]
}