{
  "nbformat": 4,
  "nbformat_minor": 0,
  "metadata": {
    "colab": {
      "name": "3_2.ipynb",
      "provenance": [],
      "include_colab_link": true
    },
    "kernelspec": {
      "name": "python3",
      "display_name": "Python 3"
    },
    "language_info": {
      "name": "python"
    }
  },
  "cells": [
    {
      "cell_type": "markdown",
      "metadata": {
        "id": "view-in-github",
        "colab_type": "text"
      },
      "source": [
        "<a href=\"https://colab.research.google.com/github/koreabao/python_basic/blob/main/ch3/3_2.ipynb\" target=\"_parent\"><img src=\"https://colab.research.google.com/assets/colab-badge.svg\" alt=\"Open In Colab\"/></a>"
      ]
    },
    {
      "cell_type": "markdown",
      "source": [
        "## **3.2 Changing, Adding, and Removing Elements**\n",
        "\n"
      ],
      "metadata": {
        "id": "3yFfT7Tksbva"
      }
    },
    {
      "cell_type": "markdown",
      "source": [
        "### **3.2.1 Modifying Elements in a List 목록의 요소 수정**  \n",
        "1. To change an element, use the name of the list followed by the index of the element you want to change\n",
        "\n",
        " 요소를 변경하려면 목록 이름 뒤에 변경하려는 요소의 인덱스를 사용하십시오.\n",
        "\n",
        "2. provide the new value you want that item to have.\n",
        "\n",
        " 해당 항목에 원하는 새 값을 제공합니다."
      ],
      "metadata": {
        "id": "vPGbDHgMuwu4"
      }
    },
    {
      "cell_type": "code",
      "source": [
        "motorcycles = ['honda', 'yamaha', 'suzuki']\n",
        "print(motorcycles) "
      ],
      "metadata": {
        "colab": {
          "base_uri": "https://localhost:8080/"
        },
        "id": "AnhiId_qu5vG",
        "outputId": "d2f5c06d-8b2e-4f0d-ac04-cce7d600f940"
      },
      "execution_count": null,
      "outputs": [
        {
          "output_type": "stream",
          "name": "stdout",
          "text": [
            "['honda', 'yamaha', 'suzuki']\n"
          ]
        }
      ]
    },
    {
      "cell_type": "code",
      "source": [
        "motorcycles = ['honda', 'yamaha', 'suzuki']\n",
        "motorcycles[0] = 'ducati'\n",
        "print(motorcycles)"
      ],
      "metadata": {
        "colab": {
          "base_uri": "https://localhost:8080/"
        },
        "id": "uuLF2kO0u575",
        "outputId": "5fc79f20-3334-47e8-b67b-bbf2d98c51ac"
      },
      "execution_count": 2,
      "outputs": [
        {
          "output_type": "stream",
          "name": "stdout",
          "text": [
            "['ducati', 'yamaha', 'suzuki']\n"
          ]
        },
        {
          "output_type": "execute_result",
          "data": {
            "text/plain": [
              "['ducati', 'yamaha', 'suzuki']"
            ]
          },
          "metadata": {},
          "execution_count": 2
        }
      ]
    },
    {
      "cell_type": "markdown",
      "source": [
        "### **3.2.2 Adding Elements to a List 리스터에 요소추가**\n",
        "\n",
        "**1. Appending Elements to the End of a List**\n",
        "\n",
        " 리스트 끝에 요소 추가\n"
      ],
      "metadata": {
        "id": "n9e_GWkPu6Eq"
      }
    },
    {
      "cell_type": "code",
      "source": [
        "motorcycles = ['honda', 'yamaha', 'suzuki']\n",
        "print(motorcycles)\n",
        "\n",
        "motorcycles.append('ducati')\n",
        "print(motorcycles)\n"
      ],
      "metadata": {
        "colab": {
          "base_uri": "https://localhost:8080/"
        },
        "id": "KDI2cMtI22Dp",
        "outputId": "0873b870-f5cc-4209-f492-1b6099fcd6f5"
      },
      "execution_count": 6,
      "outputs": [
        {
          "output_type": "stream",
          "name": "stdout",
          "text": [
            "['honda', 'yamaha', 'suzuki']\n",
            "['honda', 'yamaha', 'suzuki', 'ducati']\n"
          ]
        }
      ]
    },
    {
      "cell_type": "code",
      "source": [
        "motorcycles = ['honda', 'yamaha', 'suzuki']\n",
        "motorcycles.extend(['book','love'])\n",
        "a = motorcycles\n",
        "print(motorcycles)\n",
        "type(a)\n"
      ],
      "metadata": {
        "colab": {
          "base_uri": "https://localhost:8080/"
        },
        "id": "U1IAh9h4F5Dh",
        "outputId": "a6156bd4-0d57-48cb-a1e0-1c89fc12f725"
      },
      "execution_count": 4,
      "outputs": [
        {
          "output_type": "stream",
          "name": "stdout",
          "text": [
            "['honda', 'yamaha', 'suzuki', 'book', 'love']\n"
          ]
        },
        {
          "output_type": "execute_result",
          "data": {
            "text/plain": [
              "list"
            ]
          },
          "metadata": {},
          "execution_count": 4
        }
      ]
    },
    {
      "cell_type": "code",
      "source": [
        "motorcycles = [] \n",
        "motorcycles.append('honda')\n",
        "motorcycles.append('yamaha')\n",
        "motorcycles.append('suzuk')\n",
        "motorcycles"
      ],
      "metadata": {
        "id": "6Cmv3tnTWRdC",
        "outputId": "861a8a8b-9883-4e94-e23f-6ff9f2c505c3",
        "colab": {
          "base_uri": "https://localhost:8080/"
        }
      },
      "execution_count": null,
      "outputs": [
        {
          "output_type": "execute_result",
          "data": {
            "text/plain": [
              "['honda', 'yamaha', 'suzuk']"
            ]
          },
          "metadata": {},
          "execution_count": 34
        }
      ]
    },
    {
      "cell_type": "markdown",
      "source": [
        "**2. Inserting Elements into a List**\n",
        "\n",
        " **리스트에 요소 삽입하기**"
      ],
      "metadata": {
        "id": "nEPLSpZtpbUD"
      }
    },
    {
      "cell_type": "code",
      "source": [
        "motorcycles = ['honda', 'yamaha', 'suzuki']\n",
        "motorcycles.insert(0, 'ducati')\n",
        "print(motorcycles)"
      ],
      "metadata": {
        "id": "03oWX2AWpfKk",
        "outputId": "80161d2a-a435-41a1-d8f3-0a748df62165",
        "colab": {
          "base_uri": "https://localhost:8080/"
        }
      },
      "execution_count": 8,
      "outputs": [
        {
          "output_type": "stream",
          "name": "stdout",
          "text": [
            "['ducati', 'honda', 'yamaha', 'suzuki']\n"
          ]
        }
      ]
    },
    {
      "cell_type": "markdown",
      "source": [
        "### **3.2.3 Removing Elements from a List리스트에서 요소제거**\n",
        "\n",
        "You’ll want to remove an item or a set of items from a list.\n",
        "\n",
        "You can remove an item according to its position in the list or according to its value\n",
        "\n",
        "**1. Removing an Item Using the del Statement** \n",
        "\n",
        " **del**\n"
      ],
      "metadata": {
        "id": "JVlEcg7vpgI5"
      }
    },
    {
      "cell_type": "code",
      "source": [
        "motorcycles = ['honda', 'yamaha', 'suzuki']\n",
        "print(motorcycles)\n",
        "\n",
        "del motorcycles[0]\n",
        "print(motorcycles)"
      ],
      "metadata": {
        "id": "wDmnLn_MpgWL",
        "outputId": "2cfa9a79-b5be-4eac-bb0d-6ffd1054f672",
        "colab": {
          "base_uri": "https://localhost:8080/"
        }
      },
      "execution_count": null,
      "outputs": [
        {
          "output_type": "stream",
          "name": "stdout",
          "text": [
            "['honda', 'yamaha', 'suzuki']\n",
            "['yamaha', 'suzuki']\n"
          ]
        }
      ]
    },
    {
      "cell_type": "markdown",
      "source": [
        "**2. Removing an Item Using the pop() Method**\n",
        "\n",
        " The **pop()** method removes the last item in a list, but it lets you work\n",
        "with that item after removing it."
      ],
      "metadata": {
        "id": "KT9YEqb9q1Eg"
      }
    },
    {
      "cell_type": "code",
      "source": [
        "motorcycles = ['honda', 'yamaha', 'suzuki']\n",
        "print(motorcycles)\n",
        "\n",
        "popped_motorcycle = motorcycles.pop()\n",
        "print(motorcycles)\n",
        "print(popped_motorcycle)"
      ],
      "metadata": {
        "id": "cIZRBM7OrUe0",
        "outputId": "aadf9276-f706-4ee6-e896-78abfac18c77",
        "colab": {
          "base_uri": "https://localhost:8080/"
        }
      },
      "execution_count": null,
      "outputs": [
        {
          "output_type": "stream",
          "name": "stdout",
          "text": [
            "['honda', 'yamaha', 'suzuki']\n",
            "['honda', 'yamaha']\n",
            "suzuki\n"
          ]
        }
      ]
    },
    {
      "cell_type": "markdown",
      "source": [
        "Imagine that the motorcycles in the list are stored in chronological(발생[시간] 순서대로 된) order according to when we owned them.\n",
        "\n",
        "If this is the case, we can use the pop() method to print a statement\n",
        "about the last motorcycle we bought"
      ],
      "metadata": {
        "id": "2qD2XtcArreG"
      }
    },
    {
      "cell_type": "code",
      "source": [
        "motorcycles = ['honda', 'yamaha', 'suzuki']\n",
        "last_owned = motorcycles.pop()\n",
        "\n",
        "print(f'My last motorcycles I owned was a {last_owned.title()}.')"
      ],
      "metadata": {
        "colab": {
          "base_uri": "https://localhost:8080/"
        },
        "id": "dp9CSThvE7Dm",
        "outputId": "d008afc4-ddd9-4957-eb72-8e1b9bdb8c3d"
      },
      "execution_count": null,
      "outputs": [
        {
          "output_type": "stream",
          "name": "stdout",
          "text": [
            "My last motorcycles I owned was a Suzuki.\n"
          ]
        }
      ]
    },
    {
      "cell_type": "markdown",
      "source": [
        "**3. Popping Items from any Position in a List**\n",
        "\n",
        "You can use pop() to remove an item from any position in a list\n",
        "\n",
        "by including the index of the item you want to remove in parentheses"
      ],
      "metadata": {
        "id": "cEm4Fsk3GYli"
      }
    },
    {
      "cell_type": "code",
      "source": [
        "motorcycles = ['honda', 'yamaha', 'suzuki']\n",
        "first_owned = motorcycles.pop(0)\n",
        "\n",
        "print(f'내가 산 첫 모터사이클은 {first_owned}이다.')"
      ],
      "metadata": {
        "colab": {
          "base_uri": "https://localhost:8080/"
        },
        "id": "5IfJx1YVHTMK",
        "outputId": "540ef282-c5b8-4db2-d44e-5e86901a7e6f"
      },
      "execution_count": 1,
      "outputs": [
        {
          "output_type": "stream",
          "name": "stdout",
          "text": [
            "내가 산 첫 모터사이클은 honda이다.\n"
          ]
        }
      ]
    },
    {
      "cell_type": "markdown",
      "source": [
        "**4. Removing an Item by Value**"
      ],
      "metadata": {
        "id": "PfzLUg5AIuPT"
      }
    },
    {
      "cell_type": "markdown",
      "source": [
        "You won’t know the position of the value you want to remove\n",
        "from a list.\n",
        "\n",
        "You only know the **value** of the item you want to remove\n",
        "\n",
        "**you can use the remove() method**"
      ],
      "metadata": {
        "id": "ShptJdd7I0xZ"
      }
    },
    {
      "cell_type": "code",
      "source": [
        "motorcycles = ['honda', 'yamaha', 'suzuki', 'ducati']\n",
        "print(motorcycles)\n",
        "\n",
        "motorcycles.remove('ducati')\n",
        "print(motorcycles)"
      ],
      "metadata": {
        "colab": {
          "base_uri": "https://localhost:8080/"
        },
        "id": "jHcSaQX-I31i",
        "outputId": "6849af7e-242e-4eb5-889a-d088b59ed730"
      },
      "execution_count": null,
      "outputs": [
        {
          "output_type": "stream",
          "name": "stdout",
          "text": [
            "['honda', 'yamaha', 'suzuki', 'ducati']\n",
            "['honda', 'yamaha', 'suzuki']\n"
          ]
        }
      ]
    },
    {
      "cell_type": "markdown",
      "source": [
        "You can also use the remove() method to work with a value that’s being removed from a list.\n",
        "\n",
        "Let’s remove the value 'ducati' and print a reason for removing it from the list:"
      ],
      "metadata": {
        "id": "pHZ6COmHKS8w"
      }
    },
    {
      "cell_type": "code",
      "source": [
        "motorcycles = ['honda', 'yamaha', 'suzuki', 'ducati']\n",
        "print(motorcycles)\n",
        "\n",
        "too_expensive = 'ducati'\n",
        "motorcycles.remove(too_expensive)\n",
        "print(motorcycles)\n",
        "print(f\"\\nA {too_expensive.title()} is too expensive for me.\")"
      ],
      "metadata": {
        "id": "qkpYS35AKZ3o"
      },
      "execution_count": null,
      "outputs": []
    },
    {
      "cell_type": "markdown",
      "source": [
        "## **연습문제**\n",
        "\n",
        "**3-4.Guest List:**\n",
        "\n",
        "If you could invite anyone, living or deceased, to dinner, who\n",
        "would you invite? Make a list that includes at least three people you’d like to\n",
        "invite to dinner. Then use your list to print a message to each person, inviting\n",
        "them to dinner.\n",
        "\n"
      ],
      "metadata": {
        "id": "m7GdiZ6-L4Oy"
      }
    },
    {
      "cell_type": "code",
      "source": [
        "guests = ['hwaryong','mihyeon','hyewon','taewon']\n",
        "\n",
        "message = f\"{guests[0].title()}, come to dinner!\"\n",
        "print(message)\n",
        "message = f\"{guests[1].title()}, come to dinner!\"\n",
        "print(message)\n",
        "message = f\"{guests[2].title()}, come to dinner!\"\n",
        "print(message)\n",
        "message = f\"{guests[3].title()}, come to dinner!\"\n",
        "print(message)"
      ],
      "metadata": {
        "id": "HJPW5402PfO-",
        "outputId": "f2805e28-5113-4452-c805-92ea1fe7808e",
        "colab": {
          "base_uri": "https://localhost:8080/"
        }
      },
      "execution_count": 10,
      "outputs": [
        {
          "output_type": "stream",
          "name": "stdout",
          "text": [
            "Hwaryong, come to dinner!\n",
            "Mihyeon, come to dinner!\n",
            "Hyewon, come to dinner!\n",
            "Taewon, come to dinner!\n"
          ]
        }
      ]
    },
    {
      "cell_type": "markdown",
      "source": [
        "**3-5. Changing Guest List:** \n",
        "\n",
        "You just heard that one of your guests can’t make the dinner, so you need to send out a new set of invitations.\n",
        "\n",
        "You’ll have to think of someone else to invite.\n",
        "\n",
        "• Start with your program from Exercise 3-4. Add a print() call at the end\n",
        "of your program stating the name of the guest who can’t make it.\n",
        "\n",
        "• Modify your list, replacing the name of the guest who can’t make it with\n",
        "the name of the new person you are inviting.\n",
        "\n",
        "• Print a second set of invitation messages, one for each person who is still\n",
        "in your list.\n"
      ],
      "metadata": {
        "id": "Eo8RJJ77MTUD"
      }
    },
    {
      "cell_type": "code",
      "source": [
        "guests = ['hwaryong','mihyeon','hyewon','taewon']\n",
        "print(f\"{guests[0].title()} can't come to dinner!\" )\n",
        "guests[0] = 'kevin'\n",
        "message = f\"{guests[0].title()}, come to dinner!\"\n",
        "print(message)\n",
        "message = f\"{guests[1].title()}, come to dinner!\"\n",
        "print(message)\n",
        "message = f\"{guests[2].title()}, come to dinner!\"\n",
        "print(message)\n",
        "message = f\"{guests[3].title()}, come to dinner!\"\n",
        "print(message)\n"
      ],
      "metadata": {
        "id": "UpVJnXiJRykM",
        "outputId": "d62aa45d-36ae-4013-d762-11fd34eb8f7e",
        "colab": {
          "base_uri": "https://localhost:8080/"
        }
      },
      "execution_count": 11,
      "outputs": [
        {
          "output_type": "stream",
          "name": "stdout",
          "text": [
            "Hwaryong can't come to dinner!\n",
            "Kevin, come to dinner!\n",
            "Mihyeon, come to dinner!\n",
            "Hyewon, come to dinner!\n",
            "Taewon, come to dinner!\n"
          ]
        }
      ]
    },
    {
      "cell_type": "markdown",
      "source": [
        "**3-6. More Guests:**\n",
        "\n",
        "You just found a bigger dinner table, so now more space is available.\n",
        "\n",
        "Think of three more guests to invite to dinner.\n",
        "\n",
        "• Start with your program from Exercise 3-4 or Exercise 3-5. Add a print()\n",
        "call to the end of your program informing people that you found a bigger\n",
        "dinner table.\n",
        "\n",
        "• Use insert() to add one new guest to the beginning of your list.\n",
        "\n",
        "• Use insert() to add one new guest to the middle of your list.\n",
        "\n",
        "• Use append() to add one new guest to the end of your list.\n",
        "\n",
        "• Print a new set of invitation messages, one for each person in your list."
      ],
      "metadata": {
        "id": "J6mq0u8hM_Xj"
      }
    },
    {
      "cell_type": "code",
      "source": [
        "guests = ['hwaryong','mihyeon','hyewon','taewon']\n",
        "print(f\"{guests[0].title()} can't come to dinner!\" )\n",
        "guests[0] = 'kevin'\n",
        "print(guests)\n",
        "message = f\"{guests[0].title()}, come to dinner!\"\n",
        "print(message)\n",
        "message = f\"{guests[1].title()}, come to dinner!\"\n",
        "print(message)\n",
        "message = f\"{guests[2].title()}, come to dinner!\"\n",
        "print(message)\n",
        "message = f\"{guests[3].title()}, come to dinner!\"\n",
        "print(message)\n",
        "print(\"I just found a bigger dinner table!\")\n",
        "\n",
        "guests.insert(0,'tom')\n",
        "guests.insert(2,'alna')\n",
        "guests.append('wade')\n",
        "print(guests)\n",
        "\n",
        "message = f\"{guests[0].title()}, come to dinner!\"\n",
        "print(message)\n",
        "message = f\"{guests[1].title()}, come to dinner!\"\n",
        "print(message)\n",
        "message = f\"{guests[2].title()}, come to dinner!\"\n",
        "print(message)\n",
        "message = f\"{guests[3].title()}, come to dinner!\"\n",
        "print(message)\n",
        "message = f\"{guests[4].title()}, come to dinner!\"\n",
        "print(message)\n",
        "message = f\"{guests[5].title()}, come to dinner!\"\n",
        "print(message)\n",
        "message = f\"{guests[6].title()}, come to dinner!\"\n",
        "print(message)"
      ],
      "metadata": {
        "id": "q95jsyL72niU",
        "outputId": "ae550de5-c396-4254-9147-d7a9994e8ffa",
        "colab": {
          "base_uri": "https://localhost:8080/"
        }
      },
      "execution_count": 18,
      "outputs": [
        {
          "output_type": "stream",
          "name": "stdout",
          "text": [
            "Hwaryong can't come to dinner!\n",
            "['kevin', 'mihyeon', 'hyewon', 'taewon']\n",
            "Kevin, come to dinner!\n",
            "Mihyeon, come to dinner!\n",
            "Hyewon, come to dinner!\n",
            "Taewon, come to dinner!\n",
            "I just found a bigger dinner table!\n",
            "['tom', 'kevin', 'alna', 'mihyeon', 'hyewon', 'taewon', 'wade']\n",
            "Tom, come to dinner!\n",
            "Kevin, come to dinner!\n",
            "Alna, come to dinner!\n",
            "Mihyeon, come to dinner!\n",
            "Hyewon, come to dinner!\n",
            "Taewon, come to dinner!\n",
            "Wade, come to dinner!\n"
          ]
        }
      ]
    },
    {
      "cell_type": "markdown",
      "source": [
        "**3-7. Shrinking Guest List:**\n",
        "\n",
        "You just found out that your new dinner table won’t arrive in time for the dinner, and you have space for only two guests.\n",
        "\n",
        "• Start with your program from Exercise 3-6. Add a new line that prints a\n",
        "message saying that you can invite only two people for dinner.\n",
        "\n",
        "• Use pop() to remove guests from your list one at a time until only two\n",
        "names remain in your list.\n",
        "\n",
        "Each time you pop a name from your list, print a message to that person letting them know you’re sorry you can’t invite them to dinner.\n",
        "\n",
        "• Print a message to each of the two people still on your list, letting them\n",
        "know they’re still invited.\n",
        "\n",
        "• Use del to remove the last two names from your list, so you have an empty\n",
        "list. \n",
        "\n",
        "Print your list to make sure you actually have an empty list at the end\n",
        "of your program."
      ],
      "metadata": {
        "id": "xmFsGTLfN58p"
      }
    },
    {
      "cell_type": "code",
      "source": [
        "guests = ['tom', 'kevin', 'alna', 'mihyeon', 'hyewon', 'taewon', 'wade']\n",
        "print(\"I can invite only two people for dinner!\")\n",
        "popped_guest = guests.pop()\n",
        "message = f\"\\nI am so sorry {popped_guest.title()}, I can't invite you!\"\n",
        "print(message)\n",
        "\n",
        "popped_guest = guests.pop()\n",
        "message = f\"\\nI am so sorry {popped_guest.title()}, I can't invite you!\"\n",
        "print(message)\n",
        "\n",
        "popped_guest = guests.pop()\n",
        "message = f\"\\nI am so sorry {popped_guest.title()}, I can't invite you!\"\n",
        "print(message)\n",
        "\n",
        "popped_guest = guests.pop()\n",
        "message = f\"\\nI am so sorry {popped_guest.title()}, I can't invite you!\"\n",
        "print(message)\n",
        "\n",
        "popped_guest = guests.pop()\n",
        "message = f\"\\nI am so sorry {popped_guest.title()}, I can't invite you!\"\n",
        "print(message)\n",
        "\n",
        "message = f\"\\n{guests[0].title()}, you are still invited\"\n",
        "print(message)\n",
        "\n",
        "message = f\"\\n{guests[1].title()}, you are still invited\\n\"\n",
        "print(message)\n",
        "\n",
        "#del guests[:]\n",
        "del guests[1]\n",
        "del guests[0]\n",
        "print(guests)"
      ],
      "metadata": {
        "id": "cXsmIWoD5Ei8",
        "outputId": "969ecd85-1de9-4c1c-e7ba-bb9f654393fa",
        "colab": {
          "base_uri": "https://localhost:8080/"
        }
      },
      "execution_count": 56,
      "outputs": [
        {
          "output_type": "stream",
          "name": "stdout",
          "text": [
            "I can invite only two people for dinner!\n",
            "\n",
            "I am so sorry Wade, I can't invite you!\n",
            "\n",
            "I am so sorry Taewon, I can't invite you!\n",
            "\n",
            "I am so sorry Hyewon, I can't invite you!\n",
            "\n",
            "I am so sorry Mihyeon, I can't invite you!\n",
            "\n",
            "I am so sorry Alna, I can't invite you!\n",
            "\n",
            "Tom, you are still invited\n",
            "\n",
            "Kevin, you are still invited\n",
            "\n",
            "[]\n"
          ]
        }
      ]
    }
  ]
}