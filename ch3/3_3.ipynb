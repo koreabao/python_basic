{
  "nbformat": 4,
  "nbformat_minor": 0,
  "metadata": {
    "colab": {
      "name": "3_3.ipynb",
      "provenance": [],
      "include_colab_link": true
    },
    "kernelspec": {
      "name": "python3",
      "display_name": "Python 3"
    },
    "language_info": {
      "name": "python"
    }
  },
  "cells": [
    {
      "cell_type": "markdown",
      "metadata": {
        "id": "view-in-github",
        "colab_type": "text"
      },
      "source": [
        "<a href=\"https://colab.research.google.com/github/koreabao/python_basic/blob/main/ch3/3_3.ipynb\" target=\"_parent\"><img src=\"https://colab.research.google.com/assets/colab-badge.svg\" alt=\"Open In Colab\"/></a>"
      ]
    },
    {
      "cell_type": "markdown",
      "source": [
        "##**3.3 Organizing a List**\n",
        "\n",
        "**change the original order.**\n",
        "\n",
        "Python provides a number of different ways to organize your lists,\n",
        "depending on the situation.\n",
        "\n",
        "**3.3.1 sort() method: Sorting a List Permanently with the sort() Method**\n",
        "\n",
        "**3.3.2. sorted() methond: Sorting a List Temporarily with the sorted() Function**"
      ],
      "metadata": {
        "id": "UaaanAbQaTtM"
      }
    },
    {
      "cell_type": "code",
      "source": [
        "cars = ['bmw', 'audi', 'toyota', 'subaru']\n",
        "cars.sort()\n",
        "print(cars)"
      ],
      "metadata": {
        "colab": {
          "base_uri": "https://localhost:8080/"
        },
        "id": "7Hzz7jaPcVGB",
        "outputId": "0e77b30c-c779-4e8f-affd-75584e445d23"
      },
      "execution_count": null,
      "outputs": [
        {
          "output_type": "stream",
          "name": "stdout",
          "text": [
            "['audi', 'bmw', 'subaru', 'toyota']\n"
          ]
        }
      ]
    },
    {
      "cell_type": "code",
      "source": [
        "cars = ['bmw', 'audi', 'toyota', 'subaru']\n",
        "cars.sort(reverse=True)\n",
        "print(cars)"
      ],
      "metadata": {
        "colab": {
          "base_uri": "https://localhost:8080/"
        },
        "id": "e2ByhqXtcj3f",
        "outputId": "0e80bdd0-2999-4391-bd95-88d29949d8d1"
      },
      "execution_count": null,
      "outputs": [
        {
          "output_type": "stream",
          "name": "stdout",
          "text": [
            "['toyota', 'subaru', 'bmw', 'audi']\n"
          ]
        }
      ]
    },
    {
      "cell_type": "markdown",
      "source": [
        "2. sorted() methond: Sorting a List Temporarily with the sorted() Function"
      ],
      "metadata": {
        "id": "ctpDug93dJCM"
      }
    },
    {
      "cell_type": "code",
      "source": [
        "cars = ['bmw', 'audi', 'toyota', 'subaru']\n",
        "print(\"Here is the original list:\")\n",
        "print(cars)\n",
        "\n",
        "print(\"\\nHere is the sorted list:\")\n",
        "print(sorted(cars))\n",
        "\n",
        "print(\"\\nHere is the original list again:\")\n",
        "print(cars)"
      ],
      "metadata": {
        "id": "Tu8NGUyqdOAB"
      },
      "execution_count": null,
      "outputs": []
    },
    {
      "cell_type": "markdown",
      "source": [
        "**3.3.3 Printing a List in Reverse Order**"
      ],
      "metadata": {
        "id": "bMSxEKqxeyXv"
      }
    },
    {
      "cell_type": "code",
      "source": [
        "cars = ['bmw', 'audi', 'toyota', 'subaru']\n",
        "print(cars)\n",
        "\n",
        "cars.reverse()\n",
        "print(cars)"
      ],
      "metadata": {
        "colab": {
          "base_uri": "https://localhost:8080/"
        },
        "id": "OxSgRgyae5c3",
        "outputId": "3e0d9a28-c4b4-4703-ab53-f6ff6d9a7964"
      },
      "execution_count": null,
      "outputs": [
        {
          "output_type": "stream",
          "name": "stdout",
          "text": [
            "['bmw', 'audi', 'toyota', 'subaru']\n",
            "['subaru', 'toyota', 'audi', 'bmw']\n"
          ]
        }
      ]
    },
    {
      "cell_type": "markdown",
      "source": [
        "**3.3.4 Finding the Length of a List**\n",
        "\n",
        "You can quickly find the length of a list by using the len() function."
      ],
      "metadata": {
        "id": "5jhyGKT3fG-d"
      }
    },
    {
      "cell_type": "code",
      "source": [
        "cars = ['bmw', 'audi', 'toyota', 'subaru']\n",
        "len(cars)"
      ],
      "metadata": {
        "colab": {
          "base_uri": "https://localhost:8080/"
        },
        "id": "oZbgCIazfMnX",
        "outputId": "a40aa8c4-5295-41a8-ff76-3044e720ba0b"
      },
      "execution_count": null,
      "outputs": [
        {
          "output_type": "execute_result",
          "data": {
            "text/plain": [
              "4"
            ]
          },
          "metadata": {},
          "execution_count": 9
        }
      ]
    },
    {
      "cell_type": "markdown",
      "source": [
        "**3-8. Seeing the World:**\n",
        "\n",
        "Think of at least five places in the world you’d like to visit.\n",
        "\n",
        "* Store the locations in a list. Make sure the list is not in alphabetical order.\n",
        "\n",
        "* Print your list in its original order. Don’t worry about printing the list neatly, just print it as a raw Python list.\n",
        "\n",
        "* Use sorted() to print your list in alphabetical order without modifying the\n",
        "actual list.\n",
        "\n",
        "* Show that your list is still in its original order by printing it.\n",
        "\n",
        "* Use sorted() to print your list in reverse alphabetical order without changing\n",
        "the order of the original list.\n",
        "\n",
        "* Show that your list is still in its original order by printing it again.\n",
        "\n",
        "* Use reverse() to change the order of your list. Print the list to show that its order has\n",
        "\n",
        "* Use reverse() to change the order of your list again.\n",
        "\n",
        " Print the list to show it’s back to its original order.\n",
        "\n",
        "* Use sort() to change your list so it’s stored in alphabetical order.\n",
        " \n",
        " Print the list to show that its order has been changed.\n",
        "\n",
        "* Use sort() to change your list so it’s stored in reverse alphabetical order.\n",
        "\n",
        " Print the list to show that its order has changed."
      ],
      "metadata": {
        "id": "JlTeWAGffz-P"
      }
    },
    {
      "cell_type": "markdown",
      "source": [
        "**3-9. Dinner Guests:**\n",
        "Working with one of the programs from Exercises 3-4 through 3-7,\n",
        "\n",
        "use len() to print a message indicating the number of people you are inviting to dinner.\n"
      ],
      "metadata": {
        "id": "jDaFMXAfgR-g"
      }
    },
    {
      "cell_type": "markdown",
      "source": [
        "**3-10. Every Function:**\n",
        "Think of something you could store in a list.\n",
        "\n",
        "For example, you could make a list of mountains, rivers, countries, cities, languages, or anything else you’d like.\n",
        "\n",
        "Write a program that creates a list containing these items and then uses each function introduced in this chapter at least once."
      ],
      "metadata": {
        "id": "N39PK1-3gSSX"
      }
    }
  ]
}