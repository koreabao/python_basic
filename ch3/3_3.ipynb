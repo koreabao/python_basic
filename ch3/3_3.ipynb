{
  "nbformat": 4,
  "nbformat_minor": 0,
  "metadata": {
    "colab": {
      "name": "3_3.ipynb",
      "provenance": [],
      "include_colab_link": true
    },
    "kernelspec": {
      "name": "python3",
      "display_name": "Python 3"
    },
    "language_info": {
      "name": "python"
    }
  },
  "cells": [
    {
      "cell_type": "markdown",
      "metadata": {
        "id": "view-in-github",
        "colab_type": "text"
      },
      "source": [
        "<a href=\"https://colab.research.google.com/github/koreabao/python_basic/blob/main/ch3/3_3.ipynb\" target=\"_parent\"><img src=\"https://colab.research.google.com/assets/colab-badge.svg\" alt=\"Open In Colab\"/></a>"
      ]
    },
    {
      "cell_type": "markdown",
      "source": [
        "##**3.3 Organizing a List리스트 정리하기**\n",
        "\n",
        "**change the original order.**\n",
        "\n",
        "Python provides a number of different ways to organize your lists,\n",
        "depending on the situation.\n",
        "\n",
        "**3.3.1 sort() method: Sorting a List Permanently with the sort() Method**\n",
        "\n",
        "sort()메서드로 리스트 영구정렬하기\n",
        "\n",
        "**3.3.2. sorted() function: Sorting a List Temporarily with the sorted() Function**\n",
        "\n",
        "sorted()함수로 리스트 임시 정렬하기"
      ],
      "metadata": {
        "id": "UaaanAbQaTtM"
      }
    },
    {
      "cell_type": "code",
      "source": [
        "cars = ['bmw', 'audi', 'toyota', 'subaru']\n",
        "cars.sort()\n",
        "print(cars)"
      ],
      "metadata": {
        "colab": {
          "base_uri": "https://localhost:8080/"
        },
        "id": "7Hzz7jaPcVGB",
        "outputId": "0e77b30c-c779-4e8f-affd-75584e445d23"
      },
      "execution_count": null,
      "outputs": [
        {
          "output_type": "stream",
          "name": "stdout",
          "text": [
            "['audi', 'bmw', 'subaru', 'toyota']\n"
          ]
        }
      ]
    },
    {
      "cell_type": "code",
      "source": [
        "cars = ['bmw', 'audi', 'toyota', 'subaru']\n",
        "cars.sort(reverse=True)\n",
        "print(cars)"
      ],
      "metadata": {
        "colab": {
          "base_uri": "https://localhost:8080/"
        },
        "id": "e2ByhqXtcj3f",
        "outputId": "0e80bdd0-2999-4391-bd95-88d29949d8d1"
      },
      "execution_count": null,
      "outputs": [
        {
          "output_type": "stream",
          "name": "stdout",
          "text": [
            "['toyota', 'subaru', 'bmw', 'audi']\n"
          ]
        }
      ]
    },
    {
      "cell_type": "markdown",
      "source": [
        "2. sorted() methond: Sorting a List Temporarily with the sorted() Function"
      ],
      "metadata": {
        "id": "ctpDug93dJCM"
      }
    },
    {
      "cell_type": "code",
      "source": [
        "cars = ['bmw', 'audi', 'toyota', 'subaru']\n",
        "print(\"Here is the original list:\")\n",
        "print(cars)\n",
        "\n",
        "print(\"\\nHere is the sorted list:\")\n",
        "print(sorted(cars))\n",
        "\n",
        "print(\"\\nHere is the original list again:\")\n",
        "print(cars)"
      ],
      "metadata": {
        "id": "Tu8NGUyqdOAB"
      },
      "execution_count": null,
      "outputs": []
    },
    {
      "cell_type": "markdown",
      "source": [
        "**3.3.3 Printing a List in Reverse Order**\n",
        "\n",
        "reverse()에서드로 리스트를 반대(역)순서로 출력"
      ],
      "metadata": {
        "id": "bMSxEKqxeyXv"
      }
    },
    {
      "cell_type": "code",
      "source": [
        "cars = ['bmw', 'audi', 'toyota', 'subaru']\n",
        "print(cars)\n",
        "\n",
        "cars.reverse()\n",
        "print(cars)"
      ],
      "metadata": {
        "colab": {
          "base_uri": "https://localhost:8080/"
        },
        "id": "OxSgRgyae5c3",
        "outputId": "3e0d9a28-c4b4-4703-ab53-f6ff6d9a7964"
      },
      "execution_count": null,
      "outputs": [
        {
          "output_type": "stream",
          "name": "stdout",
          "text": [
            "['bmw', 'audi', 'toyota', 'subaru']\n",
            "['subaru', 'toyota', 'audi', 'bmw']\n"
          ]
        }
      ]
    },
    {
      "cell_type": "markdown",
      "source": [
        "**3.3.4 Finding the Length of a List**\n",
        "\n",
        "You can quickly find the length of a list by using the len() function."
      ],
      "metadata": {
        "id": "5jhyGKT3fG-d"
      }
    },
    {
      "cell_type": "code",
      "source": [
        "cars = ['bmw', 'audi', 'toyota', 'subaru']\n",
        "len(cars)"
      ],
      "metadata": {
        "colab": {
          "base_uri": "https://localhost:8080/"
        },
        "id": "oZbgCIazfMnX",
        "outputId": "a40aa8c4-5295-41a8-ff76-3044e720ba0b"
      },
      "execution_count": null,
      "outputs": [
        {
          "output_type": "execute_result",
          "data": {
            "text/plain": [
              "4"
            ]
          },
          "metadata": {},
          "execution_count": 9
        }
      ]
    },
    {
      "cell_type": "markdown",
      "source": [
        "**3-8. Seeing the World:**\n",
        "\n",
        "Think of at least five places in the world you’d like to visit.\n",
        "\n",
        " 당신이 방문하고 싶은 곳 최소 5개를 생각하십시오.\n",
        "\n",
        "* 1 Store the locations in a list. Make sure the list is not in alphabetical order.\n",
        "\n",
        " 리스트에 장소를 저장합니다. 리스트에 저장된 장소는 알파벳 순서가 아닌지 확인하십시오.\n",
        "\n",
        "* 2 Print your list in its original order. Don’t worry about printing the list neatly, just print it as a raw Python list.\n",
        "\n",
        " 리스트를 원래 순서대로 프린트하십시오.\n",
        "\n",
        "* 3 Use sorted() to print your list in alphabetical order without modifying the\n",
        "actual list.\n",
        " \n",
        " sorted()를 사용하여 실제 리스트를 수정하지 않고 알파벳 순서로 리스트를 인쇄합니다.\n",
        "\n",
        "* 4 Show that your list is still in its original order by printing it.\n",
        "\n",
        " 리스트를 프린트하여 리스트가 원래 순서대로 있음을 보여주십시오.\n",
        "\n",
        "* 5 Use sorted() to print your list in reverse alphabetical order without changing the order of the original list.\n",
        "\n",
        " sorted()를 사용하여 알파벳 역순으로 목록을 프린트합니다. \n",
        "\n",
        "* 6 Show that your list is still in its original order by printing it again.\n",
        "\n",
        " 리스트를 다시 프린트하여 리스트가 여전히 원래 순서대로 있음을 보여주십시오.\n",
        " 즉, 5번에서 sorted()는 리스트를 임시적(새로운)으로 변경하는것을 보여줍니다. \n",
        "\n",
        "* 7 Use reverse() to change the order of your list. Print the list to show that its order has\n",
        "\n",
        " reverse()를 사용하여 리스트의 순서를 변경합니다. \n",
        " 리스트를 프린트하여 순서가 변경된것을 보여줍니다.  \n",
        "\n",
        "* 8 Use reverse() to change the order of your list again.\n",
        "\n",
        " Print the list to show it’s back to its original order.\n",
        "\n",
        " reverse()를 사용하여 리스트의 순서를 다시 변경합니다. \n",
        "\n",
        " 리스트를 프린트하여 리스트의 순서가 원래 순서로 변경된것을 보여줍니다. \n",
        "\n",
        "* 9 Use sort() to change your list so it’s stored in alphabetical order.\n",
        " \n",
        " Print the list to show that its order has been changed.\n",
        " \n",
        " sort()를 사용하여 리스트가 알파벳 순서로 저장되도록 변경합니다.\n",
        "\n",
        " 리스트를 프린트하여 순서가 변경되었음을 보여줍니다.\n",
        "\n",
        "\n",
        "* 10 Use sort() to change your list so it’s stored in reverse alphabetical order.\n",
        "\n",
        " Print the list to show that its order has changed.\n",
        "\n",
        " sort()를 사용하여 리스트가 알파벳 역순으로 저장되도록 변경합니다.\n",
        "\n",
        " 리스트를 프린트하여 순서가 변경되었음을 보여줍니다.\n"
      ],
      "metadata": {
        "id": "JlTeWAGffz-P"
      }
    },
    {
      "cell_type": "code",
      "source": [
        "places = ['Korea','China','USA','France','UK']\n",
        "print(\"2 Original order:\")\n",
        "print(places)\n",
        "\n",
        "print(\"\\n3 Alphabetical order:\")\n",
        "print(sorted(places))\n",
        "\n",
        "print(\"\\n4 Original order again:\")\n",
        "print(places)\n",
        "\n",
        "print(\"\\n5 Reverse alphabetical:\")\n",
        "print(sorted(places,reverse=True))\n",
        "\n",
        "print(\"\\n6 Original order:\")\n",
        "print(places)\n",
        "\n",
        "print(\"\\n7 Reverse permanently:\")\n",
        "places.reverse()\n",
        "print(places)\n",
        "\n",
        "print(\"\\n8 Reverse permanently again:\")\n",
        "places.reverse()\n",
        "print(places)\n",
        "\n",
        "print(\"\\n9 Alphabetical:\")\n",
        "places.sort()\n",
        "print(places)\n",
        "\n",
        "print(\"\\n10 Reverse alphabetical:\")\n",
        "places.sort(reverse=True)\n",
        "print(places)"
      ],
      "metadata": {
        "colab": {
          "base_uri": "https://localhost:8080/"
        },
        "id": "EmgSSAsUx4Jj",
        "outputId": "6b3444b0-1835-4e7d-c233-f3876984ff02"
      },
      "execution_count": null,
      "outputs": [
        {
          "output_type": "stream",
          "name": "stdout",
          "text": [
            "2 Original order:\n",
            "['Korea', 'China', 'USA', 'France', 'UK']\n",
            "\n",
            "3 Alphabetical order:\n",
            "['China', 'France', 'Korea', 'UK', 'USA']\n",
            "\n",
            "4 Original order again:\n",
            "['Korea', 'China', 'USA', 'France', 'UK']\n",
            "\n",
            "5 Reverse alphabetical:\n",
            "['USA', 'UK', 'Korea', 'France', 'China']\n",
            "\n",
            "6 Original order:\n",
            "['Korea', 'China', 'USA', 'France', 'UK']\n",
            "\n",
            "7 Reverse permanently:\n",
            "['UK', 'France', 'USA', 'China', 'Korea']\n",
            "\n",
            "8 Reverse permanently again:\n",
            "['Korea', 'China', 'USA', 'France', 'UK']\n",
            "\n",
            "9 Alphabetical:\n",
            "['China', 'France', 'Korea', 'UK', 'USA']\n",
            "\n",
            "10 Reverse alphabetical:\n",
            "['USA', 'UK', 'Korea', 'France', 'China']\n"
          ]
        }
      ]
    },
    {
      "cell_type": "markdown",
      "source": [
        "**3-9. Dinner Guests:**\n",
        "Working with one of the programs from Exercises 3-4 through 3-7,\n",
        "\n",
        "use len() to print a message indicating the number of people you are inviting to dinner.\n"
      ],
      "metadata": {
        "id": "jDaFMXAfgR-g"
      }
    },
    {
      "cell_type": "code",
      "source": [
        "places = ['Korea','China','USA','France','UK']\n",
        "len(places)"
      ],
      "metadata": {
        "colab": {
          "base_uri": "https://localhost:8080/"
        },
        "id": "6uCDaTOs6Tdu",
        "outputId": "af1cc847-c49b-4c0b-cfc4-34c34c897c19"
      },
      "execution_count": null,
      "outputs": [
        {
          "output_type": "execute_result",
          "data": {
            "text/plain": [
              "5"
            ]
          },
          "metadata": {},
          "execution_count": 2
        }
      ]
    },
    {
      "cell_type": "markdown",
      "source": [
        "**3-10. Every Function:**\n",
        "Think of something you could store in a list.\n",
        "\n",
        "For example, you could make a list of mountains, rivers, countries, cities, languages, or anything else you’d like.\n",
        "\n",
        "Write a program that creates a list containing these items and then uses each function introduced in this chapter at least once."
      ],
      "metadata": {
        "id": "N39PK1-3gSSX"
      }
    }
  ]
}