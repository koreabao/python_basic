{
  "nbformat": 4,
  "nbformat_minor": 0,
  "metadata": {
    "colab": {
      "name": "question_1.ipynb",
      "provenance": [],
      "collapsed_sections": [],
      "authorship_tag": "ABX9TyMkwbiq27svSb8Fs1OykTgZ",
      "include_colab_link": true
    },
    "kernelspec": {
      "name": "python3",
      "display_name": "Python 3"
    },
    "language_info": {
      "name": "python"
    }
  },
  "cells": [
    {
      "cell_type": "markdown",
      "metadata": {
        "id": "view-in-github",
        "colab_type": "text"
      },
      "source": [
        "<a href=\"https://colab.research.google.com/github/koreabao/python_basic/blob/main/ch2/question_1.ipynb\" target=\"_parent\"><img src=\"https://colab.research.google.com/assets/colab-badge.svg\" alt=\"Open In Colab\"/></a>"
      ]
    },
    {
      "cell_type": "markdown",
      "source": [
        "#**질문1: I'am Chinese!**"
      ],
      "metadata": {
        "id": "ncLVkqazDxe2"
      }
    },
    {
      "cell_type": "code",
      "source": [
        "print(\"I am Chinese!\")"
      ],
      "metadata": {
        "colab": {
          "base_uri": "https://localhost:8080/"
        },
        "id": "ku3E-EqBD-YZ",
        "outputId": "36ef2222-7e2d-44dc-a657-07aad42d493d"
      },
      "execution_count": 1,
      "outputs": [
        {
          "output_type": "stream",
          "name": "stdout",
          "text": [
            "I am Chinese!\n"
          ]
        }
      ]
    },
    {
      "cell_type": "code",
      "source": [
        "print('i'am Chinese!')"
      ],
      "metadata": {
        "colab": {
          "base_uri": "https://localhost:8080/",
          "height": 137
        },
        "id": "CPP5KQHBEIRg",
        "outputId": "cfe2c008-3445-454a-d2bd-14d1192f7e69"
      },
      "execution_count": 4,
      "outputs": [
        {
          "output_type": "error",
          "ename": "SyntaxError",
          "evalue": "ignored",
          "traceback": [
            "\u001b[0;36m  File \u001b[0;32m\"<ipython-input-4-afac484312ee>\"\u001b[0;36m, line \u001b[0;32m1\u001b[0m\n\u001b[0;31m    print('i'am Chinese!')\u001b[0m\n\u001b[0m              ^\u001b[0m\n\u001b[0;31mSyntaxError\u001b[0m\u001b[0;31m:\u001b[0m invalid syntax\n"
          ]
        }
      ]
    },
    {
      "cell_type": "code",
      "source": [
        "print(\"I'm Chinese!\")"
      ],
      "metadata": {
        "id": "TznohShtEP5A"
      },
      "execution_count": null,
      "outputs": []
    },
    {
      "cell_type": "code",
      "source": [
        "import this"
      ],
      "metadata": {
        "colab": {
          "base_uri": "https://localhost:8080/"
        },
        "id": "0GuEpdW9EZrR",
        "outputId": "3eafa6e1-da8a-4dcd-ee01-702a5a44aadd"
      },
      "execution_count": 5,
      "outputs": [
        {
          "output_type": "stream",
          "name": "stdout",
          "text": [
            "The Zen of Python, by Tim Peters\n",
            "\n",
            "Beautiful is better than ugly.\n",
            "Explicit is better than implicit.\n",
            "Simple is better than complex.\n",
            "Complex is better than complicated.\n",
            "Flat is better than nested.\n",
            "Sparse is better than dense.\n",
            "Readability counts.\n",
            "Special cases aren't special enough to break the rules.\n",
            "Although practicality beats purity.\n",
            "Errors should never pass silently.\n",
            "Unless explicitly silenced.\n",
            "In the face of ambiguity, refuse the temptation to guess.\n",
            "There should be one-- and preferably only one --obvious way to do it.\n",
            "Although that way may not be obvious at first unless you're Dutch.\n",
            "Now is better than never.\n",
            "Although never is often better than *right* now.\n",
            "If the implementation is hard to explain, it's a bad idea.\n",
            "If the implementation is easy to explain, it may be a good idea.\n",
            "Namespaces are one honking great idea -- let's do more of those!\n"
          ]
        }
      ]
    },
    {
      "cell_type": "code",
      "source": [
        "zen_of_python = \"\"\"The Zen of Python, by Tim Peters\n",
        "\n",
        "Beautiful is better than ugly.\n",
        "\n",
        "Explicit is better than implicit.\n",
        "Simple is better than complex.\n",
        "\n",
        "\n",
        "Complex is better than complicated.\n",
        "Flat is better than nested.\n",
        "Sparse is better than dense.\n",
        "Readability counts.\n",
        "Special cases aren't special enough to break the rules.\n",
        "Although practicality beats purity.\n",
        "Errors should never pass silently.\n",
        "Unless explicitly silenced.\n",
        "In the face of ambiguity, refuse the temptation to guess.\n",
        "There should be one-- and preferably only one --obvious way to do it.\n",
        "Although that way may not be obvious at first unless you're Dutch.\n",
        "Now is better than never.\n",
        "Although never is often better than *right* now.\n",
        "If the implementation is hard to explain, it's a bad idea.\n",
        "If the implementation is easy to explain, it may be a good idea.\n",
        "Namespaces are one honking great idea -- let's do more of those!\"\"\"\n",
        "print(zen_of_python)"
      ],
      "metadata": {
        "colab": {
          "base_uri": "https://localhost:8080/"
        },
        "id": "0eo6W08cE0mY",
        "outputId": "5abb30a6-f47b-4b76-cb8e-970181c61010"
      },
      "execution_count": 8,
      "outputs": [
        {
          "output_type": "stream",
          "name": "stdout",
          "text": [
            "The Zen of Python, by Tim Peters\n",
            "\n",
            "Beautiful is better than ugly.\n",
            "\n",
            "Explicit is better than implicit.\n",
            "Simple is better than complex.\n",
            "\n",
            "\n",
            "Complex is better than complicated.\n",
            "Flat is better than nested.\n",
            "Sparse is better than dense.\n",
            "Readability counts.\n",
            "Special cases aren't special enough to break the rules.\n",
            "Although practicality beats purity.\n",
            "Errors should never pass silently.\n",
            "Unless explicitly silenced.\n",
            "In the face of ambiguity, refuse the temptation to guess.\n",
            "There should be one-- and preferably only one --obvious way to do it.\n",
            "Although that way may not be obvious at first unless you're Dutch.\n",
            "Now is better than never.\n",
            "Although never is often better than *right* now.\n",
            "If the implementation is hard to explain, it's a bad idea.\n",
            "If the implementation is easy to explain, it may be a good idea.\n",
            "Namespaces are one honking great idea -- let's do more of those!\n"
          ]
        }
      ]
    },
    {
      "cell_type": "markdown",
      "source": [
        "#**질문2:**"
      ],
      "metadata": {
        "id": "TYuq4ENzFPTg"
      }
    },
    {
      "cell_type": "code",
      "source": [
        "shopping_mall = 'www.amazon.com'\n",
        "shopping_mall_1 = shopping_mall.strip('.wcom')\n",
        "print(shopping_mall_1)\n"
      ],
      "metadata": {
        "colab": {
          "base_uri": "https://localhost:8080/"
        },
        "id": "swEtGq0kFVlB",
        "outputId": "c7cde1f2-0449-4fd6-9f55-3cc82b183c73"
      },
      "execution_count": 9,
      "outputs": [
        {
          "output_type": "stream",
          "name": "stdout",
          "text": [
            "amazon\n"
          ]
        }
      ]
    },
    {
      "cell_type": "code",
      "source": [
        "shopping_mall = 'www.taobao.com'\n",
        "shopping_mall_1 = shopping_mall.strip('.wcom')\n",
        "print(shopping_mall_1)\n"
      ],
      "metadata": {
        "colab": {
          "base_uri": "https://localhost:8080/"
        },
        "id": "ZWH3Pbm_MAwy",
        "outputId": "8b998011-af29-4661-94d7-36c12329a212"
      },
      "execution_count": 10,
      "outputs": [
        {
          "output_type": "stream",
          "name": "stdout",
          "text": [
            "taoba\n"
          ]
        }
      ]
    },
    {
      "cell_type": "code",
      "source": [
        "shopping_mall = 'www.coupang.com'\n",
        "shopping_mall_1 = shopping_mall.split('.')\n",
        "print(shopping_mall_1)\n",
        "shopping_mall_1 = shopping_mall.split('.')[1]\n",
        "print(shopping_mall_1)"
      ],
      "metadata": {
        "colab": {
          "base_uri": "https://localhost:8080/"
        },
        "id": "mfhex-wLMIbx",
        "outputId": "66455a22-d872-4efb-c6d5-a7efef47817c"
      },
      "execution_count": 14,
      "outputs": [
        {
          "output_type": "stream",
          "name": "stdout",
          "text": [
            "['www', 'coupang', 'com']\n",
            "coupang\n"
          ]
        }
      ]
    },
    {
      "cell_type": "code",
      "source": [
        "shopping_mall = 'www.taobao.com'\n",
        "shopping_mall_1 = shopping_mall.strip('wcom')\n",
        "print(shopping_mall_1)\n",
        "shopping_mall_2 = shopping_mall_1.strip('.')\n",
        "print(shopping_mall_2)"
      ],
      "metadata": {
        "colab": {
          "base_uri": "https://localhost:8080/"
        },
        "id": "IP8IymTjMvuA",
        "outputId": "f2ebc448-9f64-4195-fd24-0cf6ab1613f4"
      },
      "execution_count": 21,
      "outputs": [
        {
          "output_type": "stream",
          "name": "stdout",
          "text": [
            ".taobao.\n",
            "taobao\n"
          ]
        }
      ]
    }
  ]
}