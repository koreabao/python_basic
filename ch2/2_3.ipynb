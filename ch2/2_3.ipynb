{
  "nbformat": 4,
  "nbformat_minor": 0,
  "metadata": {
    "colab": {
      "name": "2_3.ipynb",
      "provenance": [],
      "include_colab_link": true
    },
    "kernelspec": {
      "name": "python3",
      "display_name": "Python 3"
    },
    "language_info": {
      "name": "python"
    }
  },
  "cells": [
    {
      "cell_type": "markdown",
      "metadata": {
        "id": "view-in-github",
        "colab_type": "text"
      },
      "source": [
        "<a href=\"https://colab.research.google.com/github/koreabao/python_basic/blob/main/ch2/2_3.ipynb\" target=\"_parent\"><img src=\"https://colab.research.google.com/assets/colab-badge.svg\" alt=\"Open In Colab\"/></a>"
      ]
    },
    {
      "cell_type": "markdown",
      "source": [
        "## **2.3. Strings(문자열)**\n",
        "A string is a series of characters(문자열은 일련의 문자입니다.)\n",
        "\n",
        "Anything inside quotes is considered a string in Python,\n",
        "\n",
        "(따옴표 안에 있는 모든 것은 Python에서 문자열로 간주됩니다.)\n",
        "\n",
        "and you can use single or double quotes around your\n",
        "strings like this\n",
        "\n",
        "(문자열 주위에 작은 따옴표 또는 큰 따옴표를 사용할 수 있습니다.)"
      ],
      "metadata": {
        "id": "bVnA7ej3h5uV"
      }
    },
    {
      "cell_type": "code",
      "source": [
        "\"This is a string\"\n",
        "'this is a string'"
      ],
      "metadata": {
        "id": "CCNhboGrqD38",
        "colab": {
          "base_uri": "https://localhost:8080/",
          "height": 35
        },
        "outputId": "96a0f29f-7e03-4fcd-bfab-d324f652a720"
      },
      "execution_count": null,
      "outputs": [
        {
          "output_type": "execute_result",
          "data": {
            "application/vnd.google.colaboratory.intrinsic+json": {
              "type": "string"
            },
            "text/plain": [
              "'this is a string'"
            ]
          },
          "metadata": {},
          "execution_count": 1
        }
      ]
    },
    {
      "cell_type": "code",
      "source": [
        "'I told my friend, \"Python is my favorite language!\"'\n"
      ],
      "metadata": {
        "colab": {
          "base_uri": "https://localhost:8080/",
          "height": 35
        },
        "id": "Sg1oiGTkqMSK",
        "outputId": "1d7f6af5-044b-4a7c-aa65-1cd81b8c9502"
      },
      "execution_count": null,
      "outputs": [
        {
          "output_type": "execute_result",
          "data": {
            "application/vnd.google.colaboratory.intrinsic+json": {
              "type": "string"
            },
            "text/plain": [
              "'I told my friend, \"Python is my favorite language!\"'"
            ]
          },
          "metadata": {},
          "execution_count": 2
        }
      ]
    },
    {
      "cell_type": "code",
      "source": [
        "\"The language 'Python' is named after Monty Python, not the snake.\""
      ],
      "metadata": {
        "colab": {
          "base_uri": "https://localhost:8080/",
          "height": 35
        },
        "id": "KEBqvzHRqfhU",
        "outputId": "6883a76a-7337-4ef1-a435-3954fcd40207"
      },
      "execution_count": null,
      "outputs": [
        {
          "output_type": "execute_result",
          "data": {
            "application/vnd.google.colaboratory.intrinsic+json": {
              "type": "string"
            },
            "text/plain": [
              "\"The language 'Python' is named after Monty Python, not the snake.\""
            ]
          },
          "metadata": {},
          "execution_count": 3
        }
      ]
    },
    {
      "cell_type": "code",
      "source": [
        "\"One of Python's strengths is its diverse and supportive community.\""
      ],
      "metadata": {
        "colab": {
          "base_uri": "https://localhost:8080/",
          "height": 35
        },
        "id": "pwM-VA7yqhs_",
        "outputId": "c33df84f-00ca-4563-bfbc-2e89533afb0d"
      },
      "execution_count": null,
      "outputs": [
        {
          "output_type": "execute_result",
          "data": {
            "application/vnd.google.colaboratory.intrinsic+json": {
              "type": "string"
            },
            "text/plain": [
              "\"One of Python's strengths is its diverse and supportive community.\""
            ]
          },
          "metadata": {},
          "execution_count": 4
        }
      ]
    },
    {
      "cell_type": "markdown",
      "source": [
        "## **2.3.1 Changing Case in a String with Methods**\n",
        "\n",
        "## **(메서드를 사용하여 문자열의 대소문자 변경)**\n"
      ],
      "metadata": {
        "id": "KBowXyyetmQU"
      }
    },
    {
      "cell_type": "code",
      "source": [
        "name = \"ada lovelace\"\n",
        "print(name.title())"
      ],
      "metadata": {
        "colab": {
          "base_uri": "https://localhost:8080/"
        },
        "id": "Lv_iFDE-tlxG",
        "outputId": "f101fb2b-093d-4f54-d92c-3f0b34fbf7b5"
      },
      "execution_count": null,
      "outputs": [
        {
          "output_type": "stream",
          "name": "stdout",
          "text": [
            "Ada Lovelace\n"
          ]
        }
      ]
    },
    {
      "cell_type": "markdown",
      "source": [
        "1.The method title() appears after the variable in the print() call\n",
        "\n",
        "2.A method is an action that Python can perform on a piece of data.\n",
        "\n",
        "3.The dot (.) after name in name.title() tells Python to make the title() method act on the variable name."
      ],
      "metadata": {
        "id": "a9OUmGwMuO_l"
      }
    },
    {
      "cell_type": "markdown",
      "source": [
        "### **Change a string to all uppercase or all lowercase letters**\n",
        "**(문자열을 모두 대문자 또는 모두 소문자로 변경)**"
      ],
      "metadata": {
        "id": "U8MqhAnzuhLG"
      }
    },
    {
      "cell_type": "code",
      "source": [
        "name = \"Ada Lovelace\"\n",
        "print(name.upper())\n",
        "print(name.lower())"
      ],
      "metadata": {
        "colab": {
          "base_uri": "https://localhost:8080/"
        },
        "id": "UFBPAb5iwz4R",
        "outputId": "d74a66b6-8df4-4351-ea31-a5d38e651008"
      },
      "execution_count": null,
      "outputs": [
        {
          "output_type": "stream",
          "name": "stdout",
          "text": [
            "ADA LOVELACE\n",
            "ada lovelace\n"
          ]
        }
      ]
    },
    {
      "cell_type": "markdown",
      "source": [
        "## **2.3.2 Using Variables in Strings(문자열에서 변수 사용하기)**"
      ],
      "metadata": {
        "id": "vATBBZALxKlH"
      }
    },
    {
      "cell_type": "markdown",
      "source": [
        "f-strings:Python formats the string by replacing the name of any variable in braces with its value\n",
        "\n",
        "Python은 중괄호 안의 변수 이름을 값으로 대체하여 문자열 형식을 지정합니다. "
      ],
      "metadata": {
        "id": "VnaP2o3r2UTM"
      }
    },
    {
      "cell_type": "code",
      "source": [
        "first_name = \"ada\"\n",
        "last_name = \"lovelace\"\n",
        "full_name = f\"{first_name} {last_name}\"\n",
        "print(full_name)"
      ],
      "metadata": {
        "id": "kXoeGiLuxKIw"
      },
      "execution_count": null,
      "outputs": []
    },
    {
      "cell_type": "markdown",
      "source": [
        "과거"
      ],
      "metadata": {
        "id": "DIl1BCJbzLip"
      }
    },
    {
      "cell_type": "code",
      "source": [
        "first_name = \"ada\"\n",
        "last_name = \"lovelace\"\n",
        "full_name = first_name+\" \"+last_name\n",
        "full_name_1 = \"{} {}\".format(first_name, last_name)\n",
        "print(full_name)\n",
        "print(full_name_1)"
      ],
      "metadata": {
        "colab": {
          "base_uri": "https://localhost:8080/"
        },
        "id": "4zh93BkMzKet",
        "outputId": "a1c449a2-fb42-42cc-a34c-191acae9c59d"
      },
      "execution_count": null,
      "outputs": [
        {
          "output_type": "stream",
          "name": "stdout",
          "text": [
            "ada lovelace\n",
            "ada lovelace\n"
          ]
        }
      ]
    },
    {
      "cell_type": "markdown",
      "source": [
        "**f-string활용**\n",
        "\n",
        "you can use f-strings to compose complete messages using the information associated with a variable\n",
        "\n",
        "f-문자열을 사용하여 변수와 관련된 정보를 완전한 메시지를 작성할 수 있습니다."
      ],
      "metadata": {
        "id": "neih-pSN3XQi"
      }
    },
    {
      "cell_type": "code",
      "source": [
        "first_name = \"ada\"\n",
        "last_name = \"lovelace\"\n",
        "full_name = f\"{first_name} {last_name}\"\n",
        "print(f\"Hello, {full_name.title()}!\")"
      ],
      "metadata": {
        "colab": {
          "base_uri": "https://localhost:8080/"
        },
        "id": "QOv-BZsy2spW",
        "outputId": "28a6d731-e963-47d4-c5b2-95a107b8d9ab"
      },
      "execution_count": null,
      "outputs": [
        {
          "output_type": "stream",
          "name": "stdout",
          "text": [
            "Hello, Ada Lovelace!\n"
          ]
        }
      ]
    },
    {
      "cell_type": "markdown",
      "source": [
        "Use f-strings to compose a message, and then assign the\n",
        "entire message to a variable\n",
        "\n",
        "f-문자열을 사용하여 메시지를 작성한 다음에 전체 메시지를 한 변수로 할당한다.  "
      ],
      "metadata": {
        "id": "E1DOsA1BEoHs"
      }
    },
    {
      "cell_type": "code",
      "source": [
        "first_name = \"ada\"\n",
        "last_name = \"lovelace\"\n",
        "full_name = f\"{first_name} {last_name}\"\n",
        "message = f\"Hello, {full_name.title()}!\"\n",
        "print(message)"
      ],
      "metadata": {
        "colab": {
          "base_uri": "https://localhost:8080/"
        },
        "id": "bi0ecBR6EeNg",
        "outputId": "dcabf15a-0040-4aad-af0e-3c1ae3ef29ef"
      },
      "execution_count": null,
      "outputs": [
        {
          "output_type": "stream",
          "name": "stdout",
          "text": [
            "Hello, Ada Lovelace!\n"
          ]
        }
      ]
    },
    {
      "cell_type": "markdown",
      "source": [
        "## **2.3.3 Adding Whitespace to Strings with Tabs or Newlines**\n",
        "\n",
        "## **탭 또는 줄 바꿈을 사용하여 문자열에 공백 추가**\n",
        "\n",
        "\\t: Horizontal tab: 역슬래시t\n",
        "\n",
        "\\n: newline :역슬래시n\n"
      ],
      "metadata": {
        "id": "7qRVxyJIFzQO"
      }
    },
    {
      "cell_type": "code",
      "source": [
        "print('Python')\n"
      ],
      "metadata": {
        "id": "ortlF5cxhjO3"
      },
      "execution_count": null,
      "outputs": []
    },
    {
      "cell_type": "code",
      "source": [
        "print(\"\\tPython\")"
      ],
      "metadata": {
        "id": "Pqczid4jh-Q7"
      },
      "execution_count": null,
      "outputs": []
    },
    {
      "cell_type": "code",
      "source": [
        "print(\"Languages:\\Python\\c\\Javascript\")"
      ],
      "metadata": {
        "colab": {
          "base_uri": "https://localhost:8080/"
        },
        "id": "tFHX3HOus-ES",
        "outputId": "644a3e28-c658-49b6-82aa-9f7fd25b249d"
      },
      "execution_count": null,
      "outputs": [
        {
          "output_type": "stream",
          "name": "stdout",
          "text": [
            "Languages:\\Python\\c\\Javascript\n"
          ]
        }
      ]
    },
    {
      "cell_type": "code",
      "source": [
        "print(\"Languages:\\nPython\\nC\\nJavascript\")"
      ],
      "metadata": {
        "colab": {
          "base_uri": "https://localhost:8080/"
        },
        "id": "K0l1FcIztez2",
        "outputId": "991271fc-d37f-40af-af1e-86f4332e0d40"
      },
      "execution_count": null,
      "outputs": [
        {
          "output_type": "stream",
          "name": "stdout",
          "text": [
            "Languages:\n",
            "Python\n",
            "C\n",
            "Javascript\n"
          ]
        }
      ]
    },
    {
      "cell_type": "code",
      "source": [
        "print(\"Languages:\\n\\tPython\\n\\tC\\n\\tJavascript\")"
      ],
      "metadata": {
        "colab": {
          "base_uri": "https://localhost:8080/"
        },
        "id": "eYGI_yHCtwO6",
        "outputId": "9b692b58-ddb3-4236-effb-07c5cb0eeef7"
      },
      "execution_count": null,
      "outputs": [
        {
          "output_type": "stream",
          "name": "stdout",
          "text": [
            "Languages:\n",
            "\tPython\n",
            "\tC\n",
            "\tJavascript\n"
          ]
        }
      ]
    },
    {
      "cell_type": "markdown",
      "source": [
        "##**2.3.4 Stripping Whitespace(공백제거)**\n",
        "\n",
        "strip(): 전체\n",
        "\n",
        "rstrip(): 어런쪽 \n",
        "\n",
        "lstrip(): 왼쪽"
      ],
      "metadata": {
        "id": "jrznnYZbuQ4B"
      }
    },
    {
      "cell_type": "code",
      "source": [
        "favorite_language = 'python '\n",
        "print(favorite_language)"
      ],
      "metadata": {
        "id": "sy99n5TfuQgk",
        "colab": {
          "base_uri": "https://localhost:8080/"
        },
        "outputId": "1fcb6682-c0f3-4758-8af6-67f428c217c0"
      },
      "execution_count": 1,
      "outputs": [
        {
          "output_type": "stream",
          "name": "stdout",
          "text": [
            "python \n"
          ]
        }
      ]
    },
    {
      "cell_type": "code",
      "source": [
        "len(favorite_language)"
      ],
      "metadata": {
        "id": "ylzogkRdvIxd",
        "colab": {
          "base_uri": "https://localhost:8080/"
        },
        "outputId": "79e7e4a0-f45e-40e9-b57c-ddec8e1ea22c"
      },
      "execution_count": 2,
      "outputs": [
        {
          "output_type": "execute_result",
          "data": {
            "text/plain": [
              "7"
            ]
          },
          "metadata": {},
          "execution_count": 2
        }
      ]
    },
    {
      "cell_type": "code",
      "source": [
        "favorite_language.strip()"
      ],
      "metadata": {
        "id": "V65ivGcgwTqc",
        "colab": {
          "base_uri": "https://localhost:8080/",
          "height": 35
        },
        "outputId": "79460b55-dec8-43e2-fdda-6f42f7232bc2"
      },
      "execution_count": 3,
      "outputs": [
        {
          "output_type": "execute_result",
          "data": {
            "application/vnd.google.colaboratory.intrinsic+json": {
              "type": "string"
            },
            "text/plain": [
              "'python'"
            ]
          },
          "metadata": {},
          "execution_count": 3
        }
      ]
    },
    {
      "cell_type": "code",
      "source": [
        "len(favorite_language)"
      ],
      "metadata": {
        "id": "VioSHINSwTtc",
        "colab": {
          "base_uri": "https://localhost:8080/"
        },
        "outputId": "3e0981f1-6ef5-41c3-ad49-ad840abc3534"
      },
      "execution_count": 4,
      "outputs": [
        {
          "output_type": "execute_result",
          "data": {
            "text/plain": [
              "7"
            ]
          },
          "metadata": {},
          "execution_count": 4
        }
      ]
    },
    {
      "cell_type": "code",
      "source": [
        "favorite_language1=favorite_language.strip()\n",
        "print(favorite_language1)\n",
        "len(favorite_language1)"
      ],
      "metadata": {
        "colab": {
          "base_uri": "https://localhost:8080/"
        },
        "id": "eiQlyrV39RY9",
        "outputId": "d55b2aab-9029-48ae-8d29-d5a03762dbb0"
      },
      "execution_count": 5,
      "outputs": [
        {
          "output_type": "stream",
          "name": "stdout",
          "text": [
            "python\n"
          ]
        },
        {
          "output_type": "execute_result",
          "data": {
            "text/plain": [
              "6"
            ]
          },
          "metadata": {},
          "execution_count": 5
        }
      ]
    },
    {
      "cell_type": "code",
      "source": [
        "text =\"www.amazon.com\"\n",
        "text1= text.strip('wcom.')\n",
        "print(text)\n",
        "print(text1)"
      ],
      "metadata": {
        "colab": {
          "base_uri": "https://localhost:8080/"
        },
        "id": "273wo87awTwO",
        "outputId": "5f845591-74dd-45a4-de5b-1818bc5ee9f2"
      },
      "execution_count": 6,
      "outputs": [
        {
          "output_type": "stream",
          "name": "stdout",
          "text": [
            "www.amazon.com\n",
            "amazon\n"
          ]
        }
      ]
    },
    {
      "cell_type": "markdown",
      "source": [
        "**연습**"
      ],
      "metadata": {
        "id": "YzPB-82G-UFZ"
      }
    },
    {
      "cell_type": "code",
      "source": [
        "favorite_language = ' python '\n",
        "favorite_language.strip()"
      ],
      "metadata": {
        "id": "CBHqJmxmwT18",
        "colab": {
          "base_uri": "https://localhost:8080/",
          "height": 35
        },
        "outputId": "2e8f8f78-1c74-445d-8f7a-8a53456bd595"
      },
      "execution_count": 7,
      "outputs": [
        {
          "output_type": "execute_result",
          "data": {
            "application/vnd.google.colaboratory.intrinsic+json": {
              "type": "string"
            },
            "text/plain": [
              "'python'"
            ]
          },
          "metadata": {},
          "execution_count": 7
        }
      ]
    },
    {
      "cell_type": "code",
      "source": [
        "favorite_language.lstrip()"
      ],
      "metadata": {
        "id": "tKrw481U-Gd5",
        "colab": {
          "base_uri": "https://localhost:8080/",
          "height": 35
        },
        "outputId": "85cca0e0-8931-411f-8dd1-3472508e9e32"
      },
      "execution_count": 8,
      "outputs": [
        {
          "output_type": "execute_result",
          "data": {
            "application/vnd.google.colaboratory.intrinsic+json": {
              "type": "string"
            },
            "text/plain": [
              "'python '"
            ]
          },
          "metadata": {},
          "execution_count": 8
        }
      ]
    },
    {
      "cell_type": "code",
      "source": [
        "favorite_language.rstrip()"
      ],
      "metadata": {
        "id": "rW4djEno-MK5",
        "colab": {
          "base_uri": "https://localhost:8080/",
          "height": 35
        },
        "outputId": "748f3eb9-35a5-4644-c464-5eefa499e90d"
      },
      "execution_count": 9,
      "outputs": [
        {
          "output_type": "execute_result",
          "data": {
            "application/vnd.google.colaboratory.intrinsic+json": {
              "type": "string"
            },
            "text/plain": [
              "' python'"
            ]
          },
          "metadata": {},
          "execution_count": 9
        }
      ]
    },
    {
      "cell_type": "markdown",
      "source": [
        "##**연습문제** "
      ],
      "metadata": {
        "id": "9ZXCcO01-nSF"
      }
    },
    {
      "cell_type": "markdown",
      "source": [
        "2-3. Personal Message: Use a variable to represent a person’s name, and print\n",
        "a message to that person. Your message should be simple, such as, “Hello Eric,\n",
        "would you like to learn some Python today?”\n",
        "\n",
        "**개인적인 메시지**: 변수를 사용하여 사람의 이름을 나타내고 그 사람에게 메시지를 프린트합니다. \n",
        "\n",
        "**메시지는 “Hello Eric, would you like to learn some Python today?”와 같이 간단해야 합니다.**\n",
        "\n",
        "2-4. Name Cases: Use a variable to represent a person’s name, and then print\n",
        "that person’s name in lowercase, uppercase, and title case.\n",
        "\n",
        "**이름 대소문자**: 변수를 사용하여 사람의 이름을 표시한 다음 해당 사람의 이름을 소문자, 대문자 및 제목 대소문자로 프린트합니다.\n",
        "\n",
        "2-5. Famous Quote: Find a quote from a famous person you admire. Print the\n",
        "quote and the name of its author. Your output should look something like the\n",
        "following, including the quotation marks:\n",
        "\n",
        "**유명한 인용문**: 존경하는 유명인의 인용문을 찾으십시오. 인용문과 저자 이름을 프린트하십시오. 출력은 따옴표를 포함하여 다음과 같아야 합니다.\n",
        "\n",
        "*Albert Einstein once said, “A person who never made a mistake never tried anything new.”*\n",
        "\n",
        "2-6. Famous Quote 2: Repeat Exercise 2-5, but this time, represent the\n",
        "famous person’s name using a variable called famous_person. Then compose\n",
        "your message and represent it with a new variable called message. Print your\n",
        "message.\n",
        "\n",
        "**유명한 인용문2**: 연습 2-5를 반복하지만 이번에는 유명한 사람의 이름을 Famous_person이라는 변수를 사용하여 나타냅니다.\n",
        "그런 다음 메시지를 작성하고 메시지라는 새 변수로 표현하십시오. 메시지를 프린트합니다.\n",
        "\n",
        "2-7. Stripping Names: Use a variable to represent a person’s name, and include\n",
        "some whitespace characters at the beginning and end of the name. Make sure\n",
        "you use each character combination, \"\\t\" and \"\\n\", at least once.\n",
        "\n",
        "2-7. **스트리핑 이름**: 변수를 사용하여 사람의 이름을 나타내고 이름의 시작과 끝에 공백 문자를 포함합니다.\n",
        "각 문자 조합 \"\\t\" 및 \"\\n\"을 한 번 이상 사용해야 합니다.\n",
        "\n",
        "Print the name once, so the whitespace around the name is displayed.\n",
        "Then print the name using each of the three stripping functions, lstrip(),\n",
        "rstrip(), and strip().\n",
        "\n",
        "이름을 한 번 프린트하고 이름 앞과 뒤에 공백이 표시되야합니다. \n",
        "그 다음 lstrip(), rstrip() 및 strip() 세 가지 스트립 함수 각각을 사용하여 이름을 프린트하십시오. "
      ],
      "metadata": {
        "id": "pStflA1n-wJB"
      }
    },
    {
      "cell_type": "markdown",
      "source": [
        "2-3"
      ],
      "metadata": {
        "id": "tuPbjbRpMDTS"
      }
    },
    {
      "cell_type": "code",
      "source": [
        "name = \"Eric\"\n",
        "print(f\"Hello {name}, would you like to learn Python today?\")"
      ],
      "metadata": {
        "colab": {
          "base_uri": "https://localhost:8080/"
        },
        "id": "i9izaDM5MCaZ",
        "outputId": "39d2d022-4ff9-4ce9-ea90-1553b811782a"
      },
      "execution_count": null,
      "outputs": [
        {
          "output_type": "stream",
          "name": "stdout",
          "text": [
            "Hello Eric, would you like to learn Python today?\n"
          ]
        }
      ]
    },
    {
      "cell_type": "markdown",
      "source": [
        "2-4"
      ],
      "metadata": {
        "id": "p7CNEP8NMCW2"
      }
    },
    {
      "cell_type": "code",
      "source": [
        "name = \"fang hualong\"\n",
        "print(name.title())"
      ],
      "metadata": {
        "colab": {
          "base_uri": "https://localhost:8080/"
        },
        "id": "H7Mm8D8ZMCN_",
        "outputId": "b6b0dbaa-a93e-4cdb-f2ab-e5fa52fd7342"
      },
      "execution_count": null,
      "outputs": [
        {
          "output_type": "stream",
          "name": "stdout",
          "text": [
            "Fang Hualong\n"
          ]
        }
      ]
    },
    {
      "cell_type": "code",
      "source": [
        "name = 'fang hualong'\n",
        "print(name.upper())"
      ],
      "metadata": {
        "colab": {
          "base_uri": "https://localhost:8080/"
        },
        "id": "Qd6p5EgkMCLE",
        "outputId": "dccbc248-f25e-471d-d624-46b543bd8493"
      },
      "execution_count": null,
      "outputs": [
        {
          "output_type": "stream",
          "name": "stdout",
          "text": [
            "FANG HUALONG\n"
          ]
        }
      ]
    },
    {
      "cell_type": "code",
      "source": [
        "name = 'Fang Hualong'\n",
        "print(name.lower())"
      ],
      "metadata": {
        "colab": {
          "base_uri": "https://localhost:8080/"
        },
        "id": "ecwqmaDJOplW",
        "outputId": "d24ee31a-9586-4b1d-b362-de8a72a58448"
      },
      "execution_count": null,
      "outputs": [
        {
          "output_type": "stream",
          "name": "stdout",
          "text": [
            "fang hualong\n"
          ]
        }
      ]
    },
    {
      "cell_type": "markdown",
      "source": [
        "2_5"
      ],
      "metadata": {
        "id": "B7yqKsSnOpn-"
      }
    },
    {
      "cell_type": "code",
      "source": [
        "print('Albert Einstein once said, \"A person who never made a mistake never tried anything new.\"')"
      ],
      "metadata": {
        "colab": {
          "base_uri": "https://localhost:8080/"
        },
        "id": "b2wtvABpO0OW",
        "outputId": "7620fa85-fad4-4872-f6f7-10f67df53b95"
      },
      "execution_count": null,
      "outputs": [
        {
          "output_type": "stream",
          "name": "stdout",
          "text": [
            "Albert Einstein once said, \"A person who never made a mistake nver tried anything new.\"\n"
          ]
        }
      ]
    },
    {
      "cell_type": "markdown",
      "source": [
        "2_6"
      ],
      "metadata": {
        "id": "Bdy_CkzhPnlY"
      }
    },
    {
      "cell_type": "code",
      "source": [
        "famous_person = \"Albert Einstein\"\n",
        "message = \"A person who naver made a mistake never tried anythin new.\"\n",
        "print(f'{famous_person} once said,\"{message}\"')"
      ],
      "metadata": {
        "colab": {
          "base_uri": "https://localhost:8080/"
        },
        "id": "AbsdXJG8PrYi",
        "outputId": "8bbb856c-f26e-4e02-c324-b4cb4f788860"
      },
      "execution_count": null,
      "outputs": [
        {
          "output_type": "stream",
          "name": "stdout",
          "text": [
            "Albert Einstein once said,\"A person who naver made a mistake never tried anythin new.\"\n"
          ]
        }
      ]
    },
    {
      "cell_type": "markdown",
      "source": [
        "2_7"
      ],
      "metadata": {
        "id": "15uJwAZtQlg2"
      }
    },
    {
      "cell_type": "code",
      "source": [
        "name = ' fang hualong '\n",
        "print(\"unmodified:\")\n",
        "print(name)\n",
        "\n",
        "print(\"\\nUsing lstrip():\")\n",
        "print(name.lstrip())\n",
        "\n",
        "print(\"\\nUsing rstrip():\")\n",
        "print(name.rstrip())\n",
        "\n",
        "print(\"\\nUsing strip():\")\n",
        "print(name.strip())"
      ],
      "metadata": {
        "colab": {
          "base_uri": "https://localhost:8080/"
        },
        "id": "iRo75sdrQn8c",
        "outputId": "1e5a1417-76e2-4efe-955f-313cd4d3631e"
      },
      "execution_count": null,
      "outputs": [
        {
          "output_type": "stream",
          "name": "stdout",
          "text": [
            "unmodified:\n",
            " fang hualong \n",
            "\n",
            "Using lstrip():\n",
            "fang hualong \n",
            "\n",
            "Using rstrip():\n",
            " fang hualong\n",
            "\n",
            "Using strip():\n",
            "fang hualong\n"
          ]
        }
      ]
    }
  ]
}