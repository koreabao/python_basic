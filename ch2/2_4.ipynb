{
  "nbformat": 4,
  "nbformat_minor": 0,
  "metadata": {
    "colab": {
      "name": "2_4.ipynb",
      "provenance": [],
      "authorship_tag": "ABX9TyNDbzTg7DBy9etFGHlKXZks",
      "include_colab_link": true
    },
    "kernelspec": {
      "name": "python3",
      "display_name": "Python 3"
    },
    "language_info": {
      "name": "python"
    }
  },
  "cells": [
    {
      "cell_type": "markdown",
      "metadata": {
        "id": "view-in-github",
        "colab_type": "text"
      },
      "source": [
        "<a href=\"https://colab.research.google.com/github/koreabao/python_basic/blob/main/ch2/2_4.ipynb\" target=\"_parent\"><img src=\"https://colab.research.google.com/assets/colab-badge.svg\" alt=\"Open In Colab\"/></a>"
      ]
    },
    {
      "cell_type": "markdown",
      "source": [
        "##**2.4 Numbers(숫자)**\n",
        "\n",
        "###Numbers are used quite often in programming to keep score in games,\n",
        "\n",
        "###represent data in visualizations, store information in web applications,\n",
        "###and so on.\n",
        "\n",
        "###숫자는 게임에서 점수를 기록하고, 시각화 데이터를 나타내고, \n",
        "\n",
        "###웹 애플리케이션의 정보를 저장하는 등 프로그래밍에서 자주 사용됩니다."
      ],
      "metadata": {
        "id": "QIxASEjhUCDh"
      }
    },
    {
      "cell_type": "markdown",
      "source": [
        "##**2.4.1 정수(Integers)**\n",
        "\n",
        "###python에서 +, -, *, / 연산을 할 수 있다. "
      ],
      "metadata": {
        "id": "95H2PyD0T3H6"
      }
    },
    {
      "cell_type": "code",
      "source": [
        "3+2"
      ],
      "metadata": {
        "colab": {
          "base_uri": "https://localhost:8080/"
        },
        "id": "uUtF2gfdViuC",
        "outputId": "d0f2b0bf-f2db-43c8-99ea-e06d96479224"
      },
      "execution_count": 1,
      "outputs": [
        {
          "output_type": "execute_result",
          "data": {
            "text/plain": [
              "5"
            ]
          },
          "metadata": {},
          "execution_count": 1
        }
      ]
    },
    {
      "cell_type": "code",
      "source": [
        "3-2"
      ],
      "metadata": {
        "id": "GgTFukgyVnfr"
      },
      "execution_count": null,
      "outputs": []
    },
    {
      "cell_type": "code",
      "source": [
        "2*3"
      ],
      "metadata": {
        "id": "Z2fWh7uLVo8a"
      },
      "execution_count": null,
      "outputs": []
    },
    {
      "cell_type": "code",
      "source": [
        "3/2"
      ],
      "metadata": {
        "id": "gz9bc-XkVpJq"
      },
      "execution_count": null,
      "outputs": []
    },
    {
      "cell_type": "markdown",
      "source": [
        "**Python에서 **으로 제곱을 연산 한다.** "
      ],
      "metadata": {
        "id": "_rxNCBXkVpYn"
      }
    },
    {
      "cell_type": "code",
      "source": [
        "3**2"
      ],
      "metadata": {
        "id": "fOyG85gEVpiK"
      },
      "execution_count": null,
      "outputs": []
    },
    {
      "cell_type": "code",
      "source": [
        "3**3"
      ],
      "metadata": {
        "id": "WwPdBZtuWMLB"
      },
      "execution_count": null,
      "outputs": []
    },
    {
      "cell_type": "code",
      "source": [
        "10**6"
      ],
      "metadata": {
        "id": "hjEUMSh7WMXa"
      },
      "execution_count": null,
      "outputs": []
    },
    {
      "cell_type": "markdown",
      "source": [
        "Python supports the order of operations too, so you can use multiple operations in one expression.\n",
        "\n",
        "Python은 연산 순서도 지원하므로 하나의 표현식에서 여러 연산을 진행할 수 있습니다. \n",
        "\n",
        "You can also use parentheses to modify the order of operations\n",
        "\n",
        "so Python can evaluate your expression in the order you specify\n",
        "\n",
        "또한 괄호를 사용하여 연산순서를 수정할 수 있으므로\n",
        "Python이 지정한 순서대로 계산 할 수 있습니다."
      ],
      "metadata": {
        "id": "-wjzxRQlWZIP"
      }
    },
    {
      "cell_type": "code",
      "source": [
        "2 + 3*4"
      ],
      "metadata": {
        "id": "Hibda_puXU0I"
      },
      "execution_count": null,
      "outputs": []
    },
    {
      "cell_type": "code",
      "source": [
        "(2+3)*4"
      ],
      "metadata": {
        "id": "Q6J31U3OXZED"
      },
      "execution_count": null,
      "outputs": []
    },
    {
      "cell_type": "code",
      "source": [
        "모든 연산에서 "
      ],
      "metadata": {
        "id": "QUOBqCUpXdTT"
      },
      "execution_count": null,
      "outputs": []
    }
  ]
}