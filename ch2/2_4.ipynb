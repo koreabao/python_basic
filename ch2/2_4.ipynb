{
  "nbformat": 4,
  "nbformat_minor": 0,
  "metadata": {
    "colab": {
      "name": "2_4.ipynb",
      "provenance": [],
      "authorship_tag": "ABX9TyOMZgj+4ugqPhkwbtYh5tEy",
      "include_colab_link": true
    },
    "kernelspec": {
      "name": "python3",
      "display_name": "Python 3"
    },
    "language_info": {
      "name": "python"
    }
  },
  "cells": [
    {
      "cell_type": "markdown",
      "metadata": {
        "id": "view-in-github",
        "colab_type": "text"
      },
      "source": [
        "<a href=\"https://colab.research.google.com/github/koreabao/python_basic/blob/main/ch2/2_4.ipynb\" target=\"_parent\"><img src=\"https://colab.research.google.com/assets/colab-badge.svg\" alt=\"Open In Colab\"/></a>"
      ]
    },
    {
      "cell_type": "markdown",
      "source": [
        "##**2.4 Numbers(숫자)**\n",
        "\n",
        "###Numbers are used quite often in programming to keep score in games,\n",
        "\n",
        "###represent data in visualizations, store information in web applications,\n",
        "###and so on.\n",
        "\n",
        "###숫자는 게임에서 점수를 기록하고, 시각화 데이터를 나타내고, \n",
        "\n",
        "###웹 애플리케이션의 정보를 저장하는 등 프로그래밍에서 자주 사용됩니다."
      ],
      "metadata": {
        "id": "QIxASEjhUCDh"
      }
    },
    {
      "cell_type": "markdown",
      "source": [
        "##**2.4.1 정수(Integers)**\n",
        "\n",
        "###python에서 +, -, *, / 연산을 할 수 있다. "
      ],
      "metadata": {
        "id": "95H2PyD0T3H6"
      }
    },
    {
      "cell_type": "code",
      "source": [
        "3+2"
      ],
      "metadata": {
        "colab": {
          "base_uri": "https://localhost:8080/"
        },
        "id": "uUtF2gfdViuC",
        "outputId": "d0f2b0bf-f2db-43c8-99ea-e06d96479224"
      },
      "execution_count": null,
      "outputs": [
        {
          "output_type": "execute_result",
          "data": {
            "text/plain": [
              "5"
            ]
          },
          "metadata": {},
          "execution_count": 1
        }
      ]
    },
    {
      "cell_type": "code",
      "source": [
        "3-2"
      ],
      "metadata": {
        "id": "GgTFukgyVnfr"
      },
      "execution_count": null,
      "outputs": []
    },
    {
      "cell_type": "code",
      "source": [
        "2*3"
      ],
      "metadata": {
        "id": "Z2fWh7uLVo8a"
      },
      "execution_count": null,
      "outputs": []
    },
    {
      "cell_type": "code",
      "source": [
        "3/2"
      ],
      "metadata": {
        "id": "gz9bc-XkVpJq"
      },
      "execution_count": null,
      "outputs": []
    },
    {
      "cell_type": "markdown",
      "source": [
        "**Python에서 **으로 제곱을 연산 한다.** "
      ],
      "metadata": {
        "id": "_rxNCBXkVpYn"
      }
    },
    {
      "cell_type": "code",
      "source": [
        "3**2"
      ],
      "metadata": {
        "id": "fOyG85gEVpiK"
      },
      "execution_count": null,
      "outputs": []
    },
    {
      "cell_type": "code",
      "source": [
        "3**3"
      ],
      "metadata": {
        "id": "WwPdBZtuWMLB"
      },
      "execution_count": null,
      "outputs": []
    },
    {
      "cell_type": "code",
      "source": [
        "10**6"
      ],
      "metadata": {
        "id": "hjEUMSh7WMXa"
      },
      "execution_count": null,
      "outputs": []
    },
    {
      "cell_type": "markdown",
      "source": [
        "Python supports the order of operations too, so you can use multiple operations in one expression.\n",
        "\n",
        "Python은 연산 순서도 지원하므로 하나의 표현식에서 여러 연산을 진행할 수 있습니다. \n",
        "\n",
        "You can also use parentheses to modify the order of operations\n",
        "\n",
        "so Python can evaluate your expression in the order you specify\n",
        "\n",
        "또한 괄호를 사용하여 연산순서를 수정할 수 있으므로\n",
        "Python이 지정한 순서대로 계산 할 수 있습니다."
      ],
      "metadata": {
        "id": "-wjzxRQlWZIP"
      }
    },
    {
      "cell_type": "code",
      "source": [
        "2 + 3*4"
      ],
      "metadata": {
        "id": "Hibda_puXU0I"
      },
      "execution_count": null,
      "outputs": []
    },
    {
      "cell_type": "code",
      "source": [
        "(2+3)*4"
      ],
      "metadata": {
        "id": "Q6J31U3OXZED"
      },
      "execution_count": null,
      "outputs": []
    },
    {
      "cell_type": "markdown",
      "source": [
        "The spacing in these examples has no effect on how Python evaluates the expressions\n",
        "\n",
        "예제에서 곡백은 Python이 표현식을 연산하데 영향을 미치지 않습니다."
      ],
      "metadata": {
        "id": "QUOBqCUpXdTT"
      }
    },
    {
      "cell_type": "markdown",
      "source": [
        "##**2.4.2 Floats(실수)**\n",
        "\n",
        "##**Python calls any number with a decimal point a float**\n",
        "##**Python에서은 소수점이 있는 모든 숫자를 float로 부른다.**"
      ],
      "metadata": {
        "id": "ZtMM7DpmrhgC"
      }
    },
    {
      "cell_type": "code",
      "source": [
        "0.1 + 0.1"
      ],
      "metadata": {
        "colab": {
          "base_uri": "https://localhost:8080/"
        },
        "id": "jEOUZmErszMs",
        "outputId": "786c0977-499e-453d-8b81-a8930c2641b4"
      },
      "execution_count": null,
      "outputs": [
        {
          "output_type": "execute_result",
          "data": {
            "text/plain": [
              "0.2"
            ]
          },
          "metadata": {},
          "execution_count": 2
        }
      ]
    },
    {
      "cell_type": "code",
      "source": [
        "0.2 + 0.2"
      ],
      "metadata": {
        "colab": {
          "base_uri": "https://localhost:8080/"
        },
        "id": "kE9FU3m_s_7y",
        "outputId": "928156a2-7f1d-4bf1-da74-5f6287b11bcb"
      },
      "execution_count": null,
      "outputs": [
        {
          "output_type": "execute_result",
          "data": {
            "text/plain": [
              "0.4"
            ]
          },
          "metadata": {},
          "execution_count": 1
        }
      ]
    },
    {
      "cell_type": "code",
      "source": [
        "2*0.1"
      ],
      "metadata": {
        "colab": {
          "base_uri": "https://localhost:8080/"
        },
        "id": "hw4OKTLutAIw",
        "outputId": "adefdb2a-ed41-493f-afc0-6d809628084f"
      },
      "execution_count": null,
      "outputs": [
        {
          "output_type": "execute_result",
          "data": {
            "text/plain": [
              "0.2"
            ]
          },
          "metadata": {},
          "execution_count": 3
        }
      ]
    },
    {
      "cell_type": "code",
      "source": [
        "2*0.2"
      ],
      "metadata": {
        "colab": {
          "base_uri": "https://localhost:8080/"
        },
        "id": "UsQ10wHstK_i",
        "outputId": "7babada2-e75a-429f-d43f-285eb2f2961a"
      },
      "execution_count": null,
      "outputs": [
        {
          "output_type": "execute_result",
          "data": {
            "text/plain": [
              "0.4"
            ]
          },
          "metadata": {},
          "execution_count": 4
        }
      ]
    },
    {
      "cell_type": "code",
      "source": [
        "a = 0.2*2"
      ],
      "metadata": {
        "colab": {
          "base_uri": "https://localhost:8080/"
        },
        "id": "tLm5wNIHtRq8",
        "outputId": "36b08c75-b9aa-44b3-8459-69e4954d6eb3"
      },
      "execution_count": null,
      "outputs": [
        {
          "output_type": "stream",
          "name": "stdout",
          "text": [
            "0.4\n"
          ]
        }
      ]
    },
    {
      "cell_type": "markdown",
      "source": [
        "**But be aware that you can sometimes get an arbitrary number of decimal places in your answer**\n",
        "\n",
        "**그러나 답변에서 임의의 소수점 이하 자릿수를 나올 수 있습니다.**"
      ],
      "metadata": {
        "id": "gnZ53c93tlxN"
      }
    },
    {
      "cell_type": "code",
      "source": [
        "0.2+0.1"
      ],
      "metadata": {
        "colab": {
          "base_uri": "https://localhost:8080/"
        },
        "id": "FwcTjWsWuBbJ",
        "outputId": "3ae17dc6-8b10-40b4-a4df-c4bf7adc4428"
      },
      "execution_count": null,
      "outputs": [
        {
          "output_type": "execute_result",
          "data": {
            "text/plain": [
              "0.30000000000000004"
            ]
          },
          "metadata": {},
          "execution_count": 9
        }
      ]
    },
    {
      "cell_type": "code",
      "source": [
        "3*0.1"
      ],
      "metadata": {
        "colab": {
          "base_uri": "https://localhost:8080/"
        },
        "id": "kQzoeYjeuExl",
        "outputId": "bfe07fd8-c8bb-4388-b021-d3433687290d"
      },
      "execution_count": null,
      "outputs": [
        {
          "output_type": "execute_result",
          "data": {
            "text/plain": [
              "0.30000000000000004"
            ]
          },
          "metadata": {},
          "execution_count": 11
        }
      ]
    },
    {
      "cell_type": "markdown",
      "source": [
        "##**2.4.3 Integers and Floats(정수와 실수)**\n",
        "1.   When you divide any two numbers, even if they are integers that result in a\n",
        "whole number, you’ll always get a float\n",
        "\n",
        " 두 숫자를 나눌 때 정제(整除)해더라도 결과는 실수다. \n",
        "\n",
        "2.   If you mix an integer and a float in any other operation, you’ll get a\n",
        "float as well\n",
        "\n",
        " 다른 연산에서 실수와 연산 하면 결과는 항상 실수다. \n",
        "\n",
        " **type()이용해서 확인**"
      ],
      "metadata": {
        "id": "cjRMKFc_uNBL"
      }
    },
    {
      "cell_type": "code",
      "source": [
        "1 + 2.0"
      ],
      "metadata": {
        "id": "qJ2qXKHGvX02"
      },
      "execution_count": null,
      "outputs": []
    },
    {
      "cell_type": "code",
      "source": [
        "2*3.0"
      ],
      "metadata": {
        "id": "9PU7fyvLvYJ5"
      },
      "execution_count": null,
      "outputs": []
    },
    {
      "cell_type": "code",
      "source": [
        "3.0**2"
      ],
      "metadata": {
        "id": "GuWkRdxmvcv0"
      },
      "execution_count": null,
      "outputs": []
    },
    {
      "cell_type": "markdown",
      "source": [
        "##**2.4.4 Underscores in Numbers(숫자에 있는 밑줄)**\n",
        "\n",
        "1.   When you’re writing long numbers, you can group digits using underscores to make large numbers more readable\n",
        "\n",
        "  긴 숫자를 쓸 때 밑줄을 사용하여 큰 숫자를 더 읽기 쉽게 만든단. \n",
        "\n",
        "  Python은 밑줄은 프린트 않한다. "
      ],
      "metadata": {
        "id": "Kaj-UddwvyFb"
      }
    },
    {
      "cell_type": "code",
      "source": [
        "universe_age = 14_000_000_000\n",
        "print(universe_age)\n",
        "type(universe_age)"
      ],
      "metadata": {
        "colab": {
          "base_uri": "https://localhost:8080/"
        },
        "id": "q11rQnaCw71-",
        "outputId": "486f041b-6baf-4be5-b278-571d516cef8f"
      },
      "execution_count": null,
      "outputs": [
        {
          "output_type": "stream",
          "name": "stdout",
          "text": [
            "14000000000\n"
          ]
        },
        {
          "output_type": "execute_result",
          "data": {
            "text/plain": [
              "int"
            ]
          },
          "metadata": {},
          "execution_count": 13
        }
      ]
    },
    {
      "cell_type": "markdown",
      "source": [
        "##**2.4.5 Multiple Assignment(동시에 여러개 변수에 값을 할당)**\n",
        "\n",
        "1.   You can assign values to more than one variable using just a single line.\n",
        "\n",
        " 한 줄만 사용하여 둘 이상의 변수에 값을 할당할 수 있다. \n",
        "\n",
        "2.  You need to separate the variable names with commas, and do the\n",
        "same with the values, and Python will assign each value to its respectively\n",
        "positioned variable. As long as the number of values matches the number of\n",
        "variables, Python will match them up correctly\n",
        "\n",
        " 변수(Varialbe) 이름을 쉼표로 구분하고 값(Value)도 같아야한다. \n",
        " \n",
        " 그러면 Python은 각 값을 각각 배치된 변수에 값을 할당합니다.\n",
        "\n",
        " 값의 수가 변수의 수와 일치하는 Python은 값을 변수에 부여한다. "
      ],
      "metadata": {
        "id": "CQix4dR7w8hk"
      }
    },
    {
      "cell_type": "code",
      "source": [
        "x,y,z = 1,2,3\n",
        "print(x+y)\n",
        "print(y-z)\n",
        "print(x*y*z)"
      ],
      "metadata": {
        "colab": {
          "base_uri": "https://localhost:8080/"
        },
        "id": "sp5UwH8PzkFN",
        "outputId": "d3642253-b502-4da7-a7e0-0ac57266b803"
      },
      "execution_count": null,
      "outputs": [
        {
          "output_type": "stream",
          "name": "stdout",
          "text": [
            "3\n",
            "-1\n",
            "6\n"
          ]
        }
      ]
    },
    {
      "cell_type": "markdown",
      "source": [
        "##**2.4.6 Constants(상수)** \n",
        "\n",
        "1.  A constant is like a variable whose value stays the same throughout the life of a program\n",
        "\n",
        " 상수는 프로그램 실행동안 값이 동일하게 유지하는 변수다. \n",
        "\n",
        "2.  Python programmers use all capital letters to indicate a variable should be treated as a constant and never be changed\n",
        "\n",
        " Python 사용자는 변수를 무도 대문자로 사용해서 상수를 의미한다. "
      ],
      "metadata": {
        "id": "cAw-pIsHz34F"
      }
    },
    {
      "cell_type": "code",
      "source": [
        "MAX_CONNECTIONS = 5000"
      ],
      "metadata": {
        "id": "VsM2xPie1DF2"
      },
      "execution_count": null,
      "outputs": []
    },
    {
      "cell_type": "markdown",
      "source": [
        "##**연습문제** \n",
        "\n",
        "**2-8. Number Eight:**\n",
        "\n",
        "Write addition, subtraction, multiplication, and division\n",
        "operations that each result in the number 8.\n",
        "\n",
        "Be sure to enclose your operations in print() calls to see the results.\n",
        "\n",
        "You should create four lines that look like this:\n",
        "\n",
        "---\n",
        "print(5+3)\n",
        "\n",
        "---\n",
        "Your output should simply be four lines with the number 8 appearing once\n",
        "on each line.\n",
        "\n",
        "**2-9. Favorite Number:** \n",
        "\n",
        "Use a variable to represent your favorite number. \n",
        "Then, using that variable, create a message that reveals your favorite number. Print that message."
      ],
      "metadata": {
        "id": "uYviLYeB1Kid"
      }
    },
    {
      "cell_type": "markdown",
      "source": [
        "##**2.5 Comments(주석)**\n",
        "## '#'hash mark를 사용한다. "
      ],
      "metadata": {
        "id": "Wqy8IARuqA3D"
      }
    },
    {
      "cell_type": "code",
      "source": [
        "# Say hello to everyone.\n",
        "print(\"Hello Python people!\")"
      ],
      "metadata": {
        "id": "P3lRMLwYqnDO"
      },
      "execution_count": null,
      "outputs": []
    },
    {
      "cell_type": "markdown",
      "source": [
        "## **The Zen of Python(Python의 선)**\n"
      ],
      "metadata": {
        "id": "TUkkVfORq00g"
      }
    },
    {
      "cell_type": "code",
      "source": [
        "import this"
      ],
      "metadata": {
        "id": "ZU8fOYMYq8lg",
        "outputId": "241683a1-e3f2-4008-b1ec-98246c8e4610",
        "colab": {
          "base_uri": "https://localhost:8080/"
        }
      },
      "execution_count": 1,
      "outputs": [
        {
          "output_type": "stream",
          "name": "stdout",
          "text": [
            "The Zen of Python, by Tim Peters\n",
            "\n",
            "Beautiful is better than ugly.\n",
            "Explicit is better than implicit.\n",
            "Simple is better than complex.\n",
            "Complex is better than complicated.\n",
            "Flat is better than nested.\n",
            "Sparse is better than dense.\n",
            "Readability counts.\n",
            "Special cases aren't special enough to break the rules.\n",
            "Although practicality beats purity.\n",
            "Errors should never pass silently.\n",
            "Unless explicitly silenced.\n",
            "In the face of ambiguity, refuse the temptation to guess.\n",
            "There should be one-- and preferably only one --obvious way to do it.\n",
            "Although that way may not be obvious at first unless you're Dutch.\n",
            "Now is better than never.\n",
            "Although never is often better than *right* now.\n",
            "If the implementation is hard to explain, it's a bad idea.\n",
            "If the implementation is easy to explain, it may be a good idea.\n",
            "Namespaces are one honking great idea -- let's do more of those!\n"
          ]
        }
      ]
    },
    {
      "cell_type": "markdown",
      "source": [
        "Beautiful is better than ugly.\n",
        "\n",
        "고움은 추함보다 낫다.\n",
        "\n",
        "Explicit is better than implicit.\n",
        "\n",
        "명시는 암시보다 낫다.\n",
        "\n",
        "Simple is better than complex.\n",
        "\n",
        "단순은 복잡보다 낫다.\n",
        "\n",
        "Complex is better than complicated.\n",
        "\n",
        "복잡은 꼬임보다 낫다.\n",
        "\n",
        "단일은 이중보다 낫다.\n",
        "\n",
        "나뉨은 밀집보다 낫다.\n",
        "\n",
        "Readability counts.\n",
        "\n",
        "가독성은 중요하다.\n",
        "\n",
        "특수 사례도 규칙을 깰 정도로 특수하진 않다.\n",
        "\n",
        "실용이 순수보다 중요하긴 하지만.\n",
        "\n",
        "오류를 조용히 넘겨서는 안된다.\n",
        "\n",
        "명시적으로 조용히 하지 않으면.\n",
        "\n",
        "모호한 상황에선, 추측을 거부해라.\n",
        "\n",
        "There should be one-- and preferably only one --obvious way to do it.\n",
        "\n",
        "언제나 하나의 - 단 하나라면 더 좋고 - 당연한 방법이 있다.\n",
        "\n",
        "진주를 좋아한다면 당연해 보이진 않겠지만.\n",
        "\n",
        "Now is better than never.\n",
        "\n",
        "지금 하는게 안하는 것보다 낫다.\n",
        "\n",
        "안하는게 지금 '당장' 하는 것보단 나을 수도 있지만.\n",
        "\n",
        "구현을 설명하기 어려우면 나쁜 것이다.\n",
        "\n",
        "구현을 설명하기 쉬우면 좋을 수도 있다.\n",
        "\n",
        "이름 공간은 엄청 좋은 생각이다. 이거 많이 하자."
      ],
      "metadata": {
        "id": "k1jt6sSqrUyV"
      }
    },
    {
      "cell_type": "code",
      "source": [
        ""
      ],
      "metadata": {
        "id": "SrnHcYrYsIMG"
      },
      "execution_count": null,
      "outputs": []
    }
  ]
}