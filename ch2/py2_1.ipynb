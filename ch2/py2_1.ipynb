{
  "nbformat": 4,
  "nbformat_minor": 0,
  "metadata": {
    "colab": {
      "name": "py2_1.ipynb",
      "provenance": [],
      "include_colab_link": true
    },
    "kernelspec": {
      "name": "python3",
      "display_name": "Python 3"
    },
    "language_info": {
      "name": "python"
    }
  },
  "cells": [
    {
      "cell_type": "markdown",
      "metadata": {
        "id": "view-in-github",
        "colab_type": "text"
      },
      "source": [
        "<a href=\"https://colab.research.google.com/github/koreabao/python_basic/blob/main/ch2/py2_1.ipynb\" target=\"_parent\"><img src=\"https://colab.research.google.com/assets/colab-badge.svg\" alt=\"Open In Colab\"/></a>"
      ]
    },
    {
      "cell_type": "markdown",
      "source": [
        "## **2.1변수(varables): Think of a variable as a name attached to a particular object(객체,대상)**\n",
        "\n",
        "## **변수를 특정 개체에 연결된 이름으로 생각하십시오**\n",
        "\n",
        "To create a variable, you just assign it a value and then start using it. \n",
        "\n",
        "변수를 생성하려면 값을 할당하고 사용을 시작하면 됩니다.\n",
        "\n",
        "Assignment is done with a single equals sign (=):\n",
        "\n",
        "할당은 등호(=)로 수행됩니다.\n",
        "\n",
        "Every variable is connected to a value, which is the information associated with that variable.\n",
        "\n",
        "모든 변수는 해당 변수와 관련된 정보인 값에 연결됩니다."
      ],
      "metadata": {
        "id": "KC3lIlci34sk"
      }
    },
    {
      "cell_type": "code",
      "execution_count": null,
      "metadata": {
        "colab": {
          "base_uri": "https://localhost:8080/"
        },
        "id": "FCtKnNbY3w-K",
        "outputId": "a2256e2d-4351-4049-e8ff-1b5a355bf660"
      },
      "outputs": [
        {
          "output_type": "stream",
          "name": "stdout",
          "text": [
            "Hello Python world!\n",
            "Hello Python Crash Course world!\n"
          ]
        }
      ],
      "source": [
        "message = \"Hello Python world!\"\n",
        "print(message)\n",
        "\n",
        "message = \"Hello Python Crash Course world!\"\n",
        "print(message)\n"
      ]
    },
    {
      "cell_type": "markdown",
      "source": [
        "## **2.2.1 Naming and Using Variables(변수 이름 지정 및 사용)**\n",
        "\n",
        "\n",
        "1.   Variable names can contain only letters, numbers, and underscores.\n",
        "    \n",
        "    They can start with a letter or an underscore, but not with a number.\n",
        "2.   Spaces are not allowed in variable names, but underscores can be used\n",
        "to separate words in variable names.\n",
        "\n",
        "3.   Avoid using Python keywords and function names as variable names\n",
        "\n",
        "4.   Variable names should be short but descriptive.\n",
        "\n",
        "5.   Be careful when using the lowercase letter l and the uppercase letter o\n",
        "because they could be confused with the numbers 1 and 0.\n",
        "\n"
      ],
      "metadata": {
        "id": "J3eeRc5R9Vvt"
      }
    },
    {
      "cell_type": "code",
      "source": [
        "dir(__builtins__)"
      ],
      "metadata": {
        "id": "9JjtOmaYRBRO"
      },
      "execution_count": null,
      "outputs": []
    },
    {
      "cell_type": "markdown",
      "source": [
        "## **2.2.2 Avoiding Name Errors When Using Variables**"
      ],
      "metadata": {
        "id": "ArwWPz0Ubefb"
      }
    },
    {
      "cell_type": "code",
      "source": [
        "message = \"Hello Python Crash Course world!\"\n",
        "print(mesage)"
      ],
      "metadata": {
        "colab": {
          "base_uri": "https://localhost:8080/",
          "height": 190
        },
        "id": "YMjJ-sRObkb7",
        "outputId": "08b537ee-5f75-4873-cd62-c9f28dde10a8"
      },
      "execution_count": null,
      "outputs": [
        {
          "output_type": "error",
          "ename": "NameError",
          "evalue": "ignored",
          "traceback": [
            "\u001b[0;31m---------------------------------------------------------------------------\u001b[0m",
            "\u001b[0;31mNameError\u001b[0m                                 Traceback (most recent call last)",
            "\u001b[0;32m<ipython-input-5-989cd8218a10>\u001b[0m in \u001b[0;36m<module>\u001b[0;34m()\u001b[0m\n\u001b[1;32m      1\u001b[0m \u001b[0mmessage\u001b[0m \u001b[0;34m=\u001b[0m \u001b[0;34m\"Hello Python Crash Course world!\"\u001b[0m\u001b[0;34m\u001b[0m\u001b[0;34m\u001b[0m\u001b[0m\n\u001b[0;32m----> 2\u001b[0;31m \u001b[0mprint\u001b[0m\u001b[0;34m(\u001b[0m\u001b[0mmesage\u001b[0m\u001b[0;34m)\u001b[0m\u001b[0;34m\u001b[0m\u001b[0;34m\u001b[0m\u001b[0m\n\u001b[0m",
            "\u001b[0;31mNameError\u001b[0m: name 'mesage' is not defined"
          ]
        }
      ]
    },
    {
      "cell_type": "markdown",
      "source": [
        "## **2.2.3Variables Are Labels**\n",
        "\n",
        "Variables are often described as boxes you can store values in.\n",
        "\n",
        "It’s much better to think of variables as labels that you can assign to values.\n",
        "\n",
        "You can also say that a variable references a certain value"
      ],
      "metadata": {
        "id": "CwO8Sj41bvCB"
      }
    },
    {
      "cell_type": "markdown",
      "source": [
        "# **연습**\n",
        "\n",
        "2-1. Simple Message: \n",
        "\n",
        "Assign a message to a variable, and then print that message.\n",
        "\n",
        "변수에 메시지를 할당한 다음 해당 메시지를 피린트합니다.\n",
        "\n",
        "2-2. Simple Messages: \n",
        "\n",
        "Assign a message to a variable, and print that message.\n",
        "\n",
        " Then change the value of the variable to a new message, and print the new\n",
        "message."
      ],
      "metadata": {
        "id": "WZrNfZMTcYEn"
      }
    },
    {
      "cell_type": "code",
      "source": [
        "message = \"나는 한국사람 입니다.\"\n",
        "print(message)\n",
        "\n",
        "message = \"나는 중국 사람입니다.\"\n",
        "print(message)"
      ],
      "metadata": {
        "colab": {
          "base_uri": "https://localhost:8080/"
        },
        "id": "xeYEL96mfB76",
        "outputId": "4984204e-3ddb-4de1-b3b3-238cb6b5f1b8"
      },
      "execution_count": 5,
      "outputs": [
        {
          "output_type": "stream",
          "name": "stdout",
          "text": [
            "나는 한국사람 입니다.\n",
            "나는 중국 사람입니다.\n"
          ]
        }
      ]
    }
  ]
}