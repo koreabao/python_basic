{
  "nbformat": 4,
  "nbformat_minor": 0,
  "metadata": {
    "colab": {
      "name": "6_4.ipynb",
      "provenance": [],
      "authorship_tag": "ABX9TyMu2v3LyN0pOXdcv1ZQUj8o",
      "include_colab_link": true
    },
    "kernelspec": {
      "name": "python3",
      "display_name": "Python 3"
    },
    "language_info": {
      "name": "python"
    }
  },
  "cells": [
    {
      "cell_type": "markdown",
      "metadata": {
        "id": "view-in-github",
        "colab_type": "text"
      },
      "source": [
        "<a href=\"https://colab.research.google.com/github/koreabao/python_basic/blob/main/ch6/6_4.ipynb\" target=\"_parent\"><img src=\"https://colab.research.google.com/assets/colab-badge.svg\" alt=\"Open In Colab\"/></a>"
      ]
    },
    {
      "cell_type": "markdown",
      "source": [
        "##**6.4 Nesting**\n",
        "\n",
        "Sometimes you’ll want to store multiple dictionaries in a list,\n",
        "\n",
        "or a list of items as a value in a dictionary.\n",
        "\n",
        "This is called nesting."
      ],
      "metadata": {
        "id": "2Fsvj9OROTKg"
      }
    },
    {
      "cell_type": "markdown",
      "source": [
        "**6.4.1 A List of Dictionaries**"
      ],
      "metadata": {
        "id": "bWkMIfPLO1ip"
      }
    },
    {
      "cell_type": "code",
      "source": [
        "alien_0 = {'color': 'green', 'points': 5}\n",
        "alien_1 = {'color': 'yellow', 'points': 10}\n",
        "alien_2 = {'color': 'red', 'points': 15}\n",
        "\n",
        "aliens = [alien_0, alien_1, alien_2]\n",
        "for alien in aliens:\n",
        "  print(alien)"
      ],
      "metadata": {
        "colab": {
          "base_uri": "https://localhost:8080/"
        },
        "id": "wjZE_K40O_je",
        "outputId": "b9b6e0b7-763e-4328-80ca-9d3554f68753"
      },
      "execution_count": 1,
      "outputs": [
        {
          "output_type": "stream",
          "name": "stdout",
          "text": [
            "{'color': 'green', 'points': 5}\n",
            "{'color': 'yellow', 'points': 10}\n",
            "{'color': 'red', 'points': 15}\n"
          ]
        }
      ]
    },
    {
      "cell_type": "markdown",
      "source": [
        "use range() to create a fleet of 30 aliens"
      ],
      "metadata": {
        "id": "O6KedyFJPSKQ"
      }
    },
    {
      "cell_type": "code",
      "source": [
        "# Make an empty list for storing aliens.\n",
        "aliens = []\n",
        "# Make 30 green aliens.\n",
        "for alien_number in range(30):\n",
        "  new_alien = {'color': 'green', 'points': 5, 'speed': 'slow'}\n",
        "  aliens.append(new_alien)\n",
        "# Show the first 5 aliens.\n",
        "for alien in aliens[:5]:\n",
        "  print(alien)\n",
        "print(\"...\")\n",
        "# Show how many aliens have been created.\n",
        "print(f\"Total number of aliens: {len(aliens)}\")\n"
      ],
      "metadata": {
        "colab": {
          "base_uri": "https://localhost:8080/"
        },
        "id": "kq34cfQ1PU92",
        "outputId": "fecc82ba-42e4-4176-96ae-6b0d00618964"
      },
      "execution_count": 10,
      "outputs": [
        {
          "output_type": "stream",
          "name": "stdout",
          "text": [
            "{'color': 'green', 'points': 5, 'speed': 'slow'}\n",
            "{'color': 'green', 'points': 5, 'speed': 'slow'}\n",
            "{'color': 'green', 'points': 5, 'speed': 'slow'}\n",
            "{'color': 'green', 'points': 5, 'speed': 'slow'}\n",
            "{'color': 'green', 'points': 5, 'speed': 'slow'}\n",
            "...\n",
            "Total number of aliens: 30\n"
          ]
        }
      ]
    },
    {
      "cell_type": "markdown",
      "source": [
        "When it’s time to change colors,\n",
        "\n",
        "we can use a for loop and\n",
        "an if statement to change the color of aliens.\n",
        "\n",
        "For example, to change the first three aliens to yellow,\n",
        "\n",
        "medium-speed aliens worth 10 points each, we could do this:"
      ],
      "metadata": {
        "id": "ONNNl0MqQpYX"
      }
    },
    {
      "cell_type": "code",
      "source": [
        "# Make an empty list for storing aliens.\n",
        "aliens = []\n",
        "# Make 30 green aliens.\n",
        "for alien_number in range (30):\n",
        "  new_alien = {'color': 'green', 'points': 5, 'speed': 'slow'}\n",
        "  aliens.append(new_alien)\n",
        "for alien in aliens[:3]:\n",
        "  if alien['color'] == 'green':\n",
        "    alien['color'] = 'yellow'\n",
        "    alien['speed'] = 'medium'\n",
        "    alien['points'] = 10\n",
        "# Show the first 5 aliens.\n",
        "for alien in aliens[:5]:\n",
        "  print(alien)\n",
        "print(\"...\")"
      ],
      "metadata": {
        "colab": {
          "base_uri": "https://localhost:8080/"
        },
        "id": "bwOffmnLQYZz",
        "outputId": "142d136d-8723-4f58-9f3b-71306da8100e"
      },
      "execution_count": 12,
      "outputs": [
        {
          "output_type": "stream",
          "name": "stdout",
          "text": [
            "{'color': 'yellow', 'points': 10, 'speed': 'medium'}\n",
            "{'color': 'yellow', 'points': 10, 'speed': 'medium'}\n",
            "{'color': 'yellow', 'points': 10, 'speed': 'medium'}\n",
            "{'color': 'green', 'points': 5, 'speed': 'slow'}\n",
            "{'color': 'green', 'points': 5, 'speed': 'slow'}\n",
            "...\n"
          ]
        }
      ]
    },
    {
      "cell_type": "code",
      "source": [
        "# Make an empty list for storing aliens.\n",
        "aliens = []\n",
        "# Make 30 green aliens.\n",
        "for alien_number in range (30):\n",
        "  new_alien = {'color': 'green', 'points': 5, 'speed': 'slow'}\n",
        "  aliens.append(new_alien)\n",
        "# for alien in aliens[:3]:\n",
        "#   if alien['color'] == 'green':\n",
        "#     alien['color'] = 'yellow'\n",
        "#     alien['speed'] = 'medium'\n",
        "#     alien['points'] = 10\n",
        "for alien in aliens[0:3]:\n",
        "  if alien['color'] == 'green':\n",
        "    alien['color'] = 'yellow'\n",
        "    alien['speed'] = 'medium'\n",
        "    alien['points'] = 10\n",
        "  elif alien['color'] == 'yellow':\n",
        "    alien['color'] = 'red'\n",
        "    alien['speed'] = 'fast'\n",
        "    alien['points'] = 15\n",
        "\n",
        "\n",
        "# Show the first 5 aliens.\n",
        "for alien in aliens[:5]:\n",
        "  print(alien)\n",
        "print(\"...\")"
      ],
      "metadata": {
        "colab": {
          "base_uri": "https://localhost:8080/"
        },
        "id": "Qr-YcobLRHke",
        "outputId": "63a30b68-0ebc-4709-8351-1f96490f521b"
      },
      "execution_count": 14,
      "outputs": [
        {
          "output_type": "stream",
          "name": "stdout",
          "text": [
            "{'color': 'yellow', 'points': 10, 'speed': 'medium'}\n",
            "{'color': 'yellow', 'points': 10, 'speed': 'medium'}\n",
            "{'color': 'yellow', 'points': 10, 'speed': 'medium'}\n",
            "{'color': 'green', 'points': 5, 'speed': 'slow'}\n",
            "{'color': 'green', 'points': 5, 'speed': 'slow'}\n",
            "...\n"
          ]
        }
      ]
    },
    {
      "cell_type": "markdown",
      "source": [
        "**6.4.2 A List in a Dictionary**"
      ],
      "metadata": {
        "id": "DXCM4iLgRy_5"
      }
    },
    {
      "cell_type": "code",
      "source": [
        "# Store information about a pizza being ordered.\n",
        "pizza = {\n",
        "    'crust': 'thick',\n",
        "    'toppings': ['mushrooms', 'extra cheese'],\n",
        "    }\n",
        "\n",
        "# Summarize the order.\n",
        "print(f\"You ordered a {pizza['crust']}-crust pizza \"\n",
        "\"with the following toppings:\")\n",
        "for topping in pizza['toppings']:\n",
        "  print(f'\\t{topping}')"
      ],
      "metadata": {
        "colab": {
          "base_uri": "https://localhost:8080/"
        },
        "id": "sfrBWDeGSShv",
        "outputId": "0013e6ba-bd6f-4998-cb36-dc6d6140c7d1"
      },
      "execution_count": 17,
      "outputs": [
        {
          "output_type": "stream",
          "name": "stdout",
          "text": [
            "You ordered a thick-crust pizza with the following toppings:\n",
            "\tmushrooms\n",
            "\textra cheese\n"
          ]
        }
      ]
    }
  ]
}