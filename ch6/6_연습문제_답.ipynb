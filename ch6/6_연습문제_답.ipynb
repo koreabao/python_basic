{
  "nbformat": 4,
  "nbformat_minor": 0,
  "metadata": {
    "colab": {
      "name": "6_연습문제_답.ipynb",
      "provenance": [],
      "authorship_tag": "ABX9TyOOHJgPo3BlnplZVA+nwpG6",
      "include_colab_link": true
    },
    "kernelspec": {
      "name": "python3",
      "display_name": "Python 3"
    },
    "language_info": {
      "name": "python"
    }
  },
  "cells": [
    {
      "cell_type": "markdown",
      "metadata": {
        "id": "view-in-github",
        "colab_type": "text"
      },
      "source": [
        "<a href=\"https://colab.research.google.com/github/koreabao/python_basic/blob/main/ch6/6_%EC%97%B0%EC%8A%B5%EB%AC%B8%EC%A0%9C_%EB%8B%B5.ipynb\" target=\"_parent\"><img src=\"https://colab.research.google.com/assets/colab-badge.svg\" alt=\"Open In Colab\"/></a>"
      ]
    },
    {
      "cell_type": "markdown",
      "source": [
        "6-1. Person: \n",
        "\n",
        "Use a dictionary to store information about a person you know.\n",
        "\n",
        "Store their first name, last name, age, and the city in which they live. \n",
        "\n",
        "You should have keys such as first_name, last_name, age, and city.\n",
        "\n",
        "Print each piece of information stored in your dictionary.\n"
      ],
      "metadata": {
        "id": "FHlXValwlbvt"
      }
    },
    {
      "cell_type": "code",
      "source": [
        "person = {'first_name':'Hualong', 'last_name': 'Fang', 'age': 40, 'city': 'Cheongju'}\n",
        "print(person['first_name'])\n",
        "print(person['last_name'])\n",
        "print(person['age'])\n",
        "print(person['city'])"
      ],
      "metadata": {
        "id": "zDREZwYO79Vw",
        "outputId": "d3a2eff1-fd09-4268-ac2c-a2ead968c276",
        "colab": {
          "base_uri": "https://localhost:8080/"
        }
      },
      "execution_count": null,
      "outputs": [
        {
          "output_type": "stream",
          "name": "stdout",
          "text": [
            "Hualong\n",
            "Fang\n",
            "40\n",
            "Cheongju\n"
          ]
        }
      ]
    },
    {
      "cell_type": "markdown",
      "source": [
        "6-2. Favorite Numbers: \n",
        "\n",
        "Use a dictionary to store people’s favorite numbers.\n",
        "\n",
        "Think of five names, and use them as keys in your dictionary. \n",
        "\n",
        "Think of a favorite number for each person, and store each as a value in your dictionary. \n",
        "\n",
        "Print each person’s name and their favorite number.\n",
        "\n",
        "For even more fun, poll a few friends and get some actual data for your program.\n"
      ],
      "metadata": {
        "id": "n6MR_Sqjl0D2"
      }
    },
    {
      "cell_type": "code",
      "source": [
        "favorites_numbers = {\n",
        "    'kate':5,\n",
        "    '화룡':8,\n",
        "    '병진':7\n",
        "    } \n",
        "\n",
        "num = favorites_numbers['kate']\n",
        "print(f\"kate's favorites number is {num}.\\n\")\n",
        "\n",
        "num = favorites_numbers['화룡']\n",
        "print(f\"화룡이 좋아하는 숫자는 {num} 이다.\\n\")\n",
        "\n",
        "num = favorites_numbers['병진']\n",
        "print(f'병진이 좋아하는 숫자는 {num} 이다.')"
      ],
      "metadata": {
        "id": "Fc-8Ffaf9PLf",
        "outputId": "3b639469-5142-4ac7-c7f3-93759faa539e",
        "colab": {
          "base_uri": "https://localhost:8080/"
        }
      },
      "execution_count": null,
      "outputs": [
        {
          "output_type": "stream",
          "name": "stdout",
          "text": [
            "kate's favorites number is 5.\n",
            "\n",
            "화룡이 좋아하는 숫자는 8 이다.\n",
            "\n",
            "병진이 좋아하는 숫자는 7 이다.\n"
          ]
        }
      ]
    },
    {
      "cell_type": "markdown",
      "source": [
        "6-3. Glossary: \n",
        "\n",
        "A Python dictionary can be used to model an actual dictionary.\n",
        "\n",
        "However, to avoid confusion, let’s call it a glossary.\n",
        "\n",
        "* Think of five programming words you’ve learned about in the previous\n",
        "chapters. \n",
        "\n",
        " Use these words as the keys in your glossary, and store their\n",
        "meanings as values.\n",
        "\n",
        "* Print each word and its meaning as neatly formatted output. \n",
        "\n",
        " You might print the word followed by a colon and then its meaning,\n",
        " \n",
        " or print the word on one line and then print its meaning indented on a second line.\n",
        " \n",
        " Use the newline character (\\n) to insert a blank line between each word-meaning\n",
        "pair in your output."
      ],
      "metadata": {
        "id": "4c0RWD0tl5VF"
      }
    },
    {
      "cell_type": "code",
      "source": [
        "glossary = {\n",
        "    'string': '일련의 문자이다.',\n",
        "    'print': '프린트는 해당 내용을 출력한다.',\n",
        "    'upper': 'upper() 메서드는 문자열의 첫 알파벳을 대문자로 전환',\n",
        "    'sort': 'sort() 메서드는 해당 내용을 영구적으로 정렬한다.',\n",
        "    'loop': '한번에 한 collection(예:list)의 모든 요소에 대해 작업을 한다.',\n",
        "    }\n",
        "\n",
        "print(\"string:\")\n",
        "print(glossary['string'])\n",
        "\n",
        "print(\"\\nprint:\")\n",
        "print(glossary['print'])\n",
        "\n",
        "print(\"\\nupper:\")\n",
        "print(glossary['upper'])\n",
        "\n",
        "print(\"\\nsort:\")\n",
        "print(glossary['sort'])\n",
        "\n",
        "print(\"\\nloop:\")\n",
        "print(glossary['loop'])"
      ],
      "metadata": {
        "id": "PzjfavJsALEx",
        "outputId": "2b5c692a-693f-4799-8a35-4b24449e9d3e",
        "colab": {
          "base_uri": "https://localhost:8080/"
        }
      },
      "execution_count": 6,
      "outputs": [
        {
          "output_type": "stream",
          "name": "stdout",
          "text": [
            "string:\n",
            "일련의 문자이다.\n",
            "\n",
            "print:\n",
            "프린트는 해당 내용을 출력한다.\n",
            "\n",
            "upper:\n",
            "upper() 메서드는 문자열의 첫 알파벳을 대문자로 전환\n",
            "\n",
            "sort:\n",
            "sort() 메서드는 해당 내용을 영구적으로 정렬한다.\n",
            "\n",
            "loop:\n",
            "한번에 한 collection(예:list)의 모든 요소에 대해 작업을 한다.\n"
          ]
        }
      ]
    },
    {
      "cell_type": "markdown",
      "source": [
        "6-4. Glossary 2: \n",
        "\n",
        "Now that you know how to loop through a dictionary,\n",
        "\n",
        "clean up the code from Exercise 6-3 (page 99) by replacing your series of print() calls with a loop that runs through the dictionary’s keys and values. \n",
        "\n",
        "When you’re sure that your loop works, add five more Python terms to your glossary.\n",
        "\n",
        "When you run your program again, these new words and meanings should\n",
        "automatically be included in the output.\n"
      ],
      "metadata": {
        "id": "h_u2KuahIaoR"
      }
    },
    {
      "cell_type": "markdown",
      "source": [
        "6-5. Rivers:  \n",
        "\n",
        "Make a dictionary containing three major rivers and the country each river runs through. \n",
        "\n",
        " One key-value pair might be 'nile': 'egypt'.\n",
        "\n",
        "* Use a loop to print a sentence about each river, such as The Nile runs\n",
        "through Egypt.\n",
        "* Use a loop to print the name of each river included in the dictionary.\n",
        "* Use a loop to print the name of each country included in the dictionary.\n"
      ],
      "metadata": {
        "id": "qUp20l9_Ie4q"
      }
    },
    {
      "cell_type": "markdown",
      "source": [
        "6-6. Polling: Use the code in favorite_languages.py (page 97).\n",
        "\n",
        "* Make a list of people who should take the favorite languages poll.\n",
        "\n",
        " Include some names that are already in the dictionary and some that are not.\n",
        "* Loop through the list of people who should take the poll.\n",
        "\n",
        " If they have already taken the poll, print a message thanking them for responding.\n",
        " \n",
        " If they have not yet taken the poll, print a message inviting them to take\n",
        "the poll."
      ],
      "metadata": {
        "id": "VtPP_jzNIh9P"
      }
    },
    {
      "cell_type": "markdown",
      "source": [
        "6-7. People: Start with the program you wrote for Exercise 6-1 (page 99).\n",
        "Make two new dictionaries representing different people, and store all three\n",
        "dictionaries in a list called people. Loop through your list of people. As you\n",
        "loop through the list, print everything you know about each person.\n"
      ],
      "metadata": {
        "id": "p9LN6RtVYf10"
      }
    },
    {
      "cell_type": "markdown",
      "source": [
        "6-8. Pets: Make several dictionaries, where each dictionary represents a different\n",
        "pet. In each dictionary, include the kind of animal and the owner’s name.\n",
        "Store these dictionaries in a list called pets. Next, loop through your list and as\n",
        "you do, print everything you know about each pet.\n"
      ],
      "metadata": {
        "id": "qpB99JHMYkoJ"
      }
    },
    {
      "cell_type": "markdown",
      "source": [
        "6-9. Favorite Places: Make a dictionary called favorite_places. Think of three\n",
        "names to use as keys in the dictionary, and store one to three favorite places\n",
        "for each person. To make this exercise a bit more interesting, ask some friends\n",
        "to name a few of their favorite places. Loop through the dictionary, and print\n",
        "each person’s name and their favorite places.\n"
      ],
      "metadata": {
        "id": "VKuLkwiUYnvp"
      }
    },
    {
      "cell_type": "markdown",
      "source": [
        "6-10. Favorite Numbers: Modify your program from Exercise 6-2 (page 99)\n",
        "so each person can have more than one favorite number. Then print each person’s\n",
        "name along with their favorite numbers.\n"
      ],
      "metadata": {
        "id": "mGGpzdMfYrIi"
      }
    },
    {
      "cell_type": "markdown",
      "source": [
        "6-11. Cities: Make a dictionary called cities. Use the names of three cities as\n",
        "keys in your dictionary. Create a dictionary of information about each city and\n",
        "include the country that the city is in, its approximate population, and one fact\n",
        "about that city. The keys for each city’s dictionary should be something like\n",
        "country, population, and fact. Print the name of each city and all of the information\n",
        "you have stored about it.\n"
      ],
      "metadata": {
        "id": "O9Q7iqLQYtoD"
      }
    },
    {
      "cell_type": "markdown",
      "source": [
        "6-12. Extensions: We’re now working with examples that are complex enough\n",
        "that they can be extended in any number of ways. Use one of the example programs\n",
        "from this chapter, and extend it by adding new keys and values, changing\n",
        "the context of the program or improving the formatting of the output."
      ],
      "metadata": {
        "id": "ifL_PZbwYwdB"
      }
    }
  ]
}