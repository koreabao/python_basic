{
  "nbformat": 4,
  "nbformat_minor": 0,
  "metadata": {
    "colab": {
      "name": "6_연습문제_답.ipynb",
      "provenance": [],
      "authorship_tag": "ABX9TyNXIaUwkcMvYc0lQTZg6yfB",
      "include_colab_link": true
    },
    "kernelspec": {
      "name": "python3",
      "display_name": "Python 3"
    },
    "language_info": {
      "name": "python"
    }
  },
  "cells": [
    {
      "cell_type": "markdown",
      "metadata": {
        "id": "view-in-github",
        "colab_type": "text"
      },
      "source": [
        "<a href=\"https://colab.research.google.com/github/koreabao/python_basic/blob/main/ch6/6_%EC%97%B0%EC%8A%B5%EB%AC%B8%EC%A0%9C_%EB%8B%B5.ipynb\" target=\"_parent\"><img src=\"https://colab.research.google.com/assets/colab-badge.svg\" alt=\"Open In Colab\"/></a>"
      ]
    },
    {
      "cell_type": "markdown",
      "source": [
        "6-1. Person: \n",
        "\n",
        "Use a dictionary to store information about a person you know.\n",
        "\n",
        "Store their first name, last name, age, and the city in which they live. \n",
        "\n",
        "You should have keys such as first_name, last_name, age, and city.\n",
        "\n",
        "Print each piece of information stored in your dictionary.\n"
      ],
      "metadata": {
        "id": "FHlXValwlbvt"
      }
    },
    {
      "cell_type": "markdown",
      "source": [
        "6-2. Favorite Numbers: \n",
        "\n",
        "Use a dictionary to store people’s favorite numbers.\n",
        "\n",
        "Think of five names, and use them as keys in your dictionary. \n",
        "\n",
        "Think of a favorite number for each person, and store each as a value in your dictionary. \n",
        "\n",
        "Print each person’s name and their favorite number.\n",
        "\n",
        "For even more fun, poll a few friends and get some actual data for your program.\n"
      ],
      "metadata": {
        "id": "n6MR_Sqjl0D2"
      }
    },
    {
      "cell_type": "markdown",
      "source": [
        "6-3. Glossary: \n",
        "\n",
        "A Python dictionary can be used to model an actual dictionary.\n",
        "\n",
        "However, to avoid confusion, let’s call it a glossary.\n",
        "\n",
        "* Think of five programming words you’ve learned about in the previous\n",
        "chapters. \n",
        "\n",
        " Use these words as the keys in your glossary, and store their\n",
        "meanings as values.\n",
        "\n",
        "* Print each word and its meaning as neatly formatted output. \n",
        "\n",
        " You might print the word followed by a colon and then its meaning,\n",
        " \n",
        " or print the word on one line and then print its meaning indented on a second line.\n",
        " \n",
        " Use the newline character (\\n) to insert a blank line between each word-meaning\n",
        "pair in your output."
      ],
      "metadata": {
        "id": "4c0RWD0tl5VF"
      }
    }
  ]
}